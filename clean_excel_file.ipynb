{
  "cells": [
    {
      "cell_type": "code",
      "execution_count": 20,
      "id": "8703434a",
      "metadata": {
        "id": "8703434a"
      },
      "outputs": [],
      "source": [
        "import pandas as pd\n",
        "import numpy as np\n",
        "from scipy.stats import skew\n",
        "import matplotlib.pyplot as plt\n",
        "import matplotlib.pylab as plt\n",
        "import seaborn as sns\n",
        "from sklearn.preprocessing import StandardScaler\n",
        "from sklearn.preprocessing import Normalizer\n",
        "import sys\n",
        "sys.path.insert(0, '/content/drive/MyDrive/Telecommunication-Industry-Analysis')\n"
      ]
    },
    {
      "cell_type": "code",
      "source": [
        "# import clean_dataframe as cleanData"
      ],
      "metadata": {
        "id": "1Se-XTAvHj41"
      },
      "id": "1Se-XTAvHj41",
      "execution_count": null,
      "outputs": []
    },
    {
      "cell_type": "code",
      "execution_count": 21,
      "id": "b8e0a05c",
      "metadata": {
        "id": "b8e0a05c",
        "colab": {
          "base_uri": "https://localhost:8080/"
        },
        "outputId": "2b0cd820-acc6-4969-a640-e394e71d5d7e"
      },
      "outputs": [
        {
          "output_type": "stream",
          "name": "stdout",
          "text": [
            "Drive already mounted at /content/drive; to attempt to forcibly remount, call drive.mount(\"/content/drive\", force_remount=True).\n"
          ]
        }
      ],
      "source": [
        "from google.colab import drive\n",
        "drive.mount('/content/drive')"
      ]
    },
    {
      "cell_type": "code",
      "execution_count": 22,
      "id": "28cbf20c",
      "metadata": {
        "id": "28cbf20c"
      },
      "outputs": [],
      "source": [
        "all_data = pd.read_excel(\"/content/drive/MyDrive/Telecommunication-Industry-Analysis/teleco_excel_file.xlsx\")\n",
        "\n",
        "# all_data.head()\n",
        "# pd.set_option('display.max_columns', 50)"
      ]
    },
    {
      "cell_type": "code",
      "execution_count": null,
      "id": "9ec5d61e",
      "metadata": {
        "id": "9ec5d61e"
      },
      "outputs": [],
      "source": [
        "# all_data.columns.tolist()"
      ]
    },
    {
      "cell_type": "code",
      "execution_count": 4,
      "id": "009389c8",
      "metadata": {
        "id": "009389c8",
        "colab": {
          "base_uri": "https://localhost:8080/"
        },
        "outputId": "00af7ccb-048d-4692-d09a-ed7074f0be8a"
      },
      "outputs": [
        {
          "output_type": "stream",
          "name": "stdout",
          "text": [
            " There are 150001 rows and 55 columns\n"
          ]
        }
      ],
      "source": [
        "print(f\" There are {all_data.shape[0]} rows and {all_data.shape[1]} columns\")"
      ]
    },
    {
      "cell_type": "markdown",
      "id": "c9a02b6b",
      "metadata": {
        "id": "c9a02b6b"
      },
      "source": [
        "##### Dealing with missing values"
      ]
    },
    {
      "cell_type": "code",
      "execution_count": 23,
      "id": "996183e2",
      "metadata": {
        "id": "996183e2",
        "colab": {
          "base_uri": "https://localhost:8080/"
        },
        "outputId": "79c97da2-4fd4-4484-9899-745db27ee851"
      },
      "outputs": [
        {
          "output_type": "stream",
          "name": "stdout",
          "text": [
            "The telco dataset contains 12.5 % missing values.\n"
          ]
        }
      ],
      "source": [
        "# how many missing values exist or better still what is the % of missing values in the dataset?\n",
        "def percent_missing(df):\n",
        "\n",
        "    # Calculate total number of cells in dataframe\n",
        "    totalCells = np.product(df.shape)\n",
        "\n",
        "    # Count number of missing values per column\n",
        "    missingCount = df.isnull().sum()\n",
        "\n",
        "    # Calculate total number of missing values\n",
        "    totalMissing = missingCount.sum()\n",
        "\n",
        "    # Calculate percentage of missing values\n",
        "    print(\"The telco dataset contains\", round(((totalMissing/totalCells) * 100), 2), \"%\", \"missing values.\")\n",
        "\n",
        "percent_missing(all_data)"
      ]
    },
    {
      "cell_type": "code",
      "source": [
        "all_data.isna().sum() / all_data.shape[0] * 100"
      ],
      "metadata": {
        "id": "eZh7B-jewRqE",
        "colab": {
          "base_uri": "https://localhost:8080/"
        },
        "outputId": "ecb9ef91-7414-4b56-cd28-2f7916341af3"
      },
      "id": "eZh7B-jewRqE",
      "execution_count": 24,
      "outputs": [
        {
          "output_type": "execute_result",
          "data": {
            "text/plain": [
              "Bearer Id                                    0.660662\n",
              "Start                                        0.000667\n",
              "Start ms                                     0.000667\n",
              "End                                          0.000667\n",
              "End ms                                       0.000667\n",
              "Dur. (ms)                                    0.000667\n",
              "IMSI                                         0.379997\n",
              "MSISDN/Number                                0.710662\n",
              "IMEI                                         0.381331\n",
              "Last Location Name                           0.768662\n",
              "Avg RTT DL (ms)                             18.552543\n",
              "Avg RTT UL (ms)                             18.541210\n",
              "Avg Bearer TP DL (kbps)                      0.000667\n",
              "Avg Bearer TP UL (kbps)                      0.000667\n",
              "TCP DL Retrans. Vol (Bytes)                 58.763608\n",
              "TCP UL Retrans. Vol (Bytes)                 64.432237\n",
              "DL TP < 50 Kbps (%)                          0.502663\n",
              "50 Kbps < DL TP < 250 Kbps (%)               0.502663\n",
              "250 Kbps < DL TP < 1 Mbps (%)                0.502663\n",
              "DL TP > 1 Mbps (%)                           0.502663\n",
              "UL TP < 10 Kbps (%)                          0.527996\n",
              "10 Kbps < UL TP < 50 Kbps (%)                0.527996\n",
              "50 Kbps < UL TP < 300 Kbps (%)               0.527996\n",
              "UL TP > 300 Kbps (%)                         0.527996\n",
              "HTTP DL (Bytes)                             54.315638\n",
              "HTTP UL (Bytes)                             54.539636\n",
              "Activity Duration DL (ms)                    0.000667\n",
              "Activity Duration UL (ms)                    0.000667\n",
              "Dur. (ms).1                                  0.000667\n",
              "Handset Manufacturer                         0.381331\n",
              "Handset Type                                 0.381331\n",
              "Nb of sec with 125000B < Vol DL             65.024900\n",
              "Nb of sec with 1250B < Vol UL < 6250B       61.928920\n",
              "Nb of sec with 31250B < Vol DL < 125000B    62.390251\n",
              "Nb of sec with 37500B < Vol UL              86.835421\n",
              "Nb of sec with 6250B < Vol DL < 31250B      58.877607\n",
              "Nb of sec with 6250B < Vol UL < 37500B      74.561503\n",
              "Nb of sec with Vol DL < 6250B                0.503330\n",
              "Nb of sec with Vol UL < 1250B                0.528663\n",
              "Social Media DL (Bytes)                      0.000000\n",
              "Social Media UL (Bytes)                      0.000000\n",
              "Google DL (Bytes)                            0.000000\n",
              "Google UL (Bytes)                            0.000000\n",
              "Email DL (Bytes)                             0.000000\n",
              "Email UL (Bytes)                             0.000000\n",
              "Youtube DL (Bytes)                           0.000000\n",
              "Youtube UL (Bytes)                           0.000000\n",
              "Netflix DL (Bytes)                           0.000000\n",
              "Netflix UL (Bytes)                           0.000000\n",
              "Gaming DL (Bytes)                            0.000000\n",
              "Gaming UL (Bytes)                            0.000000\n",
              "Other DL (Bytes)                             0.000000\n",
              "Other UL (Bytes)                             0.000000\n",
              "Total UL (Bytes)                             0.000667\n",
              "Total DL (Bytes)                             0.000667\n",
              "dtype: float64"
            ]
          },
          "metadata": {},
          "execution_count": 24
        }
      ]
    },
    {
      "cell_type": "markdown",
      "id": "4b0c2fe8",
      "metadata": {
        "id": "4b0c2fe8"
      },
      "source": [
        "#### showing the missing columns"
      ]
    },
    {
      "cell_type": "code",
      "execution_count": null,
      "id": "3619462d",
      "metadata": {
        "id": "3619462d"
      },
      "outputs": [],
      "source": [
        "# Now which column(s) has missing values\n",
        "# all_data.isna().sum()"
      ]
    },
    {
      "cell_type": "code",
      "execution_count": 171,
      "id": "644b8a82",
      "metadata": {
        "id": "644b8a82"
      },
      "outputs": [],
      "source": [
        "fd = pd.DataFrame(all_data)\n"
      ]
    },
    {
      "cell_type": "code",
      "source": [
        "# cleanData(fd)"
      ],
      "metadata": {
        "id": "99U_b5ksIQ-c"
      },
      "id": "99U_b5ksIQ-c",
      "execution_count": null,
      "outputs": []
    },
    {
      "cell_type": "code",
      "execution_count": 172,
      "id": "d42f8ce7",
      "metadata": {
        "id": "d42f8ce7"
      },
      "outputs": [],
      "source": [
        "df = fd.drop(['IMSI', 'IMEI', 'HTTP DL (Bytes)', 'HTTP UL (Bytes)','Nb of sec with 125000B < Vol DL', 'Nb of sec with 1250B < Vol UL < 6250B', 'Nb of sec with 31250B < Vol DL < 125000B', 'Nb of sec with 37500B < Vol UL', 'Nb of sec with 6250B < Vol DL < 31250B', 'Nb of sec with 6250B < Vol UL < 37500B'], axis=1)"
      ]
    },
    {
      "cell_type": "code",
      "execution_count": null,
      "id": "1794a54d",
      "metadata": {
        "id": "1794a54d"
      },
      "outputs": [],
      "source": [
        "df.iloc[:5 , 0:10]"
      ]
    },
    {
      "cell_type": "code",
      "source": [
        "def repalce_missing_values(df):\n",
        "  df[\"Bearer Id\"] = df[\"Bearer Id\"].fillna(df[\"Bearer Id\"].mode()[0])\n",
        "  df[\"Start\"] = df[\"Start\"].fillna(method='ffill')\n",
        "  df[\"Start ms\"] = df[\"Start ms\"].fillna(method='ffill')\n",
        "  df[\"End\"] = df[\"End\"].fillna(method='ffill')\n",
        "  df[\"End ms\"] = df[\"End ms\"].fillna(method='ffill')\n",
        "  df[\"Dur. (ms)\"] = df[\"Dur. (ms)\"].fillna(method='ffill')\n",
        "  df[\"TCP DL Retrans. Vol (Bytes)\"] = df[\"TCP DL Retrans. Vol (Bytes)\"].fillna(df[\"TCP DL Retrans. Vol (Bytes)\"].mean())\n",
        "  df[\"TCP UL Retrans. Vol (Bytes)\"] = df[\"TCP UL Retrans. Vol (Bytes)\"].fillna(df[\"TCP UL Retrans. Vol (Bytes)\"].mean())\n",
        "  df[\"Total UL (Bytes)\"] = df[\"Total UL (Bytes)\"].fillna(df[\"Total UL (Bytes)\"].mode()[0])\n",
        "  df[\"Total DL (Bytes)\"] = df[\"Total UL (Bytes)\"].fillna(df[\"Total DL (Bytes)\"].mode()[0])\n",
        "  df[\"Nb of sec with Vol DL < 6250B\"] = df[\"Nb of sec with Vol DL < 6250B\"].fillna(df[\"Nb of sec with Vol DL < 6250B\"].mode()[0]) \n",
        "  df[\"Nb of sec with Vol UL < 1250B\"] = df[\"Nb of sec with Vol UL < 1250B\"].fillna(df[\"Nb of sec with Vol UL < 1250B\"].mode()[0])\n",
        "  df[\"MSISDN/Number\"] = df[\"MSISDN/Number\"].fillna(df[\"MSISDN/Number\"].mode()[0])\n",
        "  df[\"Avg RTT DL (ms)\"] = df[\"Avg RTT DL (ms)\"].fillna(df[\"Avg RTT DL (ms)\"].mode()[0])\n",
        "  df[\"Avg RTT UL (ms)\"] = df[\"Avg RTT UL (ms)\"].fillna(df[\"Avg RTT UL (ms)\"].mode()[0])\n",
        "  df[\"Avg Bearer TP DL (kbps)\"] = df[\"Avg Bearer TP DL (kbps)\"].fillna(df[\"Avg Bearer TP DL (kbps)\"].mode()[0])\n",
        "  df[\"Avg Bearer TP UL (kbps)\"] = df[\"Avg Bearer TP UL (kbps)\"].fillna(df[\"Avg Bearer TP UL (kbps)\"].mode()[0])\n",
        "  df[\"Activity Duration DL (ms)\"] = df[\"Activity Duration DL (ms)\"].fillna(df[\"Activity Duration DL (ms)\"].mode()[0])\n",
        "  df[\"Activity Duration UL (ms)\"] = df[\"Activity Duration UL (ms)\"].fillna(df[\"Activity Duration UL (ms)\"].mode()[0])\n",
        "  df[\"Dur. (ms).1\"] = df[\"Dur. (ms).1\"].fillna(df[\"Dur. (ms).1\"].mode()[0])\n",
        "  df[\"Handset Manufacturer\"] = df[\"Handset Manufacturer\"].fillna(value='undefined')\n",
        "  df[\"Handset Type\"] = df[\"Handset Type\"].fillna(value='undefined')\n",
        "  df[\"Last Location Name\"] = df[\"Last Location Name\"].fillna(value='undefined')\n",
        "  \n",
        "  df = df.fillna(value=0)\n",
        "  return df\n",
        "repalce_missing_values(df)"
      ],
      "metadata": {
        "id": "udgRLKFh7IR4",
        "colab": {
          "base_uri": "https://localhost:8080/",
          "height": 887
        },
        "outputId": "df89bb2e-78ca-46f0-dacf-fc7f85d2c4b3"
      },
      "id": "udgRLKFh7IR4",
      "execution_count": 170,
      "outputs": [
        {
          "output_type": "execute_result",
          "data": {
            "text/plain": [
              "           Bearer Id               Start  Start ms                 End  \\\n",
              "0       1.311448e+19 2019-04-04 12:01:18     770.0 2019-04-25 14:35:31   \n",
              "1       1.311448e+19 2019-04-09 13:04:04     235.0 2019-04-25 08:15:48   \n",
              "2       1.311448e+19 2019-04-09 17:42:11       1.0 2019-04-25 11:58:13   \n",
              "3       1.311448e+19 2019-04-10 00:31:25     486.0 2019-04-25 07:36:35   \n",
              "4       1.311448e+19 2019-04-12 20:10:23     565.0 2019-04-25 10:40:32   \n",
              "...              ...                 ...       ...                 ...   \n",
              "149996  7.277826e+18 2019-04-29 07:28:42     451.0 2019-04-30 06:02:33   \n",
              "149997  7.349883e+18 2019-04-29 07:28:42     483.0 2019-04-30 10:41:33   \n",
              "149998  1.311448e+19 2019-04-29 07:28:43     283.0 2019-04-30 10:46:12   \n",
              "149999  1.311448e+19 2019-04-29 07:28:43     696.0 2019-04-30 10:40:34   \n",
              "150000  1.304243e+19 2019-04-29 07:28:43     696.0 2019-04-30 10:40:34   \n",
              "\n",
              "        End ms  Dur. (ms)  MSISDN/Number Last Location Name  Avg RTT DL (ms)  \\\n",
              "0        662.0    86399.0   3.366496e+10   9164566995485190             42.0   \n",
              "1        606.0    86399.0   3.368185e+10            L77566A             65.0   \n",
              "2        652.0    86399.0   3.376063e+10            D42335A             28.0   \n",
              "3        171.0    86399.0   3.375034e+10            T21824A             28.0   \n",
              "4        954.0    86399.0   3.369980e+10            D88865A             28.0   \n",
              "...        ...        ...            ...                ...              ...   \n",
              "149996   214.0    81230.0   3.365069e+10            D20434A             32.0   \n",
              "149997   187.0    97970.0   3.366345e+10            D10223C             27.0   \n",
              "149998   810.0    98249.0   3.362189e+10            T51102A             43.0   \n",
              "149999   327.0    97910.0   3.361962e+10            L88342B             37.0   \n",
              "150000   327.0    97910.0   3.362632e+10          undefined             28.0   \n",
              "\n",
              "        Avg RTT UL (ms)  ...  Other_UL_and_DL  Gaming_UL_and_DL  \\\n",
              "0                   5.0  ...     1.805588e+08      2.924265e+08   \n",
              "1                   5.0  ...     5.419594e+08      6.099208e+08   \n",
              "2                   5.0  ...     4.149084e+08      2.299803e+08   \n",
              "3                   5.0  ...     7.618372e+08      8.103879e+08   \n",
              "4                   5.0  ...     5.646198e+08      5.312370e+08   \n",
              "...                 ...  ...              ...               ...   \n",
              "149996              0.0  ...     1.675193e+07      5.358069e+08   \n",
              "149997              2.0  ...     7.146381e+08      6.316281e+08   \n",
              "149998              6.0  ...     1.324156e+08      5.669338e+08   \n",
              "149999              5.0  ...     8.161200e+08      3.550664e+08   \n",
              "150000              5.0  ...     4.293653e+08      4.303331e+08   \n",
              "\n",
              "        Netflix_UL_and_DL  Youtube_UL_and_DL  Email_UL_and_DL  \\\n",
              "0            1.785519e+07       1.835594e+07     3.701304e+06   \n",
              "1            3.556554e+07       3.935912e+07     9.373850e+05   \n",
              "2            2.375120e+07       3.442524e+07     3.363124e+06   \n",
              "3            1.509259e+07       3.653476e+07     2.070983e+06   \n",
              "4            1.753980e+07       3.422225e+07     2.110349e+06   \n",
              "...                   ...                ...              ...   \n",
              "149996       3.756186e+07       2.795510e+07     6.908760e+05   \n",
              "149997       4.064329e+07       2.216552e+07     2.121718e+06   \n",
              "149998       1.502970e+07       2.451641e+07     2.058277e+06   \n",
              "149999       1.649484e+07       1.712251e+07     2.850914e+06   \n",
              "150000       2.262861e+07       2.264348e+07     2.259102e+06   \n",
              "\n",
              "        Google_UL_and_DL  Social Media_UL_and_DL  fixed_Dur. (ms)  \\\n",
              "0           2.905912e+06            1.570185e+06          86399.0   \n",
              "1           4.414096e+06            1.933278e+06          86399.0   \n",
              "2           1.022912e+07            1.726277e+06          86399.0   \n",
              "3           1.181176e+07            6.574930e+05          86399.0   \n",
              "4           7.748843e+06            9.127880e+05          86399.0   \n",
              "...                  ...                     ...              ...   \n",
              "149996      1.278491e+07            3.517065e+06          81230.0   \n",
              "149997      4.415361e+06            2.352181e+06          97970.0   \n",
              "149998      6.585469e+06            1.260239e+06          98249.0   \n",
              "149999      7.757267e+06            8.231090e+05          97910.0   \n",
              "150000      7.807295e+06            1.828250e+06          97910.0   \n",
              "\n",
              "        fixed_Total UL (Bytes)  fixed_Total DL (Bytes)  \n",
              "0                   36749741.0              36749741.0  \n",
              "1                   53800391.0              53800391.0  \n",
              "2                   27883638.0              27883638.0  \n",
              "3                   43324218.0              43324218.0  \n",
              "4                   38542814.0              38542814.0  \n",
              "...                        ...                     ...  \n",
              "149996              57628851.0              57628851.0  \n",
              "149997              39135081.0              39135081.0  \n",
              "149998              34912224.0              34912224.0  \n",
              "149999              29626096.0              29626096.0  \n",
              "150000              19362459.0              19362459.0  \n",
              "\n",
              "[150001 rows x 56 columns]"
            ],
            "text/html": [
              "\n",
              "  <div id=\"df-2e767776-aa08-4d29-b18f-72ffef7cd5bb\">\n",
              "    <div class=\"colab-df-container\">\n",
              "      <div>\n",
              "<style scoped>\n",
              "    .dataframe tbody tr th:only-of-type {\n",
              "        vertical-align: middle;\n",
              "    }\n",
              "\n",
              "    .dataframe tbody tr th {\n",
              "        vertical-align: top;\n",
              "    }\n",
              "\n",
              "    .dataframe thead th {\n",
              "        text-align: right;\n",
              "    }\n",
              "</style>\n",
              "<table border=\"1\" class=\"dataframe\">\n",
              "  <thead>\n",
              "    <tr style=\"text-align: right;\">\n",
              "      <th></th>\n",
              "      <th>Bearer Id</th>\n",
              "      <th>Start</th>\n",
              "      <th>Start ms</th>\n",
              "      <th>End</th>\n",
              "      <th>End ms</th>\n",
              "      <th>Dur. (ms)</th>\n",
              "      <th>MSISDN/Number</th>\n",
              "      <th>Last Location Name</th>\n",
              "      <th>Avg RTT DL (ms)</th>\n",
              "      <th>Avg RTT UL (ms)</th>\n",
              "      <th>...</th>\n",
              "      <th>Other_UL_and_DL</th>\n",
              "      <th>Gaming_UL_and_DL</th>\n",
              "      <th>Netflix_UL_and_DL</th>\n",
              "      <th>Youtube_UL_and_DL</th>\n",
              "      <th>Email_UL_and_DL</th>\n",
              "      <th>Google_UL_and_DL</th>\n",
              "      <th>Social Media_UL_and_DL</th>\n",
              "      <th>fixed_Dur. (ms)</th>\n",
              "      <th>fixed_Total UL (Bytes)</th>\n",
              "      <th>fixed_Total DL (Bytes)</th>\n",
              "    </tr>\n",
              "  </thead>\n",
              "  <tbody>\n",
              "    <tr>\n",
              "      <th>0</th>\n",
              "      <td>1.311448e+19</td>\n",
              "      <td>2019-04-04 12:01:18</td>\n",
              "      <td>770.0</td>\n",
              "      <td>2019-04-25 14:35:31</td>\n",
              "      <td>662.0</td>\n",
              "      <td>86399.0</td>\n",
              "      <td>3.366496e+10</td>\n",
              "      <td>9164566995485190</td>\n",
              "      <td>42.0</td>\n",
              "      <td>5.0</td>\n",
              "      <td>...</td>\n",
              "      <td>1.805588e+08</td>\n",
              "      <td>2.924265e+08</td>\n",
              "      <td>1.785519e+07</td>\n",
              "      <td>1.835594e+07</td>\n",
              "      <td>3.701304e+06</td>\n",
              "      <td>2.905912e+06</td>\n",
              "      <td>1.570185e+06</td>\n",
              "      <td>86399.0</td>\n",
              "      <td>36749741.0</td>\n",
              "      <td>36749741.0</td>\n",
              "    </tr>\n",
              "    <tr>\n",
              "      <th>1</th>\n",
              "      <td>1.311448e+19</td>\n",
              "      <td>2019-04-09 13:04:04</td>\n",
              "      <td>235.0</td>\n",
              "      <td>2019-04-25 08:15:48</td>\n",
              "      <td>606.0</td>\n",
              "      <td>86399.0</td>\n",
              "      <td>3.368185e+10</td>\n",
              "      <td>L77566A</td>\n",
              "      <td>65.0</td>\n",
              "      <td>5.0</td>\n",
              "      <td>...</td>\n",
              "      <td>5.419594e+08</td>\n",
              "      <td>6.099208e+08</td>\n",
              "      <td>3.556554e+07</td>\n",
              "      <td>3.935912e+07</td>\n",
              "      <td>9.373850e+05</td>\n",
              "      <td>4.414096e+06</td>\n",
              "      <td>1.933278e+06</td>\n",
              "      <td>86399.0</td>\n",
              "      <td>53800391.0</td>\n",
              "      <td>53800391.0</td>\n",
              "    </tr>\n",
              "    <tr>\n",
              "      <th>2</th>\n",
              "      <td>1.311448e+19</td>\n",
              "      <td>2019-04-09 17:42:11</td>\n",
              "      <td>1.0</td>\n",
              "      <td>2019-04-25 11:58:13</td>\n",
              "      <td>652.0</td>\n",
              "      <td>86399.0</td>\n",
              "      <td>3.376063e+10</td>\n",
              "      <td>D42335A</td>\n",
              "      <td>28.0</td>\n",
              "      <td>5.0</td>\n",
              "      <td>...</td>\n",
              "      <td>4.149084e+08</td>\n",
              "      <td>2.299803e+08</td>\n",
              "      <td>2.375120e+07</td>\n",
              "      <td>3.442524e+07</td>\n",
              "      <td>3.363124e+06</td>\n",
              "      <td>1.022912e+07</td>\n",
              "      <td>1.726277e+06</td>\n",
              "      <td>86399.0</td>\n",
              "      <td>27883638.0</td>\n",
              "      <td>27883638.0</td>\n",
              "    </tr>\n",
              "    <tr>\n",
              "      <th>3</th>\n",
              "      <td>1.311448e+19</td>\n",
              "      <td>2019-04-10 00:31:25</td>\n",
              "      <td>486.0</td>\n",
              "      <td>2019-04-25 07:36:35</td>\n",
              "      <td>171.0</td>\n",
              "      <td>86399.0</td>\n",
              "      <td>3.375034e+10</td>\n",
              "      <td>T21824A</td>\n",
              "      <td>28.0</td>\n",
              "      <td>5.0</td>\n",
              "      <td>...</td>\n",
              "      <td>7.618372e+08</td>\n",
              "      <td>8.103879e+08</td>\n",
              "      <td>1.509259e+07</td>\n",
              "      <td>3.653476e+07</td>\n",
              "      <td>2.070983e+06</td>\n",
              "      <td>1.181176e+07</td>\n",
              "      <td>6.574930e+05</td>\n",
              "      <td>86399.0</td>\n",
              "      <td>43324218.0</td>\n",
              "      <td>43324218.0</td>\n",
              "    </tr>\n",
              "    <tr>\n",
              "      <th>4</th>\n",
              "      <td>1.311448e+19</td>\n",
              "      <td>2019-04-12 20:10:23</td>\n",
              "      <td>565.0</td>\n",
              "      <td>2019-04-25 10:40:32</td>\n",
              "      <td>954.0</td>\n",
              "      <td>86399.0</td>\n",
              "      <td>3.369980e+10</td>\n",
              "      <td>D88865A</td>\n",
              "      <td>28.0</td>\n",
              "      <td>5.0</td>\n",
              "      <td>...</td>\n",
              "      <td>5.646198e+08</td>\n",
              "      <td>5.312370e+08</td>\n",
              "      <td>1.753980e+07</td>\n",
              "      <td>3.422225e+07</td>\n",
              "      <td>2.110349e+06</td>\n",
              "      <td>7.748843e+06</td>\n",
              "      <td>9.127880e+05</td>\n",
              "      <td>86399.0</td>\n",
              "      <td>38542814.0</td>\n",
              "      <td>38542814.0</td>\n",
              "    </tr>\n",
              "    <tr>\n",
              "      <th>...</th>\n",
              "      <td>...</td>\n",
              "      <td>...</td>\n",
              "      <td>...</td>\n",
              "      <td>...</td>\n",
              "      <td>...</td>\n",
              "      <td>...</td>\n",
              "      <td>...</td>\n",
              "      <td>...</td>\n",
              "      <td>...</td>\n",
              "      <td>...</td>\n",
              "      <td>...</td>\n",
              "      <td>...</td>\n",
              "      <td>...</td>\n",
              "      <td>...</td>\n",
              "      <td>...</td>\n",
              "      <td>...</td>\n",
              "      <td>...</td>\n",
              "      <td>...</td>\n",
              "      <td>...</td>\n",
              "      <td>...</td>\n",
              "      <td>...</td>\n",
              "    </tr>\n",
              "    <tr>\n",
              "      <th>149996</th>\n",
              "      <td>7.277826e+18</td>\n",
              "      <td>2019-04-29 07:28:42</td>\n",
              "      <td>451.0</td>\n",
              "      <td>2019-04-30 06:02:33</td>\n",
              "      <td>214.0</td>\n",
              "      <td>81230.0</td>\n",
              "      <td>3.365069e+10</td>\n",
              "      <td>D20434A</td>\n",
              "      <td>32.0</td>\n",
              "      <td>0.0</td>\n",
              "      <td>...</td>\n",
              "      <td>1.675193e+07</td>\n",
              "      <td>5.358069e+08</td>\n",
              "      <td>3.756186e+07</td>\n",
              "      <td>2.795510e+07</td>\n",
              "      <td>6.908760e+05</td>\n",
              "      <td>1.278491e+07</td>\n",
              "      <td>3.517065e+06</td>\n",
              "      <td>81230.0</td>\n",
              "      <td>57628851.0</td>\n",
              "      <td>57628851.0</td>\n",
              "    </tr>\n",
              "    <tr>\n",
              "      <th>149997</th>\n",
              "      <td>7.349883e+18</td>\n",
              "      <td>2019-04-29 07:28:42</td>\n",
              "      <td>483.0</td>\n",
              "      <td>2019-04-30 10:41:33</td>\n",
              "      <td>187.0</td>\n",
              "      <td>97970.0</td>\n",
              "      <td>3.366345e+10</td>\n",
              "      <td>D10223C</td>\n",
              "      <td>27.0</td>\n",
              "      <td>2.0</td>\n",
              "      <td>...</td>\n",
              "      <td>7.146381e+08</td>\n",
              "      <td>6.316281e+08</td>\n",
              "      <td>4.064329e+07</td>\n",
              "      <td>2.216552e+07</td>\n",
              "      <td>2.121718e+06</td>\n",
              "      <td>4.415361e+06</td>\n",
              "      <td>2.352181e+06</td>\n",
              "      <td>97970.0</td>\n",
              "      <td>39135081.0</td>\n",
              "      <td>39135081.0</td>\n",
              "    </tr>\n",
              "    <tr>\n",
              "      <th>149998</th>\n",
              "      <td>1.311448e+19</td>\n",
              "      <td>2019-04-29 07:28:43</td>\n",
              "      <td>283.0</td>\n",
              "      <td>2019-04-30 10:46:12</td>\n",
              "      <td>810.0</td>\n",
              "      <td>98249.0</td>\n",
              "      <td>3.362189e+10</td>\n",
              "      <td>T51102A</td>\n",
              "      <td>43.0</td>\n",
              "      <td>6.0</td>\n",
              "      <td>...</td>\n",
              "      <td>1.324156e+08</td>\n",
              "      <td>5.669338e+08</td>\n",
              "      <td>1.502970e+07</td>\n",
              "      <td>2.451641e+07</td>\n",
              "      <td>2.058277e+06</td>\n",
              "      <td>6.585469e+06</td>\n",
              "      <td>1.260239e+06</td>\n",
              "      <td>98249.0</td>\n",
              "      <td>34912224.0</td>\n",
              "      <td>34912224.0</td>\n",
              "    </tr>\n",
              "    <tr>\n",
              "      <th>149999</th>\n",
              "      <td>1.311448e+19</td>\n",
              "      <td>2019-04-29 07:28:43</td>\n",
              "      <td>696.0</td>\n",
              "      <td>2019-04-30 10:40:34</td>\n",
              "      <td>327.0</td>\n",
              "      <td>97910.0</td>\n",
              "      <td>3.361962e+10</td>\n",
              "      <td>L88342B</td>\n",
              "      <td>37.0</td>\n",
              "      <td>5.0</td>\n",
              "      <td>...</td>\n",
              "      <td>8.161200e+08</td>\n",
              "      <td>3.550664e+08</td>\n",
              "      <td>1.649484e+07</td>\n",
              "      <td>1.712251e+07</td>\n",
              "      <td>2.850914e+06</td>\n",
              "      <td>7.757267e+06</td>\n",
              "      <td>8.231090e+05</td>\n",
              "      <td>97910.0</td>\n",
              "      <td>29626096.0</td>\n",
              "      <td>29626096.0</td>\n",
              "    </tr>\n",
              "    <tr>\n",
              "      <th>150000</th>\n",
              "      <td>1.304243e+19</td>\n",
              "      <td>2019-04-29 07:28:43</td>\n",
              "      <td>696.0</td>\n",
              "      <td>2019-04-30 10:40:34</td>\n",
              "      <td>327.0</td>\n",
              "      <td>97910.0</td>\n",
              "      <td>3.362632e+10</td>\n",
              "      <td>undefined</td>\n",
              "      <td>28.0</td>\n",
              "      <td>5.0</td>\n",
              "      <td>...</td>\n",
              "      <td>4.293653e+08</td>\n",
              "      <td>4.303331e+08</td>\n",
              "      <td>2.262861e+07</td>\n",
              "      <td>2.264348e+07</td>\n",
              "      <td>2.259102e+06</td>\n",
              "      <td>7.807295e+06</td>\n",
              "      <td>1.828250e+06</td>\n",
              "      <td>97910.0</td>\n",
              "      <td>19362459.0</td>\n",
              "      <td>19362459.0</td>\n",
              "    </tr>\n",
              "  </tbody>\n",
              "</table>\n",
              "<p>150001 rows × 56 columns</p>\n",
              "</div>\n",
              "      <button class=\"colab-df-convert\" onclick=\"convertToInteractive('df-2e767776-aa08-4d29-b18f-72ffef7cd5bb')\"\n",
              "              title=\"Convert this dataframe to an interactive table.\"\n",
              "              style=\"display:none;\">\n",
              "        \n",
              "  <svg xmlns=\"http://www.w3.org/2000/svg\" height=\"24px\"viewBox=\"0 0 24 24\"\n",
              "       width=\"24px\">\n",
              "    <path d=\"M0 0h24v24H0V0z\" fill=\"none\"/>\n",
              "    <path d=\"M18.56 5.44l.94 2.06.94-2.06 2.06-.94-2.06-.94-.94-2.06-.94 2.06-2.06.94zm-11 1L8.5 8.5l.94-2.06 2.06-.94-2.06-.94L8.5 2.5l-.94 2.06-2.06.94zm10 10l.94 2.06.94-2.06 2.06-.94-2.06-.94-.94-2.06-.94 2.06-2.06.94z\"/><path d=\"M17.41 7.96l-1.37-1.37c-.4-.4-.92-.59-1.43-.59-.52 0-1.04.2-1.43.59L10.3 9.45l-7.72 7.72c-.78.78-.78 2.05 0 2.83L4 21.41c.39.39.9.59 1.41.59.51 0 1.02-.2 1.41-.59l7.78-7.78 2.81-2.81c.8-.78.8-2.07 0-2.86zM5.41 20L4 18.59l7.72-7.72 1.47 1.35L5.41 20z\"/>\n",
              "  </svg>\n",
              "      </button>\n",
              "      \n",
              "  <style>\n",
              "    .colab-df-container {\n",
              "      display:flex;\n",
              "      flex-wrap:wrap;\n",
              "      gap: 12px;\n",
              "    }\n",
              "\n",
              "    .colab-df-convert {\n",
              "      background-color: #E8F0FE;\n",
              "      border: none;\n",
              "      border-radius: 50%;\n",
              "      cursor: pointer;\n",
              "      display: none;\n",
              "      fill: #1967D2;\n",
              "      height: 32px;\n",
              "      padding: 0 0 0 0;\n",
              "      width: 32px;\n",
              "    }\n",
              "\n",
              "    .colab-df-convert:hover {\n",
              "      background-color: #E2EBFA;\n",
              "      box-shadow: 0px 1px 2px rgba(60, 64, 67, 0.3), 0px 1px 3px 1px rgba(60, 64, 67, 0.15);\n",
              "      fill: #174EA6;\n",
              "    }\n",
              "\n",
              "    [theme=dark] .colab-df-convert {\n",
              "      background-color: #3B4455;\n",
              "      fill: #D2E3FC;\n",
              "    }\n",
              "\n",
              "    [theme=dark] .colab-df-convert:hover {\n",
              "      background-color: #434B5C;\n",
              "      box-shadow: 0px 1px 3px 1px rgba(0, 0, 0, 0.15);\n",
              "      filter: drop-shadow(0px 1px 2px rgba(0, 0, 0, 0.3));\n",
              "      fill: #FFFFFF;\n",
              "    }\n",
              "  </style>\n",
              "\n",
              "      <script>\n",
              "        const buttonEl =\n",
              "          document.querySelector('#df-2e767776-aa08-4d29-b18f-72ffef7cd5bb button.colab-df-convert');\n",
              "        buttonEl.style.display =\n",
              "          google.colab.kernel.accessAllowed ? 'block' : 'none';\n",
              "\n",
              "        async function convertToInteractive(key) {\n",
              "          const element = document.querySelector('#df-2e767776-aa08-4d29-b18f-72ffef7cd5bb');\n",
              "          const dataTable =\n",
              "            await google.colab.kernel.invokeFunction('convertToInteractive',\n",
              "                                                     [key], {});\n",
              "          if (!dataTable) return;\n",
              "\n",
              "          const docLinkHtml = 'Like what you see? Visit the ' +\n",
              "            '<a target=\"_blank\" href=https://colab.research.google.com/notebooks/data_table.ipynb>data table notebook</a>'\n",
              "            + ' to learn more about interactive tables.';\n",
              "          element.innerHTML = '';\n",
              "          dataTable['output_type'] = 'display_data';\n",
              "          await google.colab.output.renderOutput(dataTable, element);\n",
              "          const docLink = document.createElement('div');\n",
              "          docLink.innerHTML = docLinkHtml;\n",
              "          element.appendChild(docLink);\n",
              "        }\n",
              "      </script>\n",
              "    </div>\n",
              "  </div>\n",
              "  "
            ]
          },
          "metadata": {},
          "execution_count": 170
        }
      ]
    },
    {
      "cell_type": "code",
      "source": [
        "df = df.fillna(value=0)"
      ],
      "metadata": {
        "id": "cG1TmFpPAJ13"
      },
      "id": "cG1TmFpPAJ13",
      "execution_count": 168,
      "outputs": []
    },
    {
      "cell_type": "code",
      "source": [
        "# df.isna().sum()"
      ],
      "metadata": {
        "id": "wcILRmnU_tmA"
      },
      "id": "wcILRmnU_tmA",
      "execution_count": 36,
      "outputs": []
    },
    {
      "cell_type": "code",
      "source": [
        "# df[\"Nb of sec with Vol DL < 6250B\"].isna().sum()"
      ],
      "metadata": {
        "id": "TX9UnA4s5XqY"
      },
      "id": "TX9UnA4s5XqY",
      "execution_count": null,
      "outputs": []
    },
    {
      "cell_type": "code",
      "source": [
        "df.describe()"
      ],
      "metadata": {
        "colab": {
          "base_uri": "https://localhost:8080/",
          "height": 428
        },
        "id": "LiKakL5CDGAO",
        "outputId": "4ab2b426-e43e-4299-fbf8-7d240caa1c5d"
      },
      "id": "LiKakL5CDGAO",
      "execution_count": 169,
      "outputs": [
        {
          "output_type": "execute_result",
          "data": {
            "text/plain": [
              "          Bearer Id       Start ms         End ms      Dur. (ms)  \\\n",
              "count  1.500010e+05  150001.000000  150001.000000  150001.000000   \n",
              "mean   1.015806e+19     499.189512     498.799735   85609.565556   \n",
              "std    2.893178e+18     288.611320     288.097034   40769.358825   \n",
              "min    6.917538e+18       0.000000       0.000000    7142.000000   \n",
              "25%    7.349883e+18     250.000000     251.000000   57442.000000   \n",
              "50%    7.349883e+18     499.000000     500.000000   86399.000000   \n",
              "75%    1.304243e+19     749.000000     750.000000  101468.000000   \n",
              "max    1.318654e+19     999.000000     999.000000  181414.000000   \n",
              "\n",
              "       MSISDN/Number  Avg RTT DL (ms)  Avg RTT UL (ms)  \\\n",
              "count   1.500010e+05    150001.000000    150001.000000   \n",
              "mean    4.182414e+10        94.620523        15.315031   \n",
              "std     2.438731e+12       560.245617        76.687998   \n",
              "min     3.360100e+10         0.000000         0.000000   \n",
              "25%     3.365094e+10        28.000000         3.000000   \n",
              "50%     3.366361e+10        38.000000         5.000000   \n",
              "75%     3.368307e+10        62.000000        11.000000   \n",
              "max     8.823971e+14     96923.000000      7120.000000   \n",
              "\n",
              "       Avg Bearer TP DL (kbps)  Avg Bearer TP UL (kbps)  \\\n",
              "count            150001.000000            150001.000000   \n",
              "mean              13299.957414              1770.417111   \n",
              "std               23971.823147              4625.342240   \n",
              "min                   0.000000                 0.000000   \n",
              "25%                  43.000000                47.000000   \n",
              "50%                  63.000000                63.000000   \n",
              "75%               19710.000000              1120.000000   \n",
              "max              378160.000000             58613.000000   \n",
              "\n",
              "       TCP DL Retrans. Vol (Bytes)  ...  Other_UL_and_DL  Gaming_UL_and_DL  \\\n",
              "count                 1.500010e+05  ...     1.500010e+05      1.500010e+05   \n",
              "mean                  2.080991e+07  ...     4.293653e+08      4.303331e+08   \n",
              "std                   1.172356e+08  ...     2.432681e+08      2.440199e+08   \n",
              "min                   2.000000e+00  ...     1.490450e+05      3.063580e+05   \n",
              "25%                   1.332932e+06  ...     2.185534e+08      2.187279e+08   \n",
              "50%                   2.080991e+07  ...     4.299865e+08      4.316150e+08   \n",
              "75%                   2.080991e+07  ...     6.399275e+08      6.414159e+08   \n",
              "max                   4.294426e+09  ...     8.595209e+08      8.592028e+08   \n",
              "\n",
              "       Netflix_UL_and_DL  Youtube_UL_and_DL  Email_UL_and_DL  \\\n",
              "count       1.500010e+05       1.500010e+05     1.500010e+05   \n",
              "mean        2.262861e+07       2.264348e+07     2.259102e+06   \n",
              "std         9.260820e+06       9.246800e+06     1.071109e+06   \n",
              "min         9.843200e+04       7.890300e+04     8.359000e+03   \n",
              "25%         1.597946e+07       1.599846e+07     1.359344e+06   \n",
              "50%         2.263554e+07       2.266177e+07     2.263567e+06   \n",
              "75%         2.929044e+07       2.929260e+07     3.159818e+06   \n",
              "max         4.519815e+07       4.519008e+07     4.518036e+06   \n",
              "\n",
              "       Google_UL_and_DL  Social Media_UL_and_DL  fixed_Dur. (ms)  \\\n",
              "count      1.500010e+05            1.500010e+05    150001.000000   \n",
              "mean       7.807295e+06            1.828250e+06     85609.565556   \n",
              "std        3.516420e+06            1.035646e+06     40769.358825   \n",
              "min        4.033000e+04            1.563000e+03      7142.000000   \n",
              "25%        4.943599e+06            9.322180e+05     57442.000000   \n",
              "50%        7.812835e+06            1.826471e+06     86399.000000   \n",
              "75%        1.068280e+07            2.727487e+06    101468.000000   \n",
              "max        1.552878e+07            3.650861e+06    181414.000000   \n",
              "\n",
              "       fixed_Total UL (Bytes)  fixed_Total DL (Bytes)  \n",
              "count            1.500010e+05            1.500010e+05  \n",
              "mean             3.999074e+07            3.999074e+07  \n",
              "std              9.986936e+06            9.986936e+06  \n",
              "min              2.866892e+06            2.866892e+06  \n",
              "25%              3.322196e+07            3.322196e+07  \n",
              "50%              4.114324e+07            4.114324e+07  \n",
              "75%              4.728190e+07            4.728190e+07  \n",
              "max              5.973914e+07            5.973914e+07  \n",
              "\n",
              "[8 rows x 51 columns]"
            ],
            "text/html": [
              "\n",
              "  <div id=\"df-7e3b8726-caf6-45eb-bd34-3ecb87cb9c87\">\n",
              "    <div class=\"colab-df-container\">\n",
              "      <div>\n",
              "<style scoped>\n",
              "    .dataframe tbody tr th:only-of-type {\n",
              "        vertical-align: middle;\n",
              "    }\n",
              "\n",
              "    .dataframe tbody tr th {\n",
              "        vertical-align: top;\n",
              "    }\n",
              "\n",
              "    .dataframe thead th {\n",
              "        text-align: right;\n",
              "    }\n",
              "</style>\n",
              "<table border=\"1\" class=\"dataframe\">\n",
              "  <thead>\n",
              "    <tr style=\"text-align: right;\">\n",
              "      <th></th>\n",
              "      <th>Bearer Id</th>\n",
              "      <th>Start ms</th>\n",
              "      <th>End ms</th>\n",
              "      <th>Dur. (ms)</th>\n",
              "      <th>MSISDN/Number</th>\n",
              "      <th>Avg RTT DL (ms)</th>\n",
              "      <th>Avg RTT UL (ms)</th>\n",
              "      <th>Avg Bearer TP DL (kbps)</th>\n",
              "      <th>Avg Bearer TP UL (kbps)</th>\n",
              "      <th>TCP DL Retrans. Vol (Bytes)</th>\n",
              "      <th>...</th>\n",
              "      <th>Other_UL_and_DL</th>\n",
              "      <th>Gaming_UL_and_DL</th>\n",
              "      <th>Netflix_UL_and_DL</th>\n",
              "      <th>Youtube_UL_and_DL</th>\n",
              "      <th>Email_UL_and_DL</th>\n",
              "      <th>Google_UL_and_DL</th>\n",
              "      <th>Social Media_UL_and_DL</th>\n",
              "      <th>fixed_Dur. (ms)</th>\n",
              "      <th>fixed_Total UL (Bytes)</th>\n",
              "      <th>fixed_Total DL (Bytes)</th>\n",
              "    </tr>\n",
              "  </thead>\n",
              "  <tbody>\n",
              "    <tr>\n",
              "      <th>count</th>\n",
              "      <td>1.500010e+05</td>\n",
              "      <td>150001.000000</td>\n",
              "      <td>150001.000000</td>\n",
              "      <td>150001.000000</td>\n",
              "      <td>1.500010e+05</td>\n",
              "      <td>150001.000000</td>\n",
              "      <td>150001.000000</td>\n",
              "      <td>150001.000000</td>\n",
              "      <td>150001.000000</td>\n",
              "      <td>1.500010e+05</td>\n",
              "      <td>...</td>\n",
              "      <td>1.500010e+05</td>\n",
              "      <td>1.500010e+05</td>\n",
              "      <td>1.500010e+05</td>\n",
              "      <td>1.500010e+05</td>\n",
              "      <td>1.500010e+05</td>\n",
              "      <td>1.500010e+05</td>\n",
              "      <td>1.500010e+05</td>\n",
              "      <td>150001.000000</td>\n",
              "      <td>1.500010e+05</td>\n",
              "      <td>1.500010e+05</td>\n",
              "    </tr>\n",
              "    <tr>\n",
              "      <th>mean</th>\n",
              "      <td>1.015806e+19</td>\n",
              "      <td>499.189512</td>\n",
              "      <td>498.799735</td>\n",
              "      <td>85609.565556</td>\n",
              "      <td>4.182414e+10</td>\n",
              "      <td>94.620523</td>\n",
              "      <td>15.315031</td>\n",
              "      <td>13299.957414</td>\n",
              "      <td>1770.417111</td>\n",
              "      <td>2.080991e+07</td>\n",
              "      <td>...</td>\n",
              "      <td>4.293653e+08</td>\n",
              "      <td>4.303331e+08</td>\n",
              "      <td>2.262861e+07</td>\n",
              "      <td>2.264348e+07</td>\n",
              "      <td>2.259102e+06</td>\n",
              "      <td>7.807295e+06</td>\n",
              "      <td>1.828250e+06</td>\n",
              "      <td>85609.565556</td>\n",
              "      <td>3.999074e+07</td>\n",
              "      <td>3.999074e+07</td>\n",
              "    </tr>\n",
              "    <tr>\n",
              "      <th>std</th>\n",
              "      <td>2.893178e+18</td>\n",
              "      <td>288.611320</td>\n",
              "      <td>288.097034</td>\n",
              "      <td>40769.358825</td>\n",
              "      <td>2.438731e+12</td>\n",
              "      <td>560.245617</td>\n",
              "      <td>76.687998</td>\n",
              "      <td>23971.823147</td>\n",
              "      <td>4625.342240</td>\n",
              "      <td>1.172356e+08</td>\n",
              "      <td>...</td>\n",
              "      <td>2.432681e+08</td>\n",
              "      <td>2.440199e+08</td>\n",
              "      <td>9.260820e+06</td>\n",
              "      <td>9.246800e+06</td>\n",
              "      <td>1.071109e+06</td>\n",
              "      <td>3.516420e+06</td>\n",
              "      <td>1.035646e+06</td>\n",
              "      <td>40769.358825</td>\n",
              "      <td>9.986936e+06</td>\n",
              "      <td>9.986936e+06</td>\n",
              "    </tr>\n",
              "    <tr>\n",
              "      <th>min</th>\n",
              "      <td>6.917538e+18</td>\n",
              "      <td>0.000000</td>\n",
              "      <td>0.000000</td>\n",
              "      <td>7142.000000</td>\n",
              "      <td>3.360100e+10</td>\n",
              "      <td>0.000000</td>\n",
              "      <td>0.000000</td>\n",
              "      <td>0.000000</td>\n",
              "      <td>0.000000</td>\n",
              "      <td>2.000000e+00</td>\n",
              "      <td>...</td>\n",
              "      <td>1.490450e+05</td>\n",
              "      <td>3.063580e+05</td>\n",
              "      <td>9.843200e+04</td>\n",
              "      <td>7.890300e+04</td>\n",
              "      <td>8.359000e+03</td>\n",
              "      <td>4.033000e+04</td>\n",
              "      <td>1.563000e+03</td>\n",
              "      <td>7142.000000</td>\n",
              "      <td>2.866892e+06</td>\n",
              "      <td>2.866892e+06</td>\n",
              "    </tr>\n",
              "    <tr>\n",
              "      <th>25%</th>\n",
              "      <td>7.349883e+18</td>\n",
              "      <td>250.000000</td>\n",
              "      <td>251.000000</td>\n",
              "      <td>57442.000000</td>\n",
              "      <td>3.365094e+10</td>\n",
              "      <td>28.000000</td>\n",
              "      <td>3.000000</td>\n",
              "      <td>43.000000</td>\n",
              "      <td>47.000000</td>\n",
              "      <td>1.332932e+06</td>\n",
              "      <td>...</td>\n",
              "      <td>2.185534e+08</td>\n",
              "      <td>2.187279e+08</td>\n",
              "      <td>1.597946e+07</td>\n",
              "      <td>1.599846e+07</td>\n",
              "      <td>1.359344e+06</td>\n",
              "      <td>4.943599e+06</td>\n",
              "      <td>9.322180e+05</td>\n",
              "      <td>57442.000000</td>\n",
              "      <td>3.322196e+07</td>\n",
              "      <td>3.322196e+07</td>\n",
              "    </tr>\n",
              "    <tr>\n",
              "      <th>50%</th>\n",
              "      <td>7.349883e+18</td>\n",
              "      <td>499.000000</td>\n",
              "      <td>500.000000</td>\n",
              "      <td>86399.000000</td>\n",
              "      <td>3.366361e+10</td>\n",
              "      <td>38.000000</td>\n",
              "      <td>5.000000</td>\n",
              "      <td>63.000000</td>\n",
              "      <td>63.000000</td>\n",
              "      <td>2.080991e+07</td>\n",
              "      <td>...</td>\n",
              "      <td>4.299865e+08</td>\n",
              "      <td>4.316150e+08</td>\n",
              "      <td>2.263554e+07</td>\n",
              "      <td>2.266177e+07</td>\n",
              "      <td>2.263567e+06</td>\n",
              "      <td>7.812835e+06</td>\n",
              "      <td>1.826471e+06</td>\n",
              "      <td>86399.000000</td>\n",
              "      <td>4.114324e+07</td>\n",
              "      <td>4.114324e+07</td>\n",
              "    </tr>\n",
              "    <tr>\n",
              "      <th>75%</th>\n",
              "      <td>1.304243e+19</td>\n",
              "      <td>749.000000</td>\n",
              "      <td>750.000000</td>\n",
              "      <td>101468.000000</td>\n",
              "      <td>3.368307e+10</td>\n",
              "      <td>62.000000</td>\n",
              "      <td>11.000000</td>\n",
              "      <td>19710.000000</td>\n",
              "      <td>1120.000000</td>\n",
              "      <td>2.080991e+07</td>\n",
              "      <td>...</td>\n",
              "      <td>6.399275e+08</td>\n",
              "      <td>6.414159e+08</td>\n",
              "      <td>2.929044e+07</td>\n",
              "      <td>2.929260e+07</td>\n",
              "      <td>3.159818e+06</td>\n",
              "      <td>1.068280e+07</td>\n",
              "      <td>2.727487e+06</td>\n",
              "      <td>101468.000000</td>\n",
              "      <td>4.728190e+07</td>\n",
              "      <td>4.728190e+07</td>\n",
              "    </tr>\n",
              "    <tr>\n",
              "      <th>max</th>\n",
              "      <td>1.318654e+19</td>\n",
              "      <td>999.000000</td>\n",
              "      <td>999.000000</td>\n",
              "      <td>181414.000000</td>\n",
              "      <td>8.823971e+14</td>\n",
              "      <td>96923.000000</td>\n",
              "      <td>7120.000000</td>\n",
              "      <td>378160.000000</td>\n",
              "      <td>58613.000000</td>\n",
              "      <td>4.294426e+09</td>\n",
              "      <td>...</td>\n",
              "      <td>8.595209e+08</td>\n",
              "      <td>8.592028e+08</td>\n",
              "      <td>4.519815e+07</td>\n",
              "      <td>4.519008e+07</td>\n",
              "      <td>4.518036e+06</td>\n",
              "      <td>1.552878e+07</td>\n",
              "      <td>3.650861e+06</td>\n",
              "      <td>181414.000000</td>\n",
              "      <td>5.973914e+07</td>\n",
              "      <td>5.973914e+07</td>\n",
              "    </tr>\n",
              "  </tbody>\n",
              "</table>\n",
              "<p>8 rows × 51 columns</p>\n",
              "</div>\n",
              "      <button class=\"colab-df-convert\" onclick=\"convertToInteractive('df-7e3b8726-caf6-45eb-bd34-3ecb87cb9c87')\"\n",
              "              title=\"Convert this dataframe to an interactive table.\"\n",
              "              style=\"display:none;\">\n",
              "        \n",
              "  <svg xmlns=\"http://www.w3.org/2000/svg\" height=\"24px\"viewBox=\"0 0 24 24\"\n",
              "       width=\"24px\">\n",
              "    <path d=\"M0 0h24v24H0V0z\" fill=\"none\"/>\n",
              "    <path d=\"M18.56 5.44l.94 2.06.94-2.06 2.06-.94-2.06-.94-.94-2.06-.94 2.06-2.06.94zm-11 1L8.5 8.5l.94-2.06 2.06-.94-2.06-.94L8.5 2.5l-.94 2.06-2.06.94zm10 10l.94 2.06.94-2.06 2.06-.94-2.06-.94-.94-2.06-.94 2.06-2.06.94z\"/><path d=\"M17.41 7.96l-1.37-1.37c-.4-.4-.92-.59-1.43-.59-.52 0-1.04.2-1.43.59L10.3 9.45l-7.72 7.72c-.78.78-.78 2.05 0 2.83L4 21.41c.39.39.9.59 1.41.59.51 0 1.02-.2 1.41-.59l7.78-7.78 2.81-2.81c.8-.78.8-2.07 0-2.86zM5.41 20L4 18.59l7.72-7.72 1.47 1.35L5.41 20z\"/>\n",
              "  </svg>\n",
              "      </button>\n",
              "      \n",
              "  <style>\n",
              "    .colab-df-container {\n",
              "      display:flex;\n",
              "      flex-wrap:wrap;\n",
              "      gap: 12px;\n",
              "    }\n",
              "\n",
              "    .colab-df-convert {\n",
              "      background-color: #E8F0FE;\n",
              "      border: none;\n",
              "      border-radius: 50%;\n",
              "      cursor: pointer;\n",
              "      display: none;\n",
              "      fill: #1967D2;\n",
              "      height: 32px;\n",
              "      padding: 0 0 0 0;\n",
              "      width: 32px;\n",
              "    }\n",
              "\n",
              "    .colab-df-convert:hover {\n",
              "      background-color: #E2EBFA;\n",
              "      box-shadow: 0px 1px 2px rgba(60, 64, 67, 0.3), 0px 1px 3px 1px rgba(60, 64, 67, 0.15);\n",
              "      fill: #174EA6;\n",
              "    }\n",
              "\n",
              "    [theme=dark] .colab-df-convert {\n",
              "      background-color: #3B4455;\n",
              "      fill: #D2E3FC;\n",
              "    }\n",
              "\n",
              "    [theme=dark] .colab-df-convert:hover {\n",
              "      background-color: #434B5C;\n",
              "      box-shadow: 0px 1px 3px 1px rgba(0, 0, 0, 0.15);\n",
              "      filter: drop-shadow(0px 1px 2px rgba(0, 0, 0, 0.3));\n",
              "      fill: #FFFFFF;\n",
              "    }\n",
              "  </style>\n",
              "\n",
              "      <script>\n",
              "        const buttonEl =\n",
              "          document.querySelector('#df-7e3b8726-caf6-45eb-bd34-3ecb87cb9c87 button.colab-df-convert');\n",
              "        buttonEl.style.display =\n",
              "          google.colab.kernel.accessAllowed ? 'block' : 'none';\n",
              "\n",
              "        async function convertToInteractive(key) {\n",
              "          const element = document.querySelector('#df-7e3b8726-caf6-45eb-bd34-3ecb87cb9c87');\n",
              "          const dataTable =\n",
              "            await google.colab.kernel.invokeFunction('convertToInteractive',\n",
              "                                                     [key], {});\n",
              "          if (!dataTable) return;\n",
              "\n",
              "          const docLinkHtml = 'Like what you see? Visit the ' +\n",
              "            '<a target=\"_blank\" href=https://colab.research.google.com/notebooks/data_table.ipynb>data table notebook</a>'\n",
              "            + ' to learn more about interactive tables.';\n",
              "          element.innerHTML = '';\n",
              "          dataTable['output_type'] = 'display_data';\n",
              "          await google.colab.output.renderOutput(dataTable, element);\n",
              "          const docLink = document.createElement('div');\n",
              "          docLink.innerHTML = docLinkHtml;\n",
              "          element.appendChild(docLink);\n",
              "        }\n",
              "      </script>\n",
              "    </div>\n",
              "  </div>\n",
              "  "
            ]
          },
          "metadata": {},
          "execution_count": 169
        }
      ]
    },
    {
      "cell_type": "markdown",
      "source": [
        "## Data Scaling "
      ],
      "metadata": {
        "id": "QRRlpeQb_eVx"
      },
      "id": "QRRlpeQb_eVx"
    },
    {
      "cell_type": "markdown",
      "source": [
        "### Standardization"
      ],
      "metadata": {
        "id": "lYrQnA5Xd1Zw"
      },
      "id": "lYrQnA5Xd1Zw"
    },
    {
      "cell_type": "code",
      "source": [
        "#define the columns \n",
        " \n",
        "cols = ['Bearer Id', 'Dur. (ms)', 'MSISDN/Number','TCP DL Retrans. Vol (Bytes)', 'TCP UL Retrans. Vol (Bytes)', 'Social Media DL (Bytes)','Social Media UL (Bytes)',\n",
        "        'Google DL (Bytes)','Google UL (Bytes)' , 'Email DL (Bytes)', 'Email UL (Bytes)', 'Youtube DL (Bytes)', 'Youtube UL (Bytes)', \n",
        "        'Netflix DL (Bytes)', 'Netflix UL (Bytes)', 'Gaming DL (Bytes)', 'Gaming UL (Bytes)', 'Total UL (Bytes)' , 'Total DL (Bytes)']\n",
        " \n",
        "#call the standard scaler \n",
        "std_scaler = StandardScaler()\n",
        " \n",
        "#fit the values to the function \n",
        "Stand_Sc = std_scaler.fit_transform(df[cols].iloc[:,range(0,7)].values)\n",
        " \n",
        "#use seaborn for KDE plot\n",
        "sns.kdeplot(Stand_Sc[:,5],fill=True, color = 'Green')\n",
        " \n",
        "#Label the plot \n",
        "plt.xlabel('standardized values')\n",
        " \n",
        "#Print the plot \n",
        "plt.show()"
      ],
      "metadata": {
        "colab": {
          "base_uri": "https://localhost:8080/",
          "height": 279
        },
        "id": "J2p9haqrDK_H",
        "outputId": "25c14cb4-a368-4ba4-d7f3-e072ef5d924f"
      },
      "id": "J2p9haqrDK_H",
      "execution_count": 194,
      "outputs": [
        {
          "data": {
            "image/png": "[encoded data removed]",
            "text/plain": [
              "<Figure size 432x288 with 1 Axes>"
            ]
          },
          "metadata": {},
          "output_type": "display_data"
        }
      ]
    },
    {
      "cell_type": "markdown",
      "source": [
        "### Normalization"
      ],
      "metadata": {
        "id": "5OKfge8VEhkW"
      },
      "id": "5OKfge8VEhkW"
    },
    {
      "cell_type": "code",
      "source": [
        "#initialize normalizer\n",
        "data_norm = Normalizer()\n",
        " \n",
        "#Fit the data\n",
        "Normalize = data_norm.fit_transform(df[cols].iloc[:,range(0,7)].values)\n",
        " \n",
        "#Distribution plot \n",
        "sns.displot(Normalize[:,5],fill=True, color = 'orange')\n",
        " \n",
        "#Add the axis labels \n",
        "plt.xlabel('normalized values')\n",
        " \n",
        "#Display the plot \n",
        "plt.show()"
      ],
      "metadata": {
        "colab": {
          "base_uri": "https://localhost:8080/",
          "height": 370
        },
        "id": "dpuCh7g7ElCc",
        "outputId": "8e51c086-1227-4418-d154-a7099dd0383a"
      },
      "id": "dpuCh7g7ElCc",
      "execution_count": 41,
      "outputs": [
        {
          "output_type": "display_data",
          "data": {
            "text/plain": [
              "<Figure size 360x360 with 1 Axes>"
            ],
            "image/png": "[encoded data removed]"
          },
          "metadata": {
            "needs_background": "light"
          }
        }
      ]
    },
    {
      "cell_type": "code",
      "source": [
        "# df[cols][\"Bearer Id\"]"
      ],
      "metadata": {
        "id": "LLQnniyRMgdQ"
      },
      "id": "LLQnniyRMgdQ",
      "execution_count": null,
      "outputs": []
    },
    {
      "cell_type": "markdown",
      "metadata": {
        "id": "0646f25b"
      },
      "source": [
        "## Extracting Data"
      ],
      "id": "0646f25b"
    },
    {
      "cell_type": "markdown",
      "id": "df1ba8e6",
      "metadata": {
        "id": "df1ba8e6"
      },
      "source": [
        "### Handset type and manufacures"
      ]
    },
    {
      "cell_type": "code",
      "execution_count": null,
      "id": "1ec3a7a0",
      "metadata": {
        "id": "1ec3a7a0"
      },
      "outputs": [],
      "source": [
        "ht = df[\"Handset Type\"].value_counts()\n",
        "ht.head(10)"
      ]
    },
    {
      "cell_type": "code",
      "execution_count": null,
      "id": "81605a56",
      "metadata": {
        "id": "81605a56"
      },
      "outputs": [],
      "source": [
        "hm = df[\"Handset Manufacturer\"].value_counts()\n",
        "hm.head(3)"
      ]
    },
    {
      "cell_type": "code",
      "execution_count": null,
      "id": "92763d32",
      "metadata": {
        "id": "92763d32"
      },
      "outputs": [],
      "source": [
        "Manu_grp = df.groupby([\"Handset Manufacturer\"])\n",
        "Manu_grp.get_group('Apple').iloc[:1 , 20:40]"
      ]
    },
    {
      "cell_type": "code",
      "execution_count": null,
      "id": "75d46815",
      "metadata": {
        "id": "75d46815"
      },
      "outputs": [],
      "source": [
        "Manu_grp['Handset Type'].value_counts().loc['Apple'].head(5)"
      ]
    },
    {
      "cell_type": "code",
      "execution_count": null,
      "id": "85d875d7",
      "metadata": {
        "id": "85d875d7"
      },
      "outputs": [],
      "source": [
        "Manu_grp['Handset Type'].value_counts().loc['Samsung'].head(5)"
      ]
    },
    {
      "cell_type": "code",
      "execution_count": null,
      "id": "f2ccdd2b",
      "metadata": {
        "id": "f2ccdd2b"
      },
      "outputs": [],
      "source": [
        "Manu_grp['Handset Type'].value_counts().loc['Huawei'].head(5)"
      ]
    },
    {
      "cell_type": "markdown",
      "id": "c1ff4cb4",
      "metadata": {
        "id": "c1ff4cb4"
      },
      "source": [
        "### interpretation and recommendation to marketing teams\n",
        "The data between Handset Manufacturer and Handset Type shows that most of the users from the sample data use the manufacturer Apple product\n"
      ]
    },
    {
      "cell_type": "code",
      "execution_count": null,
      "id": "bcbd5812",
      "metadata": {
        "id": "bcbd5812"
      },
      "outputs": [],
      "source": [
        "df[\"MSISDN/Number\"].value_counts()"
      ]
    },
    {
      "cell_type": "code",
      "execution_count": null,
      "id": "02769d4d",
      "metadata": {
        "id": "02769d4d"
      },
      "outputs": [],
      "source": [
        "User_grp = df.groupby([\"MSISDN/Number\"])\n",
        "# User_grp.get_group('3.362632e+10')"
      ]
    },
    {
      "cell_type": "code",
      "execution_count": null,
      "id": "82269a31",
      "metadata": {
        "id": "82269a31"
      },
      "outputs": [],
      "source": [
        "User_grp['Bearer Id'].value_counts()"
      ]
    },
    {
      "cell_type": "code",
      "execution_count": null,
      "id": "e837f579",
      "metadata": {
        "id": "e837f579"
      },
      "outputs": [],
      "source": [
        "User_grp['Bearer Id'].median()"
      ]
    },
    {
      "cell_type": "code",
      "execution_count": null,
      "id": "01458fb0",
      "metadata": {
        "id": "01458fb0"
      },
      "outputs": [],
      "source": [
        "User_grp['Bearer Id'].mean()"
      ]
    },
    {
      "cell_type": "code",
      "execution_count": null,
      "id": "fae27c96",
      "metadata": {
        "id": "fae27c96"
      },
      "outputs": [],
      "source": [
        "User_grp[\"MSISDN/Number\"].agg(['median', 'mean'])"
      ]
    },
    {
      "cell_type": "code",
      "execution_count": null,
      "id": "f8f2cc2b",
      "metadata": {
        "id": "f8f2cc2b"
      },
      "outputs": [],
      "source": [
        "User_grp['Dur. (ms)'].value_counts()"
      ]
    },
    {
      "cell_type": "markdown",
      "id": "14409747",
      "metadata": {
        "id": "14409747"
      },
      "source": [
        "### number of xDR sessions and Session duration per user\n",
        "\n"
      ]
    },
    {
      "cell_type": "code",
      "source": [
        "Userstot_grp = df.groupby([\"MSISDN/Number\"])"
      ],
      "metadata": {
        "id": "SsczLZwTHYac"
      },
      "id": "SsczLZwTHYac",
      "execution_count": null,
      "outputs": []
    },
    {
      "cell_type": "code",
      "source": [
        "Userstot_grp[\"Bearer Id\"].value_counts().head()"
      ],
      "metadata": {
        "id": "cb-b0Ew7IsPp",
        "colab": {
          "base_uri": "https://localhost:8080/"
        },
        "outputId": "232f026c-dfc0-4066-e1fd-c7234f68d168"
      },
      "id": "cb-b0Ew7IsPp",
      "execution_count": null,
      "outputs": [
        {
          "output_type": "execute_result",
          "data": {
            "text/plain": [
              "MSISDN/Number  Bearer Id   \n",
              "3.360100e+10   1.311448e+19    1\n",
              "               7.349883e+18    1\n",
              "               7.349883e+18    1\n",
              "3.360101e+10   1.304243e+19    1\n",
              "               7.277826e+18    1\n",
              "Name: Bearer Id, dtype: int64"
            ]
          },
          "metadata": {},
          "execution_count": 43
        }
      ]
    },
    {
      "cell_type": "code",
      "source": [
        "Userstot_grp[\"Dur. (ms)\"].value_counts().head()"
      ],
      "metadata": {
        "id": "b__-HbK_JALt",
        "colab": {
          "base_uri": "https://localhost:8080/"
        },
        "outputId": "9906c967-3c1a-4734-a51e-d6df503dd653"
      },
      "id": "b__-HbK_JALt",
      "execution_count": null,
      "outputs": [
        {
          "output_type": "execute_result",
          "data": {
            "text/plain": [
              "MSISDN/Number  Dur. (ms)\n",
              "3.360100e+10   116720.0     1\n",
              "               181230.0     1\n",
              "               134969.0     1\n",
              "3.360101e+10   49878.0      1\n",
              "               18549.0      1\n",
              "Name: Dur. (ms), dtype: int64"
            ]
          },
          "metadata": {},
          "execution_count": 44
        }
      ]
    },
    {
      "cell_type": "markdown",
      "source": [
        "The total data volume (in Bytes) during this session for each application"
      ],
      "metadata": {
        "id": "Nj0qUosbHV4q"
      },
      "id": "Nj0qUosbHV4q"
    },
    {
      "cell_type": "code",
      "source": [
        "#creating new table for the applications \n",
        "applications= pd.DataFrame()\n",
        "def apps(df):\n",
        "  applications['user'] = df['MSISDN/Number']\n",
        "  applications['Bearer Id'] = df['Bearer Id']\n",
        "  applications['Dur. (ms)'] = df['Dur. (ms)']\n",
        "  applications['Total_UL_and_DL'] = df['Total UL (Bytes)'] + df['Total DL (Bytes)']\n",
        "  applications['Other UL and DL'] = df['Other UL (Bytes)'] + df['Other DL (Bytes)']\n",
        "  applications['Gaming UL and DL'] = df['Gaming UL (Bytes)'] + df['Gaming DL (Bytes)']\n",
        "  applications['Netflix UL and DL'] = df['Netflix UL (Bytes)'] + df['Netflix DL (Bytes)']\n",
        "  applications['Youtube UL and DL'] = df['Youtube UL (Bytes)'] + df['Youtube DL (Bytes)']\n",
        "  applications['Email UL and DL'] = df['Email UL (Bytes)'] + df['Email DL (Bytes)']\n",
        "  applications['Google UL and DL'] = df['Google UL (Bytes)'] + df['Google DL (Bytes)']\n",
        "  applications['Social Media UL and DL'] = df['Social Media UL (Bytes)'] + df['Social Media DL (Bytes)']\n",
        "  return applications.head()\n",
        "apps(df)"
      ],
      "metadata": {
        "colab": {
          "base_uri": "https://localhost:8080/",
          "height": 305
        },
        "id": "iezISeFtKMWW",
        "outputId": "2a3fe820-3d46-4631-b540-2c2b6dd99ca2"
      },
      "id": "iezISeFtKMWW",
      "execution_count": 162,
      "outputs": [
        {
          "output_type": "execute_result",
          "data": {
            "text/plain": [
              "           user     Bearer Id  Dur. (ms)  Total_UL_and_DL  Other UL and DL  \\\n",
              "0  3.366496e+10  1.311448e+19    86399.0       73499482.0      180558843.0   \n",
              "1  3.368185e+10  1.311448e+19    86399.0      107600782.0      541959383.0   \n",
              "2  3.376063e+10  1.311448e+19    86399.0       55767276.0      414908351.0   \n",
              "3  3.375034e+10  1.311448e+19    86399.0       86648436.0      761837216.0   \n",
              "4  3.369980e+10  1.311448e+19    86399.0       77085628.0      564619822.0   \n",
              "\n",
              "   Gaming UL and DL  Netflix UL and DL  Youtube UL and DL  Email UL and DL  \\\n",
              "0       292426453.0         17855187.0         18355943.0        3701304.0   \n",
              "1       609920783.0         35565545.0         39359124.0         937385.0   \n",
              "2       229980251.0         23751202.0         34425237.0        3363124.0   \n",
              "3       810387875.0         15092588.0         36534765.0        2070983.0   \n",
              "4       531237049.0         17539799.0         34222253.0        2110349.0   \n",
              "\n",
              "   Google UL and DL  Social Media UL and DL  \n",
              "0         2905912.0               1570185.0  \n",
              "1         4414096.0               1933278.0  \n",
              "2        10229119.0               1726277.0  \n",
              "3        11811761.0                657493.0  \n",
              "4         7748843.0                912788.0  "
            ],
            "text/html": [
              "\n",
              "  <div id=\"df-ad66cf3a-eab5-41b8-a62e-70497e9d60bb\">\n",
              "    <div class=\"colab-df-container\">\n",
              "      <div>\n",
              "<style scoped>\n",
              "    .dataframe tbody tr th:only-of-type {\n",
              "        vertical-align: middle;\n",
              "    }\n",
              "\n",
              "    .dataframe tbody tr th {\n",
              "        vertical-align: top;\n",
              "    }\n",
              "\n",
              "    .dataframe thead th {\n",
              "        text-align: right;\n",
              "    }\n",
              "</style>\n",
              "<table border=\"1\" class=\"dataframe\">\n",
              "  <thead>\n",
              "    <tr style=\"text-align: right;\">\n",
              "      <th></th>\n",
              "      <th>user</th>\n",
              "      <th>Bearer Id</th>\n",
              "      <th>Dur. (ms)</th>\n",
              "      <th>Total_UL_and_DL</th>\n",
              "      <th>Other UL and DL</th>\n",
              "      <th>Gaming UL and DL</th>\n",
              "      <th>Netflix UL and DL</th>\n",
              "      <th>Youtube UL and DL</th>\n",
              "      <th>Email UL and DL</th>\n",
              "      <th>Google UL and DL</th>\n",
              "      <th>Social Media UL and DL</th>\n",
              "    </tr>\n",
              "  </thead>\n",
              "  <tbody>\n",
              "    <tr>\n",
              "      <th>0</th>\n",
              "      <td>3.366496e+10</td>\n",
              "      <td>1.311448e+19</td>\n",
              "      <td>86399.0</td>\n",
              "      <td>73499482.0</td>\n",
              "      <td>180558843.0</td>\n",
              "      <td>292426453.0</td>\n",
              "      <td>17855187.0</td>\n",
              "      <td>18355943.0</td>\n",
              "      <td>3701304.0</td>\n",
              "      <td>2905912.0</td>\n",
              "      <td>1570185.0</td>\n",
              "    </tr>\n",
              "    <tr>\n",
              "      <th>1</th>\n",
              "      <td>3.368185e+10</td>\n",
              "      <td>1.311448e+19</td>\n",
              "      <td>86399.0</td>\n",
              "      <td>107600782.0</td>\n",
              "      <td>541959383.0</td>\n",
              "      <td>609920783.0</td>\n",
              "      <td>35565545.0</td>\n",
              "      <td>39359124.0</td>\n",
              "      <td>937385.0</td>\n",
              "      <td>4414096.0</td>\n",
              "      <td>1933278.0</td>\n",
              "    </tr>\n",
              "    <tr>\n",
              "      <th>2</th>\n",
              "      <td>3.376063e+10</td>\n",
              "      <td>1.311448e+19</td>\n",
              "      <td>86399.0</td>\n",
              "      <td>55767276.0</td>\n",
              "      <td>414908351.0</td>\n",
              "      <td>229980251.0</td>\n",
              "      <td>23751202.0</td>\n",
              "      <td>34425237.0</td>\n",
              "      <td>3363124.0</td>\n",
              "      <td>10229119.0</td>\n",
              "      <td>1726277.0</td>\n",
              "    </tr>\n",
              "    <tr>\n",
              "      <th>3</th>\n",
              "      <td>3.375034e+10</td>\n",
              "      <td>1.311448e+19</td>\n",
              "      <td>86399.0</td>\n",
              "      <td>86648436.0</td>\n",
              "      <td>761837216.0</td>\n",
              "      <td>810387875.0</td>\n",
              "      <td>15092588.0</td>\n",
              "      <td>36534765.0</td>\n",
              "      <td>2070983.0</td>\n",
              "      <td>11811761.0</td>\n",
              "      <td>657493.0</td>\n",
              "    </tr>\n",
              "    <tr>\n",
              "      <th>4</th>\n",
              "      <td>3.369980e+10</td>\n",
              "      <td>1.311448e+19</td>\n",
              "      <td>86399.0</td>\n",
              "      <td>77085628.0</td>\n",
              "      <td>564619822.0</td>\n",
              "      <td>531237049.0</td>\n",
              "      <td>17539799.0</td>\n",
              "      <td>34222253.0</td>\n",
              "      <td>2110349.0</td>\n",
              "      <td>7748843.0</td>\n",
              "      <td>912788.0</td>\n",
              "    </tr>\n",
              "  </tbody>\n",
              "</table>\n",
              "</div>\n",
              "      <button class=\"colab-df-convert\" onclick=\"convertToInteractive('df-ad66cf3a-eab5-41b8-a62e-70497e9d60bb')\"\n",
              "              title=\"Convert this dataframe to an interactive table.\"\n",
              "              style=\"display:none;\">\n",
              "        \n",
              "  <svg xmlns=\"http://www.w3.org/2000/svg\" height=\"24px\"viewBox=\"0 0 24 24\"\n",
              "       width=\"24px\">\n",
              "    <path d=\"M0 0h24v24H0V0z\" fill=\"none\"/>\n",
              "    <path d=\"M18.56 5.44l.94 2.06.94-2.06 2.06-.94-2.06-.94-.94-2.06-.94 2.06-2.06.94zm-11 1L8.5 8.5l.94-2.06 2.06-.94-2.06-.94L8.5 2.5l-.94 2.06-2.06.94zm10 10l.94 2.06.94-2.06 2.06-.94-2.06-.94-.94-2.06-.94 2.06-2.06.94z\"/><path d=\"M17.41 7.96l-1.37-1.37c-.4-.4-.92-.59-1.43-.59-.52 0-1.04.2-1.43.59L10.3 9.45l-7.72 7.72c-.78.78-.78 2.05 0 2.83L4 21.41c.39.39.9.59 1.41.59.51 0 1.02-.2 1.41-.59l7.78-7.78 2.81-2.81c.8-.78.8-2.07 0-2.86zM5.41 20L4 18.59l7.72-7.72 1.47 1.35L5.41 20z\"/>\n",
              "  </svg>\n",
              "      </button>\n",
              "      \n",
              "  <style>\n",
              "    .colab-df-container {\n",
              "      display:flex;\n",
              "      flex-wrap:wrap;\n",
              "      gap: 12px;\n",
              "    }\n",
              "\n",
              "    .colab-df-convert {\n",
              "      background-color: #E8F0FE;\n",
              "      border: none;\n",
              "      border-radius: 50%;\n",
              "      cursor: pointer;\n",
              "      display: none;\n",
              "      fill: #1967D2;\n",
              "      height: 32px;\n",
              "      padding: 0 0 0 0;\n",
              "      width: 32px;\n",
              "    }\n",
              "\n",
              "    .colab-df-convert:hover {\n",
              "      background-color: #E2EBFA;\n",
              "      box-shadow: 0px 1px 2px rgba(60, 64, 67, 0.3), 0px 1px 3px 1px rgba(60, 64, 67, 0.15);\n",
              "      fill: #174EA6;\n",
              "    }\n",
              "\n",
              "    [theme=dark] .colab-df-convert {\n",
              "      background-color: #3B4455;\n",
              "      fill: #D2E3FC;\n",
              "    }\n",
              "\n",
              "    [theme=dark] .colab-df-convert:hover {\n",
              "      background-color: #434B5C;\n",
              "      box-shadow: 0px 1px 3px 1px rgba(0, 0, 0, 0.15);\n",
              "      filter: drop-shadow(0px 1px 2px rgba(0, 0, 0, 0.3));\n",
              "      fill: #FFFFFF;\n",
              "    }\n",
              "  </style>\n",
              "\n",
              "      <script>\n",
              "        const buttonEl =\n",
              "          document.querySelector('#df-ad66cf3a-eab5-41b8-a62e-70497e9d60bb button.colab-df-convert');\n",
              "        buttonEl.style.display =\n",
              "          google.colab.kernel.accessAllowed ? 'block' : 'none';\n",
              "\n",
              "        async function convertToInteractive(key) {\n",
              "          const element = document.querySelector('#df-ad66cf3a-eab5-41b8-a62e-70497e9d60bb');\n",
              "          const dataTable =\n",
              "            await google.colab.kernel.invokeFunction('convertToInteractive',\n",
              "                                                     [key], {});\n",
              "          if (!dataTable) return;\n",
              "\n",
              "          const docLinkHtml = 'Like what you see? Visit the ' +\n",
              "            '<a target=\"_blank\" href=https://colab.research.google.com/notebooks/data_table.ipynb>data table notebook</a>'\n",
              "            + ' to learn more about interactive tables.';\n",
              "          element.innerHTML = '';\n",
              "          dataTable['output_type'] = 'display_data';\n",
              "          await google.colab.output.renderOutput(dataTable, element);\n",
              "          const docLink = document.createElement('div');\n",
              "          docLink.innerHTML = docLinkHtml;\n",
              "          element.appendChild(docLink);\n",
              "        }\n",
              "      </script>\n",
              "    </div>\n",
              "  </div>\n",
              "  "
            ]
          },
          "metadata": {},
          "execution_count": 162
        }
      ]
    },
    {
      "cell_type": "code",
      "source": [
        "# changing the bytes to Megabytes\n",
        "for x in applications:\n",
        "  if(x != 'Bearer Id' and x != 'Dur. (ms)' and x != 'user'):\n",
        "    applications[x]= applications[x]/(10**6)\n",
        "    \n",
        "applications.head(4)"
      ],
      "metadata": {
        "colab": {
          "base_uri": "https://localhost:8080/",
          "height": 291
        },
        "id": "o7eNF41sVbkA",
        "outputId": "cba59ebf-41c1-4736-f00c-6396128a2b59"
      },
      "id": "o7eNF41sVbkA",
      "execution_count": 163,
      "outputs": [
        {
          "output_type": "execute_result",
          "data": {
            "text/plain": [
              "           user     Bearer Id  Dur. (ms)  Total_UL_and_DL  Other UL and DL  \\\n",
              "0  3.366496e+10  1.311448e+19    86399.0        73.499482       180.558843   \n",
              "1  3.368185e+10  1.311448e+19    86399.0       107.600782       541.959383   \n",
              "2  3.376063e+10  1.311448e+19    86399.0        55.767276       414.908351   \n",
              "3  3.375034e+10  1.311448e+19    86399.0        86.648436       761.837216   \n",
              "\n",
              "   Gaming UL and DL  Netflix UL and DL  Youtube UL and DL  Email UL and DL  \\\n",
              "0        292.426453          17.855187          18.355943         3.701304   \n",
              "1        609.920783          35.565545          39.359124         0.937385   \n",
              "2        229.980251          23.751202          34.425237         3.363124   \n",
              "3        810.387875          15.092588          36.534765         2.070983   \n",
              "\n",
              "   Google UL and DL  Social Media UL and DL  \n",
              "0          2.905912                1.570185  \n",
              "1          4.414096                1.933278  \n",
              "2         10.229119                1.726277  \n",
              "3         11.811761                0.657493  "
            ],
            "text/html": [
              "\n",
              "  <div id=\"df-b0722ada-f140-4757-861b-351696c60b4d\">\n",
              "    <div class=\"colab-df-container\">\n",
              "      <div>\n",
              "<style scoped>\n",
              "    .dataframe tbody tr th:only-of-type {\n",
              "        vertical-align: middle;\n",
              "    }\n",
              "\n",
              "    .dataframe tbody tr th {\n",
              "        vertical-align: top;\n",
              "    }\n",
              "\n",
              "    .dataframe thead th {\n",
              "        text-align: right;\n",
              "    }\n",
              "</style>\n",
              "<table border=\"1\" class=\"dataframe\">\n",
              "  <thead>\n",
              "    <tr style=\"text-align: right;\">\n",
              "      <th></th>\n",
              "      <th>user</th>\n",
              "      <th>Bearer Id</th>\n",
              "      <th>Dur. (ms)</th>\n",
              "      <th>Total_UL_and_DL</th>\n",
              "      <th>Other UL and DL</th>\n",
              "      <th>Gaming UL and DL</th>\n",
              "      <th>Netflix UL and DL</th>\n",
              "      <th>Youtube UL and DL</th>\n",
              "      <th>Email UL and DL</th>\n",
              "      <th>Google UL and DL</th>\n",
              "      <th>Social Media UL and DL</th>\n",
              "    </tr>\n",
              "  </thead>\n",
              "  <tbody>\n",
              "    <tr>\n",
              "      <th>0</th>\n",
              "      <td>3.366496e+10</td>\n",
              "      <td>1.311448e+19</td>\n",
              "      <td>86399.0</td>\n",
              "      <td>73.499482</td>\n",
              "      <td>180.558843</td>\n",
              "      <td>292.426453</td>\n",
              "      <td>17.855187</td>\n",
              "      <td>18.355943</td>\n",
              "      <td>3.701304</td>\n",
              "      <td>2.905912</td>\n",
              "      <td>1.570185</td>\n",
              "    </tr>\n",
              "    <tr>\n",
              "      <th>1</th>\n",
              "      <td>3.368185e+10</td>\n",
              "      <td>1.311448e+19</td>\n",
              "      <td>86399.0</td>\n",
              "      <td>107.600782</td>\n",
              "      <td>541.959383</td>\n",
              "      <td>609.920783</td>\n",
              "      <td>35.565545</td>\n",
              "      <td>39.359124</td>\n",
              "      <td>0.937385</td>\n",
              "      <td>4.414096</td>\n",
              "      <td>1.933278</td>\n",
              "    </tr>\n",
              "    <tr>\n",
              "      <th>2</th>\n",
              "      <td>3.376063e+10</td>\n",
              "      <td>1.311448e+19</td>\n",
              "      <td>86399.0</td>\n",
              "      <td>55.767276</td>\n",
              "      <td>414.908351</td>\n",
              "      <td>229.980251</td>\n",
              "      <td>23.751202</td>\n",
              "      <td>34.425237</td>\n",
              "      <td>3.363124</td>\n",
              "      <td>10.229119</td>\n",
              "      <td>1.726277</td>\n",
              "    </tr>\n",
              "    <tr>\n",
              "      <th>3</th>\n",
              "      <td>3.375034e+10</td>\n",
              "      <td>1.311448e+19</td>\n",
              "      <td>86399.0</td>\n",
              "      <td>86.648436</td>\n",
              "      <td>761.837216</td>\n",
              "      <td>810.387875</td>\n",
              "      <td>15.092588</td>\n",
              "      <td>36.534765</td>\n",
              "      <td>2.070983</td>\n",
              "      <td>11.811761</td>\n",
              "      <td>0.657493</td>\n",
              "    </tr>\n",
              "  </tbody>\n",
              "</table>\n",
              "</div>\n",
              "      <button class=\"colab-df-convert\" onclick=\"convertToInteractive('df-b0722ada-f140-4757-861b-351696c60b4d')\"\n",
              "              title=\"Convert this dataframe to an interactive table.\"\n",
              "              style=\"display:none;\">\n",
              "        \n",
              "  <svg xmlns=\"http://www.w3.org/2000/svg\" height=\"24px\"viewBox=\"0 0 24 24\"\n",
              "       width=\"24px\">\n",
              "    <path d=\"M0 0h24v24H0V0z\" fill=\"none\"/>\n",
              "    <path d=\"M18.56 5.44l.94 2.06.94-2.06 2.06-.94-2.06-.94-.94-2.06-.94 2.06-2.06.94zm-11 1L8.5 8.5l.94-2.06 2.06-.94-2.06-.94L8.5 2.5l-.94 2.06-2.06.94zm10 10l.94 2.06.94-2.06 2.06-.94-2.06-.94-.94-2.06-.94 2.06-2.06.94z\"/><path d=\"M17.41 7.96l-1.37-1.37c-.4-.4-.92-.59-1.43-.59-.52 0-1.04.2-1.43.59L10.3 9.45l-7.72 7.72c-.78.78-.78 2.05 0 2.83L4 21.41c.39.39.9.59 1.41.59.51 0 1.02-.2 1.41-.59l7.78-7.78 2.81-2.81c.8-.78.8-2.07 0-2.86zM5.41 20L4 18.59l7.72-7.72 1.47 1.35L5.41 20z\"/>\n",
              "  </svg>\n",
              "      </button>\n",
              "      \n",
              "  <style>\n",
              "    .colab-df-container {\n",
              "      display:flex;\n",
              "      flex-wrap:wrap;\n",
              "      gap: 12px;\n",
              "    }\n",
              "\n",
              "    .colab-df-convert {\n",
              "      background-color: #E8F0FE;\n",
              "      border: none;\n",
              "      border-radius: 50%;\n",
              "      cursor: pointer;\n",
              "      display: none;\n",
              "      fill: #1967D2;\n",
              "      height: 32px;\n",
              "      padding: 0 0 0 0;\n",
              "      width: 32px;\n",
              "    }\n",
              "\n",
              "    .colab-df-convert:hover {\n",
              "      background-color: #E2EBFA;\n",
              "      box-shadow: 0px 1px 2px rgba(60, 64, 67, 0.3), 0px 1px 3px 1px rgba(60, 64, 67, 0.15);\n",
              "      fill: #174EA6;\n",
              "    }\n",
              "\n",
              "    [theme=dark] .colab-df-convert {\n",
              "      background-color: #3B4455;\n",
              "      fill: #D2E3FC;\n",
              "    }\n",
              "\n",
              "    [theme=dark] .colab-df-convert:hover {\n",
              "      background-color: #434B5C;\n",
              "      box-shadow: 0px 1px 3px 1px rgba(0, 0, 0, 0.15);\n",
              "      filter: drop-shadow(0px 1px 2px rgba(0, 0, 0, 0.3));\n",
              "      fill: #FFFFFF;\n",
              "    }\n",
              "  </style>\n",
              "\n",
              "      <script>\n",
              "        const buttonEl =\n",
              "          document.querySelector('#df-b0722ada-f140-4757-861b-351696c60b4d button.colab-df-convert');\n",
              "        buttonEl.style.display =\n",
              "          google.colab.kernel.accessAllowed ? 'block' : 'none';\n",
              "\n",
              "        async function convertToInteractive(key) {\n",
              "          const element = document.querySelector('#df-b0722ada-f140-4757-861b-351696c60b4d');\n",
              "          const dataTable =\n",
              "            await google.colab.kernel.invokeFunction('convertToInteractive',\n",
              "                                                     [key], {});\n",
              "          if (!dataTable) return;\n",
              "\n",
              "          const docLinkHtml = 'Like what you see? Visit the ' +\n",
              "            '<a target=\"_blank\" href=https://colab.research.google.com/notebooks/data_table.ipynb>data table notebook</a>'\n",
              "            + ' to learn more about interactive tables.';\n",
              "          element.innerHTML = '';\n",
              "          dataTable['output_type'] = 'display_data';\n",
              "          await google.colab.output.renderOutput(dataTable, element);\n",
              "          const docLink = document.createElement('div');\n",
              "          docLink.innerHTML = docLinkHtml;\n",
              "          element.appendChild(docLink);\n",
              "        }\n",
              "      </script>\n",
              "    </div>\n",
              "  </div>\n",
              "  "
            ]
          },
          "metadata": {},
          "execution_count": 163
        }
      ]
    },
    {
      "cell_type": "code",
      "source": [
        "user_grp = applications.groupby([\"user\"])"
      ],
      "metadata": {
        "id": "m0D9MPFCYhex"
      },
      "id": "m0D9MPFCYhex",
      "execution_count": 164,
      "outputs": []
    },
    {
      "cell_type": "code",
      "execution_count": 165,
      "id": "6a49083c",
      "metadata": {
        "id": "6a49083c"
      },
      "outputs": [],
      "source": [
        "user_agg= user_grp.agg({'Bearer Id':'sum','Dur. (ms)':'sum','Total_UL_and_DL':'sum','Other UL and DL':'sum','Gaming UL and DL':'sum','Netflix UL and DL':'sum','Youtube UL and DL':'sum','Email UL and DL':'sum','Google UL and DL':'sum','Social Media UL and DL':'sum'})\n",
        "user_agg['Num_of_xDR_sessions']=user_agg['Bearer Id']\n",
        "# user_agg.head(10)"
      ]
    },
    {
      "cell_type": "markdown",
      "id": "891c1041",
      "metadata": {
        "id": "891c1041"
      },
      "source": [
        "## Data Exploration"
      ]
    },
    {
      "cell_type": "code",
      "execution_count": 166,
      "id": "cf000bf0",
      "metadata": {
        "id": "cf000bf0"
      },
      "outputs": [],
      "source": [
        "def fix_outlier(df, column):\n",
        "    df[column] = np.where(df[column] > df[column].quantile(0.95), df[column].median(),df[column])    \n",
        "    return df[column]\n",
        "\n",
        "################ Plot Functions ########################\n",
        "def plot_hist(df:pd.DataFrame, column:str, color:str)->None:\n",
        "    # plt.figure(figsize=(15, 10))\n",
        "    # fig, ax = plt.subplots(1, figsize=(12, 7))\n",
        "    sns.displot(data=df, x=column, color=color, kde=True, height=7, aspect=2)\n",
        "    plt.title(f'Distribution of {column}', size=20, fontweight='bold')\n",
        "    plt.show()\n",
        "    \n",
        "\n",
        "def plot_count(df:pd.DataFrame, column:str) -> None:\n",
        "    plt.figure(figsize=(12, 7))\n",
        "    sns.countplot(data=df, x=column)\n",
        "    plt.title(f'Distribution of {column}', size=20, fontweight='bold')\n",
        "    plt.show()\n",
        "    \n",
        "\n",
        "def plot_bar(df:pd.DataFrame, x_col:str, y_col:str, title:str, xlabel:str, ylabel:str)->None:\n",
        "    plt.figure(figsize=(12, 7))\n",
        "    sns.barplot(data = df, x=x_col, y=y_col)\n",
        "    plt.title(title, size=20)\n",
        "    plt.xticks(rotation=75, fontsize=14)\n",
        "    plt.yticks( fontsize=14)\n",
        "    plt.xlabel(xlabel, fontsize=16)\n",
        "    plt.ylabel(ylabel, fontsize=16)\n",
        "    plt.show()\n",
        "\n",
        "\n",
        "def plot_heatmap(df:pd.DataFrame, title:str, cbar=False)->None:\n",
        "    plt.figure(figsize=(12, 7))\n",
        "    sns.heatmap(df, annot=True, cmap='viridis', vmin=0, vmax=1, fmt='.2f', linewidths=.7, cbar=cbar )\n",
        "    plt.title(title, size=18, fontweight='bold')\n",
        "    plt.show()\n",
        "\n",
        "\n",
        "def plot_box(df:pd.DataFrame, x_col:str, title:str) -> None:\n",
        "    plt.figure(figsize=(12, 7))\n",
        "    sns.boxplot(data = df, x=x_col,showfliers = False)\n",
        "    plt.title(title, size=20)\n",
        "    plt.xticks(rotation=75, fontsize=14)\n",
        "    plt.show()\n",
        "\n",
        "\n",
        "def plot_box_multi(df:pd.DataFrame, x_col:str, y_col:str, title:str) -> None:\n",
        "    plt.figure(figsize=(12, 7))\n",
        "    sns.boxplot(data = df, x=x_col, y=y_col)\n",
        "    plt.title(title, size=20)\n",
        "    plt.xticks(rotation=75, fontsize=14)\n",
        "    plt.yticks( fontsize=14)\n",
        "    plt.show()\n",
        "\n",
        "\n",
        "def plot_scatter(df: pd.DataFrame, x_col: str, y_col: str, title: str) -> None:\n",
        "    plt.figure(figsize=(12, 7))\n",
        "    sns.scatterplot(data = df, x=x_col, y=y_col)\n",
        "    plt.title(title, size=20)\n",
        "    plt.xticks(fontsize=14)\n",
        "    plt.yticks( fontsize=14)\n",
        "    plt.show()\n"
      ]
    },
    {
      "cell_type": "markdown",
      "id": "4c234e88",
      "metadata": {
        "id": "4c234e88"
      },
      "source": [
        "###Univariate Analysis"
      ]
    },
    {
      "cell_type": "markdown",
      "source": [
        "Graphical\n"
      ],
      "metadata": {
        "id": "8L3FLHqOKAOU"
      },
      "id": "8L3FLHqOKAOU"
    },
    {
      "cell_type": "code",
      "source": [
        "### with outliter\n",
        "plot_hist(df, \"Dur. (ms)\", \"yellow\")"
      ],
      "metadata": {
        "colab": {
          "base_uri": "https://localhost:8080/",
          "height": 517
        },
        "id": "BIEgcv6eo0kw",
        "outputId": "69f0807f-0217-4d2a-dd04-cd862225da43"
      },
      "id": "BIEgcv6eo0kw",
      "execution_count": 173,
      "outputs": [
        {
          "output_type": "display_data",
          "data": {
            "text/plain": [
              "<Figure size 1008x504 with 1 Axes>"
            ],
            "image/png": "[encoded data removed]"
          },
          "metadata": {
            "needs_background": "light"
          }
        }
      ]
    },
    {
      "cell_type": "code",
      "source": [
        "#### after outlier removed\n",
        "applications['Dur. (ms)']=fix_outlier(applications,'Dur. (ms)')"
      ],
      "metadata": {
        "id": "Fg1vQuZzh39K"
      },
      "id": "Fg1vQuZzh39K",
      "execution_count": 175,
      "outputs": []
    },
    {
      "cell_type": "code",
      "source": [
        "plot_hist(applications, \"Dur. (ms)\", \"yellow\")"
      ],
      "metadata": {
        "colab": {
          "base_uri": "https://localhost:8080/",
          "height": 517
        },
        "id": "x7iduObaA2Qo",
        "outputId": "9b2ecf1b-6955-4bd7-c15f-5f830a1e5117"
      },
      "id": "x7iduObaA2Qo",
      "execution_count": 176,
      "outputs": [
        {
          "output_type": "display_data",
          "data": {
            "text/plain": [
              "<Figure size 1008x504 with 1 Axes>"
            ],
            "image/png": "[encoded data removed]"
          },
          "metadata": {
            "needs_background": "light"
          }
        }
      ]
    },
    {
      "cell_type": "code",
      "source": [
        "### No outliers\n",
        "plot_hist(df, \"Bearer Id\", \"green\")"
      ],
      "metadata": {
        "id": "yA2rHxi3KMYU",
        "colab": {
          "base_uri": "https://localhost:8080/",
          "height": 517
        },
        "outputId": "f8ab1122-6dcd-441e-99f3-239599a71be0"
      },
      "id": "yA2rHxi3KMYU",
      "execution_count": 177,
      "outputs": [
        {
          "output_type": "display_data",
          "data": {
            "text/plain": [
              "<Figure size 1008x504 with 1 Axes>"
            ],
            "image/png": "[encoded data removed]"
          },
          "metadata": {
            "needs_background": "light"
          }
        }
      ]
    },
    {
      "cell_type": "code",
      "execution_count": 187,
      "id": "11487232",
      "metadata": {
        "id": "11487232",
        "colab": {
          "base_uri": "https://localhost:8080/",
          "height": 517
        },
        "outputId": "ece49ec3-dd9a-4d63-b54a-28d59710fb1c"
      },
      "outputs": [
        {
          "output_type": "display_data",
          "data": {
            "text/plain": [
              "<Figure size 1008x504 with 1 Axes>"
            ],
            "image/png": "[encoded data removed]"
          },
          "metadata": {
            "needs_background": "light"
          }
        }
      ],
      "source": [
        "plot_hist(df, \"Total DL (Bytes)\", \"blue\")"
      ]
    },
    {
      "cell_type": "code",
      "execution_count": 190,
      "id": "9d405f77",
      "metadata": {
        "id": "9d405f77"
      },
      "outputs": [],
      "source": [
        "##### outlies fixed\n",
        "df['fixed_Total_UL_and_DL']=fix_outlier(df,'Total DL (Bytes)')"
      ]
    },
    {
      "cell_type": "code",
      "execution_count": 191,
      "id": "1103040b",
      "metadata": {
        "scrolled": true,
        "id": "1103040b",
        "colab": {
          "base_uri": "https://localhost:8080/",
          "height": 554
        },
        "outputId": "d532294f-7de9-4617-81eb-2d260c952b22"
      },
      "outputs": [
        {
          "output_type": "display_data",
          "data": {
            "text/plain": [
              "<Figure size 1008x504 with 1 Axes>"
            ],
            "image/png": "[encoded data removed]"
          },
          "metadata": {
            "needs_background": "light"
          }
        }
      ],
      "source": [
        "plot_hist(df, \"fixed_Total_UL_and_DL\", \"blue\")"
      ]
    },
    {
      "cell_type": "code",
      "source": [
        "plot_hist(applications, \"Total_UL_and_DL\", \"black\")"
      ],
      "metadata": {
        "colab": {
          "base_uri": "https://localhost:8080/",
          "height": 517
        },
        "id": "X9xIU5L8AiYE",
        "outputId": "f3c6067f-fbf1-445f-8da3-52ad047589f4"
      },
      "id": "X9xIU5L8AiYE",
      "execution_count": 192,
      "outputs": [
        {
          "output_type": "display_data",
          "data": {
            "text/plain": [
              "<Figure size 1008x504 with 1 Axes>"
            ],
            "image/png": "[encoded data removed]"
          },
          "metadata": {
            "needs_background": "light"
          }
        }
      ]
    },
    {
      "cell_type": "markdown",
      "source": [
        "Non-Graphical"
      ],
      "metadata": {
        "id": "A3hu0UiOL8me"
      },
      "id": "A3hu0UiOL8me"
    },
    {
      "cell_type": "code",
      "source": [
        "plot_box(df, \"Bearer Id\", 'Bearer Id Outliers')"
      ],
      "metadata": {
        "id": "IcS9c5wcK3BI",
        "colab": {
          "base_uri": "https://localhost:8080/",
          "height": 479
        },
        "outputId": "0ef5f8a0-cee7-4ced-8a7f-3041aa67a130"
      },
      "id": "IcS9c5wcK3BI",
      "execution_count": 186,
      "outputs": [
        {
          "output_type": "display_data",
          "data": {
            "text/plain": [
              "<Figure size 864x504 with 1 Axes>"
            ],
            "image/png": "[encoded data removed]"
          },
          "metadata": {
            "needs_background": "light"
          }
        }
      ]
    },
    {
      "cell_type": "code",
      "source": [
        "df[\"fixed_Dur. (ms)\"] = fix_outlier(df, \"Dur. (ms)\")"
      ],
      "metadata": {
        "id": "avi-E2LN8MDS"
      },
      "id": "avi-E2LN8MDS",
      "execution_count": 152,
      "outputs": []
    },
    {
      "cell_type": "code",
      "source": [
        "plot_box(df, \"fixed_Dur. (ms)\", 'Dur. (ms)')"
      ],
      "metadata": {
        "id": "Yjd6CNhEtO03",
        "colab": {
          "base_uri": "https://localhost:8080/",
          "height": 509
        },
        "outputId": "ec67c73e-4897-48b1-ebed-a9023302c253"
      },
      "id": "Yjd6CNhEtO03",
      "execution_count": 153,
      "outputs": [
        {
          "output_type": "display_data",
          "data": {
            "text/plain": [
              "<Figure size 864x504 with 1 Axes>"
            ],
            "image/png": "[encoded data removed]"
          },
          "metadata": {
            "needs_background": "light"
          }
        }
      ]
    },
    {
      "cell_type": "code",
      "source": [
        "df[\"fixed_Total DL (Bytes)\"] = fix_outlier(df, \"Total DL (Bytes)\")"
      ],
      "metadata": {
        "id": "PyQ6wCsUsajw"
      },
      "id": "PyQ6wCsUsajw",
      "execution_count": 150,
      "outputs": []
    },
    {
      "cell_type": "code",
      "source": [
        "plot_box(df, \"fixed_Total DL (Bytes)\", 'Total DL (Bytes)')"
      ],
      "metadata": {
        "id": "UajC8tXasgwS",
        "colab": {
          "base_uri": "https://localhost:8080/",
          "height": 467
        },
        "outputId": "abdcd3ec-47b7-42ea-e444-dda49549d0ae"
      },
      "id": "UajC8tXasgwS",
      "execution_count": 151,
      "outputs": [
        {
          "output_type": "display_data",
          "data": {
            "text/plain": [
              "<Figure size 864x504 with 1 Axes>"
            ],
            "image/png": "[encoded data removed]"
          },
          "metadata": {
            "needs_background": "light"
          }
        }
      ]
    },
    {
      "cell_type": "code",
      "source": [
        "df[\"fixed_Total UL (Bytes)\"] = fix_outlier(df, \"Total UL (Bytes)\")"
      ],
      "metadata": {
        "id": "ABziMRgLs2yl"
      },
      "id": "ABziMRgLs2yl",
      "execution_count": 148,
      "outputs": []
    },
    {
      "cell_type": "code",
      "source": [
        "plot_box(df, \"fixed_Total UL (Bytes)\", 'Total UL (Bytes)')"
      ],
      "metadata": {
        "id": "gBRIBZZ6tCHm",
        "colab": {
          "base_uri": "https://localhost:8080/",
          "height": 467
        },
        "outputId": "2ef2e32c-dd4b-4bda-d25e-49c9a7edef98"
      },
      "id": "gBRIBZZ6tCHm",
      "execution_count": 149,
      "outputs": [
        {
          "output_type": "display_data",
          "data": {
            "text/plain": [
              "<Figure size 864x504 with 1 Axes>"
            ],
            "image/png": "[encoded data removed]"
          },
          "metadata": {
            "needs_background": "light"
          }
        }
      ]
    },
    {
      "cell_type": "markdown",
      "source": [
        "categorical variables"
      ],
      "metadata": {
        "id": "ENxHdlsJ5zM8"
      },
      "id": "ENxHdlsJ5zM8"
    },
    {
      "cell_type": "code",
      "source": [
        "plot_count(applications, \"Social Media UL and DL\")"
      ],
      "metadata": {
        "id": "U7rYkkJaDFsG"
      },
      "id": "U7rYkkJaDFsG",
      "execution_count": null,
      "outputs": []
    },
    {
      "cell_type": "code",
      "source": [
        "plot_count(applications, \"Email UL and DL\")"
      ],
      "metadata": {
        "id": "dcn4lARyxrQ9"
      },
      "id": "dcn4lARyxrQ9",
      "execution_count": null,
      "outputs": []
    },
    {
      "cell_type": "code",
      "source": [
        "plot_count(applications, \"Netflix UL and DL\") "
      ],
      "metadata": {
        "id": "O0PEcl1Sx5Sm"
      },
      "id": "O0PEcl1Sx5Sm",
      "execution_count": null,
      "outputs": []
    },
    {
      "cell_type": "code",
      "source": [
        "plot_count(applications, \"Gaming UL and DL\") "
      ],
      "metadata": {
        "id": "8h6wo5JI9Nwc"
      },
      "id": "8h6wo5JI9Nwc",
      "execution_count": null,
      "outputs": []
    },
    {
      "cell_type": "code",
      "source": [
        "plot_count(applications, \"Other UL and DL\") "
      ],
      "metadata": {
        "id": "VRur5BnRyGC6",
        "colab": {
          "base_uri": "https://localhost:8080/",
          "height": 464
        },
        "outputId": "b568deb7-8b7f-4e7a-f015-1fde01d252a2"
      },
      "id": "VRur5BnRyGC6",
      "execution_count": 99,
      "outputs": [
        {
          "output_type": "display_data",
          "data": {
            "text/plain": [
              "<Figure size 864x504 with 1 Axes>"
            ],
            "image/png": "[encoded data removed]"
          },
          "metadata": {
            "needs_background": "light"
          }
        }
      ]
    },
    {
      "cell_type": "code",
      "source": [
        "plot_count(applications, \"Total_UL_and_DL\") "
      ],
      "metadata": {
        "id": "gXUdMs_C9c2b"
      },
      "id": "gXUdMs_C9c2b",
      "execution_count": null,
      "outputs": []
    },
    {
      "cell_type": "markdown",
      "source": [
        "Multivariate Analysis\n"
      ],
      "metadata": {
        "id": "q7ZlxIb8utVk"
      },
      "id": "q7ZlxIb8utVk"
    },
    {
      "cell_type": "markdown",
      "source": [
        "This analysis is done between total UL and DL and the other applications\n"
      ],
      "metadata": {
        "id": "x8yvFoKPvOS5"
      },
      "id": "x8yvFoKPvOS5"
    },
    {
      "cell_type": "markdown",
      "source": [
        "Bivarate Analysis"
      ],
      "metadata": {
        "id": "n7wYUm1P_fMQ"
      },
      "id": "n7wYUm1P_fMQ"
    },
    {
      "cell_type": "code",
      "source": [
        "plot_scatter(user_agg.head(100), x_col=\"Social Media_UL_and_DL\", y_col=\"Total_UL_and_DL\", title=\"Total_UL_and_DL vs Social Media_UL_and_DL\")"
      ],
      "metadata": {
        "colab": {
          "base_uri": "https://localhost:8080/",
          "height": 468
        },
        "id": "LlRMNRSUevzN",
        "outputId": "995b908e-28b0-451a-c4b2-347cb6f514fb"
      },
      "id": "LlRMNRSUevzN",
      "execution_count": 92,
      "outputs": [
        {
          "output_type": "display_data",
          "data": {
            "text/plain": [
              "<Figure size 864x504 with 1 Axes>"
            ],
            "image/png": "[encoded data removed]"
          },
          "metadata": {
            "needs_background": "light"
          }
        }
      ]
    },
    {
      "cell_type": "code",
      "source": [
        "plot_scatter(user_agg.head(100), x_col=\"Google_UL_and_DL\", y_col=\"Total_UL_and_DL\", title=\"Total_UL_and_DL vs Social Media_UL_and_DL\")"
      ],
      "metadata": {
        "colab": {
          "base_uri": "https://localhost:8080/",
          "height": 468
        },
        "id": "ZwG1slQzgPY3",
        "outputId": "c6e95bab-8dfe-4c96-ed90-9e885b237123"
      },
      "id": "ZwG1slQzgPY3",
      "execution_count": 93,
      "outputs": [
        {
          "output_type": "display_data",
          "data": {
            "text/plain": [
              "<Figure size 864x504 with 1 Axes>"
            ],
            "image/png": "[encoded data removed]"
          },
          "metadata": {
            "needs_background": "light"
          }
        }
      ]
    },
    {
      "cell_type": "code",
      "source": [
        "plot_scatter(user_agg.head(100), x_col=\"Email_UL_and_DL\", y_col=\"Total_UL_and_DL\", title=\"Total_UL_and_DL vs Social Media_UL_and_DL\")"
      ],
      "metadata": {
        "colab": {
          "base_uri": "https://localhost:8080/",
          "height": 468
        },
        "id": "GidhxaV-flfV",
        "outputId": "836a00e3-b382-4b4b-e342-e6ff70e60abb"
      },
      "id": "GidhxaV-flfV",
      "execution_count": 94,
      "outputs": [
        {
          "output_type": "display_data",
          "data": {
            "text/plain": [
              "<Figure size 864x504 with 1 Axes>"
            ],
            "image/png": "[encoded data removed]"
          },
          "metadata": {
            "needs_background": "light"
          }
        }
      ]
    },
    {
      "cell_type": "code",
      "source": [
        "plot_scatter(user_agg.head(100), x_col=\"Youtube_UL_and_DL\", y_col=\"Total_UL_and_DL\", title=\"Total_UL_and_DL vs Social Media_UL_and_DL\")"
      ],
      "metadata": {
        "colab": {
          "base_uri": "https://localhost:8080/",
          "height": 468
        },
        "id": "EGaHGXenfm2m",
        "outputId": "1b1ccc06-bbb9-4fd7-8a2f-6d779363bb79"
      },
      "id": "EGaHGXenfm2m",
      "execution_count": 95,
      "outputs": [
        {
          "output_type": "display_data",
          "data": {
            "text/plain": [
              "<Figure size 864x504 with 1 Axes>"
            ],
            "image/png": "[encoded data removed]"
          },
          "metadata": {
            "needs_background": "light"
          }
        }
      ]
    },
    {
      "cell_type": "code",
      "source": [
        "plot_scatter(user_agg.head(100), x_col=\"Netflix_UL_and_DL\", y_col=\"Total_UL_and_DL\", title=\"Total_UL_and_DL vs Social Media_UL_and_DL\")"
      ],
      "metadata": {
        "colab": {
          "base_uri": "https://localhost:8080/",
          "height": 468
        },
        "id": "BfjL1ug4fntM",
        "outputId": "3be844e2-b73c-40e5-daed-eaf2d07d1f38"
      },
      "id": "BfjL1ug4fntM",
      "execution_count": 96,
      "outputs": [
        {
          "output_type": "display_data",
          "data": {
            "text/plain": [
              "<Figure size 864x504 with 1 Axes>"
            ],
            "image/png": "[encoded data removed]"
          },
          "metadata": {
            "needs_background": "light"
          }
        }
      ]
    },
    {
      "cell_type": "code",
      "source": [
        "plot_scatter(user_agg.head(100), x_col=\"Gaming_UL_and_DL\", y_col=\"Total_UL_and_DL\", title=\"Total_UL_and_DL vs Social Media_UL_and_DL\")"
      ],
      "metadata": {
        "colab": {
          "base_uri": "https://localhost:8080/",
          "height": 468
        },
        "id": "xOsSucMYfnxu",
        "outputId": "ab19058f-5808-4869-9ae3-26fc05c5b42b"
      },
      "id": "xOsSucMYfnxu",
      "execution_count": 97,
      "outputs": [
        {
          "output_type": "display_data",
          "data": {
            "text/plain": [
              "<Figure size 864x504 with 1 Axes>"
            ],
            "image/png": "[encoded data removed]"
          },
          "metadata": {
            "needs_background": "light"
          }
        }
      ]
    },
    {
      "cell_type": "code",
      "source": [
        "plot_scatter(user_agg.head(100), x_col=\"Other_UL_and_DL\", y_col=\"Total_UL_and_DL\", title=\"Total_UL_and_DL vs Social Media_UL_and_DL\")"
      ],
      "metadata": {
        "colab": {
          "base_uri": "https://localhost:8080/",
          "height": 468
        },
        "id": "874phPekfn4h",
        "outputId": "13a0f759-0e77-434b-eaf4-46f6bac85e14"
      },
      "id": "874phPekfn4h",
      "execution_count": 98,
      "outputs": [
        {
          "output_type": "display_data",
          "data": {
            "text/plain": [
              "<Figure size 864x504 with 1 Axes>"
            ],
            "image/png": "[encoded data removed]"
          },
          "metadata": {
            "needs_background": "light"
          }
        }
      ]
    }
  ],
  "metadata": {
    "kernelspec": {
      "display_name": "Python 3 (ipykernel)",
      "language": "python",
      "name": "python3"
    },
    "language_info": {
      "codemirror_mode": {
        "name": "ipython",
        "version": 3
      },
      "file_extension": ".py",
      "mimetype": "text/x-python",
      "name": "python",
      "nbconvert_exporter": "python",
      "pygments_lexer": "ipython3",
      "version": "3.10.2"
    },
    "colab": {
      "name": "clean_excel_file.ipynb",
      "provenance": [],
      "collapsed_sections": [
        "df1ba8e6",
        "c1ff4cb4",
        "14409747"
      ]
    }
  },
  "nbformat": 4,
  "nbformat_minor": 5
}