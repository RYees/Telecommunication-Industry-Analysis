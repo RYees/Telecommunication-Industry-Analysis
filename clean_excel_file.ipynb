{
  "cells": [
    {
      "cell_type": "code",
      "execution_count": null,
      "id": "8703434a",
      "metadata": {
        "id": "8703434a"
      },
      "outputs": [],
      "source": [
        "import pandas as pd\n",
        "import numpy as np\n",
        "from scipy.stats import skew\n",
        "import matplotlib.pyplot as plt\n",
        "import matplotlib.pylab as plt\n",
        "import seaborn as sns\n",
        "from sklearn.preprocessing import StandardScaler\n",
        "from sklearn.preprocessing import Normalizer\n",
        "import sys\n",
        "sys.path.insert(0, '/content/drive/MyDrive/Telecommunication-Industry-Analysis')\n"
      ]
    },
    {
      "cell_type": "code",
      "source": [
        "import clean_dataframe as cleanData"
      ],
      "metadata": {
        "id": "1Se-XTAvHj41"
      },
      "id": "1Se-XTAvHj41",
      "execution_count": null,
      "outputs": []
    },
    {
      "cell_type": "code",
      "execution_count": null,
      "id": "b8e0a05c",
      "metadata": {
        "id": "b8e0a05c",
        "colab": {
          "base_uri": "https://localhost:8080/"
        },
        "outputId": "b940bae7-17f6-465f-8e38-80a510cbfdb0"
      },
      "outputs": [
        {
          "output_type": "stream",
          "name": "stdout",
          "text": [
            "Mounted at /content/drive\n"
          ]
        }
      ],
      "source": [
        "from google.colab import drive\n",
        "drive.mount('/content/drive')"
      ]
    },
    {
      "cell_type": "code",
      "execution_count": null,
      "id": "28cbf20c",
      "metadata": {
        "id": "28cbf20c"
      },
      "outputs": [],
      "source": [
        "all_data = pd.read_excel(\"/content/drive/MyDrive/Telecommunication-Industry-Analysis/teleco_excel_file.xlsx\")\n",
        "\n",
        "# all_data.head()\n",
        "# pd.set_option('display.max_columns', 50)"
      ]
    },
    {
      "cell_type": "code",
      "execution_count": null,
      "id": "9ec5d61e",
      "metadata": {
        "id": "9ec5d61e"
      },
      "outputs": [],
      "source": [
        "# all_data.columns.tolist()"
      ]
    },
    {
      "cell_type": "code",
      "execution_count": null,
      "id": "009389c8",
      "metadata": {
        "id": "009389c8"
      },
      "outputs": [],
      "source": [
        "print(f\" There are {all_data.shape[0]} rows and {all_data.shape[1]} columns\")"
      ]
    },
    {
      "cell_type": "markdown",
      "id": "c9a02b6b",
      "metadata": {
        "id": "c9a02b6b"
      },
      "source": [
        "##### Dealing with missing values"
      ]
    },
    {
      "cell_type": "code",
      "execution_count": null,
      "id": "996183e2",
      "metadata": {
        "id": "996183e2",
        "colab": {
          "base_uri": "https://localhost:8080/"
        },
        "outputId": "8943da7c-6f71-436d-990b-c53030e25d18"
      },
      "outputs": [
        {
          "output_type": "stream",
          "name": "stdout",
          "text": [
            "The telco dataset contains 12.5 % missing values.\n"
          ]
        }
      ],
      "source": [
        "# how many missing values exist or better still what is the % of missing values in the dataset?\n",
        "def percent_missing(df):\n",
        "\n",
        "    # Calculate total number of cells in dataframe\n",
        "    totalCells = np.product(df.shape)\n",
        "\n",
        "    # Count number of missing values per column\n",
        "    missingCount = df.isnull().sum()\n",
        "\n",
        "    # Calculate total number of missing values\n",
        "    totalMissing = missingCount.sum()\n",
        "\n",
        "    # Calculate percentage of missing values\n",
        "    print(\"The telco dataset contains\", round(((totalMissing/totalCells) * 100), 2), \"%\", \"missing values.\")\n",
        "\n",
        "percent_missing(all_data)"
      ]
    },
    {
      "cell_type": "code",
      "source": [
        "all_data.isna().sum()"
      ],
      "metadata": {
        "id": "eZh7B-jewRqE"
      },
      "id": "eZh7B-jewRqE",
      "execution_count": null,
      "outputs": []
    },
    {
      "cell_type": "markdown",
      "id": "4b0c2fe8",
      "metadata": {
        "id": "4b0c2fe8"
      },
      "source": [
        "#### showing the missing columns"
      ]
    },
    {
      "cell_type": "code",
      "execution_count": null,
      "id": "3619462d",
      "metadata": {
        "id": "3619462d"
      },
      "outputs": [],
      "source": [
        "# Now which column(s) has missing values\n",
        "# all_data.isna().sum()"
      ]
    },
    {
      "cell_type": "code",
      "execution_count": null,
      "id": "644b8a82",
      "metadata": {
        "id": "644b8a82"
      },
      "outputs": [],
      "source": [
        "fd = pd.DataFrame(all_data)\n"
      ]
    },
    {
      "cell_type": "code",
      "source": [
        "# cleanData(fd)"
      ],
      "metadata": {
        "id": "99U_b5ksIQ-c"
      },
      "id": "99U_b5ksIQ-c",
      "execution_count": null,
      "outputs": []
    },
    {
      "cell_type": "code",
      "execution_count": null,
      "id": "d42f8ce7",
      "metadata": {
        "id": "d42f8ce7"
      },
      "outputs": [],
      "source": [
        "df = fd.drop(['IMSI', 'IMEI','TCP DL Retrans. Vol (Bytes)', 'TCP UL Retrans. Vol (Bytes)', 'HTTP DL (Bytes)', 'HTTP UL (Bytes)','Nb of sec with 125000B < Vol DL', 'Nb of sec with 1250B < Vol UL < 6250B', 'Nb of sec with 31250B < Vol DL < 125000B', 'Nb of sec with 37500B < Vol UL', 'Nb of sec with 6250B < Vol DL < 31250B', 'Nb of sec with 6250B < Vol UL < 37500B'], axis=1)"
      ]
    },
    {
      "cell_type": "code",
      "execution_count": null,
      "id": "1794a54d",
      "metadata": {
        "id": "1794a54d"
      },
      "outputs": [],
      "source": [
        "df.iloc[:5 , 0:10]"
      ]
    },
    {
      "cell_type": "code",
      "source": [
        "df[\"Bearer Id\"] = df[\"Bearer Id\"].fillna(df[\"Bearer Id\"].mode()[0])\n",
        "df[\"Start\"] = df[\"Start\"].fillna(method='ffill')\n",
        "df[\"Start ms\"] = df[\"Start ms\"].fillna(method='ffill')\n",
        "df[\"End\"] = df[\"End\"].fillna(method='ffill')\n",
        "df[\"End ms\"] = df[\"End ms\"].fillna(method='ffill')\n",
        "df[\"Dur. (ms)\"] = df[\"Dur. (ms)\"].fillna(method='ffill')\n",
        "df[\"Total UL (Bytes)\"] = df[\"Total UL (Bytes)\"].fillna(df[\"Total UL (Bytes)\"].mode()[0])\n",
        "df[\"Total DL (Bytes)\"] = df[\"Total UL (Bytes)\"].fillna(df[\"Total DL (Bytes)\"].mode()[0])\n",
        "df[\"Nb of sec with Vol DL < 6250B\"] = df[\"Nb of sec with Vol DL < 6250B\"].fillna(df[\"Nb of sec with Vol DL < 6250B\"].mode()[0]) \n",
        "df[\"Nb of sec with Vol UL < 1250B\"] = df[\"Nb of sec with Vol UL < 1250B\"].fillna(df[\"Nb of sec with Vol UL < 1250B\"].mode()[0])\n",
        "df[\"MSISDN/Number\"] = df[\"MSISDN/Number\"].fillna(df[\"MSISDN/Number\"].mode()[0])\n",
        "df[\"Avg RTT DL (ms)\"] = df[\"Avg RTT DL (ms)\"].fillna(df[\"Avg RTT DL (ms)\"].mode()[0])\n",
        "df[\"Avg RTT UL (ms)\"] = df[\"Avg RTT UL (ms)\"].fillna(df[\"Avg RTT UL (ms)\"].mode()[0])\n",
        "df[\"Avg Bearer TP DL (kbps)\"] = df[\"Avg Bearer TP DL (kbps)\"].fillna(df[\"Avg Bearer TP DL (kbps)\"].mode()[0])\n",
        "df[\"Avg Bearer TP UL (kbps)\"] = df[\"Avg Bearer TP UL (kbps)\"].fillna(df[\"Avg Bearer TP UL (kbps)\"].mode()[0])\n",
        "df[\"Activity Duration DL (ms)\"] = df[\"Activity Duration DL (ms)\"].fillna(df[\"Activity Duration DL (ms)\"].mode()[0])\n",
        "df[\"Activity Duration UL (ms)\"] = df[\"Activity Duration UL (ms)\"].fillna(df[\"Activity Duration UL (ms)\"].mode()[0])\n",
        "df[\"Dur. (ms).1\"] = df[\"Dur. (ms).1\"].fillna(df[\"Dur. (ms).1\"].mode()[0])\n",
        "df[\"Handset Manufacturer\"] = df[\"Handset Manufacturer\"].fillna(value='undefined')\n",
        "df[\"Handset Type\"] = df[\"Handset Type\"].fillna(value='undefined')\n",
        "df[\"Last Location Name\"] = df[\"Last Location Name\"].fillna(value='undefined')\n",
        "df = df.fillna(value=0)"
      ],
      "metadata": {
        "id": "udgRLKFh7IR4"
      },
      "id": "udgRLKFh7IR4",
      "execution_count": 50,
      "outputs": []
    },
    {
      "cell_type": "code",
      "source": [
        "# df.isna().sum()"
      ],
      "metadata": {
        "id": "OUevSBZT7IXW"
      },
      "id": "OUevSBZT7IXW",
      "execution_count": null,
      "outputs": []
    },
    {
      "cell_type": "code",
      "source": [
        "# df[\"Nb of sec with Vol DL < 6250B\"].isna().sum()"
      ],
      "metadata": {
        "id": "TX9UnA4s5XqY"
      },
      "id": "TX9UnA4s5XqY",
      "execution_count": null,
      "outputs": []
    },
    {
      "cell_type": "code",
      "source": [
        "df['Bearer Id'].describe()"
      ],
      "metadata": {
        "colab": {
          "base_uri": "https://localhost:8080/"
        },
        "id": "LiKakL5CDGAO",
        "outputId": "1c26d0b5-7fb6-4c8d-bcb1-77539b670005"
      },
      "id": "LiKakL5CDGAO",
      "execution_count": null,
      "outputs": [
        {
          "output_type": "execute_result",
          "data": {
            "text/plain": [
              "count    1.500010e+05\n",
              "mean     1.015806e+19\n",
              "std      2.893178e+18\n",
              "min      6.917538e+18\n",
              "25%      7.349883e+18\n",
              "50%      7.349883e+18\n",
              "75%      1.304243e+19\n",
              "max      1.318654e+19\n",
              "Name: Bearer Id, dtype: float64"
            ]
          },
          "metadata": {},
          "execution_count": 9
        }
      ]
    },
    {
      "cell_type": "markdown",
      "source": [
        "## Data Scaling "
      ],
      "metadata": {
        "id": "QRRlpeQb_eVx"
      },
      "id": "QRRlpeQb_eVx"
    },
    {
      "cell_type": "markdown",
      "source": [
        "### Standardization"
      ],
      "metadata": {
        "id": "lYrQnA5Xd1Zw"
      },
      "id": "lYrQnA5Xd1Zw"
    },
    {
      "cell_type": "code",
      "source": [
        "#define the columns \n",
        " \n",
        "cols = ['Bearer Id', 'Dur. (ms)', 'MSISDN/Number','Social Media DL (Bytes)','Social Media UL (Bytes)',\n",
        "        'Google DL (Bytes)','Google UL (Bytes)' , 'Email DL (Bytes)', 'Email UL (Bytes)', 'Youtube DL (Bytes)', 'Youtube UL (Bytes)', \n",
        "        'Netflix DL (Bytes)', 'Netflix UL (Bytes)', 'Gaming DL (Bytes)', 'Gaming UL (Bytes)', 'Total UL (Bytes)' , 'Total DL (Bytes)']\n",
        " \n",
        "#call the standard scaler \n",
        "std_scaler = StandardScaler()\n",
        " \n",
        "#fit the values to the function \n",
        "Stand_Sc = std_scaler.fit_transform(df[cols].iloc[:,range(0,7)].values)\n",
        " \n",
        "#use seaborn for KDE plot\n",
        "sns.kdeplot(Stand_Sc[:,5],fill=True, color = 'Green')\n",
        " \n",
        "#Label the plot \n",
        "plt.xlabel('standardized values')\n",
        " \n",
        "#Print the plot \n",
        "plt.show()"
      ],
      "metadata": {
        "colab": {
          "base_uri": "https://localhost:8080/",
          "height": 279
        },
        "id": "ttzuxtv9BgP6",
        "outputId": "a58166eb-8bae-40d8-b4fb-3abd6ea818ca"
      },
      "id": "ttzuxtv9BgP6",
      "execution_count": null,
      "outputs": [
        {
          "output_type": "display_data",
          "data": {
            "text/plain": [
              "<Figure size 432x288 with 1 Axes>"
            ],
            "image/png": "[encoded data removed]"
          },
          "metadata": {
            "needs_background": "light"
          }
        }
      ]
    },
    {
      "cell_type": "markdown",
      "source": [
        "### Normalization"
      ],
      "metadata": {
        "id": "5OKfge8VEhkW"
      },
      "id": "5OKfge8VEhkW"
    },
    {
      "cell_type": "code",
      "source": [
        "#initialize normalizer\n",
        "data_norm = Normalizer()\n",
        " \n",
        "#Fit the data\n",
        "Normalize = data_norm.fit_transform(df[cols].iloc[:,range(0,7)].values)\n",
        " \n",
        "#Distribution plot \n",
        "sns.displot(Normalize[:,5],fill=True, color = 'orange')\n",
        " \n",
        "#Add the axis labels \n",
        "plt.xlabel('normalized values')\n",
        " \n",
        "#Display the plot \n",
        "plt.show()"
      ],
      "metadata": {
        "colab": {
          "base_uri": "https://localhost:8080/",
          "height": 370
        },
        "id": "dpuCh7g7ElCc",
        "outputId": "aa314feb-9610-4785-bbc1-2aedb83b54a6"
      },
      "id": "dpuCh7g7ElCc",
      "execution_count": null,
      "outputs": [
        {
          "output_type": "display_data",
          "data": {
            "text/plain": [
              "<Figure size 360x360 with 1 Axes>"
            ],
            "image/png": "[encoded data removed]"
          },
          "metadata": {
            "needs_background": "light"
          }
        }
      ]
    },
    {
      "cell_type": "code",
      "source": [
        "# df[cols][\"Bearer Id\"]"
      ],
      "metadata": {
        "id": "LLQnniyRMgdQ"
      },
      "id": "LLQnniyRMgdQ",
      "execution_count": null,
      "outputs": []
    },
    {
      "cell_type": "markdown",
      "metadata": {
        "id": "0646f25b"
      },
      "source": [
        "## Extracting Data"
      ],
      "id": "0646f25b"
    },
    {
      "cell_type": "markdown",
      "id": "df1ba8e6",
      "metadata": {
        "id": "df1ba8e6"
      },
      "source": [
        "### Handset type and manufacures"
      ]
    },
    {
      "cell_type": "code",
      "execution_count": null,
      "id": "1ec3a7a0",
      "metadata": {
        "id": "1ec3a7a0"
      },
      "outputs": [],
      "source": [
        "ht = df[\"Handset Type\"].value_counts()\n",
        "ht.head(10)"
      ]
    },
    {
      "cell_type": "code",
      "execution_count": null,
      "id": "81605a56",
      "metadata": {
        "id": "81605a56"
      },
      "outputs": [],
      "source": [
        "hm = df[\"Handset Manufacturer\"].value_counts()\n",
        "hm.head(3)"
      ]
    },
    {
      "cell_type": "code",
      "execution_count": null,
      "id": "92763d32",
      "metadata": {
        "id": "92763d32"
      },
      "outputs": [],
      "source": [
        "Manu_grp = df.groupby([\"Handset Manufacturer\"])\n",
        "Manu_grp.get_group('Apple').iloc[:1 , 20:40]"
      ]
    },
    {
      "cell_type": "code",
      "execution_count": null,
      "id": "75d46815",
      "metadata": {
        "id": "75d46815"
      },
      "outputs": [],
      "source": [
        "Manu_grp['Handset Type'].value_counts().loc['Apple'].head(5)"
      ]
    },
    {
      "cell_type": "code",
      "execution_count": null,
      "id": "85d875d7",
      "metadata": {
        "id": "85d875d7"
      },
      "outputs": [],
      "source": [
        "Manu_grp['Handset Type'].value_counts().loc['Samsung'].head(5)"
      ]
    },
    {
      "cell_type": "code",
      "execution_count": null,
      "id": "f2ccdd2b",
      "metadata": {
        "id": "f2ccdd2b"
      },
      "outputs": [],
      "source": [
        "Manu_grp['Handset Type'].value_counts().loc['Huawei'].head(5)"
      ]
    },
    {
      "cell_type": "markdown",
      "id": "c1ff4cb4",
      "metadata": {
        "id": "c1ff4cb4"
      },
      "source": [
        "### interpretation and recommendation to marketing teams\n",
        "The data between Handset Manufacturer and Handset Type shows that most of the users from the sample data use the manufacturer Apple product\n"
      ]
    },
    {
      "cell_type": "code",
      "execution_count": null,
      "id": "bcbd5812",
      "metadata": {
        "id": "bcbd5812"
      },
      "outputs": [],
      "source": [
        "df[\"MSISDN/Number\"].value_counts()"
      ]
    },
    {
      "cell_type": "code",
      "execution_count": null,
      "id": "02769d4d",
      "metadata": {
        "id": "02769d4d"
      },
      "outputs": [],
      "source": [
        "User_grp = df.groupby([\"MSISDN/Number\"])\n",
        "# User_grp.get_group('3.362632e+10')"
      ]
    },
    {
      "cell_type": "code",
      "execution_count": null,
      "id": "82269a31",
      "metadata": {
        "id": "82269a31"
      },
      "outputs": [],
      "source": [
        "User_grp['Bearer Id'].value_counts()"
      ]
    },
    {
      "cell_type": "code",
      "execution_count": null,
      "id": "e837f579",
      "metadata": {
        "id": "e837f579"
      },
      "outputs": [],
      "source": [
        "User_grp['Bearer Id'].median()"
      ]
    },
    {
      "cell_type": "code",
      "execution_count": null,
      "id": "01458fb0",
      "metadata": {
        "id": "01458fb0"
      },
      "outputs": [],
      "source": [
        "User_grp['Bearer Id'].mean()"
      ]
    },
    {
      "cell_type": "code",
      "execution_count": null,
      "id": "fae27c96",
      "metadata": {
        "id": "fae27c96"
      },
      "outputs": [],
      "source": [
        "User_grp[\"MSISDN/Number\"].agg(['median', 'mean'])"
      ]
    },
    {
      "cell_type": "code",
      "execution_count": null,
      "id": "f8f2cc2b",
      "metadata": {
        "id": "f8f2cc2b"
      },
      "outputs": [],
      "source": [
        "User_grp['Dur. (ms)'].value_counts()"
      ]
    },
    {
      "cell_type": "markdown",
      "id": "14409747",
      "metadata": {
        "id": "14409747"
      },
      "source": [
        "### number of xDR sessions and Session duration per user\n",
        "\n"
      ]
    },
    {
      "cell_type": "code",
      "source": [
        "Userstot_grp = df.groupby([\"MSISDN/Number\"])"
      ],
      "metadata": {
        "id": "SsczLZwTHYac"
      },
      "id": "SsczLZwTHYac",
      "execution_count": null,
      "outputs": []
    },
    {
      "cell_type": "code",
      "source": [
        "Userstot_grp[\"Bearer Id\"].value_counts().head()"
      ],
      "metadata": {
        "id": "cb-b0Ew7IsPp",
        "colab": {
          "base_uri": "https://localhost:8080/"
        },
        "outputId": "232f026c-dfc0-4066-e1fd-c7234f68d168"
      },
      "id": "cb-b0Ew7IsPp",
      "execution_count": null,
      "outputs": [
        {
          "output_type": "execute_result",
          "data": {
            "text/plain": [
              "MSISDN/Number  Bearer Id   \n",
              "3.360100e+10   1.311448e+19    1\n",
              "               7.349883e+18    1\n",
              "               7.349883e+18    1\n",
              "3.360101e+10   1.304243e+19    1\n",
              "               7.277826e+18    1\n",
              "Name: Bearer Id, dtype: int64"
            ]
          },
          "metadata": {},
          "execution_count": 43
        }
      ]
    },
    {
      "cell_type": "code",
      "source": [
        "Userstot_grp[\"Dur. (ms)\"].value_counts().head()"
      ],
      "metadata": {
        "id": "b__-HbK_JALt",
        "colab": {
          "base_uri": "https://localhost:8080/"
        },
        "outputId": "9906c967-3c1a-4734-a51e-d6df503dd653"
      },
      "id": "b__-HbK_JALt",
      "execution_count": null,
      "outputs": [
        {
          "output_type": "execute_result",
          "data": {
            "text/plain": [
              "MSISDN/Number  Dur. (ms)\n",
              "3.360100e+10   116720.0     1\n",
              "               181230.0     1\n",
              "               134969.0     1\n",
              "3.360101e+10   49878.0      1\n",
              "               18549.0      1\n",
              "Name: Dur. (ms), dtype: int64"
            ]
          },
          "metadata": {},
          "execution_count": 44
        }
      ]
    },
    {
      "cell_type": "markdown",
      "source": [
        "The total data volume (in Bytes) during this session for each application"
      ],
      "metadata": {
        "id": "Nj0qUosbHV4q"
      },
      "id": "Nj0qUosbHV4q"
    },
    {
      "cell_type": "code",
      "execution_count": null,
      "id": "6a49083c",
      "metadata": {
        "id": "6a49083c"
      },
      "outputs": [],
      "source": [
        "Users_grp = df.groupby([\"MSISDN/Number\", \"Social Media DL (Bytes)\" , 'Google DL (Bytes)', 'Email DL (Bytes)' ,'Youtube DL (Bytes)', 'Netflix DL (Bytes)', 'Gaming DL (Bytes)', 'Other DL (Bytes)'])"
      ]
    },
    {
      "cell_type": "code",
      "execution_count": null,
      "id": "76dd635c",
      "metadata": {
        "id": "76dd635c",
        "colab": {
          "base_uri": "https://localhost:8080/"
        },
        "outputId": "b19f4c9c-fc61-4e3d-b373-36a614582ae6"
      },
      "outputs": [
        {
          "output_type": "execute_result",
          "data": {
            "text/plain": [
              "MSISDN/Number  Social Media DL (Bytes)  Google DL (Bytes)  Email DL (Bytes)  Youtube DL (Bytes)  Netflix DL (Bytes)  Gaming DL (Bytes)  Other DL (Bytes)  Total UL (Bytes)\n",
              "3.360100e+10   2206504.0                3337123.0          837400.0          14900201.0          10265105.0          811091133.0        377096990.0       36053108.0          1\n",
              "               2598548.0                4197697.0          2828821.0         5324251.0           770569.0            105035298.0        279557701.0       36104459.0          1\n",
              "               3148004.0                3343483.0          2436500.0         2137272.0           16525919.0          529068485.0        495086501.0       39306820.0          1\n",
              "3.360101e+10   251469.0                 5937765.0          2178618.0         4393123.0           1157362.0           388074835.0        25248001.0        20327526.0          1\n",
              "               1359904.0                6309062.0          979859.0          8027633.0           21177155.0          509243324.0        705348475.0       38481427.0          1\n",
              "Name: Total UL (Bytes), dtype: int64"
            ]
          },
          "metadata": {},
          "execution_count": 46
        }
      ],
      "source": [
        "Users_grp['Total UL (Bytes)'].value_counts().head()"
      ]
    },
    {
      "cell_type": "code",
      "execution_count": null,
      "id": "4711dc3e",
      "metadata": {
        "id": "4711dc3e",
        "colab": {
          "base_uri": "https://localhost:8080/"
        },
        "outputId": "4bf8f09e-d279-449e-80bd-7fa2de912536"
      },
      "outputs": [
        {
          "output_type": "execute_result",
          "data": {
            "text/plain": [
              "MSISDN/Number  Social Media DL (Bytes)  Google DL (Bytes)  Email DL (Bytes)  Youtube DL (Bytes)  Netflix DL (Bytes)  Gaming DL (Bytes)  Other DL (Bytes)  Total DL (Bytes)\n",
              "3.360100e+10   2206504.0                3337123.0          837400.0          14900201.0          10265105.0          811091133.0        377096990.0       36053108.0          1\n",
              "               2598548.0                4197697.0          2828821.0         5324251.0           770569.0            105035298.0        279557701.0       36104459.0          1\n",
              "               3148004.0                3343483.0          2436500.0         2137272.0           16525919.0          529068485.0        495086501.0       39306820.0          1\n",
              "3.360101e+10   251469.0                 5937765.0          2178618.0         4393123.0           1157362.0           388074835.0        25248001.0        20327526.0          1\n",
              "               1359904.0                6309062.0          979859.0          8027633.0           21177155.0          509243324.0        705348475.0       38481427.0          1\n",
              "Name: Total DL (Bytes), dtype: int64"
            ]
          },
          "metadata": {},
          "execution_count": 47
        }
      ],
      "source": [
        "Users_grp['Total DL (Bytes)'].value_counts().head(5)"
      ]
    },
    {
      "cell_type": "code",
      "execution_count": null,
      "id": "42dca067",
      "metadata": {
        "id": "42dca067",
        "colab": {
          "base_uri": "https://localhost:8080/"
        },
        "outputId": "705f9be7-dd1a-4502-f33b-3a26939cb0c4"
      },
      "outputs": [
        {
          "output_type": "execute_result",
          "data": {
            "text/plain": [
              "          Bearer Id       Start ms         End ms     Dur. (ms)  \\\n",
              "count  1.500010e+05  150001.000000  150001.000000  1.500010e+05   \n",
              "mean   1.015806e+19     499.189512     498.799735  1.046085e+05   \n",
              "std    2.893178e+18     288.611320     288.097034  8.103735e+04   \n",
              "min    6.917538e+18       0.000000       0.000000  7.142000e+03   \n",
              "25%    7.349883e+18     250.000000     251.000000  5.744200e+04   \n",
              "50%    7.349883e+18     499.000000     500.000000  8.639900e+04   \n",
              "75%    1.304243e+19     749.000000     750.000000  1.324300e+05   \n",
              "max    1.318654e+19     999.000000     999.000000  1.859336e+06   \n",
              "\n",
              "       MSISDN/Number  Avg RTT DL (ms)  Avg RTT UL (ms)  \\\n",
              "count   1.500010e+05    150001.000000    150001.000000   \n",
              "mean    4.182414e+10        94.620523        15.315031   \n",
              "std     2.438731e+12       560.245617        76.687998   \n",
              "min     3.360100e+10         0.000000         0.000000   \n",
              "25%     3.365094e+10        28.000000         3.000000   \n",
              "50%     3.366361e+10        38.000000         5.000000   \n",
              "75%     3.368307e+10        62.000000        11.000000   \n",
              "max     8.823971e+14     96923.000000      7120.000000   \n",
              "\n",
              "       Avg Bearer TP DL (kbps)  Avg Bearer TP UL (kbps)  DL TP < 50 Kbps (%)  \\\n",
              "count            150001.000000            150001.000000        150001.000000   \n",
              "mean              13299.957414              1770.417111            92.378057   \n",
              "std               23971.823147              4625.342240            14.568754   \n",
              "min                   0.000000                 0.000000             0.000000   \n",
              "25%                  43.000000                47.000000            90.000000   \n",
              "50%                  63.000000                63.000000           100.000000   \n",
              "75%               19710.000000              1120.000000           100.000000   \n",
              "max              378160.000000             58613.000000           100.000000   \n",
              "\n",
              "       ...  Youtube DL (Bytes)  Youtube UL (Bytes)  Netflix DL (Bytes)  \\\n",
              "count  ...        1.500010e+05        1.500010e+05        1.500010e+05   \n",
              "mean   ...        1.163407e+07        1.100941e+07        1.162685e+07   \n",
              "std    ...        6.710569e+06        6.345423e+06        6.725218e+06   \n",
              "min    ...        5.300000e+01        1.050000e+02        4.200000e+01   \n",
              "25%    ...        5.833501e+06        5.517965e+06        5.777156e+06   \n",
              "50%    ...        1.161602e+07        1.101345e+07        1.164222e+07   \n",
              "75%    ...        1.744852e+07        1.651556e+07        1.747048e+07   \n",
              "max    ...        2.325910e+07        2.201196e+07        2.325919e+07   \n",
              "\n",
              "       Netflix UL (Bytes)  Gaming DL (Bytes)  Gaming UL (Bytes)  \\\n",
              "count        1.500010e+05       1.500010e+05       1.500010e+05   \n",
              "mean         1.100175e+07       4.220447e+08       8.288398e+06   \n",
              "std          6.359490e+06       2.439675e+08       4.782700e+06   \n",
              "min          3.500000e+01       2.516000e+03       5.900000e+01   \n",
              "25%          5.475981e+06       2.104733e+08       4.128476e+06   \n",
              "50%          1.099638e+07       4.234081e+08       8.291208e+06   \n",
              "75%          1.650727e+07       6.331742e+08       1.243162e+07   \n",
              "max          2.201196e+07       8.434419e+08       1.655879e+07   \n",
              "\n",
              "       Other DL (Bytes)  Other UL (Bytes)  Total UL (Bytes)  Total DL (Bytes)  \n",
              "count      1.500010e+05      1.500010e+05      1.500010e+05      1.500010e+05  \n",
              "mean       4.211005e+08      8.264799e+06      4.112106e+07      4.112106e+07  \n",
              "std        2.432050e+08      4.769004e+06      1.127649e+07      1.127649e+07  \n",
              "min        3.290000e+03      1.480000e+02      2.866892e+06      2.866892e+06  \n",
              "25%        2.101869e+08      4.145943e+06      3.322196e+07      3.322196e+07  \n",
              "50%        4.218030e+08      8.267071e+06      4.114324e+07      4.114324e+07  \n",
              "75%        6.316918e+08      1.238415e+07      4.903424e+07      4.903424e+07  \n",
              "max        8.434425e+08      1.655882e+07      7.833131e+07      7.833131e+07  \n",
              "\n",
              "[8 rows x 38 columns]"
            ],
            "text/html": [
              "\n",
              "  <div id=\"df-0e4539cf-13b3-4c49-9823-64fa9248e629\">\n",
              "    <div class=\"colab-df-container\">\n",
              "      <div>\n",
              "<style scoped>\n",
              "    .dataframe tbody tr th:only-of-type {\n",
              "        vertical-align: middle;\n",
              "    }\n",
              "\n",
              "    .dataframe tbody tr th {\n",
              "        vertical-align: top;\n",
              "    }\n",
              "\n",
              "    .dataframe thead th {\n",
              "        text-align: right;\n",
              "    }\n",
              "</style>\n",
              "<table border=\"1\" class=\"dataframe\">\n",
              "  <thead>\n",
              "    <tr style=\"text-align: right;\">\n",
              "      <th></th>\n",
              "      <th>Bearer Id</th>\n",
              "      <th>Start ms</th>\n",
              "      <th>End ms</th>\n",
              "      <th>Dur. (ms)</th>\n",
              "      <th>MSISDN/Number</th>\n",
              "      <th>Avg RTT DL (ms)</th>\n",
              "      <th>Avg RTT UL (ms)</th>\n",
              "      <th>Avg Bearer TP DL (kbps)</th>\n",
              "      <th>Avg Bearer TP UL (kbps)</th>\n",
              "      <th>DL TP &lt; 50 Kbps (%)</th>\n",
              "      <th>...</th>\n",
              "      <th>Youtube DL (Bytes)</th>\n",
              "      <th>Youtube UL (Bytes)</th>\n",
              "      <th>Netflix DL (Bytes)</th>\n",
              "      <th>Netflix UL (Bytes)</th>\n",
              "      <th>Gaming DL (Bytes)</th>\n",
              "      <th>Gaming UL (Bytes)</th>\n",
              "      <th>Other DL (Bytes)</th>\n",
              "      <th>Other UL (Bytes)</th>\n",
              "      <th>Total UL (Bytes)</th>\n",
              "      <th>Total DL (Bytes)</th>\n",
              "    </tr>\n",
              "  </thead>\n",
              "  <tbody>\n",
              "    <tr>\n",
              "      <th>count</th>\n",
              "      <td>1.500010e+05</td>\n",
              "      <td>150001.000000</td>\n",
              "      <td>150001.000000</td>\n",
              "      <td>1.500010e+05</td>\n",
              "      <td>1.500010e+05</td>\n",
              "      <td>150001.000000</td>\n",
              "      <td>150001.000000</td>\n",
              "      <td>150001.000000</td>\n",
              "      <td>150001.000000</td>\n",
              "      <td>150001.000000</td>\n",
              "      <td>...</td>\n",
              "      <td>1.500010e+05</td>\n",
              "      <td>1.500010e+05</td>\n",
              "      <td>1.500010e+05</td>\n",
              "      <td>1.500010e+05</td>\n",
              "      <td>1.500010e+05</td>\n",
              "      <td>1.500010e+05</td>\n",
              "      <td>1.500010e+05</td>\n",
              "      <td>1.500010e+05</td>\n",
              "      <td>1.500010e+05</td>\n",
              "      <td>1.500010e+05</td>\n",
              "    </tr>\n",
              "    <tr>\n",
              "      <th>mean</th>\n",
              "      <td>1.015806e+19</td>\n",
              "      <td>499.189512</td>\n",
              "      <td>498.799735</td>\n",
              "      <td>1.046085e+05</td>\n",
              "      <td>4.182414e+10</td>\n",
              "      <td>94.620523</td>\n",
              "      <td>15.315031</td>\n",
              "      <td>13299.957414</td>\n",
              "      <td>1770.417111</td>\n",
              "      <td>92.378057</td>\n",
              "      <td>...</td>\n",
              "      <td>1.163407e+07</td>\n",
              "      <td>1.100941e+07</td>\n",
              "      <td>1.162685e+07</td>\n",
              "      <td>1.100175e+07</td>\n",
              "      <td>4.220447e+08</td>\n",
              "      <td>8.288398e+06</td>\n",
              "      <td>4.211005e+08</td>\n",
              "      <td>8.264799e+06</td>\n",
              "      <td>4.112106e+07</td>\n",
              "      <td>4.112106e+07</td>\n",
              "    </tr>\n",
              "    <tr>\n",
              "      <th>std</th>\n",
              "      <td>2.893178e+18</td>\n",
              "      <td>288.611320</td>\n",
              "      <td>288.097034</td>\n",
              "      <td>8.103735e+04</td>\n",
              "      <td>2.438731e+12</td>\n",
              "      <td>560.245617</td>\n",
              "      <td>76.687998</td>\n",
              "      <td>23971.823147</td>\n",
              "      <td>4625.342240</td>\n",
              "      <td>14.568754</td>\n",
              "      <td>...</td>\n",
              "      <td>6.710569e+06</td>\n",
              "      <td>6.345423e+06</td>\n",
              "      <td>6.725218e+06</td>\n",
              "      <td>6.359490e+06</td>\n",
              "      <td>2.439675e+08</td>\n",
              "      <td>4.782700e+06</td>\n",
              "      <td>2.432050e+08</td>\n",
              "      <td>4.769004e+06</td>\n",
              "      <td>1.127649e+07</td>\n",
              "      <td>1.127649e+07</td>\n",
              "    </tr>\n",
              "    <tr>\n",
              "      <th>min</th>\n",
              "      <td>6.917538e+18</td>\n",
              "      <td>0.000000</td>\n",
              "      <td>0.000000</td>\n",
              "      <td>7.142000e+03</td>\n",
              "      <td>3.360100e+10</td>\n",
              "      <td>0.000000</td>\n",
              "      <td>0.000000</td>\n",
              "      <td>0.000000</td>\n",
              "      <td>0.000000</td>\n",
              "      <td>0.000000</td>\n",
              "      <td>...</td>\n",
              "      <td>5.300000e+01</td>\n",
              "      <td>1.050000e+02</td>\n",
              "      <td>4.200000e+01</td>\n",
              "      <td>3.500000e+01</td>\n",
              "      <td>2.516000e+03</td>\n",
              "      <td>5.900000e+01</td>\n",
              "      <td>3.290000e+03</td>\n",
              "      <td>1.480000e+02</td>\n",
              "      <td>2.866892e+06</td>\n",
              "      <td>2.866892e+06</td>\n",
              "    </tr>\n",
              "    <tr>\n",
              "      <th>25%</th>\n",
              "      <td>7.349883e+18</td>\n",
              "      <td>250.000000</td>\n",
              "      <td>251.000000</td>\n",
              "      <td>5.744200e+04</td>\n",
              "      <td>3.365094e+10</td>\n",
              "      <td>28.000000</td>\n",
              "      <td>3.000000</td>\n",
              "      <td>43.000000</td>\n",
              "      <td>47.000000</td>\n",
              "      <td>90.000000</td>\n",
              "      <td>...</td>\n",
              "      <td>5.833501e+06</td>\n",
              "      <td>5.517965e+06</td>\n",
              "      <td>5.777156e+06</td>\n",
              "      <td>5.475981e+06</td>\n",
              "      <td>2.104733e+08</td>\n",
              "      <td>4.128476e+06</td>\n",
              "      <td>2.101869e+08</td>\n",
              "      <td>4.145943e+06</td>\n",
              "      <td>3.322196e+07</td>\n",
              "      <td>3.322196e+07</td>\n",
              "    </tr>\n",
              "    <tr>\n",
              "      <th>50%</th>\n",
              "      <td>7.349883e+18</td>\n",
              "      <td>499.000000</td>\n",
              "      <td>500.000000</td>\n",
              "      <td>8.639900e+04</td>\n",
              "      <td>3.366361e+10</td>\n",
              "      <td>38.000000</td>\n",
              "      <td>5.000000</td>\n",
              "      <td>63.000000</td>\n",
              "      <td>63.000000</td>\n",
              "      <td>100.000000</td>\n",
              "      <td>...</td>\n",
              "      <td>1.161602e+07</td>\n",
              "      <td>1.101345e+07</td>\n",
              "      <td>1.164222e+07</td>\n",
              "      <td>1.099638e+07</td>\n",
              "      <td>4.234081e+08</td>\n",
              "      <td>8.291208e+06</td>\n",
              "      <td>4.218030e+08</td>\n",
              "      <td>8.267071e+06</td>\n",
              "      <td>4.114324e+07</td>\n",
              "      <td>4.114324e+07</td>\n",
              "    </tr>\n",
              "    <tr>\n",
              "      <th>75%</th>\n",
              "      <td>1.304243e+19</td>\n",
              "      <td>749.000000</td>\n",
              "      <td>750.000000</td>\n",
              "      <td>1.324300e+05</td>\n",
              "      <td>3.368307e+10</td>\n",
              "      <td>62.000000</td>\n",
              "      <td>11.000000</td>\n",
              "      <td>19710.000000</td>\n",
              "      <td>1120.000000</td>\n",
              "      <td>100.000000</td>\n",
              "      <td>...</td>\n",
              "      <td>1.744852e+07</td>\n",
              "      <td>1.651556e+07</td>\n",
              "      <td>1.747048e+07</td>\n",
              "      <td>1.650727e+07</td>\n",
              "      <td>6.331742e+08</td>\n",
              "      <td>1.243162e+07</td>\n",
              "      <td>6.316918e+08</td>\n",
              "      <td>1.238415e+07</td>\n",
              "      <td>4.903424e+07</td>\n",
              "      <td>4.903424e+07</td>\n",
              "    </tr>\n",
              "    <tr>\n",
              "      <th>max</th>\n",
              "      <td>1.318654e+19</td>\n",
              "      <td>999.000000</td>\n",
              "      <td>999.000000</td>\n",
              "      <td>1.859336e+06</td>\n",
              "      <td>8.823971e+14</td>\n",
              "      <td>96923.000000</td>\n",
              "      <td>7120.000000</td>\n",
              "      <td>378160.000000</td>\n",
              "      <td>58613.000000</td>\n",
              "      <td>100.000000</td>\n",
              "      <td>...</td>\n",
              "      <td>2.325910e+07</td>\n",
              "      <td>2.201196e+07</td>\n",
              "      <td>2.325919e+07</td>\n",
              "      <td>2.201196e+07</td>\n",
              "      <td>8.434419e+08</td>\n",
              "      <td>1.655879e+07</td>\n",
              "      <td>8.434425e+08</td>\n",
              "      <td>1.655882e+07</td>\n",
              "      <td>7.833131e+07</td>\n",
              "      <td>7.833131e+07</td>\n",
              "    </tr>\n",
              "  </tbody>\n",
              "</table>\n",
              "<p>8 rows × 38 columns</p>\n",
              "</div>\n",
              "      <button class=\"colab-df-convert\" onclick=\"convertToInteractive('df-0e4539cf-13b3-4c49-9823-64fa9248e629')\"\n",
              "              title=\"Convert this dataframe to an interactive table.\"\n",
              "              style=\"display:none;\">\n",
              "        \n",
              "  <svg xmlns=\"http://www.w3.org/2000/svg\" height=\"24px\"viewBox=\"0 0 24 24\"\n",
              "       width=\"24px\">\n",
              "    <path d=\"M0 0h24v24H0V0z\" fill=\"none\"/>\n",
              "    <path d=\"M18.56 5.44l.94 2.06.94-2.06 2.06-.94-2.06-.94-.94-2.06-.94 2.06-2.06.94zm-11 1L8.5 8.5l.94-2.06 2.06-.94-2.06-.94L8.5 2.5l-.94 2.06-2.06.94zm10 10l.94 2.06.94-2.06 2.06-.94-2.06-.94-.94-2.06-.94 2.06-2.06.94z\"/><path d=\"M17.41 7.96l-1.37-1.37c-.4-.4-.92-.59-1.43-.59-.52 0-1.04.2-1.43.59L10.3 9.45l-7.72 7.72c-.78.78-.78 2.05 0 2.83L4 21.41c.39.39.9.59 1.41.59.51 0 1.02-.2 1.41-.59l7.78-7.78 2.81-2.81c.8-.78.8-2.07 0-2.86zM5.41 20L4 18.59l7.72-7.72 1.47 1.35L5.41 20z\"/>\n",
              "  </svg>\n",
              "      </button>\n",
              "      \n",
              "  <style>\n",
              "    .colab-df-container {\n",
              "      display:flex;\n",
              "      flex-wrap:wrap;\n",
              "      gap: 12px;\n",
              "    }\n",
              "\n",
              "    .colab-df-convert {\n",
              "      background-color: #E8F0FE;\n",
              "      border: none;\n",
              "      border-radius: 50%;\n",
              "      cursor: pointer;\n",
              "      display: none;\n",
              "      fill: #1967D2;\n",
              "      height: 32px;\n",
              "      padding: 0 0 0 0;\n",
              "      width: 32px;\n",
              "    }\n",
              "\n",
              "    .colab-df-convert:hover {\n",
              "      background-color: #E2EBFA;\n",
              "      box-shadow: 0px 1px 2px rgba(60, 64, 67, 0.3), 0px 1px 3px 1px rgba(60, 64, 67, 0.15);\n",
              "      fill: #174EA6;\n",
              "    }\n",
              "\n",
              "    [theme=dark] .colab-df-convert {\n",
              "      background-color: #3B4455;\n",
              "      fill: #D2E3FC;\n",
              "    }\n",
              "\n",
              "    [theme=dark] .colab-df-convert:hover {\n",
              "      background-color: #434B5C;\n",
              "      box-shadow: 0px 1px 3px 1px rgba(0, 0, 0, 0.15);\n",
              "      filter: drop-shadow(0px 1px 2px rgba(0, 0, 0, 0.3));\n",
              "      fill: #FFFFFF;\n",
              "    }\n",
              "  </style>\n",
              "\n",
              "      <script>\n",
              "        const buttonEl =\n",
              "          document.querySelector('#df-0e4539cf-13b3-4c49-9823-64fa9248e629 button.colab-df-convert');\n",
              "        buttonEl.style.display =\n",
              "          google.colab.kernel.accessAllowed ? 'block' : 'none';\n",
              "\n",
              "        async function convertToInteractive(key) {\n",
              "          const element = document.querySelector('#df-0e4539cf-13b3-4c49-9823-64fa9248e629');\n",
              "          const dataTable =\n",
              "            await google.colab.kernel.invokeFunction('convertToInteractive',\n",
              "                                                     [key], {});\n",
              "          if (!dataTable) return;\n",
              "\n",
              "          const docLinkHtml = 'Like what you see? Visit the ' +\n",
              "            '<a target=\"_blank\" href=https://colab.research.google.com/notebooks/data_table.ipynb>data table notebook</a>'\n",
              "            + ' to learn more about interactive tables.';\n",
              "          element.innerHTML = '';\n",
              "          dataTable['output_type'] = 'display_data';\n",
              "          await google.colab.output.renderOutput(dataTable, element);\n",
              "          const docLink = document.createElement('div');\n",
              "          docLink.innerHTML = docLinkHtml;\n",
              "          element.appendChild(docLink);\n",
              "        }\n",
              "      </script>\n",
              "    </div>\n",
              "  </div>\n",
              "  "
            ]
          },
          "metadata": {},
          "execution_count": 48
        }
      ],
      "source": [
        "df.describe()"
      ]
    },
    {
      "cell_type": "markdown",
      "id": "891c1041",
      "metadata": {
        "id": "891c1041"
      },
      "source": [
        "## Data Exploration"
      ]
    },
    {
      "cell_type": "code",
      "execution_count": null,
      "id": "cf000bf0",
      "metadata": {
        "id": "cf000bf0"
      },
      "outputs": [],
      "source": [
        "def fix_outlier(df, column):\n",
        "    df[column] = np.where(df[column] > df[column].quantile(0.95), df[column].median(),df[column])    \n",
        "    return df[column]\n",
        "\n",
        "################ Plot Functions ########################\n",
        "def plot_hist(df:pd.DataFrame, column:str, color:str)->None:\n",
        "    # plt.figure(figsize=(15, 10))\n",
        "    # fig, ax = plt.subplots(1, figsize=(12, 7))\n",
        "    sns.displot(data=df, x=column, color=color, kde=True, height=7, aspect=2)\n",
        "    plt.title(f'Distribution of {column}', size=20, fontweight='bold')\n",
        "    plt.show()\n",
        "    \n",
        "\n",
        "def plot_count(df:pd.DataFrame, column:str) -> None:\n",
        "    plt.figure(figsize=(12, 7))\n",
        "    sns.countplot(data=df, x=column)\n",
        "    plt.title(f'Distribution of {column}', size=20, fontweight='bold')\n",
        "    plt.show()\n",
        "    \n",
        "\n",
        "def plot_bar(df:pd.DataFrame, x_col:str, y_col:str, title:str, xlabel:str, ylabel:str)->None:\n",
        "    plt.figure(figsize=(12, 7))\n",
        "    sns.barplot(data = df, x=x_col, y=y_col)\n",
        "    plt.title(title, size=20)\n",
        "    plt.xticks(rotation=75, fontsize=14)\n",
        "    plt.yticks( fontsize=14)\n",
        "    plt.xlabel(xlabel, fontsize=16)\n",
        "    plt.ylabel(ylabel, fontsize=16)\n",
        "    plt.show()\n",
        "\n",
        "\n",
        "def plot_heatmap(df:pd.DataFrame, title:str, cbar=False)->None:\n",
        "    plt.figure(figsize=(12, 7))\n",
        "    sns.heatmap(df, annot=True, cmap='viridis', vmin=0, vmax=1, fmt='.2f', linewidths=.7, cbar=cbar )\n",
        "    plt.title(title, size=18, fontweight='bold')\n",
        "    plt.show()\n",
        "\n",
        "\n",
        "def plot_box(df:pd.DataFrame, x_col:str, title:str) -> None:\n",
        "    plt.figure(figsize=(12, 7))\n",
        "    sns.boxplot(data = df, x=x_col)\n",
        "    plt.title(title, size=20)\n",
        "    plt.xticks(rotation=75, fontsize=14)\n",
        "    plt.show()\n",
        "\n",
        "\n",
        "def plot_box_multi(df:pd.DataFrame, x_col:str, y_col:str, title:str) -> None:\n",
        "    plt.figure(figsize=(12, 7))\n",
        "    sns.boxplot(data = df, x=x_col, y=y_col)\n",
        "    plt.title(title, size=20)\n",
        "    plt.xticks(rotation=75, fontsize=14)\n",
        "    plt.yticks( fontsize=14)\n",
        "    plt.show()\n",
        "\n",
        "\n",
        "def plot_scatter(df: pd.DataFrame, x_col: str, y_col: str, title: str, hue: str, style: str) -> None:\n",
        "    plt.figure(figsize=(22, 12))\n",
        "    sns.scatterplot(data = df, x=x_col, y=y_col, hue=hue, style=style)\n",
        "    plt.title(title, size=20)\n",
        "    plt.xticks(fontsize=14)\n",
        "    plt.yticks( fontsize=14)\n",
        "    plt.show()\n"
      ]
    },
    {
      "cell_type": "markdown",
      "id": "4c234e88",
      "metadata": {
        "id": "4c234e88"
      },
      "source": [
        "###Univariate Analysis"
      ]
    },
    {
      "cell_type": "markdown",
      "source": [
        "Graphical\n"
      ],
      "metadata": {
        "id": "8L3FLHqOKAOU"
      },
      "id": "8L3FLHqOKAOU"
    },
    {
      "cell_type": "code",
      "source": [
        "plot_hist(df, \"Bearer Id\", \"red\")"
      ],
      "metadata": {
        "id": "yA2rHxi3KMYU"
      },
      "id": "yA2rHxi3KMYU",
      "execution_count": null,
      "outputs": []
    },
    {
      "cell_type": "code",
      "source": [
        "df[\"Bearer Id\"].describe()"
      ],
      "metadata": {
        "id": "EQFW0XXrLx_k"
      },
      "id": "EQFW0XXrLx_k",
      "execution_count": null,
      "outputs": []
    },
    {
      "cell_type": "code",
      "source": [
        "plot_hist(df, \"Dur. (ms)\", \"yellow\")"
      ],
      "metadata": {
        "id": "DmMp_ULmKb8E"
      },
      "id": "DmMp_ULmKb8E",
      "execution_count": null,
      "outputs": []
    },
    {
      "cell_type": "code",
      "source": [
        "df['Dur. (ms)'].describe()"
      ],
      "metadata": {
        "id": "2U8-ZzMBL3l7"
      },
      "id": "2U8-ZzMBL3l7",
      "execution_count": null,
      "outputs": []
    },
    {
      "cell_type": "code",
      "execution_count": null,
      "id": "11487232",
      "metadata": {
        "id": "11487232"
      },
      "outputs": [],
      "source": [
        "plot_hist(df, \"Total UL (Bytes)\", \"blue\")"
      ]
    },
    {
      "cell_type": "code",
      "execution_count": null,
      "id": "9d405f77",
      "metadata": {
        "id": "9d405f77"
      },
      "outputs": [],
      "source": [
        "df[\"Total UL (Bytes)\"].describe()"
      ]
    },
    {
      "cell_type": "code",
      "execution_count": null,
      "id": "1103040b",
      "metadata": {
        "scrolled": true,
        "id": "1103040b"
      },
      "outputs": [],
      "source": [
        "plot_hist(df, \"Total DL (Bytes)\", \"green\")"
      ]
    },
    {
      "cell_type": "code",
      "execution_count": null,
      "id": "01682423",
      "metadata": {
        "id": "01682423"
      },
      "outputs": [],
      "source": [
        "df[\"Total DL (Bytes)\"].describe()"
      ]
    },
    {
      "cell_type": "markdown",
      "source": [
        "Non-Graphical"
      ],
      "metadata": {
        "id": "A3hu0UiOL8me"
      },
      "id": "A3hu0UiOL8me"
    },
    {
      "cell_type": "code",
      "source": [
        "plot_box(df, \"Bearer Id\", 'Bearer Id Outliers')"
      ],
      "metadata": {
        "id": "IcS9c5wcK3BI"
      },
      "id": "IcS9c5wcK3BI",
      "execution_count": null,
      "outputs": []
    },
    {
      "cell_type": "code",
      "source": [
        "plot_box(df, \"Dur. (ms)\", 'Dur. (ms) Outliers')"
      ],
      "metadata": {
        "id": "YZswj-0nKsKI"
      },
      "id": "YZswj-0nKsKI",
      "execution_count": null,
      "outputs": []
    },
    {
      "cell_type": "code",
      "execution_count": null,
      "id": "456e5e6d",
      "metadata": {
        "id": "456e5e6d"
      },
      "outputs": [],
      "source": [
        "plot_box(df, \"Total UL (Bytes)\", 'Total DL (Bytes) Outliers')"
      ]
    },
    {
      "cell_type": "code",
      "source": [
        "plot_box(df, \"Total DL (Bytes)\", 'Total DL (Bytes) Outliers')"
      ],
      "metadata": {
        "id": "7i-D7RSzY9V4"
      },
      "id": "7i-D7RSzY9V4",
      "execution_count": null,
      "outputs": []
    },
    {
      "cell_type": "code",
      "source": [
        "df[\"fixed_Dur. (ms)\"] = fix_outlier(df, \"Dur. (ms)\")"
      ],
      "metadata": {
        "id": "hOZJ6bumtOog"
      },
      "id": "hOZJ6bumtOog",
      "execution_count": null,
      "outputs": []
    },
    {
      "cell_type": "code",
      "source": [
        "plot_box(df, \"fixed_Dur. (ms)\", 'Dur. (ms)')"
      ],
      "metadata": {
        "id": "Yjd6CNhEtO03"
      },
      "id": "Yjd6CNhEtO03",
      "execution_count": null,
      "outputs": []
    },
    {
      "cell_type": "code",
      "source": [
        "df[\"fixed_Total DL (Bytes)\"] = fix_outlier(df, \"Total DL (Bytes)\")"
      ],
      "metadata": {
        "id": "PyQ6wCsUsajw"
      },
      "id": "PyQ6wCsUsajw",
      "execution_count": null,
      "outputs": []
    },
    {
      "cell_type": "code",
      "source": [
        "plot_box(df, \"fixed_Total DL (Bytes)\", 'Total DL (Bytes)')"
      ],
      "metadata": {
        "id": "UajC8tXasgwS"
      },
      "id": "UajC8tXasgwS",
      "execution_count": null,
      "outputs": []
    },
    {
      "cell_type": "code",
      "source": [
        "df[\"fixed_Total UL (Bytes)\"] = fix_outlier(df, \"Total UL (Bytes)\")"
      ],
      "metadata": {
        "id": "ABziMRgLs2yl"
      },
      "id": "ABziMRgLs2yl",
      "execution_count": null,
      "outputs": []
    },
    {
      "cell_type": "code",
      "source": [
        "plot_box(df, \"fixed_Total UL (Bytes)\", 'Total UL (Bytes)')"
      ],
      "metadata": {
        "id": "gBRIBZZ6tCHm"
      },
      "id": "gBRIBZZ6tCHm",
      "execution_count": null,
      "outputs": []
    },
    {
      "cell_type": "markdown",
      "source": [
        "categorical variables"
      ],
      "metadata": {
        "id": "ENxHdlsJ5zM8"
      },
      "id": "ENxHdlsJ5zM8"
    },
    {
      "cell_type": "code",
      "source": [
        "plot_count(df, \"Social Media DL (Bytes)\")"
      ],
      "metadata": {
        "id": "Yqr-PxtUu5n2"
      },
      "id": "Yqr-PxtUu5n2",
      "execution_count": null,
      "outputs": []
    },
    {
      "cell_type": "code",
      "source": [
        "plot_count(df, \"Google DL (Bytes)\")"
      ],
      "metadata": {
        "id": "mkGFC7DXxj6S"
      },
      "id": "mkGFC7DXxj6S",
      "execution_count": null,
      "outputs": []
    },
    {
      "cell_type": "code",
      "source": [
        "plot_count(df, \"Email DL (Bytes)\")"
      ],
      "metadata": {
        "id": "dcn4lARyxrQ9"
      },
      "id": "dcn4lARyxrQ9",
      "execution_count": null,
      "outputs": []
    },
    {
      "cell_type": "code",
      "source": [
        "plot_count(df, \"Youtube DL (Bytes)\") "
      ],
      "metadata": {
        "id": "O0PEcl1Sx5Sm"
      },
      "id": "O0PEcl1Sx5Sm",
      "execution_count": null,
      "outputs": []
    },
    {
      "cell_type": "code",
      "source": [
        "plot_count(df, \"Netflix DL (Bytes)\") "
      ],
      "metadata": {
        "id": "pvlpQjqkx-xH"
      },
      "id": "pvlpQjqkx-xH",
      "execution_count": null,
      "outputs": []
    },
    {
      "cell_type": "code",
      "source": [
        "plot_count(df, \"Gaming DL (Bytes)\") "
      ],
      "metadata": {
        "id": "VRur5BnRyGC6"
      },
      "id": "VRur5BnRyGC6",
      "execution_count": null,
      "outputs": []
    },
    {
      "cell_type": "code",
      "source": [
        "plot_count(df, \"Other DL\") "
      ],
      "metadata": {
        "id": "bkvl8aFiyKwF"
      },
      "id": "bkvl8aFiyKwF",
      "execution_count": null,
      "outputs": []
    },
    {
      "cell_type": "markdown",
      "source": [
        "Multivariate Analysis\n"
      ],
      "metadata": {
        "id": "q7ZlxIb8utVk"
      },
      "id": "q7ZlxIb8utVk"
    },
    {
      "cell_type": "markdown",
      "source": [
        "This analysis is done between user location, total UL (bytes) and total DL (bytes)\n"
      ],
      "metadata": {
        "id": "x8yvFoKPvOS5"
      },
      "id": "x8yvFoKPvOS5"
    },
    {
      "cell_type": "markdown",
      "source": [
        "Bivarate Analysis"
      ],
      "metadata": {
        "id": "n7wYUm1P_fMQ"
      },
      "id": "n7wYUm1P_fMQ"
    }
  ],
  "metadata": {
    "kernelspec": {
      "display_name": "Python 3 (ipykernel)",
      "language": "python",
      "name": "python3"
    },
    "language_info": {
      "codemirror_mode": {
        "name": "ipython",
        "version": 3
      },
      "file_extension": ".py",
      "mimetype": "text/x-python",
      "name": "python",
      "nbconvert_exporter": "python",
      "pygments_lexer": "ipython3",
      "version": "3.10.2"
    },
    "colab": {
      "name": "clean_excel_file.ipynb",
      "provenance": [],
      "collapsed_sections": [
        "df1ba8e6",
        "c1ff4cb4",
        "14409747"
      ]
    }
  },
  "nbformat": 4,
  "nbformat_minor": 5
}