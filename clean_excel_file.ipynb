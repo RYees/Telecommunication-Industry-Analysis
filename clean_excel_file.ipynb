{
  "cells": [
    {
      "cell_type": "code",
      "execution_count": 8,
      "id": "8703434a",
      "metadata": {
        "id": "8703434a"
      },
      "outputs": [],
      "source": [
        "import pandas as pd\n",
        "import numpy as np\n",
        "from scipy.stats import skew\n",
        "import matplotlib.pyplot as plt\n",
        "import matplotlib.pylab as plt\n",
        "import seaborn as sns"
      ]
    },
    {
      "cell_type": "code",
      "execution_count": 9,
      "id": "b8e0a05c",
      "metadata": {
        "colab": {
          "base_uri": "https://localhost:8080/"
        },
        "id": "b8e0a05c",
        "outputId": "e7bbf314-9a63-417f-d5eb-a6d2d62e85e5"
      },
      "outputs": [
        {
          "output_type": "stream",
          "name": "stdout",
          "text": [
            "Drive already mounted at /content/drive; to attempt to forcibly remount, call drive.mount(\"/content/drive\", force_remount=True).\n"
          ]
        }
      ],
      "source": [
        "from google.colab import drive\n",
        "drive.mount('/content/drive')"
      ]
    },
    {
      "cell_type": "code",
      "execution_count": 10,
      "id": "28cbf20c",
      "metadata": {
        "id": "28cbf20c"
      },
      "outputs": [],
      "source": [
        "all_data = pd.read_excel(\"/content/drive/MyDrive/Telecommunication-Industry-Analysis/teleco_excel_file.xlsx\")\n",
        "\n",
        "# all_data.head()\n",
        "# pd.set_option('display.max_columns', 50)"
      ]
    },
    {
      "cell_type": "code",
      "execution_count": 11,
      "id": "9ec5d61e",
      "metadata": {
        "id": "9ec5d61e"
      },
      "outputs": [],
      "source": [
        "# all_data.columns.tolist()"
      ]
    },
    {
      "cell_type": "code",
      "execution_count": 12,
      "id": "009389c8",
      "metadata": {
        "id": "009389c8",
        "colab": {
          "base_uri": "https://localhost:8080/"
        },
        "outputId": "5a3f7458-56bc-4fcb-d348-dd89750ce65f"
      },
      "outputs": [
        {
          "output_type": "stream",
          "name": "stdout",
          "text": [
            " There are 150001 rows and 55 columns\n"
          ]
        }
      ],
      "source": [
        "print(f\" There are {all_data.shape[0]} rows and {all_data.shape[1]} columns\")"
      ]
    },
    {
      "cell_type": "markdown",
      "id": "c9a02b6b",
      "metadata": {
        "id": "c9a02b6b"
      },
      "source": [
        "##### Dealing with missing values"
      ]
    },
    {
      "cell_type": "code",
      "execution_count": 13,
      "id": "996183e2",
      "metadata": {
        "id": "996183e2",
        "colab": {
          "base_uri": "https://localhost:8080/"
        },
        "outputId": "26c65548-689d-4651-d005-4c4e89ef8ee2"
      },
      "outputs": [
        {
          "output_type": "stream",
          "name": "stdout",
          "text": [
            "The telco dataset contains 12.5 % missing values.\n"
          ]
        }
      ],
      "source": [
        "# how many missing values exist or better still what is the % of missing values in the dataset?\n",
        "def percent_missing(df):\n",
        "\n",
        "    # Calculate total number of cells in dataframe\n",
        "    totalCells = np.product(df.shape)\n",
        "\n",
        "    # Count number of missing values per column\n",
        "    missingCount = df.isnull().sum()\n",
        "\n",
        "    # Calculate total number of missing values\n",
        "    totalMissing = missingCount.sum()\n",
        "\n",
        "    # Calculate percentage of missing values\n",
        "    print(\"The telco dataset contains\", round(((totalMissing/totalCells) * 100), 2), \"%\", \"missing values.\")\n",
        "\n",
        "percent_missing(all_data)"
      ]
    },
    {
      "cell_type": "code",
      "source": [
        "all_data.isna().sum()"
      ],
      "metadata": {
        "colab": {
          "base_uri": "https://localhost:8080/"
        },
        "id": "eZh7B-jewRqE",
        "outputId": "bd055dca-e292-4314-ac0b-98866d8d9c86"
      },
      "id": "eZh7B-jewRqE",
      "execution_count": 14,
      "outputs": [
        {
          "output_type": "execute_result",
          "data": {
            "text/plain": [
              "Bearer Id                                      991\n",
              "Start                                            1\n",
              "Start ms                                         1\n",
              "End                                              1\n",
              "End ms                                           1\n",
              "Dur. (ms)                                        1\n",
              "IMSI                                           570\n",
              "MSISDN/Number                                 1066\n",
              "IMEI                                           572\n",
              "Last Location Name                            1153\n",
              "Avg RTT DL (ms)                              27829\n",
              "Avg RTT UL (ms)                              27812\n",
              "Avg Bearer TP DL (kbps)                          1\n",
              "Avg Bearer TP UL (kbps)                          1\n",
              "TCP DL Retrans. Vol (Bytes)                  88146\n",
              "TCP UL Retrans. Vol (Bytes)                  96649\n",
              "DL TP < 50 Kbps (%)                            754\n",
              "50 Kbps < DL TP < 250 Kbps (%)                 754\n",
              "250 Kbps < DL TP < 1 Mbps (%)                  754\n",
              "DL TP > 1 Mbps (%)                             754\n",
              "UL TP < 10 Kbps (%)                            792\n",
              "10 Kbps < UL TP < 50 Kbps (%)                  792\n",
              "50 Kbps < UL TP < 300 Kbps (%)                 792\n",
              "UL TP > 300 Kbps (%)                           792\n",
              "HTTP DL (Bytes)                              81474\n",
              "HTTP UL (Bytes)                              81810\n",
              "Activity Duration DL (ms)                        1\n",
              "Activity Duration UL (ms)                        1\n",
              "Dur. (ms).1                                      1\n",
              "Handset Manufacturer                           572\n",
              "Handset Type                                   572\n",
              "Nb of sec with 125000B < Vol DL              97538\n",
              "Nb of sec with 1250B < Vol UL < 6250B        92894\n",
              "Nb of sec with 31250B < Vol DL < 125000B     93586\n",
              "Nb of sec with 37500B < Vol UL              130254\n",
              "Nb of sec with 6250B < Vol DL < 31250B       88317\n",
              "Nb of sec with 6250B < Vol UL < 37500B      111843\n",
              "Nb of sec with Vol DL < 6250B                  755\n",
              "Nb of sec with Vol UL < 1250B                  793\n",
              "Social Media DL (Bytes)                          0\n",
              "Social Media UL (Bytes)                          0\n",
              "Google DL (Bytes)                                0\n",
              "Google UL (Bytes)                                0\n",
              "Email DL (Bytes)                                 0\n",
              "Email UL (Bytes)                                 0\n",
              "Youtube DL (Bytes)                               0\n",
              "Youtube UL (Bytes)                               0\n",
              "Netflix DL (Bytes)                               0\n",
              "Netflix UL (Bytes)                               0\n",
              "Gaming DL (Bytes)                                0\n",
              "Gaming UL (Bytes)                                0\n",
              "Other DL (Bytes)                                 0\n",
              "Other UL (Bytes)                                 0\n",
              "Total UL (Bytes)                                 1\n",
              "Total DL (Bytes)                                 1\n",
              "dtype: int64"
            ]
          },
          "metadata": {},
          "execution_count": 14
        }
      ]
    },
    {
      "cell_type": "markdown",
      "id": "4b0c2fe8",
      "metadata": {
        "id": "4b0c2fe8"
      },
      "source": [
        "#### showing the missing columns"
      ]
    },
    {
      "cell_type": "code",
      "execution_count": 15,
      "id": "3619462d",
      "metadata": {
        "id": "3619462d"
      },
      "outputs": [],
      "source": [
        "# Now which column(s) has missing values\n",
        "# all_data.isna().sum()"
      ]
    },
    {
      "cell_type": "code",
      "execution_count": 16,
      "id": "644b8a82",
      "metadata": {
        "id": "644b8a82"
      },
      "outputs": [],
      "source": [
        "fd = pd.DataFrame(all_data)\n"
      ]
    },
    {
      "cell_type": "code",
      "execution_count": 17,
      "id": "d42f8ce7",
      "metadata": {
        "id": "d42f8ce7"
      },
      "outputs": [],
      "source": [
        "df = fd.drop(['IMSI', 'IMEI','TCP DL Retrans. Vol (Bytes)', 'TCP UL Retrans. Vol (Bytes)', 'HTTP DL (Bytes)', 'HTTP UL (Bytes)','Nb of sec with 125000B < Vol DL', 'Nb of sec with 1250B < Vol UL < 6250B', 'Nb of sec with 31250B < Vol DL < 125000B', 'Nb of sec with 37500B < Vol UL', 'Nb of sec with 6250B < Vol DL < 31250B', 'Nb of sec with 6250B < Vol UL < 37500B'], axis=1)"
      ]
    },
    {
      "cell_type": "code",
      "execution_count": 18,
      "id": "1794a54d",
      "metadata": {
        "id": "1794a54d",
        "colab": {
          "base_uri": "https://localhost:8080/",
          "height": 206
        },
        "outputId": "1da1e3e3-004f-41a5-fdfb-519220177f01"
      },
      "outputs": [
        {
          "output_type": "execute_result",
          "data": {
            "text/plain": [
              "      Bearer Id               Start  Start ms                 End  End ms  \\\n",
              "0  1.311448e+19 2019-04-04 12:01:18     770.0 2019-04-25 14:35:31   662.0   \n",
              "1  1.311448e+19 2019-04-09 13:04:04     235.0 2019-04-25 08:15:48   606.0   \n",
              "2  1.311448e+19 2019-04-09 17:42:11       1.0 2019-04-25 11:58:13   652.0   \n",
              "3  1.311448e+19 2019-04-10 00:31:25     486.0 2019-04-25 07:36:35   171.0   \n",
              "4  1.311448e+19 2019-04-12 20:10:23     565.0 2019-04-25 10:40:32   954.0   \n",
              "\n",
              "   Dur. (ms)  MSISDN/Number Last Location Name  Avg RTT DL (ms)  \\\n",
              "0  1823652.0   3.366496e+10   9164566995485190             42.0   \n",
              "1  1365104.0   3.368185e+10            L77566A             65.0   \n",
              "2  1361762.0   3.376063e+10            D42335A              NaN   \n",
              "3  1321509.0   3.375034e+10            T21824A              NaN   \n",
              "4  1089009.0   3.369980e+10            D88865A              NaN   \n",
              "\n",
              "   Avg RTT UL (ms)  \n",
              "0              5.0  \n",
              "1              5.0  \n",
              "2              NaN  \n",
              "3              NaN  \n",
              "4              NaN  "
            ],
            "text/html": [
              "\n",
              "  <div id=\"df-3a296a46-5626-4ebb-9843-54d4c49f4093\">\n",
              "    <div class=\"colab-df-container\">\n",
              "      <div>\n",
              "<style scoped>\n",
              "    .dataframe tbody tr th:only-of-type {\n",
              "        vertical-align: middle;\n",
              "    }\n",
              "\n",
              "    .dataframe tbody tr th {\n",
              "        vertical-align: top;\n",
              "    }\n",
              "\n",
              "    .dataframe thead th {\n",
              "        text-align: right;\n",
              "    }\n",
              "</style>\n",
              "<table border=\"1\" class=\"dataframe\">\n",
              "  <thead>\n",
              "    <tr style=\"text-align: right;\">\n",
              "      <th></th>\n",
              "      <th>Bearer Id</th>\n",
              "      <th>Start</th>\n",
              "      <th>Start ms</th>\n",
              "      <th>End</th>\n",
              "      <th>End ms</th>\n",
              "      <th>Dur. (ms)</th>\n",
              "      <th>MSISDN/Number</th>\n",
              "      <th>Last Location Name</th>\n",
              "      <th>Avg RTT DL (ms)</th>\n",
              "      <th>Avg RTT UL (ms)</th>\n",
              "    </tr>\n",
              "  </thead>\n",
              "  <tbody>\n",
              "    <tr>\n",
              "      <th>0</th>\n",
              "      <td>1.311448e+19</td>\n",
              "      <td>2019-04-04 12:01:18</td>\n",
              "      <td>770.0</td>\n",
              "      <td>2019-04-25 14:35:31</td>\n",
              "      <td>662.0</td>\n",
              "      <td>1823652.0</td>\n",
              "      <td>3.366496e+10</td>\n",
              "      <td>9164566995485190</td>\n",
              "      <td>42.0</td>\n",
              "      <td>5.0</td>\n",
              "    </tr>\n",
              "    <tr>\n",
              "      <th>1</th>\n",
              "      <td>1.311448e+19</td>\n",
              "      <td>2019-04-09 13:04:04</td>\n",
              "      <td>235.0</td>\n",
              "      <td>2019-04-25 08:15:48</td>\n",
              "      <td>606.0</td>\n",
              "      <td>1365104.0</td>\n",
              "      <td>3.368185e+10</td>\n",
              "      <td>L77566A</td>\n",
              "      <td>65.0</td>\n",
              "      <td>5.0</td>\n",
              "    </tr>\n",
              "    <tr>\n",
              "      <th>2</th>\n",
              "      <td>1.311448e+19</td>\n",
              "      <td>2019-04-09 17:42:11</td>\n",
              "      <td>1.0</td>\n",
              "      <td>2019-04-25 11:58:13</td>\n",
              "      <td>652.0</td>\n",
              "      <td>1361762.0</td>\n",
              "      <td>3.376063e+10</td>\n",
              "      <td>D42335A</td>\n",
              "      <td>NaN</td>\n",
              "      <td>NaN</td>\n",
              "    </tr>\n",
              "    <tr>\n",
              "      <th>3</th>\n",
              "      <td>1.311448e+19</td>\n",
              "      <td>2019-04-10 00:31:25</td>\n",
              "      <td>486.0</td>\n",
              "      <td>2019-04-25 07:36:35</td>\n",
              "      <td>171.0</td>\n",
              "      <td>1321509.0</td>\n",
              "      <td>3.375034e+10</td>\n",
              "      <td>T21824A</td>\n",
              "      <td>NaN</td>\n",
              "      <td>NaN</td>\n",
              "    </tr>\n",
              "    <tr>\n",
              "      <th>4</th>\n",
              "      <td>1.311448e+19</td>\n",
              "      <td>2019-04-12 20:10:23</td>\n",
              "      <td>565.0</td>\n",
              "      <td>2019-04-25 10:40:32</td>\n",
              "      <td>954.0</td>\n",
              "      <td>1089009.0</td>\n",
              "      <td>3.369980e+10</td>\n",
              "      <td>D88865A</td>\n",
              "      <td>NaN</td>\n",
              "      <td>NaN</td>\n",
              "    </tr>\n",
              "  </tbody>\n",
              "</table>\n",
              "</div>\n",
              "      <button class=\"colab-df-convert\" onclick=\"convertToInteractive('df-3a296a46-5626-4ebb-9843-54d4c49f4093')\"\n",
              "              title=\"Convert this dataframe to an interactive table.\"\n",
              "              style=\"display:none;\">\n",
              "        \n",
              "  <svg xmlns=\"http://www.w3.org/2000/svg\" height=\"24px\"viewBox=\"0 0 24 24\"\n",
              "       width=\"24px\">\n",
              "    <path d=\"M0 0h24v24H0V0z\" fill=\"none\"/>\n",
              "    <path d=\"M18.56 5.44l.94 2.06.94-2.06 2.06-.94-2.06-.94-.94-2.06-.94 2.06-2.06.94zm-11 1L8.5 8.5l.94-2.06 2.06-.94-2.06-.94L8.5 2.5l-.94 2.06-2.06.94zm10 10l.94 2.06.94-2.06 2.06-.94-2.06-.94-.94-2.06-.94 2.06-2.06.94z\"/><path d=\"M17.41 7.96l-1.37-1.37c-.4-.4-.92-.59-1.43-.59-.52 0-1.04.2-1.43.59L10.3 9.45l-7.72 7.72c-.78.78-.78 2.05 0 2.83L4 21.41c.39.39.9.59 1.41.59.51 0 1.02-.2 1.41-.59l7.78-7.78 2.81-2.81c.8-.78.8-2.07 0-2.86zM5.41 20L4 18.59l7.72-7.72 1.47 1.35L5.41 20z\"/>\n",
              "  </svg>\n",
              "      </button>\n",
              "      \n",
              "  <style>\n",
              "    .colab-df-container {\n",
              "      display:flex;\n",
              "      flex-wrap:wrap;\n",
              "      gap: 12px;\n",
              "    }\n",
              "\n",
              "    .colab-df-convert {\n",
              "      background-color: #E8F0FE;\n",
              "      border: none;\n",
              "      border-radius: 50%;\n",
              "      cursor: pointer;\n",
              "      display: none;\n",
              "      fill: #1967D2;\n",
              "      height: 32px;\n",
              "      padding: 0 0 0 0;\n",
              "      width: 32px;\n",
              "    }\n",
              "\n",
              "    .colab-df-convert:hover {\n",
              "      background-color: #E2EBFA;\n",
              "      box-shadow: 0px 1px 2px rgba(60, 64, 67, 0.3), 0px 1px 3px 1px rgba(60, 64, 67, 0.15);\n",
              "      fill: #174EA6;\n",
              "    }\n",
              "\n",
              "    [theme=dark] .colab-df-convert {\n",
              "      background-color: #3B4455;\n",
              "      fill: #D2E3FC;\n",
              "    }\n",
              "\n",
              "    [theme=dark] .colab-df-convert:hover {\n",
              "      background-color: #434B5C;\n",
              "      box-shadow: 0px 1px 3px 1px rgba(0, 0, 0, 0.15);\n",
              "      filter: drop-shadow(0px 1px 2px rgba(0, 0, 0, 0.3));\n",
              "      fill: #FFFFFF;\n",
              "    }\n",
              "  </style>\n",
              "\n",
              "      <script>\n",
              "        const buttonEl =\n",
              "          document.querySelector('#df-3a296a46-5626-4ebb-9843-54d4c49f4093 button.colab-df-convert');\n",
              "        buttonEl.style.display =\n",
              "          google.colab.kernel.accessAllowed ? 'block' : 'none';\n",
              "\n",
              "        async function convertToInteractive(key) {\n",
              "          const element = document.querySelector('#df-3a296a46-5626-4ebb-9843-54d4c49f4093');\n",
              "          const dataTable =\n",
              "            await google.colab.kernel.invokeFunction('convertToInteractive',\n",
              "                                                     [key], {});\n",
              "          if (!dataTable) return;\n",
              "\n",
              "          const docLinkHtml = 'Like what you see? Visit the ' +\n",
              "            '<a target=\"_blank\" href=https://colab.research.google.com/notebooks/data_table.ipynb>data table notebook</a>'\n",
              "            + ' to learn more about interactive tables.';\n",
              "          element.innerHTML = '';\n",
              "          dataTable['output_type'] = 'display_data';\n",
              "          await google.colab.output.renderOutput(dataTable, element);\n",
              "          const docLink = document.createElement('div');\n",
              "          docLink.innerHTML = docLinkHtml;\n",
              "          element.appendChild(docLink);\n",
              "        }\n",
              "      </script>\n",
              "    </div>\n",
              "  </div>\n",
              "  "
            ]
          },
          "metadata": {},
          "execution_count": 18
        }
      ],
      "source": [
        "df.iloc[:5 , 0:10]"
      ]
    },
    {
      "cell_type": "code",
      "execution_count": 19,
      "id": "114ac6f4",
      "metadata": {
        "id": "114ac6f4"
      },
      "outputs": [],
      "source": [
        "df[\"Bearer Id\"] = df[\"Bearer Id\"].fillna(df[\"Bearer Id\"].mode()[0])"
      ]
    },
    {
      "cell_type": "code",
      "source": [
        "df[\"Start\"] = df[\"Start\"].fillna(method='ffill')"
      ],
      "metadata": {
        "id": "mVFr5qnB241x"
      },
      "id": "mVFr5qnB241x",
      "execution_count": 20,
      "outputs": []
    },
    {
      "cell_type": "code",
      "source": [
        "df[\"Start ms\"] = df[\"Start ms\"].fillna(method='ffill')"
      ],
      "metadata": {
        "id": "B6eLIjSw4BcG"
      },
      "id": "B6eLIjSw4BcG",
      "execution_count": 21,
      "outputs": []
    },
    {
      "cell_type": "code",
      "source": [
        "df[\"End\"] = df[\"End\"].fillna(method='ffill')"
      ],
      "metadata": {
        "id": "b9y9HzOE4gsg"
      },
      "id": "b9y9HzOE4gsg",
      "execution_count": 22,
      "outputs": []
    },
    {
      "cell_type": "code",
      "source": [
        "df[\"End ms\"] = df[\"End ms\"].fillna(method='ffill')"
      ],
      "metadata": {
        "id": "FEQSiINP4sFe"
      },
      "id": "FEQSiINP4sFe",
      "execution_count": 23,
      "outputs": []
    },
    {
      "cell_type": "code",
      "source": [
        "df[\"Dur. (ms)\"] = df[\"Dur. (ms)\"].fillna(method='ffill')"
      ],
      "metadata": {
        "id": "fVOOgm0-4xBe"
      },
      "id": "fVOOgm0-4xBe",
      "execution_count": 24,
      "outputs": []
    },
    {
      "cell_type": "code",
      "source": [
        "df[\"Total UL (Bytes)\"] = df[\"Total UL (Bytes)\"].fillna(df[\"Total UL (Bytes)\"].mode()[0])"
      ],
      "metadata": {
        "id": "TUsfL38j5KEC"
      },
      "id": "TUsfL38j5KEC",
      "execution_count": 25,
      "outputs": []
    },
    {
      "cell_type": "code",
      "source": [
        "df[\"Total DL (Bytes)\"] = df[\"Total UL (Bytes)\"].fillna(df[\"Total DL (Bytes)\"].mode()[0])"
      ],
      "metadata": {
        "id": "EJxclSRC6lEA"
      },
      "id": "EJxclSRC6lEA",
      "execution_count": 26,
      "outputs": []
    },
    {
      "cell_type": "code",
      "source": [
        "df[\"Nb of sec with Vol DL < 6250B\"] = df[\"Nb of sec with Vol DL < 6250B\"].fillna(df[\"Nb of sec with Vol DL < 6250B\"].mode()[0]) "
      ],
      "metadata": {
        "id": "1iiUXyw96vev"
      },
      "id": "1iiUXyw96vev",
      "execution_count": 27,
      "outputs": []
    },
    {
      "cell_type": "code",
      "source": [
        "df[\"Nb of sec with Vol UL < 1250B\"] = df[\"Nb of sec with Vol UL < 1250B\"].fillna(df[\"Nb of sec with Vol UL < 1250B\"].mode()[0])\n",
        "df[\"MSISDN/Number\"] = df[\"MSISDN/Number\"].fillna(df[\"MSISDN/Number\"].mode()[0])\n",
        "df[\"Avg RTT DL (ms)\"] = df[\"Avg RTT DL (ms)\"].fillna(df[\"Avg RTT DL (ms)\"].mode()[0])\n",
        "df[\"Avg RTT UL (ms)\"] = df[\"Avg RTT UL (ms)\"].fillna(df[\"Avg RTT UL (ms)\"].mode()[0])\n",
        "df[\"Avg Bearer TP DL (kbps)\"] = df[\"Avg Bearer TP DL (kbps)\"].fillna(df[\"Avg Bearer TP DL (kbps)\"].mode()[0])\n",
        "df[\"Avg Bearer TP UL (kbps)\"] = df[\"Avg Bearer TP UL (kbps)\"].fillna(df[\"Avg Bearer TP UL (kbps)\"].mode()[0])\n",
        "df[\"Activity Duration DL (ms)\"] = df[\"Activity Duration DL (ms)\"].fillna(df[\"Activity Duration DL (ms)\"].mode()[0])\n",
        "df[\"Activity Duration UL (ms)\"] = df[\"Activity Duration UL (ms)\"].fillna(df[\"Activity Duration UL (ms)\"].mode()[0])\n",
        "df[\"Dur. (ms).1\"] = df[\"Dur. (ms).1\"].fillna(df[\"Dur. (ms).1\"].mode()[0])"
      ],
      "metadata": {
        "id": "udgRLKFh7IR4"
      },
      "id": "udgRLKFh7IR4",
      "execution_count": 28,
      "outputs": []
    },
    {
      "cell_type": "code",
      "source": [
        "df[\"Handset Manufacturer\"] = df[\"Handset Manufacturer\"].fillna(value='undefined')\n",
        "df[\"Handset Type\"] = df[\"Handset Type\"].fillna(value='undefined')\n",
        "df[\"Last Location Name\"] = df[\"Last Location Name\"].fillna(value='undefined')"
      ],
      "metadata": {
        "id": "avLdfl_278KP"
      },
      "id": "avLdfl_278KP",
      "execution_count": 29,
      "outputs": []
    },
    {
      "cell_type": "code",
      "source": [
        "df = df.fillna(value=0)"
      ],
      "metadata": {
        "id": "iCG297wt8j_p"
      },
      "id": "iCG297wt8j_p",
      "execution_count": 30,
      "outputs": []
    },
    {
      "cell_type": "code",
      "source": [
        "# df.isna().sum()"
      ],
      "metadata": {
        "id": "OUevSBZT7IXW"
      },
      "id": "OUevSBZT7IXW",
      "execution_count": 31,
      "outputs": []
    },
    {
      "cell_type": "code",
      "source": [
        "# df[\"Nb of sec with Vol DL < 6250B\"].isna().sum()"
      ],
      "metadata": {
        "id": "TX9UnA4s5XqY"
      },
      "id": "TX9UnA4s5XqY",
      "execution_count": 32,
      "outputs": []
    },
    {
      "cell_type": "markdown",
      "source": [
        ""
      ],
      "metadata": {
        "id": "lYrQnA5Xd1Zw"
      },
      "id": "lYrQnA5Xd1Zw"
    },
    {
      "cell_type": "markdown",
      "metadata": {
        "id": "0646f25b"
      },
      "source": [
        "## Extracting Data"
      ],
      "id": "0646f25b"
    },
    {
      "cell_type": "markdown",
      "id": "df1ba8e6",
      "metadata": {
        "id": "df1ba8e6"
      },
      "source": [
        "### Handset type and manufacures"
      ]
    },
    {
      "cell_type": "code",
      "execution_count": 33,
      "id": "1ec3a7a0",
      "metadata": {
        "id": "1ec3a7a0",
        "colab": {
          "base_uri": "https://localhost:8080/"
        },
        "outputId": "d9c72cb8-4c71-4e0f-b656-069c7ea32d1f"
      },
      "outputs": [
        {
          "output_type": "execute_result",
          "data": {
            "text/plain": [
              "Huawei B528S-23A                19752\n",
              "undefined                        9559\n",
              "Apple iPhone 6S (A1688)          9419\n",
              "Apple iPhone 6 (A1586)           9023\n",
              "Apple iPhone 7 (A1778)           6326\n",
              "Apple iPhone Se (A1723)          5187\n",
              "Apple iPhone 8 (A1905)           4993\n",
              "Apple iPhone Xr (A2105)          4568\n",
              "Samsung Galaxy S8 (Sm-G950F)     4520\n",
              "Apple iPhone X (A1901)           3813\n",
              "Name: Handset Type, dtype: int64"
            ]
          },
          "metadata": {},
          "execution_count": 33
        }
      ],
      "source": [
        "ht = df[\"Handset Type\"].value_counts()\n",
        "ht.head(10)"
      ]
    },
    {
      "cell_type": "code",
      "execution_count": 34,
      "id": "81605a56",
      "metadata": {
        "id": "81605a56",
        "colab": {
          "base_uri": "https://localhost:8080/"
        },
        "outputId": "922dc34b-4b0c-41f4-f4ee-c34c7106c3db"
      },
      "outputs": [
        {
          "output_type": "execute_result",
          "data": {
            "text/plain": [
              "Apple      59565\n",
              "Samsung    40839\n",
              "Huawei     34423\n",
              "Name: Handset Manufacturer, dtype: int64"
            ]
          },
          "metadata": {},
          "execution_count": 34
        }
      ],
      "source": [
        "hm = df[\"Handset Manufacturer\"].value_counts()\n",
        "hm.head(3)"
      ]
    },
    {
      "cell_type": "code",
      "execution_count": 35,
      "id": "92763d32",
      "metadata": {
        "id": "92763d32",
        "colab": {
          "base_uri": "https://localhost:8080/",
          "height": 284
        },
        "outputId": "2aade9a8-1b69-4b36-f84c-72716e933a0e"
      },
      "outputs": [
        {
          "output_type": "execute_result",
          "data": {
            "text/plain": [
              "    Activity Duration DL (ms)  Activity Duration UL (ms)  Dur. (ms).1  \\\n",
              "22                    20070.0                    79273.0  723714634.0   \n",
              "\n",
              "   Handset Manufacturer             Handset Type  \\\n",
              "22                Apple  Apple iPhone 6S (A1688)   \n",
              "\n",
              "    Nb of sec with Vol DL < 6250B  Nb of sec with Vol UL < 1250B  \\\n",
              "22                          132.0                          245.0   \n",
              "\n",
              "    Social Media DL (Bytes)  Social Media UL (Bytes)  Google DL (Bytes)  \\\n",
              "22                 759834.0                  47429.0         10830083.0   \n",
              "\n",
              "    Google UL (Bytes)  Email DL (Bytes)  Email UL (Bytes)  Youtube DL (Bytes)  \\\n",
              "22          2924712.0         1781218.0          375213.0           5171749.0   \n",
              "\n",
              "    Youtube UL (Bytes)  Netflix DL (Bytes)  Netflix UL (Bytes)  \\\n",
              "22          16522963.0          19868319.0           9877484.0   \n",
              "\n",
              "    Gaming DL (Bytes)  Gaming UL (Bytes)  Other DL (Bytes)  \n",
              "22        536129472.0          4566629.0       450624422.0  "
            ],
            "text/html": [
              "\n",
              "  <div id=\"df-676eba17-9a00-4141-90aa-b7c672018ea6\">\n",
              "    <div class=\"colab-df-container\">\n",
              "      <div>\n",
              "<style scoped>\n",
              "    .dataframe tbody tr th:only-of-type {\n",
              "        vertical-align: middle;\n",
              "    }\n",
              "\n",
              "    .dataframe tbody tr th {\n",
              "        vertical-align: top;\n",
              "    }\n",
              "\n",
              "    .dataframe thead th {\n",
              "        text-align: right;\n",
              "    }\n",
              "</style>\n",
              "<table border=\"1\" class=\"dataframe\">\n",
              "  <thead>\n",
              "    <tr style=\"text-align: right;\">\n",
              "      <th></th>\n",
              "      <th>Activity Duration DL (ms)</th>\n",
              "      <th>Activity Duration UL (ms)</th>\n",
              "      <th>Dur. (ms).1</th>\n",
              "      <th>Handset Manufacturer</th>\n",
              "      <th>Handset Type</th>\n",
              "      <th>Nb of sec with Vol DL &lt; 6250B</th>\n",
              "      <th>Nb of sec with Vol UL &lt; 1250B</th>\n",
              "      <th>Social Media DL (Bytes)</th>\n",
              "      <th>Social Media UL (Bytes)</th>\n",
              "      <th>Google DL (Bytes)</th>\n",
              "      <th>Google UL (Bytes)</th>\n",
              "      <th>Email DL (Bytes)</th>\n",
              "      <th>Email UL (Bytes)</th>\n",
              "      <th>Youtube DL (Bytes)</th>\n",
              "      <th>Youtube UL (Bytes)</th>\n",
              "      <th>Netflix DL (Bytes)</th>\n",
              "      <th>Netflix UL (Bytes)</th>\n",
              "      <th>Gaming DL (Bytes)</th>\n",
              "      <th>Gaming UL (Bytes)</th>\n",
              "      <th>Other DL (Bytes)</th>\n",
              "    </tr>\n",
              "  </thead>\n",
              "  <tbody>\n",
              "    <tr>\n",
              "      <th>22</th>\n",
              "      <td>20070.0</td>\n",
              "      <td>79273.0</td>\n",
              "      <td>723714634.0</td>\n",
              "      <td>Apple</td>\n",
              "      <td>Apple iPhone 6S (A1688)</td>\n",
              "      <td>132.0</td>\n",
              "      <td>245.0</td>\n",
              "      <td>759834.0</td>\n",
              "      <td>47429.0</td>\n",
              "      <td>10830083.0</td>\n",
              "      <td>2924712.0</td>\n",
              "      <td>1781218.0</td>\n",
              "      <td>375213.0</td>\n",
              "      <td>5171749.0</td>\n",
              "      <td>16522963.0</td>\n",
              "      <td>19868319.0</td>\n",
              "      <td>9877484.0</td>\n",
              "      <td>536129472.0</td>\n",
              "      <td>4566629.0</td>\n",
              "      <td>450624422.0</td>\n",
              "    </tr>\n",
              "  </tbody>\n",
              "</table>\n",
              "</div>\n",
              "      <button class=\"colab-df-convert\" onclick=\"convertToInteractive('df-676eba17-9a00-4141-90aa-b7c672018ea6')\"\n",
              "              title=\"Convert this dataframe to an interactive table.\"\n",
              "              style=\"display:none;\">\n",
              "        \n",
              "  <svg xmlns=\"http://www.w3.org/2000/svg\" height=\"24px\"viewBox=\"0 0 24 24\"\n",
              "       width=\"24px\">\n",
              "    <path d=\"M0 0h24v24H0V0z\" fill=\"none\"/>\n",
              "    <path d=\"M18.56 5.44l.94 2.06.94-2.06 2.06-.94-2.06-.94-.94-2.06-.94 2.06-2.06.94zm-11 1L8.5 8.5l.94-2.06 2.06-.94-2.06-.94L8.5 2.5l-.94 2.06-2.06.94zm10 10l.94 2.06.94-2.06 2.06-.94-2.06-.94-.94-2.06-.94 2.06-2.06.94z\"/><path d=\"M17.41 7.96l-1.37-1.37c-.4-.4-.92-.59-1.43-.59-.52 0-1.04.2-1.43.59L10.3 9.45l-7.72 7.72c-.78.78-.78 2.05 0 2.83L4 21.41c.39.39.9.59 1.41.59.51 0 1.02-.2 1.41-.59l7.78-7.78 2.81-2.81c.8-.78.8-2.07 0-2.86zM5.41 20L4 18.59l7.72-7.72 1.47 1.35L5.41 20z\"/>\n",
              "  </svg>\n",
              "      </button>\n",
              "      \n",
              "  <style>\n",
              "    .colab-df-container {\n",
              "      display:flex;\n",
              "      flex-wrap:wrap;\n",
              "      gap: 12px;\n",
              "    }\n",
              "\n",
              "    .colab-df-convert {\n",
              "      background-color: #E8F0FE;\n",
              "      border: none;\n",
              "      border-radius: 50%;\n",
              "      cursor: pointer;\n",
              "      display: none;\n",
              "      fill: #1967D2;\n",
              "      height: 32px;\n",
              "      padding: 0 0 0 0;\n",
              "      width: 32px;\n",
              "    }\n",
              "\n",
              "    .colab-df-convert:hover {\n",
              "      background-color: #E2EBFA;\n",
              "      box-shadow: 0px 1px 2px rgba(60, 64, 67, 0.3), 0px 1px 3px 1px rgba(60, 64, 67, 0.15);\n",
              "      fill: #174EA6;\n",
              "    }\n",
              "\n",
              "    [theme=dark] .colab-df-convert {\n",
              "      background-color: #3B4455;\n",
              "      fill: #D2E3FC;\n",
              "    }\n",
              "\n",
              "    [theme=dark] .colab-df-convert:hover {\n",
              "      background-color: #434B5C;\n",
              "      box-shadow: 0px 1px 3px 1px rgba(0, 0, 0, 0.15);\n",
              "      filter: drop-shadow(0px 1px 2px rgba(0, 0, 0, 0.3));\n",
              "      fill: #FFFFFF;\n",
              "    }\n",
              "  </style>\n",
              "\n",
              "      <script>\n",
              "        const buttonEl =\n",
              "          document.querySelector('#df-676eba17-9a00-4141-90aa-b7c672018ea6 button.colab-df-convert');\n",
              "        buttonEl.style.display =\n",
              "          google.colab.kernel.accessAllowed ? 'block' : 'none';\n",
              "\n",
              "        async function convertToInteractive(key) {\n",
              "          const element = document.querySelector('#df-676eba17-9a00-4141-90aa-b7c672018ea6');\n",
              "          const dataTable =\n",
              "            await google.colab.kernel.invokeFunction('convertToInteractive',\n",
              "                                                     [key], {});\n",
              "          if (!dataTable) return;\n",
              "\n",
              "          const docLinkHtml = 'Like what you see? Visit the ' +\n",
              "            '<a target=\"_blank\" href=https://colab.research.google.com/notebooks/data_table.ipynb>data table notebook</a>'\n",
              "            + ' to learn more about interactive tables.';\n",
              "          element.innerHTML = '';\n",
              "          dataTable['output_type'] = 'display_data';\n",
              "          await google.colab.output.renderOutput(dataTable, element);\n",
              "          const docLink = document.createElement('div');\n",
              "          docLink.innerHTML = docLinkHtml;\n",
              "          element.appendChild(docLink);\n",
              "        }\n",
              "      </script>\n",
              "    </div>\n",
              "  </div>\n",
              "  "
            ]
          },
          "metadata": {},
          "execution_count": 35
        }
      ],
      "source": [
        "Manu_grp = df.groupby([\"Handset Manufacturer\"])\n",
        "Manu_grp.get_group('Apple').iloc[:1 , 20:40]"
      ]
    },
    {
      "cell_type": "code",
      "execution_count": 36,
      "id": "75d46815",
      "metadata": {
        "id": "75d46815",
        "colab": {
          "base_uri": "https://localhost:8080/"
        },
        "outputId": "d13c9987-a341-4a98-d6ce-17713a2e55f8"
      },
      "outputs": [
        {
          "output_type": "execute_result",
          "data": {
            "text/plain": [
              "Handset Type\n",
              "Apple iPhone 6S (A1688)    9419\n",
              "Apple iPhone 6 (A1586)     9023\n",
              "Apple iPhone 7 (A1778)     6326\n",
              "Apple iPhone Se (A1723)    5187\n",
              "Apple iPhone 8 (A1905)     4993\n",
              "Name: Handset Type, dtype: int64"
            ]
          },
          "metadata": {},
          "execution_count": 36
        }
      ],
      "source": [
        "Manu_grp['Handset Type'].value_counts().loc['Apple'].head(5)"
      ]
    },
    {
      "cell_type": "code",
      "execution_count": 37,
      "id": "85d875d7",
      "metadata": {
        "id": "85d875d7",
        "colab": {
          "base_uri": "https://localhost:8080/"
        },
        "outputId": "2b8ed238-6244-465e-d28d-3405a8ebcd16"
      },
      "outputs": [
        {
          "output_type": "execute_result",
          "data": {
            "text/plain": [
              "Handset Type\n",
              "Samsung Galaxy S8 (Sm-G950F)    4520\n",
              "Samsung Galaxy A5 Sm-A520F      3724\n",
              "Samsung Galaxy J5 (Sm-J530)     3696\n",
              "Samsung Galaxy J3 (Sm-J330)     3484\n",
              "Samsung Galaxy S7 (Sm-G930X)    3199\n",
              "Name: Handset Type, dtype: int64"
            ]
          },
          "metadata": {},
          "execution_count": 37
        }
      ],
      "source": [
        "Manu_grp['Handset Type'].value_counts().loc['Samsung'].head(5)"
      ]
    },
    {
      "cell_type": "code",
      "execution_count": 38,
      "id": "f2ccdd2b",
      "metadata": {
        "id": "f2ccdd2b",
        "colab": {
          "base_uri": "https://localhost:8080/"
        },
        "outputId": "563e2b94-f656-4057-c1de-ce63b2876eb5"
      },
      "outputs": [
        {
          "output_type": "execute_result",
          "data": {
            "text/plain": [
              "Handset Type\n",
              "Huawei B528S-23A                  19752\n",
              "Huawei E5180                       2079\n",
              "Huawei P20 Lite Huawei Nova 3E     2021\n",
              "Huawei P20                         1480\n",
              "Huawei Y6 2018                      997\n",
              "Name: Handset Type, dtype: int64"
            ]
          },
          "metadata": {},
          "execution_count": 38
        }
      ],
      "source": [
        "Manu_grp['Handset Type'].value_counts().loc['Huawei'].head(5)"
      ]
    },
    {
      "cell_type": "markdown",
      "id": "c1ff4cb4",
      "metadata": {
        "id": "c1ff4cb4"
      },
      "source": [
        "### interpretation and recommendation to marketing teams\n",
        "The data between Handset Manufacturer and Handset Type shows that most of the users from the sample data use the manufacturer Apple product\n"
      ]
    },
    {
      "cell_type": "code",
      "execution_count": 39,
      "id": "bcbd5812",
      "metadata": {
        "id": "bcbd5812",
        "colab": {
          "base_uri": "https://localhost:8080/"
        },
        "outputId": "17cca69f-b14b-4ba5-94e2-3300d8123322"
      },
      "outputs": [
        {
          "output_type": "execute_result",
          "data": {
            "text/plain": [
              "3.362632e+10    1084\n",
              "3.361489e+10      17\n",
              "3.362578e+10      17\n",
              "3.365973e+10      16\n",
              "3.376054e+10      15\n",
              "                ... \n",
              "3.368998e+10       1\n",
              "3.376372e+10       1\n",
              "3.360748e+10       1\n",
              "3.369955e+10       1\n",
              "3.361962e+10       1\n",
              "Name: MSISDN/Number, Length: 106856, dtype: int64"
            ]
          },
          "metadata": {},
          "execution_count": 39
        }
      ],
      "source": [
        "df[\"MSISDN/Number\"].value_counts()"
      ]
    },
    {
      "cell_type": "code",
      "execution_count": 40,
      "id": "02769d4d",
      "metadata": {
        "id": "02769d4d"
      },
      "outputs": [],
      "source": [
        "User_grp = df.groupby([\"MSISDN/Number\"])\n",
        "# User_grp.get_group('3.362632e+10')"
      ]
    },
    {
      "cell_type": "code",
      "execution_count": 41,
      "id": "82269a31",
      "metadata": {
        "id": "82269a31",
        "colab": {
          "base_uri": "https://localhost:8080/"
        },
        "outputId": "d0ec429a-b2ad-428e-ca6a-59017c2ba821"
      },
      "outputs": [
        {
          "output_type": "execute_result",
          "data": {
            "text/plain": [
              "MSISDN/Number  Bearer Id   \n",
              "3.360100e+10   1.311448e+19    1\n",
              "               7.349883e+18    1\n",
              "               7.349883e+18    1\n",
              "3.360101e+10   1.304243e+19    1\n",
              "               7.277826e+18    1\n",
              "                              ..\n",
              "3.379000e+10   1.304243e+19    1\n",
              "               1.311448e+19    1\n",
              "3.197021e+12   7.277826e+18    1\n",
              "3.370000e+14   7.349883e+18    1\n",
              "8.823971e+14   7.277826e+18    1\n",
              "Name: Bearer Id, Length: 147958, dtype: int64"
            ]
          },
          "metadata": {},
          "execution_count": 41
        }
      ],
      "source": [
        "User_grp['Bearer Id'].value_counts()"
      ]
    },
    {
      "cell_type": "code",
      "execution_count": 42,
      "id": "e837f579",
      "metadata": {
        "id": "e837f579",
        "colab": {
          "base_uri": "https://localhost:8080/"
        },
        "outputId": "aa1f5d23-a299-46c7-b189-5f26efd1c04c"
      },
      "outputs": [
        {
          "output_type": "execute_result",
          "data": {
            "text/plain": [
              "MSISDN/Number\n",
              "3.360100e+10    1.311448e+19\n",
              "3.360100e+10    7.349883e+18\n",
              "3.360100e+10    7.349883e+18\n",
              "3.360101e+10    1.304243e+19\n",
              "3.360101e+10    7.313854e+18\n",
              "                    ...     \n",
              "3.379000e+10    1.304243e+19\n",
              "3.379000e+10    1.311448e+19\n",
              "3.197021e+12    7.277826e+18\n",
              "3.370000e+14    7.349883e+18\n",
              "8.823971e+14    7.277826e+18\n",
              "Name: Bearer Id, Length: 106856, dtype: float64"
            ]
          },
          "metadata": {},
          "execution_count": 42
        }
      ],
      "source": [
        "User_grp['Bearer Id'].median()"
      ]
    },
    {
      "cell_type": "code",
      "execution_count": 43,
      "id": "01458fb0",
      "metadata": {
        "id": "01458fb0",
        "colab": {
          "base_uri": "https://localhost:8080/"
        },
        "outputId": "296cc28c-daea-4a77-8993-e23d81006641"
      },
      "outputs": [
        {
          "output_type": "execute_result",
          "data": {
            "text/plain": [
              "MSISDN/Number\n",
              "3.360100e+10    1.311448e+19\n",
              "3.360100e+10    7.349883e+18\n",
              "3.360100e+10    7.349883e+18\n",
              "3.360101e+10    1.304243e+19\n",
              "3.360101e+10    7.313854e+18\n",
              "                    ...     \n",
              "3.379000e+10    1.304243e+19\n",
              "3.379000e+10    1.311448e+19\n",
              "3.197021e+12    7.277826e+18\n",
              "3.370000e+14    7.349883e+18\n",
              "8.823971e+14    7.277826e+18\n",
              "Name: Bearer Id, Length: 106856, dtype: float64"
            ]
          },
          "metadata": {},
          "execution_count": 43
        }
      ],
      "source": [
        "User_grp['Bearer Id'].mean()"
      ]
    },
    {
      "cell_type": "code",
      "execution_count": 44,
      "id": "fae27c96",
      "metadata": {
        "id": "fae27c96",
        "colab": {
          "base_uri": "https://localhost:8080/",
          "height": 0
        },
        "outputId": "28b8ae7f-146c-4a20-bb27-770fbef5e8fe"
      },
      "outputs": [
        {
          "output_type": "execute_result",
          "data": {
            "text/plain": [
              "                     median          mean\n",
              "MSISDN/Number                            \n",
              "3.360100e+10   3.360100e+10  3.360100e+10\n",
              "3.360100e+10   3.360100e+10  3.360100e+10\n",
              "3.360100e+10   3.360100e+10  3.360100e+10\n",
              "3.360101e+10   3.360101e+10  3.360101e+10\n",
              "3.360101e+10   3.360101e+10  3.360101e+10\n",
              "...                     ...           ...\n",
              "3.379000e+10   3.379000e+10  3.379000e+10\n",
              "3.379000e+10   3.379000e+10  3.379000e+10\n",
              "3.197021e+12   3.197021e+12  3.197021e+12\n",
              "3.370000e+14   3.370000e+14  3.370000e+14\n",
              "8.823971e+14   8.823971e+14  8.823971e+14\n",
              "\n",
              "[106856 rows x 2 columns]"
            ],
            "text/html": [
              "\n",
              "  <div id=\"df-bbf99538-d906-43dd-bb57-8f42a4213c5e\">\n",
              "    <div class=\"colab-df-container\">\n",
              "      <div>\n",
              "<style scoped>\n",
              "    .dataframe tbody tr th:only-of-type {\n",
              "        vertical-align: middle;\n",
              "    }\n",
              "\n",
              "    .dataframe tbody tr th {\n",
              "        vertical-align: top;\n",
              "    }\n",
              "\n",
              "    .dataframe thead th {\n",
              "        text-align: right;\n",
              "    }\n",
              "</style>\n",
              "<table border=\"1\" class=\"dataframe\">\n",
              "  <thead>\n",
              "    <tr style=\"text-align: right;\">\n",
              "      <th></th>\n",
              "      <th>median</th>\n",
              "      <th>mean</th>\n",
              "    </tr>\n",
              "    <tr>\n",
              "      <th>MSISDN/Number</th>\n",
              "      <th></th>\n",
              "      <th></th>\n",
              "    </tr>\n",
              "  </thead>\n",
              "  <tbody>\n",
              "    <tr>\n",
              "      <th>3.360100e+10</th>\n",
              "      <td>3.360100e+10</td>\n",
              "      <td>3.360100e+10</td>\n",
              "    </tr>\n",
              "    <tr>\n",
              "      <th>3.360100e+10</th>\n",
              "      <td>3.360100e+10</td>\n",
              "      <td>3.360100e+10</td>\n",
              "    </tr>\n",
              "    <tr>\n",
              "      <th>3.360100e+10</th>\n",
              "      <td>3.360100e+10</td>\n",
              "      <td>3.360100e+10</td>\n",
              "    </tr>\n",
              "    <tr>\n",
              "      <th>3.360101e+10</th>\n",
              "      <td>3.360101e+10</td>\n",
              "      <td>3.360101e+10</td>\n",
              "    </tr>\n",
              "    <tr>\n",
              "      <th>3.360101e+10</th>\n",
              "      <td>3.360101e+10</td>\n",
              "      <td>3.360101e+10</td>\n",
              "    </tr>\n",
              "    <tr>\n",
              "      <th>...</th>\n",
              "      <td>...</td>\n",
              "      <td>...</td>\n",
              "    </tr>\n",
              "    <tr>\n",
              "      <th>3.379000e+10</th>\n",
              "      <td>3.379000e+10</td>\n",
              "      <td>3.379000e+10</td>\n",
              "    </tr>\n",
              "    <tr>\n",
              "      <th>3.379000e+10</th>\n",
              "      <td>3.379000e+10</td>\n",
              "      <td>3.379000e+10</td>\n",
              "    </tr>\n",
              "    <tr>\n",
              "      <th>3.197021e+12</th>\n",
              "      <td>3.197021e+12</td>\n",
              "      <td>3.197021e+12</td>\n",
              "    </tr>\n",
              "    <tr>\n",
              "      <th>3.370000e+14</th>\n",
              "      <td>3.370000e+14</td>\n",
              "      <td>3.370000e+14</td>\n",
              "    </tr>\n",
              "    <tr>\n",
              "      <th>8.823971e+14</th>\n",
              "      <td>8.823971e+14</td>\n",
              "      <td>8.823971e+14</td>\n",
              "    </tr>\n",
              "  </tbody>\n",
              "</table>\n",
              "<p>106856 rows × 2 columns</p>\n",
              "</div>\n",
              "      <button class=\"colab-df-convert\" onclick=\"convertToInteractive('df-bbf99538-d906-43dd-bb57-8f42a4213c5e')\"\n",
              "              title=\"Convert this dataframe to an interactive table.\"\n",
              "              style=\"display:none;\">\n",
              "        \n",
              "  <svg xmlns=\"http://www.w3.org/2000/svg\" height=\"24px\"viewBox=\"0 0 24 24\"\n",
              "       width=\"24px\">\n",
              "    <path d=\"M0 0h24v24H0V0z\" fill=\"none\"/>\n",
              "    <path d=\"M18.56 5.44l.94 2.06.94-2.06 2.06-.94-2.06-.94-.94-2.06-.94 2.06-2.06.94zm-11 1L8.5 8.5l.94-2.06 2.06-.94-2.06-.94L8.5 2.5l-.94 2.06-2.06.94zm10 10l.94 2.06.94-2.06 2.06-.94-2.06-.94-.94-2.06-.94 2.06-2.06.94z\"/><path d=\"M17.41 7.96l-1.37-1.37c-.4-.4-.92-.59-1.43-.59-.52 0-1.04.2-1.43.59L10.3 9.45l-7.72 7.72c-.78.78-.78 2.05 0 2.83L4 21.41c.39.39.9.59 1.41.59.51 0 1.02-.2 1.41-.59l7.78-7.78 2.81-2.81c.8-.78.8-2.07 0-2.86zM5.41 20L4 18.59l7.72-7.72 1.47 1.35L5.41 20z\"/>\n",
              "  </svg>\n",
              "      </button>\n",
              "      \n",
              "  <style>\n",
              "    .colab-df-container {\n",
              "      display:flex;\n",
              "      flex-wrap:wrap;\n",
              "      gap: 12px;\n",
              "    }\n",
              "\n",
              "    .colab-df-convert {\n",
              "      background-color: #E8F0FE;\n",
              "      border: none;\n",
              "      border-radius: 50%;\n",
              "      cursor: pointer;\n",
              "      display: none;\n",
              "      fill: #1967D2;\n",
              "      height: 32px;\n",
              "      padding: 0 0 0 0;\n",
              "      width: 32px;\n",
              "    }\n",
              "\n",
              "    .colab-df-convert:hover {\n",
              "      background-color: #E2EBFA;\n",
              "      box-shadow: 0px 1px 2px rgba(60, 64, 67, 0.3), 0px 1px 3px 1px rgba(60, 64, 67, 0.15);\n",
              "      fill: #174EA6;\n",
              "    }\n",
              "\n",
              "    [theme=dark] .colab-df-convert {\n",
              "      background-color: #3B4455;\n",
              "      fill: #D2E3FC;\n",
              "    }\n",
              "\n",
              "    [theme=dark] .colab-df-convert:hover {\n",
              "      background-color: #434B5C;\n",
              "      box-shadow: 0px 1px 3px 1px rgba(0, 0, 0, 0.15);\n",
              "      filter: drop-shadow(0px 1px 2px rgba(0, 0, 0, 0.3));\n",
              "      fill: #FFFFFF;\n",
              "    }\n",
              "  </style>\n",
              "\n",
              "      <script>\n",
              "        const buttonEl =\n",
              "          document.querySelector('#df-bbf99538-d906-43dd-bb57-8f42a4213c5e button.colab-df-convert');\n",
              "        buttonEl.style.display =\n",
              "          google.colab.kernel.accessAllowed ? 'block' : 'none';\n",
              "\n",
              "        async function convertToInteractive(key) {\n",
              "          const element = document.querySelector('#df-bbf99538-d906-43dd-bb57-8f42a4213c5e');\n",
              "          const dataTable =\n",
              "            await google.colab.kernel.invokeFunction('convertToInteractive',\n",
              "                                                     [key], {});\n",
              "          if (!dataTable) return;\n",
              "\n",
              "          const docLinkHtml = 'Like what you see? Visit the ' +\n",
              "            '<a target=\"_blank\" href=https://colab.research.google.com/notebooks/data_table.ipynb>data table notebook</a>'\n",
              "            + ' to learn more about interactive tables.';\n",
              "          element.innerHTML = '';\n",
              "          dataTable['output_type'] = 'display_data';\n",
              "          await google.colab.output.renderOutput(dataTable, element);\n",
              "          const docLink = document.createElement('div');\n",
              "          docLink.innerHTML = docLinkHtml;\n",
              "          element.appendChild(docLink);\n",
              "        }\n",
              "      </script>\n",
              "    </div>\n",
              "  </div>\n",
              "  "
            ]
          },
          "metadata": {},
          "execution_count": 44
        }
      ],
      "source": [
        "User_grp[\"MSISDN/Number\"].agg(['median', 'mean'])"
      ]
    },
    {
      "cell_type": "code",
      "execution_count": 45,
      "id": "f8f2cc2b",
      "metadata": {
        "id": "f8f2cc2b",
        "colab": {
          "base_uri": "https://localhost:8080/"
        },
        "outputId": "1af412f9-59e4-47f6-e2be-6529746d83b6"
      },
      "outputs": [
        {
          "output_type": "execute_result",
          "data": {
            "text/plain": [
              "MSISDN/Number  Dur. (ms)\n",
              "3.360100e+10   116720.0     1\n",
              "               181230.0     1\n",
              "               134969.0     1\n",
              "3.360101e+10   49878.0      1\n",
              "               18549.0      1\n",
              "                           ..\n",
              "3.379000e+10   8810.0       1\n",
              "               140988.0     1\n",
              "3.197021e+12   877385.0     1\n",
              "3.370000e+14   253030.0     1\n",
              "8.823971e+14   869844.0     1\n",
              "Name: Dur. (ms), Length: 142480, dtype: int64"
            ]
          },
          "metadata": {},
          "execution_count": 45
        }
      ],
      "source": [
        "User_grp['Dur. (ms)'].value_counts()"
      ]
    },
    {
      "cell_type": "markdown",
      "id": "14409747",
      "metadata": {
        "id": "14409747"
      },
      "source": [
        "### number of xDR sessions and Session duration per user\n",
        "\n"
      ]
    },
    {
      "cell_type": "code",
      "source": [
        "Userstot_grp = df.groupby([\"MSISDN/Number\"])"
      ],
      "metadata": {
        "colab": {
          "base_uri": "https://localhost:8080/",
          "height": 165
        },
        "id": "SsczLZwTHYac",
        "outputId": "4705a11a-cace-491b-bf01-995599cb91f6"
      },
      "id": "SsczLZwTHYac",
      "execution_count": 1,
      "outputs": [
        {
          "output_type": "error",
          "ename": "NameError",
          "evalue": "ignored",
          "traceback": [
            "\u001b[0;31m---------------------------------------------------------------------------\u001b[0m",
            "\u001b[0;31mNameError\u001b[0m                                 Traceback (most recent call last)",
            "\u001b[0;32m<ipython-input-1-53ee5fbad726>\u001b[0m in \u001b[0;36m<module>\u001b[0;34m()\u001b[0m\n\u001b[0;32m----> 1\u001b[0;31m \u001b[0mUserstot_grp\u001b[0m \u001b[0;34m=\u001b[0m \u001b[0mdf\u001b[0m\u001b[0;34m.\u001b[0m\u001b[0mgroupby\u001b[0m\u001b[0;34m(\u001b[0m\u001b[0;34m[\u001b[0m\u001b[0;34m\"MSISDN/Number\"\u001b[0m\u001b[0;34m]\u001b[0m\u001b[0;34m)\u001b[0m\u001b[0;34m\u001b[0m\u001b[0;34m\u001b[0m\u001b[0m\n\u001b[0m",
            "\u001b[0;31mNameError\u001b[0m: name 'df' is not defined"
          ]
        }
      ]
    },
    {
      "cell_type": "code",
      "source": [
        "Userstot_grp[\"Bearer Id\"].value_counts().head()"
      ],
      "metadata": {
        "id": "cb-b0Ew7IsPp"
      },
      "id": "cb-b0Ew7IsPp",
      "execution_count": null,
      "outputs": []
    },
    {
      "cell_type": "code",
      "source": [
        "Userstot_grp[\"Dur. (ms)\"].value_counts().head()"
      ],
      "metadata": {
        "id": "b__-HbK_JALt"
      },
      "id": "b__-HbK_JALt",
      "execution_count": null,
      "outputs": []
    },
    {
      "cell_type": "markdown",
      "source": [
        "The total data volume (in Bytes) during this session for each application"
      ],
      "metadata": {
        "id": "Nj0qUosbHV4q"
      },
      "id": "Nj0qUosbHV4q"
    },
    {
      "cell_type": "code",
      "execution_count": 46,
      "id": "6a49083c",
      "metadata": {
        "id": "6a49083c"
      },
      "outputs": [],
      "source": [
        "Users_grp = df.groupby([\"MSISDN/Number\", \"Social Media DL (Bytes)\" , 'Google DL (Bytes)', 'Email DL (Bytes)' ,'Youtube DL (Bytes)', 'Netflix DL (Bytes)', 'Gaming DL (Bytes)', 'Other DL (Bytes)'])"
      ]
    },
    {
      "cell_type": "code",
      "execution_count": 47,
      "id": "76dd635c",
      "metadata": {
        "id": "76dd635c",
        "colab": {
          "base_uri": "https://localhost:8080/"
        },
        "outputId": "75db059b-e2b2-40ce-e140-2a329b86ed3c"
      },
      "outputs": [
        {
          "output_type": "execute_result",
          "data": {
            "text/plain": [
              "MSISDN/Number  Social Media DL (Bytes)  Google DL (Bytes)  Email DL (Bytes)  Youtube DL (Bytes)  Netflix DL (Bytes)  Gaming DL (Bytes)  Other DL (Bytes)  Total UL (Bytes)\n",
              "3.360100e+10   2206504.0                3337123.0          837400.0          14900201.0          10265105.0          811091133.0        377096990.0       36053108.0          1\n",
              "               2598548.0                4197697.0          2828821.0         5324251.0           770569.0            105035298.0        279557701.0       36104459.0          1\n",
              "               3148004.0                3343483.0          2436500.0         2137272.0           16525919.0          529068485.0        495086501.0       39306820.0          1\n",
              "3.360101e+10   251469.0                 5937765.0          2178618.0         4393123.0           1157362.0           388074835.0        25248001.0        20327526.0          1\n",
              "               1359904.0                6309062.0          979859.0          8027633.0           21177155.0          509243324.0        705348475.0       38481427.0          1\n",
              "Name: Total UL (Bytes), dtype: int64"
            ]
          },
          "metadata": {},
          "execution_count": 47
        }
      ],
      "source": [
        "Users_grp['Total UL (Bytes)'].value_counts().head()"
      ]
    },
    {
      "cell_type": "code",
      "execution_count": 48,
      "id": "4711dc3e",
      "metadata": {
        "id": "4711dc3e",
        "colab": {
          "base_uri": "https://localhost:8080/"
        },
        "outputId": "187d6488-4295-4b24-fc69-d7fb9543e5b4"
      },
      "outputs": [
        {
          "output_type": "execute_result",
          "data": {
            "text/plain": [
              "MSISDN/Number  Social Media DL (Bytes)  Google DL (Bytes)  Email DL (Bytes)  Youtube DL (Bytes)  Netflix DL (Bytes)  Gaming DL (Bytes)  Other DL (Bytes)  Total DL (Bytes)\n",
              "3.360100e+10   2206504.0                3337123.0          837400.0          14900201.0          10265105.0          811091133.0        377096990.0       36053108.0          1\n",
              "               2598548.0                4197697.0          2828821.0         5324251.0           770569.0            105035298.0        279557701.0       36104459.0          1\n",
              "               3148004.0                3343483.0          2436500.0         2137272.0           16525919.0          529068485.0        495086501.0       39306820.0          1\n",
              "3.360101e+10   251469.0                 5937765.0          2178618.0         4393123.0           1157362.0           388074835.0        25248001.0        20327526.0          1\n",
              "               1359904.0                6309062.0          979859.0          8027633.0           21177155.0          509243324.0        705348475.0       38481427.0          1\n",
              "Name: Total DL (Bytes), dtype: int64"
            ]
          },
          "metadata": {},
          "execution_count": 48
        }
      ],
      "source": [
        "Users_grp['Total DL (Bytes)'].value_counts().head(5)"
      ]
    },
    {
      "cell_type": "code",
      "execution_count": 49,
      "id": "42dca067",
      "metadata": {
        "id": "42dca067",
        "colab": {
          "base_uri": "https://localhost:8080/",
          "height": 411
        },
        "outputId": "73522046-fbb8-4e65-fe76-fd9f7bdc4efc"
      },
      "outputs": [
        {
          "output_type": "execute_result",
          "data": {
            "text/plain": [
              "          Bearer Id       Start ms         End ms     Dur. (ms)  \\\n",
              "count  1.500010e+05  150001.000000  150001.000000  1.500010e+05   \n",
              "mean   1.015806e+19     499.189512     498.799735  1.046085e+05   \n",
              "std    2.893178e+18     288.611320     288.097034  8.103735e+04   \n",
              "min    6.917538e+18       0.000000       0.000000  7.142000e+03   \n",
              "25%    7.349883e+18     250.000000     251.000000  5.744200e+04   \n",
              "50%    7.349883e+18     499.000000     500.000000  8.639900e+04   \n",
              "75%    1.304243e+19     749.000000     750.000000  1.324300e+05   \n",
              "max    1.318654e+19     999.000000     999.000000  1.859336e+06   \n",
              "\n",
              "       MSISDN/Number  Avg RTT DL (ms)  Avg RTT UL (ms)  \\\n",
              "count   1.500010e+05    150001.000000    150001.000000   \n",
              "mean    4.182414e+10        94.620523        15.315031   \n",
              "std     2.438731e+12       560.245617        76.687998   \n",
              "min     3.360100e+10         0.000000         0.000000   \n",
              "25%     3.365094e+10        28.000000         3.000000   \n",
              "50%     3.366361e+10        38.000000         5.000000   \n",
              "75%     3.368307e+10        62.000000        11.000000   \n",
              "max     8.823971e+14     96923.000000      7120.000000   \n",
              "\n",
              "       Avg Bearer TP DL (kbps)  Avg Bearer TP UL (kbps)  DL TP < 50 Kbps (%)  \\\n",
              "count            150001.000000            150001.000000        150001.000000   \n",
              "mean              13299.957414              1770.417111            92.378057   \n",
              "std               23971.823147              4625.342240            14.568754   \n",
              "min                   0.000000                 0.000000             0.000000   \n",
              "25%                  43.000000                47.000000            90.000000   \n",
              "50%                  63.000000                63.000000           100.000000   \n",
              "75%               19710.000000              1120.000000           100.000000   \n",
              "max              378160.000000             58613.000000           100.000000   \n",
              "\n",
              "       ...  Youtube DL (Bytes)  Youtube UL (Bytes)  Netflix DL (Bytes)  \\\n",
              "count  ...        1.500010e+05        1.500010e+05        1.500010e+05   \n",
              "mean   ...        1.163407e+07        1.100941e+07        1.162685e+07   \n",
              "std    ...        6.710569e+06        6.345423e+06        6.725218e+06   \n",
              "min    ...        5.300000e+01        1.050000e+02        4.200000e+01   \n",
              "25%    ...        5.833501e+06        5.517965e+06        5.777156e+06   \n",
              "50%    ...        1.161602e+07        1.101345e+07        1.164222e+07   \n",
              "75%    ...        1.744852e+07        1.651556e+07        1.747048e+07   \n",
              "max    ...        2.325910e+07        2.201196e+07        2.325919e+07   \n",
              "\n",
              "       Netflix UL (Bytes)  Gaming DL (Bytes)  Gaming UL (Bytes)  \\\n",
              "count        1.500010e+05       1.500010e+05       1.500010e+05   \n",
              "mean         1.100175e+07       4.220447e+08       8.288398e+06   \n",
              "std          6.359490e+06       2.439675e+08       4.782700e+06   \n",
              "min          3.500000e+01       2.516000e+03       5.900000e+01   \n",
              "25%          5.475981e+06       2.104733e+08       4.128476e+06   \n",
              "50%          1.099638e+07       4.234081e+08       8.291208e+06   \n",
              "75%          1.650727e+07       6.331742e+08       1.243162e+07   \n",
              "max          2.201196e+07       8.434419e+08       1.655879e+07   \n",
              "\n",
              "       Other DL (Bytes)  Other UL (Bytes)  Total UL (Bytes)  Total DL (Bytes)  \n",
              "count      1.500010e+05      1.500010e+05      1.500010e+05      1.500010e+05  \n",
              "mean       4.211005e+08      8.264799e+06      4.112106e+07      4.112106e+07  \n",
              "std        2.432050e+08      4.769004e+06      1.127649e+07      1.127649e+07  \n",
              "min        3.290000e+03      1.480000e+02      2.866892e+06      2.866892e+06  \n",
              "25%        2.101869e+08      4.145943e+06      3.322196e+07      3.322196e+07  \n",
              "50%        4.218030e+08      8.267071e+06      4.114324e+07      4.114324e+07  \n",
              "75%        6.316918e+08      1.238415e+07      4.903424e+07      4.903424e+07  \n",
              "max        8.434425e+08      1.655882e+07      7.833131e+07      7.833131e+07  \n",
              "\n",
              "[8 rows x 38 columns]"
            ],
            "text/html": [
              "\n",
              "  <div id=\"df-aa29b1b4-f799-462f-a68b-1e63568d86f2\">\n",
              "    <div class=\"colab-df-container\">\n",
              "      <div>\n",
              "<style scoped>\n",
              "    .dataframe tbody tr th:only-of-type {\n",
              "        vertical-align: middle;\n",
              "    }\n",
              "\n",
              "    .dataframe tbody tr th {\n",
              "        vertical-align: top;\n",
              "    }\n",
              "\n",
              "    .dataframe thead th {\n",
              "        text-align: right;\n",
              "    }\n",
              "</style>\n",
              "<table border=\"1\" class=\"dataframe\">\n",
              "  <thead>\n",
              "    <tr style=\"text-align: right;\">\n",
              "      <th></th>\n",
              "      <th>Bearer Id</th>\n",
              "      <th>Start ms</th>\n",
              "      <th>End ms</th>\n",
              "      <th>Dur. (ms)</th>\n",
              "      <th>MSISDN/Number</th>\n",
              "      <th>Avg RTT DL (ms)</th>\n",
              "      <th>Avg RTT UL (ms)</th>\n",
              "      <th>Avg Bearer TP DL (kbps)</th>\n",
              "      <th>Avg Bearer TP UL (kbps)</th>\n",
              "      <th>DL TP &lt; 50 Kbps (%)</th>\n",
              "      <th>...</th>\n",
              "      <th>Youtube DL (Bytes)</th>\n",
              "      <th>Youtube UL (Bytes)</th>\n",
              "      <th>Netflix DL (Bytes)</th>\n",
              "      <th>Netflix UL (Bytes)</th>\n",
              "      <th>Gaming DL (Bytes)</th>\n",
              "      <th>Gaming UL (Bytes)</th>\n",
              "      <th>Other DL (Bytes)</th>\n",
              "      <th>Other UL (Bytes)</th>\n",
              "      <th>Total UL (Bytes)</th>\n",
              "      <th>Total DL (Bytes)</th>\n",
              "    </tr>\n",
              "  </thead>\n",
              "  <tbody>\n",
              "    <tr>\n",
              "      <th>count</th>\n",
              "      <td>1.500010e+05</td>\n",
              "      <td>150001.000000</td>\n",
              "      <td>150001.000000</td>\n",
              "      <td>1.500010e+05</td>\n",
              "      <td>1.500010e+05</td>\n",
              "      <td>150001.000000</td>\n",
              "      <td>150001.000000</td>\n",
              "      <td>150001.000000</td>\n",
              "      <td>150001.000000</td>\n",
              "      <td>150001.000000</td>\n",
              "      <td>...</td>\n",
              "      <td>1.500010e+05</td>\n",
              "      <td>1.500010e+05</td>\n",
              "      <td>1.500010e+05</td>\n",
              "      <td>1.500010e+05</td>\n",
              "      <td>1.500010e+05</td>\n",
              "      <td>1.500010e+05</td>\n",
              "      <td>1.500010e+05</td>\n",
              "      <td>1.500010e+05</td>\n",
              "      <td>1.500010e+05</td>\n",
              "      <td>1.500010e+05</td>\n",
              "    </tr>\n",
              "    <tr>\n",
              "      <th>mean</th>\n",
              "      <td>1.015806e+19</td>\n",
              "      <td>499.189512</td>\n",
              "      <td>498.799735</td>\n",
              "      <td>1.046085e+05</td>\n",
              "      <td>4.182414e+10</td>\n",
              "      <td>94.620523</td>\n",
              "      <td>15.315031</td>\n",
              "      <td>13299.957414</td>\n",
              "      <td>1770.417111</td>\n",
              "      <td>92.378057</td>\n",
              "      <td>...</td>\n",
              "      <td>1.163407e+07</td>\n",
              "      <td>1.100941e+07</td>\n",
              "      <td>1.162685e+07</td>\n",
              "      <td>1.100175e+07</td>\n",
              "      <td>4.220447e+08</td>\n",
              "      <td>8.288398e+06</td>\n",
              "      <td>4.211005e+08</td>\n",
              "      <td>8.264799e+06</td>\n",
              "      <td>4.112106e+07</td>\n",
              "      <td>4.112106e+07</td>\n",
              "    </tr>\n",
              "    <tr>\n",
              "      <th>std</th>\n",
              "      <td>2.893178e+18</td>\n",
              "      <td>288.611320</td>\n",
              "      <td>288.097034</td>\n",
              "      <td>8.103735e+04</td>\n",
              "      <td>2.438731e+12</td>\n",
              "      <td>560.245617</td>\n",
              "      <td>76.687998</td>\n",
              "      <td>23971.823147</td>\n",
              "      <td>4625.342240</td>\n",
              "      <td>14.568754</td>\n",
              "      <td>...</td>\n",
              "      <td>6.710569e+06</td>\n",
              "      <td>6.345423e+06</td>\n",
              "      <td>6.725218e+06</td>\n",
              "      <td>6.359490e+06</td>\n",
              "      <td>2.439675e+08</td>\n",
              "      <td>4.782700e+06</td>\n",
              "      <td>2.432050e+08</td>\n",
              "      <td>4.769004e+06</td>\n",
              "      <td>1.127649e+07</td>\n",
              "      <td>1.127649e+07</td>\n",
              "    </tr>\n",
              "    <tr>\n",
              "      <th>min</th>\n",
              "      <td>6.917538e+18</td>\n",
              "      <td>0.000000</td>\n",
              "      <td>0.000000</td>\n",
              "      <td>7.142000e+03</td>\n",
              "      <td>3.360100e+10</td>\n",
              "      <td>0.000000</td>\n",
              "      <td>0.000000</td>\n",
              "      <td>0.000000</td>\n",
              "      <td>0.000000</td>\n",
              "      <td>0.000000</td>\n",
              "      <td>...</td>\n",
              "      <td>5.300000e+01</td>\n",
              "      <td>1.050000e+02</td>\n",
              "      <td>4.200000e+01</td>\n",
              "      <td>3.500000e+01</td>\n",
              "      <td>2.516000e+03</td>\n",
              "      <td>5.900000e+01</td>\n",
              "      <td>3.290000e+03</td>\n",
              "      <td>1.480000e+02</td>\n",
              "      <td>2.866892e+06</td>\n",
              "      <td>2.866892e+06</td>\n",
              "    </tr>\n",
              "    <tr>\n",
              "      <th>25%</th>\n",
              "      <td>7.349883e+18</td>\n",
              "      <td>250.000000</td>\n",
              "      <td>251.000000</td>\n",
              "      <td>5.744200e+04</td>\n",
              "      <td>3.365094e+10</td>\n",
              "      <td>28.000000</td>\n",
              "      <td>3.000000</td>\n",
              "      <td>43.000000</td>\n",
              "      <td>47.000000</td>\n",
              "      <td>90.000000</td>\n",
              "      <td>...</td>\n",
              "      <td>5.833501e+06</td>\n",
              "      <td>5.517965e+06</td>\n",
              "      <td>5.777156e+06</td>\n",
              "      <td>5.475981e+06</td>\n",
              "      <td>2.104733e+08</td>\n",
              "      <td>4.128476e+06</td>\n",
              "      <td>2.101869e+08</td>\n",
              "      <td>4.145943e+06</td>\n",
              "      <td>3.322196e+07</td>\n",
              "      <td>3.322196e+07</td>\n",
              "    </tr>\n",
              "    <tr>\n",
              "      <th>50%</th>\n",
              "      <td>7.349883e+18</td>\n",
              "      <td>499.000000</td>\n",
              "      <td>500.000000</td>\n",
              "      <td>8.639900e+04</td>\n",
              "      <td>3.366361e+10</td>\n",
              "      <td>38.000000</td>\n",
              "      <td>5.000000</td>\n",
              "      <td>63.000000</td>\n",
              "      <td>63.000000</td>\n",
              "      <td>100.000000</td>\n",
              "      <td>...</td>\n",
              "      <td>1.161602e+07</td>\n",
              "      <td>1.101345e+07</td>\n",
              "      <td>1.164222e+07</td>\n",
              "      <td>1.099638e+07</td>\n",
              "      <td>4.234081e+08</td>\n",
              "      <td>8.291208e+06</td>\n",
              "      <td>4.218030e+08</td>\n",
              "      <td>8.267071e+06</td>\n",
              "      <td>4.114324e+07</td>\n",
              "      <td>4.114324e+07</td>\n",
              "    </tr>\n",
              "    <tr>\n",
              "      <th>75%</th>\n",
              "      <td>1.304243e+19</td>\n",
              "      <td>749.000000</td>\n",
              "      <td>750.000000</td>\n",
              "      <td>1.324300e+05</td>\n",
              "      <td>3.368307e+10</td>\n",
              "      <td>62.000000</td>\n",
              "      <td>11.000000</td>\n",
              "      <td>19710.000000</td>\n",
              "      <td>1120.000000</td>\n",
              "      <td>100.000000</td>\n",
              "      <td>...</td>\n",
              "      <td>1.744852e+07</td>\n",
              "      <td>1.651556e+07</td>\n",
              "      <td>1.747048e+07</td>\n",
              "      <td>1.650727e+07</td>\n",
              "      <td>6.331742e+08</td>\n",
              "      <td>1.243162e+07</td>\n",
              "      <td>6.316918e+08</td>\n",
              "      <td>1.238415e+07</td>\n",
              "      <td>4.903424e+07</td>\n",
              "      <td>4.903424e+07</td>\n",
              "    </tr>\n",
              "    <tr>\n",
              "      <th>max</th>\n",
              "      <td>1.318654e+19</td>\n",
              "      <td>999.000000</td>\n",
              "      <td>999.000000</td>\n",
              "      <td>1.859336e+06</td>\n",
              "      <td>8.823971e+14</td>\n",
              "      <td>96923.000000</td>\n",
              "      <td>7120.000000</td>\n",
              "      <td>378160.000000</td>\n",
              "      <td>58613.000000</td>\n",
              "      <td>100.000000</td>\n",
              "      <td>...</td>\n",
              "      <td>2.325910e+07</td>\n",
              "      <td>2.201196e+07</td>\n",
              "      <td>2.325919e+07</td>\n",
              "      <td>2.201196e+07</td>\n",
              "      <td>8.434419e+08</td>\n",
              "      <td>1.655879e+07</td>\n",
              "      <td>8.434425e+08</td>\n",
              "      <td>1.655882e+07</td>\n",
              "      <td>7.833131e+07</td>\n",
              "      <td>7.833131e+07</td>\n",
              "    </tr>\n",
              "  </tbody>\n",
              "</table>\n",
              "<p>8 rows × 38 columns</p>\n",
              "</div>\n",
              "      <button class=\"colab-df-convert\" onclick=\"convertToInteractive('df-aa29b1b4-f799-462f-a68b-1e63568d86f2')\"\n",
              "              title=\"Convert this dataframe to an interactive table.\"\n",
              "              style=\"display:none;\">\n",
              "        \n",
              "  <svg xmlns=\"http://www.w3.org/2000/svg\" height=\"24px\"viewBox=\"0 0 24 24\"\n",
              "       width=\"24px\">\n",
              "    <path d=\"M0 0h24v24H0V0z\" fill=\"none\"/>\n",
              "    <path d=\"M18.56 5.44l.94 2.06.94-2.06 2.06-.94-2.06-.94-.94-2.06-.94 2.06-2.06.94zm-11 1L8.5 8.5l.94-2.06 2.06-.94-2.06-.94L8.5 2.5l-.94 2.06-2.06.94zm10 10l.94 2.06.94-2.06 2.06-.94-2.06-.94-.94-2.06-.94 2.06-2.06.94z\"/><path d=\"M17.41 7.96l-1.37-1.37c-.4-.4-.92-.59-1.43-.59-.52 0-1.04.2-1.43.59L10.3 9.45l-7.72 7.72c-.78.78-.78 2.05 0 2.83L4 21.41c.39.39.9.59 1.41.59.51 0 1.02-.2 1.41-.59l7.78-7.78 2.81-2.81c.8-.78.8-2.07 0-2.86zM5.41 20L4 18.59l7.72-7.72 1.47 1.35L5.41 20z\"/>\n",
              "  </svg>\n",
              "      </button>\n",
              "      \n",
              "  <style>\n",
              "    .colab-df-container {\n",
              "      display:flex;\n",
              "      flex-wrap:wrap;\n",
              "      gap: 12px;\n",
              "    }\n",
              "\n",
              "    .colab-df-convert {\n",
              "      background-color: #E8F0FE;\n",
              "      border: none;\n",
              "      border-radius: 50%;\n",
              "      cursor: pointer;\n",
              "      display: none;\n",
              "      fill: #1967D2;\n",
              "      height: 32px;\n",
              "      padding: 0 0 0 0;\n",
              "      width: 32px;\n",
              "    }\n",
              "\n",
              "    .colab-df-convert:hover {\n",
              "      background-color: #E2EBFA;\n",
              "      box-shadow: 0px 1px 2px rgba(60, 64, 67, 0.3), 0px 1px 3px 1px rgba(60, 64, 67, 0.15);\n",
              "      fill: #174EA6;\n",
              "    }\n",
              "\n",
              "    [theme=dark] .colab-df-convert {\n",
              "      background-color: #3B4455;\n",
              "      fill: #D2E3FC;\n",
              "    }\n",
              "\n",
              "    [theme=dark] .colab-df-convert:hover {\n",
              "      background-color: #434B5C;\n",
              "      box-shadow: 0px 1px 3px 1px rgba(0, 0, 0, 0.15);\n",
              "      filter: drop-shadow(0px 1px 2px rgba(0, 0, 0, 0.3));\n",
              "      fill: #FFFFFF;\n",
              "    }\n",
              "  </style>\n",
              "\n",
              "      <script>\n",
              "        const buttonEl =\n",
              "          document.querySelector('#df-aa29b1b4-f799-462f-a68b-1e63568d86f2 button.colab-df-convert');\n",
              "        buttonEl.style.display =\n",
              "          google.colab.kernel.accessAllowed ? 'block' : 'none';\n",
              "\n",
              "        async function convertToInteractive(key) {\n",
              "          const element = document.querySelector('#df-aa29b1b4-f799-462f-a68b-1e63568d86f2');\n",
              "          const dataTable =\n",
              "            await google.colab.kernel.invokeFunction('convertToInteractive',\n",
              "                                                     [key], {});\n",
              "          if (!dataTable) return;\n",
              "\n",
              "          const docLinkHtml = 'Like what you see? Visit the ' +\n",
              "            '<a target=\"_blank\" href=https://colab.research.google.com/notebooks/data_table.ipynb>data table notebook</a>'\n",
              "            + ' to learn more about interactive tables.';\n",
              "          element.innerHTML = '';\n",
              "          dataTable['output_type'] = 'display_data';\n",
              "          await google.colab.output.renderOutput(dataTable, element);\n",
              "          const docLink = document.createElement('div');\n",
              "          docLink.innerHTML = docLinkHtml;\n",
              "          element.appendChild(docLink);\n",
              "        }\n",
              "      </script>\n",
              "    </div>\n",
              "  </div>\n",
              "  "
            ]
          },
          "metadata": {},
          "execution_count": 49
        }
      ],
      "source": [
        "df.describe()"
      ]
    },
    {
      "cell_type": "markdown",
      "id": "891c1041",
      "metadata": {
        "id": "891c1041"
      },
      "source": [
        "## Data Exploration"
      ]
    },
    {
      "cell_type": "code",
      "execution_count": 50,
      "id": "cf000bf0",
      "metadata": {
        "id": "cf000bf0"
      },
      "outputs": [],
      "source": [
        "def plot_hist(df:pd.DataFrame, column:str, color:str)->None:\n",
        "    # plt.figure(figsize=(15, 10))\n",
        "    # fig, ax = plt.subplots(1, figsize=(12, 7))\n",
        "    sns.displot(data=df, x=column, color=color, kde=True, height=7, aspect=2)\n",
        "    plt.title(f'Distribution of {column}', size=20, fontweight='bold')\n",
        "    plt.show()\n",
        "    \n",
        "def plot_count(df:pd.DataFrame, column:str) -> None:\n",
        "    plt.figure(figsize=(12, 7))\n",
        "    sns.countplot(data=df, x=column)\n",
        "    plt.title(f'Distribution of {column}', size=20, fontweight='bold')\n",
        "    plt.show()\n",
        "    \n",
        "def plot_bar(df:pd.DataFrame, x_col:str, y_col:str, title:str, xlabel:str, ylabel:str)->None:\n",
        "    plt.figure(figsize=(12, 7))\n",
        "    sns.barplot(data = df, x=x_col, y=y_col)\n",
        "    plt.title(title, size=20)\n",
        "    plt.xticks(rotation=75, fontsize=14)\n",
        "    plt.yticks( fontsize=14)\n",
        "    plt.xlabel(xlabel, fontsize=16)\n",
        "    plt.ylabel(ylabel, fontsize=16)\n",
        "    plt.show()\n",
        "\n",
        "def plot_heatmap(df:pd.DataFrame, title:str, cbar=False)->None:\n",
        "    plt.figure(figsize=(12, 7))\n",
        "    sns.heatmap(df, annot=True, cmap='viridis', vmin=0, vmax=1, fmt='.2f', linewidths=.7, cbar=cbar )\n",
        "    plt.title(title, size=18, fontweight='bold')\n",
        "    plt.show()\n",
        "\n",
        "def plot_box(df:pd.DataFrame, x_col:str, title:str) -> None:\n",
        "    plt.figure(figsize=(12, 7))\n",
        "    sns.boxplot(data = df, x=x_col)\n",
        "    plt.title(title, size=20)\n",
        "    plt.xticks(rotation=75, fontsize=14)\n",
        "    plt.show()\n",
        "\n",
        "def plot_box_multi(df:pd.DataFrame, x_col:str, y_col:str, title:str) -> None:\n",
        "    plt.figure(figsize=(12, 7))\n",
        "    sns.boxplot(data = df, x=x_col, y=y_col)\n",
        "    plt.title(title, size=20)\n",
        "    plt.xticks(rotation=75, fontsize=14)\n",
        "    plt.yticks( fontsize=14)\n",
        "    plt.show()\n",
        "\n",
        "def plot_scatter(df: pd.DataFrame, x_col: str, y_col: str, title: str, hue: str, style: str) -> None:\n",
        "    plt.figure(figsize=(22, 12))\n",
        "    sns.scatterplot(data = df, x=x_col, y=y_col, hue=hue, style=style)\n",
        "    plt.title(title, size=20)\n",
        "    plt.xticks(fontsize=14)\n",
        "    plt.yticks( fontsize=14)\n",
        "    plt.show()\n"
      ]
    },
    {
      "cell_type": "markdown",
      "id": "4c234e88",
      "metadata": {
        "id": "4c234e88"
      },
      "source": [
        "###Univariate Analysis"
      ]
    },
    {
      "cell_type": "markdown",
      "source": [
        "Graphical\n"
      ],
      "metadata": {
        "id": "8L3FLHqOKAOU"
      },
      "id": "8L3FLHqOKAOU"
    },
    {
      "cell_type": "code",
      "source": [
        "plot_hist(df, \"Bearer Id\", \"red\")"
      ],
      "metadata": {
        "id": "yA2rHxi3KMYU"
      },
      "id": "yA2rHxi3KMYU",
      "execution_count": null,
      "outputs": []
    },
    {
      "cell_type": "code",
      "source": [
        "df[\"Bearer Id\"].describe()"
      ],
      "metadata": {
        "id": "EQFW0XXrLx_k"
      },
      "id": "EQFW0XXrLx_k",
      "execution_count": null,
      "outputs": []
    },
    {
      "cell_type": "code",
      "source": [
        "plot_hist(df, \"Dur. (ms)\", \"yellow\")"
      ],
      "metadata": {
        "id": "DmMp_ULmKb8E"
      },
      "id": "DmMp_ULmKb8E",
      "execution_count": null,
      "outputs": []
    },
    {
      "cell_type": "code",
      "source": [
        "df['Dur. (ms)'].describe()"
      ],
      "metadata": {
        "id": "2U8-ZzMBL3l7"
      },
      "id": "2U8-ZzMBL3l7",
      "execution_count": null,
      "outputs": []
    },
    {
      "cell_type": "code",
      "execution_count": 51,
      "id": "11487232",
      "metadata": {
        "id": "11487232",
        "outputId": "615d2e91-b4c7-4341-ed3d-2e346339bd71",
        "colab": {
          "base_uri": "https://localhost:8080/",
          "height": 534
        }
      },
      "outputs": [
        {
          "output_type": "display_data",
          "data": {
            "text/plain": [
              "<Figure size 1008x504 with 1 Axes>"
            ],
            "image/png": "[encoded data removed]"
          },
          "metadata": {
            "needs_background": "light"
          }
        }
      ],
      "source": [
        "plot_hist(df, \"Total UL (Bytes)\", \"blue\")"
      ]
    },
    {
      "cell_type": "code",
      "execution_count": 52,
      "id": "9d405f77",
      "metadata": {
        "id": "9d405f77",
        "colab": {
          "base_uri": "https://localhost:8080/"
        },
        "outputId": "14b1cbd1-27b6-4310-a89d-7465df98cf52"
      },
      "outputs": [
        {
          "output_type": "execute_result",
          "data": {
            "text/plain": [
              "count    1.500010e+05\n",
              "mean     4.112106e+07\n",
              "std      1.127649e+07\n",
              "min      2.866892e+06\n",
              "25%      3.322196e+07\n",
              "50%      4.114324e+07\n",
              "75%      4.903424e+07\n",
              "max      7.833131e+07\n",
              "Name: Total UL (Bytes), dtype: float64"
            ]
          },
          "metadata": {},
          "execution_count": 52
        }
      ],
      "source": [
        "df[\"Total UL (Bytes)\"].describe()"
      ]
    },
    {
      "cell_type": "code",
      "execution_count": 53,
      "id": "1103040b",
      "metadata": {
        "scrolled": true,
        "id": "1103040b",
        "colab": {
          "base_uri": "https://localhost:8080/",
          "height": 534
        },
        "outputId": "e3d7be71-68e0-43b7-a532-341ddadfe235"
      },
      "outputs": [
        {
          "output_type": "display_data",
          "data": {
            "text/plain": [
              "<Figure size 1008x504 with 1 Axes>"
            ],
            "image/png": "[encoded data removed]"
          },
          "metadata": {
            "needs_background": "light"
          }
        }
      ],
      "source": [
        "plot_hist(df, \"Total DL (Bytes)\", \"green\")"
      ]
    },
    {
      "cell_type": "code",
      "execution_count": 54,
      "id": "01682423",
      "metadata": {
        "id": "01682423",
        "colab": {
          "base_uri": "https://localhost:8080/"
        },
        "outputId": "47d76539-41b8-4f78-c17a-d5745e9cfe19"
      },
      "outputs": [
        {
          "output_type": "execute_result",
          "data": {
            "text/plain": [
              "count    1.500010e+05\n",
              "mean     4.112106e+07\n",
              "std      1.127649e+07\n",
              "min      2.866892e+06\n",
              "25%      3.322196e+07\n",
              "50%      4.114324e+07\n",
              "75%      4.903424e+07\n",
              "max      7.833131e+07\n",
              "Name: Total DL (Bytes), dtype: float64"
            ]
          },
          "metadata": {},
          "execution_count": 54
        }
      ],
      "source": [
        "df[\"Total DL (Bytes)\"].describe()"
      ]
    },
    {
      "cell_type": "markdown",
      "source": [
        "Non-Graphical"
      ],
      "metadata": {
        "id": "A3hu0UiOL8me"
      },
      "id": "A3hu0UiOL8me"
    },
    {
      "cell_type": "code",
      "source": [
        "plot_box(df, \"Bearer Id\", 'Bearer Id Outliers')"
      ],
      "metadata": {
        "id": "IcS9c5wcK3BI"
      },
      "id": "IcS9c5wcK3BI",
      "execution_count": null,
      "outputs": []
    },
    {
      "cell_type": "code",
      "source": [
        "plot_box(df, \"Dur. (ms)\", 'Dur. (ms) Outliers')"
      ],
      "metadata": {
        "id": "YZswj-0nKsKI"
      },
      "id": "YZswj-0nKsKI",
      "execution_count": null,
      "outputs": []
    },
    {
      "cell_type": "code",
      "execution_count": 55,
      "id": "456e5e6d",
      "metadata": {
        "id": "456e5e6d",
        "colab": {
          "base_uri": "https://localhost:8080/",
          "height": 466
        },
        "outputId": "1b58df5b-531e-4952-87c4-7e0882f633c8"
      },
      "outputs": [
        {
          "output_type": "display_data",
          "data": {
            "text/plain": [
              "<Figure size 864x504 with 1 Axes>"
            ],
            "image/png": "[encoded data removed]"
          },
          "metadata": {
            "needs_background": "light"
          }
        }
      ],
      "source": [
        "plot_box(df, \"Total UL (Bytes)\", 'Total DL (Bytes) Outliers')"
      ]
    },
    {
      "cell_type": "code",
      "source": [
        "plot_box(df, \"Total DL (Bytes)\", 'Total DL (Bytes) Outliers')"
      ],
      "metadata": {
        "colab": {
          "base_uri": "https://localhost:8080/",
          "height": 466
        },
        "id": "7i-D7RSzY9V4",
        "outputId": "27bade7e-ebdf-4c08-8e32-2d51d6a99fda"
      },
      "id": "7i-D7RSzY9V4",
      "execution_count": 56,
      "outputs": [
        {
          "output_type": "display_data",
          "data": {
            "text/plain": [
              "<Figure size 864x504 with 1 Axes>"
            ],
            "image/png": "[encoded data removed]"
          },
          "metadata": {
            "needs_background": "light"
          }
        }
      ]
    },
    {
      "cell_type": "code",
      "execution_count": 2,
      "id": "bee31422",
      "metadata": {
        "id": "bee31422",
        "colab": {
          "base_uri": "https://localhost:8080/",
          "height": 165
        },
        "outputId": "0e47ad7a-fddc-42d8-ec85-994d8d3d5a39"
      },
      "outputs": [
        {
          "output_type": "error",
          "ename": "NameError",
          "evalue": "ignored",
          "traceback": [
            "\u001b[0;31m---------------------------------------------------------------------------\u001b[0m",
            "\u001b[0;31mNameError\u001b[0m                                 Traceback (most recent call last)",
            "\u001b[0;32m<ipython-input-2-111384337352>\u001b[0m in \u001b[0;36m<module>\u001b[0;34m()\u001b[0m\n\u001b[0;32m----> 1\u001b[0;31m \u001b[0mplot_count\u001b[0m\u001b[0;34m(\u001b[0m\u001b[0mdf\u001b[0m\u001b[0;34m,\u001b[0m \u001b[0;34m\"Dur. (ms)\"\u001b[0m\u001b[0;34m)\u001b[0m\u001b[0;34m\u001b[0m\u001b[0;34m\u001b[0m\u001b[0m\n\u001b[0m",
            "\u001b[0;31mNameError\u001b[0m: name 'plot_count' is not defined"
          ]
        }
      ],
      "source": [
        "plot_count(df, \"Dur. (ms)\")"
      ]
    },
    {
      "cell_type": "markdown",
      "source": [
        "categorical variables"
      ],
      "metadata": {
        "id": "ENxHdlsJ5zM8"
      },
      "id": "ENxHdlsJ5zM8"
    },
    {
      "cell_type": "markdown",
      "source": [
        "Multivariate Analysis\n"
      ],
      "metadata": {
        "id": "q7ZlxIb8utVk"
      },
      "id": "q7ZlxIb8utVk"
    },
    {
      "cell_type": "markdown",
      "source": [
        "This analysis is done between user location, total UL (bytes) and total DL (bytes)\n"
      ],
      "metadata": {
        "id": "x8yvFoKPvOS5"
      },
      "id": "x8yvFoKPvOS5"
    },
    {
      "cell_type": "code",
      "source": [
        "plot_scatter(df.head(30), x_col=\"MSISDN/Number\", y_col=\"Total UL (Bytes)\", hue=\"Last Location Name\",\n",
        "             style=\"Last Location Name\", title=\"users vs users' location\")                                   \n"
      ],
      "metadata": {
        "id": "aGlE5tM_vC4u"
      },
      "id": "aGlE5tM_vC4u",
      "execution_count": null,
      "outputs": []
    },
    {
      "cell_type": "code",
      "source": [
        "plot_box_multi(df, x_col=\"MSISDN/Number\", y_col=\"Total DL (Bytes)\", title=\"Total DL (Bytes) outilers in users' MSISDN/Number column\")"
      ],
      "metadata": {
        "id": "w9ADOrnczV6A"
      },
      "id": "w9ADOrnczV6A",
      "execution_count": null,
      "outputs": []
    },
    {
      "cell_type": "markdown",
      "source": [
        "Bivarate Analysis"
      ],
      "metadata": {
        "id": "n7wYUm1P_fMQ"
      },
      "id": "n7wYUm1P_fMQ"
    },
    {
      "cell_type": "code",
      "source": [
        "sns.scatter(df['MSISDN/Number'], df['Total DL (Bytes)'])"
      ],
      "metadata": {
        "id": "u4uvIrR4_dnO"
      },
      "id": "u4uvIrR4_dnO",
      "execution_count": null,
      "outputs": []
    }
  ],
  "metadata": {
    "kernelspec": {
      "display_name": "Python 3 (ipykernel)",
      "language": "python",
      "name": "python3"
    },
    "language_info": {
      "codemirror_mode": {
        "name": "ipython",
        "version": 3
      },
      "file_extension": ".py",
      "mimetype": "text/x-python",
      "name": "python",
      "nbconvert_exporter": "python",
      "pygments_lexer": "ipython3",
      "version": "3.10.2"
    },
    "colab": {
      "name": "clean_excel_file.ipynb",
      "provenance": [],
      "collapsed_sections": [
        "df1ba8e6",
        "c1ff4cb4",
        "14409747"
      ]
    }
  },
  "nbformat": 4,
  "nbformat_minor": 5
}