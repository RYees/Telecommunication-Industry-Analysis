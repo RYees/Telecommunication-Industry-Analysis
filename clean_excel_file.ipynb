{
  "cells": [
    {
      "cell_type": "code",
      "execution_count": 10,
      "metadata": {
        "id": "8703434a"
      },
      "outputs": [],
      "source": [
        "import pandas as pd\n",
        "import numpy as np\n",
        "from scipy.stats import skew\n",
        "import matplotlib.pyplot as plt\n",
        "import matplotlib.pylab as plt\n",
        "import seaborn as sns\n",
        "from sklearn.preprocessing import StandardScaler\n",
        "from sklearn.preprocessing import Normalizer\n",
        "import sys\n",
        "sys.path.insert(0, '/content/drive/MyDrive/Telecommunication-Industry-Analysis')\n"
      ],
      "id": "8703434a"
    },
    {
      "cell_type": "code",
      "execution_count": 7,
      "metadata": {
        "id": "1Se-XTAvHj41"
      },
      "outputs": [],
      "source": [
        "# import clean_dataframe as cleanData"
      ],
      "id": "1Se-XTAvHj41"
    },
    {
      "cell_type": "code",
      "execution_count": 8,
      "metadata": {
        "colab": {
          "base_uri": "https://localhost:8080/"
        },
        "id": "b8e0a05c",
        "outputId": "1d5346e4-4723-44fa-fa7c-d24c61d99fb9"
      },
      "outputs": [
        {
          "output_type": "stream",
          "name": "stdout",
          "text": [
            "Drive already mounted at /content/drive; to attempt to forcibly remount, call drive.mount(\"/content/drive\", force_remount=True).\n"
          ]
        }
      ],
      "source": [
        "from google.colab import drive\n",
        "drive.mount('/content/drive')"
      ],
      "id": "b8e0a05c"
    },
    {
      "cell_type": "code",
      "execution_count": null,
      "metadata": {
        "id": "28cbf20c"
      },
      "outputs": [],
      "source": [
        "all_data = pd.read_excel(\"/content/drive/MyDrive/Telecommunication-Industry-Analysis/teleco_excel_file.xlsx\")\n",
        "\n",
        "# all_data.head()\n",
        "# pd.set_option('display.max_columns', 50)"
      ],
      "id": "28cbf20c"
    },
    {
      "cell_type": "code",
      "execution_count": 11,
      "metadata": {
        "id": "9ec5d61e"
      },
      "outputs": [],
      "source": [
        "# all_data.columns.tolist()"
      ],
      "id": "9ec5d61e"
    },
    {
      "cell_type": "code",
      "execution_count": null,
      "metadata": {
        "colab": {
          "base_uri": "https://localhost:8080/"
        },
        "id": "009389c8",
        "outputId": "4a5840d2-070d-4d3f-bd69-c8a0ae93cc9e"
      },
      "outputs": [
        {
          "output_type": "stream",
          "name": "stdout",
          "text": [
            " There are 150001 rows and 55 columns\n"
          ]
        }
      ],
      "source": [
        "print(f\" There are {all_data.shape[0]} rows and {all_data.shape[1]} columns\")"
      ],
      "id": "009389c8"
    },
    {
      "cell_type": "markdown",
      "metadata": {
        "id": "c9a02b6b"
      },
      "source": [
        "##### Dealing with missing values"
      ],
      "id": "c9a02b6b"
    },
    {
      "cell_type": "code",
      "execution_count": 12,
      "metadata": {
        "colab": {
          "base_uri": "https://localhost:8080/"
        },
        "id": "996183e2",
        "outputId": "64fac599-2f0b-492a-8bed-0ca4e4085f3b"
      },
      "outputs": [
        {
          "output_type": "stream",
          "name": "stdout",
          "text": [
            "The telco dataset contains 12.5 % missing values.\n"
          ]
        }
      ],
      "source": [
        "# how many missing values exist or better still what is the % of missing values in the dataset?\n",
        "def percent_missing(df):\n",
        "\n",
        "    # Calculate total number of cells in dataframe\n",
        "    totalCells = np.product(df.shape)\n",
        "\n",
        "    # Count number of missing values per column\n",
        "    missingCount = df.isnull().sum()\n",
        "\n",
        "    # Calculate total number of missing values\n",
        "    totalMissing = missingCount.sum()\n",
        "\n",
        "    # Calculate percentage of missing values\n",
        "    print(\"The telco dataset contains\", round(((totalMissing/totalCells) * 100), 2), \"%\", \"missing values.\")\n",
        "\n",
        "percent_missing(all_data)"
      ],
      "id": "996183e2"
    },
    {
      "cell_type": "code",
      "execution_count": 13,
      "metadata": {
        "colab": {
          "base_uri": "https://localhost:8080/"
        },
        "id": "eZh7B-jewRqE",
        "outputId": "6aa0b78f-1b6b-479b-ff85-9bc2ce5ea123"
      },
      "outputs": [
        {
          "output_type": "execute_result",
          "data": {
            "text/plain": [
              "Bearer Id                                    0.660662\n",
              "Start                                        0.000667\n",
              "Start ms                                     0.000667\n",
              "End                                          0.000667\n",
              "End ms                                       0.000667\n",
              "Dur. (ms)                                    0.000667\n",
              "IMSI                                         0.379997\n",
              "MSISDN/Number                                0.710662\n",
              "IMEI                                         0.381331\n",
              "Last Location Name                           0.768662\n",
              "Avg RTT DL (ms)                             18.552543\n",
              "Avg RTT UL (ms)                             18.541210\n",
              "Avg Bearer TP DL (kbps)                      0.000667\n",
              "Avg Bearer TP UL (kbps)                      0.000667\n",
              "TCP DL Retrans. Vol (Bytes)                 58.763608\n",
              "TCP UL Retrans. Vol (Bytes)                 64.432237\n",
              "DL TP < 50 Kbps (%)                          0.502663\n",
              "50 Kbps < DL TP < 250 Kbps (%)               0.502663\n",
              "250 Kbps < DL TP < 1 Mbps (%)                0.502663\n",
              "DL TP > 1 Mbps (%)                           0.502663\n",
              "UL TP < 10 Kbps (%)                          0.527996\n",
              "10 Kbps < UL TP < 50 Kbps (%)                0.527996\n",
              "50 Kbps < UL TP < 300 Kbps (%)               0.527996\n",
              "UL TP > 300 Kbps (%)                         0.527996\n",
              "HTTP DL (Bytes)                             54.315638\n",
              "HTTP UL (Bytes)                             54.539636\n",
              "Activity Duration DL (ms)                    0.000667\n",
              "Activity Duration UL (ms)                    0.000667\n",
              "Dur. (ms).1                                  0.000667\n",
              "Handset Manufacturer                         0.381331\n",
              "Handset Type                                 0.381331\n",
              "Nb of sec with 125000B < Vol DL             65.024900\n",
              "Nb of sec with 1250B < Vol UL < 6250B       61.928920\n",
              "Nb of sec with 31250B < Vol DL < 125000B    62.390251\n",
              "Nb of sec with 37500B < Vol UL              86.835421\n",
              "Nb of sec with 6250B < Vol DL < 31250B      58.877607\n",
              "Nb of sec with 6250B < Vol UL < 37500B      74.561503\n",
              "Nb of sec with Vol DL < 6250B                0.503330\n",
              "Nb of sec with Vol UL < 1250B                0.528663\n",
              "Social Media DL (Bytes)                      0.000000\n",
              "Social Media UL (Bytes)                      0.000000\n",
              "Google DL (Bytes)                            0.000000\n",
              "Google UL (Bytes)                            0.000000\n",
              "Email DL (Bytes)                             0.000000\n",
              "Email UL (Bytes)                             0.000000\n",
              "Youtube DL (Bytes)                           0.000000\n",
              "Youtube UL (Bytes)                           0.000000\n",
              "Netflix DL (Bytes)                           0.000000\n",
              "Netflix UL (Bytes)                           0.000000\n",
              "Gaming DL (Bytes)                            0.000000\n",
              "Gaming UL (Bytes)                            0.000000\n",
              "Other DL (Bytes)                             0.000000\n",
              "Other UL (Bytes)                             0.000000\n",
              "Total UL (Bytes)                             0.000667\n",
              "Total DL (Bytes)                             0.000667\n",
              "dtype: float64"
            ]
          },
          "metadata": {},
          "execution_count": 13
        }
      ],
      "source": [
        "all_data.isna().sum() / all_data.shape[0] * 100"
      ],
      "id": "eZh7B-jewRqE"
    },
    {
      "cell_type": "markdown",
      "metadata": {
        "id": "4b0c2fe8"
      },
      "source": [
        "#### showing the missing columns"
      ],
      "id": "4b0c2fe8"
    },
    {
      "cell_type": "code",
      "execution_count": null,
      "metadata": {
        "id": "3619462d"
      },
      "outputs": [],
      "source": [
        "# Now which column(s) has missing values\n",
        "# all_data.isna().sum()"
      ],
      "id": "3619462d"
    },
    {
      "cell_type": "code",
      "execution_count": 14,
      "metadata": {
        "id": "644b8a82"
      },
      "outputs": [],
      "source": [
        "fd = pd.DataFrame(all_data)\n"
      ],
      "id": "644b8a82"
    },
    {
      "cell_type": "code",
      "execution_count": null,
      "metadata": {
        "id": "99U_b5ksIQ-c"
      },
      "outputs": [],
      "source": [
        "# cleanData(fd)"
      ],
      "id": "99U_b5ksIQ-c"
    },
    {
      "cell_type": "code",
      "execution_count": 15,
      "metadata": {
        "id": "d42f8ce7"
      },
      "outputs": [],
      "source": [
        "df = fd.drop(['IMSI', 'IMEI', 'HTTP DL (Bytes)', 'HTTP UL (Bytes)','Nb of sec with 125000B < Vol DL', 'Nb of sec with 1250B < Vol UL < 6250B', 'Nb of sec with 31250B < Vol DL < 125000B', 'Nb of sec with 37500B < Vol UL', 'Nb of sec with 6250B < Vol DL < 31250B', 'Nb of sec with 6250B < Vol UL < 37500B'], axis=1)"
      ],
      "id": "d42f8ce7"
    },
    {
      "cell_type": "code",
      "execution_count": 16,
      "metadata": {
        "id": "1794a54d",
        "colab": {
          "base_uri": "https://localhost:8080/",
          "height": 206
        },
        "outputId": "c02a094d-cecb-4d0a-8e37-cf05d131b65d"
      },
      "outputs": [
        {
          "output_type": "execute_result",
          "data": {
            "text/plain": [
              "      Bearer Id               Start  Start ms                 End  End ms  \\\n",
              "0  1.311448e+19 2019-04-04 12:01:18     770.0 2019-04-25 14:35:31   662.0   \n",
              "1  1.311448e+19 2019-04-09 13:04:04     235.0 2019-04-25 08:15:48   606.0   \n",
              "2  1.311448e+19 2019-04-09 17:42:11       1.0 2019-04-25 11:58:13   652.0   \n",
              "3  1.311448e+19 2019-04-10 00:31:25     486.0 2019-04-25 07:36:35   171.0   \n",
              "4  1.311448e+19 2019-04-12 20:10:23     565.0 2019-04-25 10:40:32   954.0   \n",
              "\n",
              "   Dur. (ms)  MSISDN/Number Last Location Name  Avg RTT DL (ms)  \\\n",
              "0  1823652.0   3.366496e+10   9164566995485190             42.0   \n",
              "1  1365104.0   3.368185e+10            L77566A             65.0   \n",
              "2  1361762.0   3.376063e+10            D42335A              NaN   \n",
              "3  1321509.0   3.375034e+10            T21824A              NaN   \n",
              "4  1089009.0   3.369980e+10            D88865A              NaN   \n",
              "\n",
              "   Avg RTT UL (ms)  \n",
              "0              5.0  \n",
              "1              5.0  \n",
              "2              NaN  \n",
              "3              NaN  \n",
              "4              NaN  "
            ],
            "text/html": [
              "\n",
              "  <div id=\"df-1928de85-91ce-43e3-9325-99e5b3eafa52\">\n",
              "    <div class=\"colab-df-container\">\n",
              "      <div>\n",
              "<style scoped>\n",
              "    .dataframe tbody tr th:only-of-type {\n",
              "        vertical-align: middle;\n",
              "    }\n",
              "\n",
              "    .dataframe tbody tr th {\n",
              "        vertical-align: top;\n",
              "    }\n",
              "\n",
              "    .dataframe thead th {\n",
              "        text-align: right;\n",
              "    }\n",
              "</style>\n",
              "<table border=\"1\" class=\"dataframe\">\n",
              "  <thead>\n",
              "    <tr style=\"text-align: right;\">\n",
              "      <th></th>\n",
              "      <th>Bearer Id</th>\n",
              "      <th>Start</th>\n",
              "      <th>Start ms</th>\n",
              "      <th>End</th>\n",
              "      <th>End ms</th>\n",
              "      <th>Dur. (ms)</th>\n",
              "      <th>MSISDN/Number</th>\n",
              "      <th>Last Location Name</th>\n",
              "      <th>Avg RTT DL (ms)</th>\n",
              "      <th>Avg RTT UL (ms)</th>\n",
              "    </tr>\n",
              "  </thead>\n",
              "  <tbody>\n",
              "    <tr>\n",
              "      <th>0</th>\n",
              "      <td>1.311448e+19</td>\n",
              "      <td>2019-04-04 12:01:18</td>\n",
              "      <td>770.0</td>\n",
              "      <td>2019-04-25 14:35:31</td>\n",
              "      <td>662.0</td>\n",
              "      <td>1823652.0</td>\n",
              "      <td>3.366496e+10</td>\n",
              "      <td>9164566995485190</td>\n",
              "      <td>42.0</td>\n",
              "      <td>5.0</td>\n",
              "    </tr>\n",
              "    <tr>\n",
              "      <th>1</th>\n",
              "      <td>1.311448e+19</td>\n",
              "      <td>2019-04-09 13:04:04</td>\n",
              "      <td>235.0</td>\n",
              "      <td>2019-04-25 08:15:48</td>\n",
              "      <td>606.0</td>\n",
              "      <td>1365104.0</td>\n",
              "      <td>3.368185e+10</td>\n",
              "      <td>L77566A</td>\n",
              "      <td>65.0</td>\n",
              "      <td>5.0</td>\n",
              "    </tr>\n",
              "    <tr>\n",
              "      <th>2</th>\n",
              "      <td>1.311448e+19</td>\n",
              "      <td>2019-04-09 17:42:11</td>\n",
              "      <td>1.0</td>\n",
              "      <td>2019-04-25 11:58:13</td>\n",
              "      <td>652.0</td>\n",
              "      <td>1361762.0</td>\n",
              "      <td>3.376063e+10</td>\n",
              "      <td>D42335A</td>\n",
              "      <td>NaN</td>\n",
              "      <td>NaN</td>\n",
              "    </tr>\n",
              "    <tr>\n",
              "      <th>3</th>\n",
              "      <td>1.311448e+19</td>\n",
              "      <td>2019-04-10 00:31:25</td>\n",
              "      <td>486.0</td>\n",
              "      <td>2019-04-25 07:36:35</td>\n",
              "      <td>171.0</td>\n",
              "      <td>1321509.0</td>\n",
              "      <td>3.375034e+10</td>\n",
              "      <td>T21824A</td>\n",
              "      <td>NaN</td>\n",
              "      <td>NaN</td>\n",
              "    </tr>\n",
              "    <tr>\n",
              "      <th>4</th>\n",
              "      <td>1.311448e+19</td>\n",
              "      <td>2019-04-12 20:10:23</td>\n",
              "      <td>565.0</td>\n",
              "      <td>2019-04-25 10:40:32</td>\n",
              "      <td>954.0</td>\n",
              "      <td>1089009.0</td>\n",
              "      <td>3.369980e+10</td>\n",
              "      <td>D88865A</td>\n",
              "      <td>NaN</td>\n",
              "      <td>NaN</td>\n",
              "    </tr>\n",
              "  </tbody>\n",
              "</table>\n",
              "</div>\n",
              "      <button class=\"colab-df-convert\" onclick=\"convertToInteractive('df-1928de85-91ce-43e3-9325-99e5b3eafa52')\"\n",
              "              title=\"Convert this dataframe to an interactive table.\"\n",
              "              style=\"display:none;\">\n",
              "        \n",
              "  <svg xmlns=\"http://www.w3.org/2000/svg\" height=\"24px\"viewBox=\"0 0 24 24\"\n",
              "       width=\"24px\">\n",
              "    <path d=\"M0 0h24v24H0V0z\" fill=\"none\"/>\n",
              "    <path d=\"M18.56 5.44l.94 2.06.94-2.06 2.06-.94-2.06-.94-.94-2.06-.94 2.06-2.06.94zm-11 1L8.5 8.5l.94-2.06 2.06-.94-2.06-.94L8.5 2.5l-.94 2.06-2.06.94zm10 10l.94 2.06.94-2.06 2.06-.94-2.06-.94-.94-2.06-.94 2.06-2.06.94z\"/><path d=\"M17.41 7.96l-1.37-1.37c-.4-.4-.92-.59-1.43-.59-.52 0-1.04.2-1.43.59L10.3 9.45l-7.72 7.72c-.78.78-.78 2.05 0 2.83L4 21.41c.39.39.9.59 1.41.59.51 0 1.02-.2 1.41-.59l7.78-7.78 2.81-2.81c.8-.78.8-2.07 0-2.86zM5.41 20L4 18.59l7.72-7.72 1.47 1.35L5.41 20z\"/>\n",
              "  </svg>\n",
              "      </button>\n",
              "      \n",
              "  <style>\n",
              "    .colab-df-container {\n",
              "      display:flex;\n",
              "      flex-wrap:wrap;\n",
              "      gap: 12px;\n",
              "    }\n",
              "\n",
              "    .colab-df-convert {\n",
              "      background-color: #E8F0FE;\n",
              "      border: none;\n",
              "      border-radius: 50%;\n",
              "      cursor: pointer;\n",
              "      display: none;\n",
              "      fill: #1967D2;\n",
              "      height: 32px;\n",
              "      padding: 0 0 0 0;\n",
              "      width: 32px;\n",
              "    }\n",
              "\n",
              "    .colab-df-convert:hover {\n",
              "      background-color: #E2EBFA;\n",
              "      box-shadow: 0px 1px 2px rgba(60, 64, 67, 0.3), 0px 1px 3px 1px rgba(60, 64, 67, 0.15);\n",
              "      fill: #174EA6;\n",
              "    }\n",
              "\n",
              "    [theme=dark] .colab-df-convert {\n",
              "      background-color: #3B4455;\n",
              "      fill: #D2E3FC;\n",
              "    }\n",
              "\n",
              "    [theme=dark] .colab-df-convert:hover {\n",
              "      background-color: #434B5C;\n",
              "      box-shadow: 0px 1px 3px 1px rgba(0, 0, 0, 0.15);\n",
              "      filter: drop-shadow(0px 1px 2px rgba(0, 0, 0, 0.3));\n",
              "      fill: #FFFFFF;\n",
              "    }\n",
              "  </style>\n",
              "\n",
              "      <script>\n",
              "        const buttonEl =\n",
              "          document.querySelector('#df-1928de85-91ce-43e3-9325-99e5b3eafa52 button.colab-df-convert');\n",
              "        buttonEl.style.display =\n",
              "          google.colab.kernel.accessAllowed ? 'block' : 'none';\n",
              "\n",
              "        async function convertToInteractive(key) {\n",
              "          const element = document.querySelector('#df-1928de85-91ce-43e3-9325-99e5b3eafa52');\n",
              "          const dataTable =\n",
              "            await google.colab.kernel.invokeFunction('convertToInteractive',\n",
              "                                                     [key], {});\n",
              "          if (!dataTable) return;\n",
              "\n",
              "          const docLinkHtml = 'Like what you see? Visit the ' +\n",
              "            '<a target=\"_blank\" href=https://colab.research.google.com/notebooks/data_table.ipynb>data table notebook</a>'\n",
              "            + ' to learn more about interactive tables.';\n",
              "          element.innerHTML = '';\n",
              "          dataTable['output_type'] = 'display_data';\n",
              "          await google.colab.output.renderOutput(dataTable, element);\n",
              "          const docLink = document.createElement('div');\n",
              "          docLink.innerHTML = docLinkHtml;\n",
              "          element.appendChild(docLink);\n",
              "        }\n",
              "      </script>\n",
              "    </div>\n",
              "  </div>\n",
              "  "
            ]
          },
          "metadata": {},
          "execution_count": 16
        }
      ],
      "source": [
        "df.iloc[:5 , 0:10]"
      ],
      "id": "1794a54d"
    },
    {
      "cell_type": "code",
      "execution_count": 17,
      "metadata": {
        "colab": {
          "base_uri": "https://localhost:8080/",
          "height": 887
        },
        "id": "udgRLKFh7IR4",
        "outputId": "2aa6efa5-6533-4b57-c873-5f6a978e6b71"
      },
      "outputs": [
        {
          "output_type": "execute_result",
          "data": {
            "text/plain": [
              "           Bearer Id               Start  Start ms                 End  \\\n",
              "0       1.311448e+19 2019-04-04 12:01:18     770.0 2019-04-25 14:35:31   \n",
              "1       1.311448e+19 2019-04-09 13:04:04     235.0 2019-04-25 08:15:48   \n",
              "2       1.311448e+19 2019-04-09 17:42:11       1.0 2019-04-25 11:58:13   \n",
              "3       1.311448e+19 2019-04-10 00:31:25     486.0 2019-04-25 07:36:35   \n",
              "4       1.311448e+19 2019-04-12 20:10:23     565.0 2019-04-25 10:40:32   \n",
              "...              ...                 ...       ...                 ...   \n",
              "149996  7.277826e+18 2019-04-29 07:28:42     451.0 2019-04-30 06:02:33   \n",
              "149997  7.349883e+18 2019-04-29 07:28:42     483.0 2019-04-30 10:41:33   \n",
              "149998  1.311448e+19 2019-04-29 07:28:43     283.0 2019-04-30 10:46:12   \n",
              "149999  1.311448e+19 2019-04-29 07:28:43     696.0 2019-04-30 10:40:34   \n",
              "150000  1.304243e+19 2019-04-29 07:28:43     696.0 2019-04-30 10:40:34   \n",
              "\n",
              "        End ms  Dur. (ms)  MSISDN/Number Last Location Name  Avg RTT DL (ms)  \\\n",
              "0        662.0  1823652.0   3.366496e+10   9164566995485190             42.0   \n",
              "1        606.0  1365104.0   3.368185e+10            L77566A             65.0   \n",
              "2        652.0  1361762.0   3.376063e+10            D42335A             28.0   \n",
              "3        171.0  1321509.0   3.375034e+10            T21824A             28.0   \n",
              "4        954.0  1089009.0   3.369980e+10            D88865A             28.0   \n",
              "...        ...        ...            ...                ...              ...   \n",
              "149996   214.0    81230.0   3.365069e+10            D20434A             32.0   \n",
              "149997   187.0    97970.0   3.366345e+10            D10223C             27.0   \n",
              "149998   810.0    98249.0   3.362189e+10            T51102A             43.0   \n",
              "149999   327.0    97910.0   3.361962e+10            L88342B             37.0   \n",
              "150000   327.0    97910.0   3.362632e+10          undefined             28.0   \n",
              "\n",
              "        Avg RTT UL (ms)  ...  Youtube DL (Bytes)  Youtube UL (Bytes)  \\\n",
              "0                   5.0  ...        1.585461e+07        2.501332e+06   \n",
              "1                   5.0  ...        2.024740e+07        1.911173e+07   \n",
              "2                   5.0  ...        1.972566e+07        1.469958e+07   \n",
              "3                   5.0  ...        2.138812e+07        1.514664e+07   \n",
              "4                   5.0  ...        1.525938e+07        1.896287e+07   \n",
              "...                 ...  ...                 ...                 ...   \n",
              "149996              0.0  ...        1.619167e+07        1.176343e+07   \n",
              "149997              2.0  ...        1.387723e+07        8.288284e+06   \n",
              "149998              6.0  ...        2.266051e+07        1.855903e+06   \n",
              "149999              5.0  ...        8.817106e+06        8.305402e+06   \n",
              "150000              5.0  ...        1.163407e+07        1.100941e+07   \n",
              "\n",
              "        Netflix DL (Bytes)  Netflix UL (Bytes)  Gaming DL (Bytes)  \\\n",
              "0             8.198936e+06        9.656251e+06       2.780823e+08   \n",
              "1             1.833841e+07        1.722713e+07       6.087501e+08   \n",
              "2             1.758779e+07        6.163408e+06       2.295846e+08   \n",
              "3             1.399465e+07        1.097942e+06       7.995382e+08   \n",
              "4             1.712458e+07        4.152180e+05       5.277072e+08   \n",
              "...                    ...                 ...                ...   \n",
              "149996        1.788370e+07        1.967816e+07       5.266097e+08   \n",
              "149997        1.935015e+07        2.129315e+07       6.268931e+08   \n",
              "149998        9.963942e+06        5.065760e+06       5.535395e+08   \n",
              "149999        3.322253e+06        1.317259e+07       3.525370e+08   \n",
              "150000        1.162685e+07        1.100175e+07       4.220447e+08   \n",
              "\n",
              "        Gaming UL (Bytes)  Other DL (Bytes)  Other UL (Bytes)  \\\n",
              "0            1.434415e+07      1.717444e+08      8.814393e+06   \n",
              "1            1.170709e+06      5.269042e+08      1.505514e+07   \n",
              "2            3.956300e+05      4.106926e+08      4.215763e+06   \n",
              "3            1.084972e+07      7.490399e+08      1.279728e+07   \n",
              "4            3.529801e+06      5.507095e+08      1.391032e+07   \n",
              "...                   ...               ...               ...   \n",
              "149996       9.197207e+06      3.264510e+06      1.348742e+07   \n",
              "149997       4.735033e+06      7.121804e+08      2.457758e+06   \n",
              "149998       1.339432e+07      1.211009e+08      1.131473e+07   \n",
              "149999       2.529475e+06      8.147131e+08      1.406930e+06   \n",
              "150000       8.288398e+06      4.211005e+08      8.264799e+06   \n",
              "\n",
              "        Total UL (Bytes)  Total DL (Bytes)  \n",
              "0             36749741.0        36749741.0  \n",
              "1             53800391.0        53800391.0  \n",
              "2             27883638.0        27883638.0  \n",
              "3             43324218.0        43324218.0  \n",
              "4             38542814.0        38542814.0  \n",
              "...                  ...               ...  \n",
              "149996        57628851.0        57628851.0  \n",
              "149997        39135081.0        39135081.0  \n",
              "149998        34912224.0        34912224.0  \n",
              "149999        29626096.0        29626096.0  \n",
              "150000        19362459.0        19362459.0  \n",
              "\n",
              "[150001 rows x 45 columns]"
            ],
            "text/html": [
              "\n",
              "  <div id=\"df-3aa2c9f6-520f-46a0-b74b-7cf29051ca1f\">\n",
              "    <div class=\"colab-df-container\">\n",
              "      <div>\n",
              "<style scoped>\n",
              "    .dataframe tbody tr th:only-of-type {\n",
              "        vertical-align: middle;\n",
              "    }\n",
              "\n",
              "    .dataframe tbody tr th {\n",
              "        vertical-align: top;\n",
              "    }\n",
              "\n",
              "    .dataframe thead th {\n",
              "        text-align: right;\n",
              "    }\n",
              "</style>\n",
              "<table border=\"1\" class=\"dataframe\">\n",
              "  <thead>\n",
              "    <tr style=\"text-align: right;\">\n",
              "      <th></th>\n",
              "      <th>Bearer Id</th>\n",
              "      <th>Start</th>\n",
              "      <th>Start ms</th>\n",
              "      <th>End</th>\n",
              "      <th>End ms</th>\n",
              "      <th>Dur. (ms)</th>\n",
              "      <th>MSISDN/Number</th>\n",
              "      <th>Last Location Name</th>\n",
              "      <th>Avg RTT DL (ms)</th>\n",
              "      <th>Avg RTT UL (ms)</th>\n",
              "      <th>...</th>\n",
              "      <th>Youtube DL (Bytes)</th>\n",
              "      <th>Youtube UL (Bytes)</th>\n",
              "      <th>Netflix DL (Bytes)</th>\n",
              "      <th>Netflix UL (Bytes)</th>\n",
              "      <th>Gaming DL (Bytes)</th>\n",
              "      <th>Gaming UL (Bytes)</th>\n",
              "      <th>Other DL (Bytes)</th>\n",
              "      <th>Other UL (Bytes)</th>\n",
              "      <th>Total UL (Bytes)</th>\n",
              "      <th>Total DL (Bytes)</th>\n",
              "    </tr>\n",
              "  </thead>\n",
              "  <tbody>\n",
              "    <tr>\n",
              "      <th>0</th>\n",
              "      <td>1.311448e+19</td>\n",
              "      <td>2019-04-04 12:01:18</td>\n",
              "      <td>770.0</td>\n",
              "      <td>2019-04-25 14:35:31</td>\n",
              "      <td>662.0</td>\n",
              "      <td>1823652.0</td>\n",
              "      <td>3.366496e+10</td>\n",
              "      <td>9164566995485190</td>\n",
              "      <td>42.0</td>\n",
              "      <td>5.0</td>\n",
              "      <td>...</td>\n",
              "      <td>1.585461e+07</td>\n",
              "      <td>2.501332e+06</td>\n",
              "      <td>8.198936e+06</td>\n",
              "      <td>9.656251e+06</td>\n",
              "      <td>2.780823e+08</td>\n",
              "      <td>1.434415e+07</td>\n",
              "      <td>1.717444e+08</td>\n",
              "      <td>8.814393e+06</td>\n",
              "      <td>36749741.0</td>\n",
              "      <td>36749741.0</td>\n",
              "    </tr>\n",
              "    <tr>\n",
              "      <th>1</th>\n",
              "      <td>1.311448e+19</td>\n",
              "      <td>2019-04-09 13:04:04</td>\n",
              "      <td>235.0</td>\n",
              "      <td>2019-04-25 08:15:48</td>\n",
              "      <td>606.0</td>\n",
              "      <td>1365104.0</td>\n",
              "      <td>3.368185e+10</td>\n",
              "      <td>L77566A</td>\n",
              "      <td>65.0</td>\n",
              "      <td>5.0</td>\n",
              "      <td>...</td>\n",
              "      <td>2.024740e+07</td>\n",
              "      <td>1.911173e+07</td>\n",
              "      <td>1.833841e+07</td>\n",
              "      <td>1.722713e+07</td>\n",
              "      <td>6.087501e+08</td>\n",
              "      <td>1.170709e+06</td>\n",
              "      <td>5.269042e+08</td>\n",
              "      <td>1.505514e+07</td>\n",
              "      <td>53800391.0</td>\n",
              "      <td>53800391.0</td>\n",
              "    </tr>\n",
              "    <tr>\n",
              "      <th>2</th>\n",
              "      <td>1.311448e+19</td>\n",
              "      <td>2019-04-09 17:42:11</td>\n",
              "      <td>1.0</td>\n",
              "      <td>2019-04-25 11:58:13</td>\n",
              "      <td>652.0</td>\n",
              "      <td>1361762.0</td>\n",
              "      <td>3.376063e+10</td>\n",
              "      <td>D42335A</td>\n",
              "      <td>28.0</td>\n",
              "      <td>5.0</td>\n",
              "      <td>...</td>\n",
              "      <td>1.972566e+07</td>\n",
              "      <td>1.469958e+07</td>\n",
              "      <td>1.758779e+07</td>\n",
              "      <td>6.163408e+06</td>\n",
              "      <td>2.295846e+08</td>\n",
              "      <td>3.956300e+05</td>\n",
              "      <td>4.106926e+08</td>\n",
              "      <td>4.215763e+06</td>\n",
              "      <td>27883638.0</td>\n",
              "      <td>27883638.0</td>\n",
              "    </tr>\n",
              "    <tr>\n",
              "      <th>3</th>\n",
              "      <td>1.311448e+19</td>\n",
              "      <td>2019-04-10 00:31:25</td>\n",
              "      <td>486.0</td>\n",
              "      <td>2019-04-25 07:36:35</td>\n",
              "      <td>171.0</td>\n",
              "      <td>1321509.0</td>\n",
              "      <td>3.375034e+10</td>\n",
              "      <td>T21824A</td>\n",
              "      <td>28.0</td>\n",
              "      <td>5.0</td>\n",
              "      <td>...</td>\n",
              "      <td>2.138812e+07</td>\n",
              "      <td>1.514664e+07</td>\n",
              "      <td>1.399465e+07</td>\n",
              "      <td>1.097942e+06</td>\n",
              "      <td>7.995382e+08</td>\n",
              "      <td>1.084972e+07</td>\n",
              "      <td>7.490399e+08</td>\n",
              "      <td>1.279728e+07</td>\n",
              "      <td>43324218.0</td>\n",
              "      <td>43324218.0</td>\n",
              "    </tr>\n",
              "    <tr>\n",
              "      <th>4</th>\n",
              "      <td>1.311448e+19</td>\n",
              "      <td>2019-04-12 20:10:23</td>\n",
              "      <td>565.0</td>\n",
              "      <td>2019-04-25 10:40:32</td>\n",
              "      <td>954.0</td>\n",
              "      <td>1089009.0</td>\n",
              "      <td>3.369980e+10</td>\n",
              "      <td>D88865A</td>\n",
              "      <td>28.0</td>\n",
              "      <td>5.0</td>\n",
              "      <td>...</td>\n",
              "      <td>1.525938e+07</td>\n",
              "      <td>1.896287e+07</td>\n",
              "      <td>1.712458e+07</td>\n",
              "      <td>4.152180e+05</td>\n",
              "      <td>5.277072e+08</td>\n",
              "      <td>3.529801e+06</td>\n",
              "      <td>5.507095e+08</td>\n",
              "      <td>1.391032e+07</td>\n",
              "      <td>38542814.0</td>\n",
              "      <td>38542814.0</td>\n",
              "    </tr>\n",
              "    <tr>\n",
              "      <th>...</th>\n",
              "      <td>...</td>\n",
              "      <td>...</td>\n",
              "      <td>...</td>\n",
              "      <td>...</td>\n",
              "      <td>...</td>\n",
              "      <td>...</td>\n",
              "      <td>...</td>\n",
              "      <td>...</td>\n",
              "      <td>...</td>\n",
              "      <td>...</td>\n",
              "      <td>...</td>\n",
              "      <td>...</td>\n",
              "      <td>...</td>\n",
              "      <td>...</td>\n",
              "      <td>...</td>\n",
              "      <td>...</td>\n",
              "      <td>...</td>\n",
              "      <td>...</td>\n",
              "      <td>...</td>\n",
              "      <td>...</td>\n",
              "      <td>...</td>\n",
              "    </tr>\n",
              "    <tr>\n",
              "      <th>149996</th>\n",
              "      <td>7.277826e+18</td>\n",
              "      <td>2019-04-29 07:28:42</td>\n",
              "      <td>451.0</td>\n",
              "      <td>2019-04-30 06:02:33</td>\n",
              "      <td>214.0</td>\n",
              "      <td>81230.0</td>\n",
              "      <td>3.365069e+10</td>\n",
              "      <td>D20434A</td>\n",
              "      <td>32.0</td>\n",
              "      <td>0.0</td>\n",
              "      <td>...</td>\n",
              "      <td>1.619167e+07</td>\n",
              "      <td>1.176343e+07</td>\n",
              "      <td>1.788370e+07</td>\n",
              "      <td>1.967816e+07</td>\n",
              "      <td>5.266097e+08</td>\n",
              "      <td>9.197207e+06</td>\n",
              "      <td>3.264510e+06</td>\n",
              "      <td>1.348742e+07</td>\n",
              "      <td>57628851.0</td>\n",
              "      <td>57628851.0</td>\n",
              "    </tr>\n",
              "    <tr>\n",
              "      <th>149997</th>\n",
              "      <td>7.349883e+18</td>\n",
              "      <td>2019-04-29 07:28:42</td>\n",
              "      <td>483.0</td>\n",
              "      <td>2019-04-30 10:41:33</td>\n",
              "      <td>187.0</td>\n",
              "      <td>97970.0</td>\n",
              "      <td>3.366345e+10</td>\n",
              "      <td>D10223C</td>\n",
              "      <td>27.0</td>\n",
              "      <td>2.0</td>\n",
              "      <td>...</td>\n",
              "      <td>1.387723e+07</td>\n",
              "      <td>8.288284e+06</td>\n",
              "      <td>1.935015e+07</td>\n",
              "      <td>2.129315e+07</td>\n",
              "      <td>6.268931e+08</td>\n",
              "      <td>4.735033e+06</td>\n",
              "      <td>7.121804e+08</td>\n",
              "      <td>2.457758e+06</td>\n",
              "      <td>39135081.0</td>\n",
              "      <td>39135081.0</td>\n",
              "    </tr>\n",
              "    <tr>\n",
              "      <th>149998</th>\n",
              "      <td>1.311448e+19</td>\n",
              "      <td>2019-04-29 07:28:43</td>\n",
              "      <td>283.0</td>\n",
              "      <td>2019-04-30 10:46:12</td>\n",
              "      <td>810.0</td>\n",
              "      <td>98249.0</td>\n",
              "      <td>3.362189e+10</td>\n",
              "      <td>T51102A</td>\n",
              "      <td>43.0</td>\n",
              "      <td>6.0</td>\n",
              "      <td>...</td>\n",
              "      <td>2.266051e+07</td>\n",
              "      <td>1.855903e+06</td>\n",
              "      <td>9.963942e+06</td>\n",
              "      <td>5.065760e+06</td>\n",
              "      <td>5.535395e+08</td>\n",
              "      <td>1.339432e+07</td>\n",
              "      <td>1.211009e+08</td>\n",
              "      <td>1.131473e+07</td>\n",
              "      <td>34912224.0</td>\n",
              "      <td>34912224.0</td>\n",
              "    </tr>\n",
              "    <tr>\n",
              "      <th>149999</th>\n",
              "      <td>1.311448e+19</td>\n",
              "      <td>2019-04-29 07:28:43</td>\n",
              "      <td>696.0</td>\n",
              "      <td>2019-04-30 10:40:34</td>\n",
              "      <td>327.0</td>\n",
              "      <td>97910.0</td>\n",
              "      <td>3.361962e+10</td>\n",
              "      <td>L88342B</td>\n",
              "      <td>37.0</td>\n",
              "      <td>5.0</td>\n",
              "      <td>...</td>\n",
              "      <td>8.817106e+06</td>\n",
              "      <td>8.305402e+06</td>\n",
              "      <td>3.322253e+06</td>\n",
              "      <td>1.317259e+07</td>\n",
              "      <td>3.525370e+08</td>\n",
              "      <td>2.529475e+06</td>\n",
              "      <td>8.147131e+08</td>\n",
              "      <td>1.406930e+06</td>\n",
              "      <td>29626096.0</td>\n",
              "      <td>29626096.0</td>\n",
              "    </tr>\n",
              "    <tr>\n",
              "      <th>150000</th>\n",
              "      <td>1.304243e+19</td>\n",
              "      <td>2019-04-29 07:28:43</td>\n",
              "      <td>696.0</td>\n",
              "      <td>2019-04-30 10:40:34</td>\n",
              "      <td>327.0</td>\n",
              "      <td>97910.0</td>\n",
              "      <td>3.362632e+10</td>\n",
              "      <td>undefined</td>\n",
              "      <td>28.0</td>\n",
              "      <td>5.0</td>\n",
              "      <td>...</td>\n",
              "      <td>1.163407e+07</td>\n",
              "      <td>1.100941e+07</td>\n",
              "      <td>1.162685e+07</td>\n",
              "      <td>1.100175e+07</td>\n",
              "      <td>4.220447e+08</td>\n",
              "      <td>8.288398e+06</td>\n",
              "      <td>4.211005e+08</td>\n",
              "      <td>8.264799e+06</td>\n",
              "      <td>19362459.0</td>\n",
              "      <td>19362459.0</td>\n",
              "    </tr>\n",
              "  </tbody>\n",
              "</table>\n",
              "<p>150001 rows × 45 columns</p>\n",
              "</div>\n",
              "      <button class=\"colab-df-convert\" onclick=\"convertToInteractive('df-3aa2c9f6-520f-46a0-b74b-7cf29051ca1f')\"\n",
              "              title=\"Convert this dataframe to an interactive table.\"\n",
              "              style=\"display:none;\">\n",
              "        \n",
              "  <svg xmlns=\"http://www.w3.org/2000/svg\" height=\"24px\"viewBox=\"0 0 24 24\"\n",
              "       width=\"24px\">\n",
              "    <path d=\"M0 0h24v24H0V0z\" fill=\"none\"/>\n",
              "    <path d=\"M18.56 5.44l.94 2.06.94-2.06 2.06-.94-2.06-.94-.94-2.06-.94 2.06-2.06.94zm-11 1L8.5 8.5l.94-2.06 2.06-.94-2.06-.94L8.5 2.5l-.94 2.06-2.06.94zm10 10l.94 2.06.94-2.06 2.06-.94-2.06-.94-.94-2.06-.94 2.06-2.06.94z\"/><path d=\"M17.41 7.96l-1.37-1.37c-.4-.4-.92-.59-1.43-.59-.52 0-1.04.2-1.43.59L10.3 9.45l-7.72 7.72c-.78.78-.78 2.05 0 2.83L4 21.41c.39.39.9.59 1.41.59.51 0 1.02-.2 1.41-.59l7.78-7.78 2.81-2.81c.8-.78.8-2.07 0-2.86zM5.41 20L4 18.59l7.72-7.72 1.47 1.35L5.41 20z\"/>\n",
              "  </svg>\n",
              "      </button>\n",
              "      \n",
              "  <style>\n",
              "    .colab-df-container {\n",
              "      display:flex;\n",
              "      flex-wrap:wrap;\n",
              "      gap: 12px;\n",
              "    }\n",
              "\n",
              "    .colab-df-convert {\n",
              "      background-color: #E8F0FE;\n",
              "      border: none;\n",
              "      border-radius: 50%;\n",
              "      cursor: pointer;\n",
              "      display: none;\n",
              "      fill: #1967D2;\n",
              "      height: 32px;\n",
              "      padding: 0 0 0 0;\n",
              "      width: 32px;\n",
              "    }\n",
              "\n",
              "    .colab-df-convert:hover {\n",
              "      background-color: #E2EBFA;\n",
              "      box-shadow: 0px 1px 2px rgba(60, 64, 67, 0.3), 0px 1px 3px 1px rgba(60, 64, 67, 0.15);\n",
              "      fill: #174EA6;\n",
              "    }\n",
              "\n",
              "    [theme=dark] .colab-df-convert {\n",
              "      background-color: #3B4455;\n",
              "      fill: #D2E3FC;\n",
              "    }\n",
              "\n",
              "    [theme=dark] .colab-df-convert:hover {\n",
              "      background-color: #434B5C;\n",
              "      box-shadow: 0px 1px 3px 1px rgba(0, 0, 0, 0.15);\n",
              "      filter: drop-shadow(0px 1px 2px rgba(0, 0, 0, 0.3));\n",
              "      fill: #FFFFFF;\n",
              "    }\n",
              "  </style>\n",
              "\n",
              "      <script>\n",
              "        const buttonEl =\n",
              "          document.querySelector('#df-3aa2c9f6-520f-46a0-b74b-7cf29051ca1f button.colab-df-convert');\n",
              "        buttonEl.style.display =\n",
              "          google.colab.kernel.accessAllowed ? 'block' : 'none';\n",
              "\n",
              "        async function convertToInteractive(key) {\n",
              "          const element = document.querySelector('#df-3aa2c9f6-520f-46a0-b74b-7cf29051ca1f');\n",
              "          const dataTable =\n",
              "            await google.colab.kernel.invokeFunction('convertToInteractive',\n",
              "                                                     [key], {});\n",
              "          if (!dataTable) return;\n",
              "\n",
              "          const docLinkHtml = 'Like what you see? Visit the ' +\n",
              "            '<a target=\"_blank\" href=https://colab.research.google.com/notebooks/data_table.ipynb>data table notebook</a>'\n",
              "            + ' to learn more about interactive tables.';\n",
              "          element.innerHTML = '';\n",
              "          dataTable['output_type'] = 'display_data';\n",
              "          await google.colab.output.renderOutput(dataTable, element);\n",
              "          const docLink = document.createElement('div');\n",
              "          docLink.innerHTML = docLinkHtml;\n",
              "          element.appendChild(docLink);\n",
              "        }\n",
              "      </script>\n",
              "    </div>\n",
              "  </div>\n",
              "  "
            ]
          },
          "metadata": {},
          "execution_count": 17
        }
      ],
      "source": [
        "def repalce_missing_values(df):\n",
        "  df[\"Bearer Id\"] = df[\"Bearer Id\"].fillna(df[\"Bearer Id\"].mode()[0])\n",
        "  df[\"Start\"] = df[\"Start\"].fillna(method='ffill')\n",
        "  df[\"Start ms\"] = df[\"Start ms\"].fillna(method='ffill')\n",
        "  df[\"End\"] = df[\"End\"].fillna(method='ffill')\n",
        "  df[\"End ms\"] = df[\"End ms\"].fillna(method='ffill')\n",
        "  df[\"Dur. (ms)\"] = df[\"Dur. (ms)\"].fillna(method='ffill')\n",
        "  df[\"TCP DL Retrans. Vol (Bytes)\"] = df[\"TCP DL Retrans. Vol (Bytes)\"].fillna(df[\"TCP DL Retrans. Vol (Bytes)\"].mean())\n",
        "  df[\"TCP UL Retrans. Vol (Bytes)\"] = df[\"TCP UL Retrans. Vol (Bytes)\"].fillna(df[\"TCP UL Retrans. Vol (Bytes)\"].mean())\n",
        "  df[\"Total UL (Bytes)\"] = df[\"Total UL (Bytes)\"].fillna(df[\"Total UL (Bytes)\"].mode()[0])\n",
        "  df[\"Total DL (Bytes)\"] = df[\"Total UL (Bytes)\"].fillna(df[\"Total DL (Bytes)\"].mode()[0])\n",
        "  df[\"Nb of sec with Vol DL < 6250B\"] = df[\"Nb of sec with Vol DL < 6250B\"].fillna(df[\"Nb of sec with Vol DL < 6250B\"].mode()[0]) \n",
        "  df[\"Nb of sec with Vol UL < 1250B\"] = df[\"Nb of sec with Vol UL < 1250B\"].fillna(df[\"Nb of sec with Vol UL < 1250B\"].mode()[0])\n",
        "  df[\"MSISDN/Number\"] = df[\"MSISDN/Number\"].fillna(df[\"MSISDN/Number\"].mode()[0])\n",
        "  df[\"Avg RTT DL (ms)\"] = df[\"Avg RTT DL (ms)\"].fillna(df[\"Avg RTT DL (ms)\"].mode()[0])\n",
        "  df[\"Avg RTT UL (ms)\"] = df[\"Avg RTT UL (ms)\"].fillna(df[\"Avg RTT UL (ms)\"].mode()[0])\n",
        "  df[\"Avg Bearer TP DL (kbps)\"] = df[\"Avg Bearer TP DL (kbps)\"].fillna(df[\"Avg Bearer TP DL (kbps)\"].mode()[0])\n",
        "  df[\"Avg Bearer TP UL (kbps)\"] = df[\"Avg Bearer TP UL (kbps)\"].fillna(df[\"Avg Bearer TP UL (kbps)\"].mode()[0])\n",
        "  df[\"Activity Duration DL (ms)\"] = df[\"Activity Duration DL (ms)\"].fillna(df[\"Activity Duration DL (ms)\"].mode()[0])\n",
        "  df[\"Activity Duration UL (ms)\"] = df[\"Activity Duration UL (ms)\"].fillna(df[\"Activity Duration UL (ms)\"].mode()[0])\n",
        "  df[\"Dur. (ms).1\"] = df[\"Dur. (ms).1\"].fillna(df[\"Dur. (ms).1\"].mode()[0])\n",
        "  df[\"Handset Manufacturer\"] = df[\"Handset Manufacturer\"].fillna(value='undefined')\n",
        "  df[\"Handset Type\"] = df[\"Handset Type\"].fillna(value='undefined')\n",
        "  df[\"Last Location Name\"] = df[\"Last Location Name\"].fillna(value='undefined')\n",
        "  \n",
        "  df = df.fillna(value=0)\n",
        "  return df\n",
        "repalce_missing_values(df)"
      ],
      "id": "udgRLKFh7IR4"
    },
    {
      "cell_type": "code",
      "execution_count": 18,
      "metadata": {
        "id": "cG1TmFpPAJ13"
      },
      "outputs": [],
      "source": [
        "df = df.fillna(value=0)"
      ],
      "id": "cG1TmFpPAJ13"
    },
    {
      "cell_type": "code",
      "execution_count": null,
      "metadata": {
        "id": "wcILRmnU_tmA"
      },
      "outputs": [],
      "source": [
        "# df.isna().sum()"
      ],
      "id": "wcILRmnU_tmA"
    },
    {
      "cell_type": "code",
      "execution_count": null,
      "metadata": {
        "id": "TX9UnA4s5XqY"
      },
      "outputs": [],
      "source": [
        "# df[\"Nb of sec with Vol DL < 6250B\"].isna().sum()"
      ],
      "id": "TX9UnA4s5XqY"
    },
    {
      "cell_type": "code",
      "execution_count": 19,
      "metadata": {
        "colab": {
          "base_uri": "https://localhost:8080/",
          "height": 428
        },
        "id": "LiKakL5CDGAO",
        "outputId": "b33ed848-eb0d-4cab-f774-90714b9f7ce3"
      },
      "outputs": [
        {
          "output_type": "execute_result",
          "data": {
            "text/plain": [
              "          Bearer Id       Start ms         End ms     Dur. (ms)  \\\n",
              "count  1.500010e+05  150001.000000  150001.000000  1.500010e+05   \n",
              "mean   1.015806e+19     499.189512     498.799735  1.046085e+05   \n",
              "std    2.893178e+18     288.611320     288.097034  8.103735e+04   \n",
              "min    6.917538e+18       0.000000       0.000000  7.142000e+03   \n",
              "25%    7.349883e+18     250.000000     251.000000  5.744200e+04   \n",
              "50%    7.349883e+18     499.000000     500.000000  8.639900e+04   \n",
              "75%    1.304243e+19     749.000000     750.000000  1.324300e+05   \n",
              "max    1.318654e+19     999.000000     999.000000  1.859336e+06   \n",
              "\n",
              "       MSISDN/Number  Avg RTT DL (ms)  Avg RTT UL (ms)  \\\n",
              "count   1.500010e+05    150001.000000    150001.000000   \n",
              "mean    4.182414e+10        94.620523        15.315031   \n",
              "std     2.438731e+12       560.245617        76.687998   \n",
              "min     3.360100e+10         0.000000         0.000000   \n",
              "25%     3.365094e+10        28.000000         3.000000   \n",
              "50%     3.366361e+10        38.000000         5.000000   \n",
              "75%     3.368307e+10        62.000000        11.000000   \n",
              "max     8.823971e+14     96923.000000      7120.000000   \n",
              "\n",
              "       Avg Bearer TP DL (kbps)  Avg Bearer TP UL (kbps)  \\\n",
              "count            150001.000000            150001.000000   \n",
              "mean              13299.957414              1770.417111   \n",
              "std               23971.823147              4625.342240   \n",
              "min                   0.000000                 0.000000   \n",
              "25%                  43.000000                47.000000   \n",
              "50%                  63.000000                63.000000   \n",
              "75%               19710.000000              1120.000000   \n",
              "max              378160.000000             58613.000000   \n",
              "\n",
              "       TCP DL Retrans. Vol (Bytes)  ...  Youtube DL (Bytes)  \\\n",
              "count                 1.500010e+05  ...        1.500010e+05   \n",
              "mean                  2.080991e+07  ...        1.163407e+07   \n",
              "std                   1.172356e+08  ...        6.710569e+06   \n",
              "min                   2.000000e+00  ...        5.300000e+01   \n",
              "25%                   1.332932e+06  ...        5.833501e+06   \n",
              "50%                   2.080991e+07  ...        1.161602e+07   \n",
              "75%                   2.080991e+07  ...        1.744852e+07   \n",
              "max                   4.294426e+09  ...        2.325910e+07   \n",
              "\n",
              "       Youtube UL (Bytes)  Netflix DL (Bytes)  Netflix UL (Bytes)  \\\n",
              "count        1.500010e+05        1.500010e+05        1.500010e+05   \n",
              "mean         1.100941e+07        1.162685e+07        1.100175e+07   \n",
              "std          6.345423e+06        6.725218e+06        6.359490e+06   \n",
              "min          1.050000e+02        4.200000e+01        3.500000e+01   \n",
              "25%          5.517965e+06        5.777156e+06        5.475981e+06   \n",
              "50%          1.101345e+07        1.164222e+07        1.099638e+07   \n",
              "75%          1.651556e+07        1.747048e+07        1.650727e+07   \n",
              "max          2.201196e+07        2.325919e+07        2.201196e+07   \n",
              "\n",
              "       Gaming DL (Bytes)  Gaming UL (Bytes)  Other DL (Bytes)  \\\n",
              "count       1.500010e+05       1.500010e+05      1.500010e+05   \n",
              "mean        4.220447e+08       8.288398e+06      4.211005e+08   \n",
              "std         2.439675e+08       4.782700e+06      2.432050e+08   \n",
              "min         2.516000e+03       5.900000e+01      3.290000e+03   \n",
              "25%         2.104733e+08       4.128476e+06      2.101869e+08   \n",
              "50%         4.234081e+08       8.291208e+06      4.218030e+08   \n",
              "75%         6.331742e+08       1.243162e+07      6.316918e+08   \n",
              "max         8.434419e+08       1.655879e+07      8.434425e+08   \n",
              "\n",
              "       Other UL (Bytes)  Total UL (Bytes)  Total DL (Bytes)  \n",
              "count      1.500010e+05      1.500010e+05      1.500010e+05  \n",
              "mean       8.264799e+06      4.112106e+07      4.112106e+07  \n",
              "std        4.769004e+06      1.127649e+07      1.127649e+07  \n",
              "min        1.480000e+02      2.866892e+06      2.866892e+06  \n",
              "25%        4.145943e+06      3.322196e+07      3.322196e+07  \n",
              "50%        8.267071e+06      4.114324e+07      4.114324e+07  \n",
              "75%        1.238415e+07      4.903424e+07      4.903424e+07  \n",
              "max        1.655882e+07      7.833131e+07      7.833131e+07  \n",
              "\n",
              "[8 rows x 40 columns]"
            ],
            "text/html": [
              "\n",
              "  <div id=\"df-fc4b08d9-11dc-40c7-8245-2b31bd8833a6\">\n",
              "    <div class=\"colab-df-container\">\n",
              "      <div>\n",
              "<style scoped>\n",
              "    .dataframe tbody tr th:only-of-type {\n",
              "        vertical-align: middle;\n",
              "    }\n",
              "\n",
              "    .dataframe tbody tr th {\n",
              "        vertical-align: top;\n",
              "    }\n",
              "\n",
              "    .dataframe thead th {\n",
              "        text-align: right;\n",
              "    }\n",
              "</style>\n",
              "<table border=\"1\" class=\"dataframe\">\n",
              "  <thead>\n",
              "    <tr style=\"text-align: right;\">\n",
              "      <th></th>\n",
              "      <th>Bearer Id</th>\n",
              "      <th>Start ms</th>\n",
              "      <th>End ms</th>\n",
              "      <th>Dur. (ms)</th>\n",
              "      <th>MSISDN/Number</th>\n",
              "      <th>Avg RTT DL (ms)</th>\n",
              "      <th>Avg RTT UL (ms)</th>\n",
              "      <th>Avg Bearer TP DL (kbps)</th>\n",
              "      <th>Avg Bearer TP UL (kbps)</th>\n",
              "      <th>TCP DL Retrans. Vol (Bytes)</th>\n",
              "      <th>...</th>\n",
              "      <th>Youtube DL (Bytes)</th>\n",
              "      <th>Youtube UL (Bytes)</th>\n",
              "      <th>Netflix DL (Bytes)</th>\n",
              "      <th>Netflix UL (Bytes)</th>\n",
              "      <th>Gaming DL (Bytes)</th>\n",
              "      <th>Gaming UL (Bytes)</th>\n",
              "      <th>Other DL (Bytes)</th>\n",
              "      <th>Other UL (Bytes)</th>\n",
              "      <th>Total UL (Bytes)</th>\n",
              "      <th>Total DL (Bytes)</th>\n",
              "    </tr>\n",
              "  </thead>\n",
              "  <tbody>\n",
              "    <tr>\n",
              "      <th>count</th>\n",
              "      <td>1.500010e+05</td>\n",
              "      <td>150001.000000</td>\n",
              "      <td>150001.000000</td>\n",
              "      <td>1.500010e+05</td>\n",
              "      <td>1.500010e+05</td>\n",
              "      <td>150001.000000</td>\n",
              "      <td>150001.000000</td>\n",
              "      <td>150001.000000</td>\n",
              "      <td>150001.000000</td>\n",
              "      <td>1.500010e+05</td>\n",
              "      <td>...</td>\n",
              "      <td>1.500010e+05</td>\n",
              "      <td>1.500010e+05</td>\n",
              "      <td>1.500010e+05</td>\n",
              "      <td>1.500010e+05</td>\n",
              "      <td>1.500010e+05</td>\n",
              "      <td>1.500010e+05</td>\n",
              "      <td>1.500010e+05</td>\n",
              "      <td>1.500010e+05</td>\n",
              "      <td>1.500010e+05</td>\n",
              "      <td>1.500010e+05</td>\n",
              "    </tr>\n",
              "    <tr>\n",
              "      <th>mean</th>\n",
              "      <td>1.015806e+19</td>\n",
              "      <td>499.189512</td>\n",
              "      <td>498.799735</td>\n",
              "      <td>1.046085e+05</td>\n",
              "      <td>4.182414e+10</td>\n",
              "      <td>94.620523</td>\n",
              "      <td>15.315031</td>\n",
              "      <td>13299.957414</td>\n",
              "      <td>1770.417111</td>\n",
              "      <td>2.080991e+07</td>\n",
              "      <td>...</td>\n",
              "      <td>1.163407e+07</td>\n",
              "      <td>1.100941e+07</td>\n",
              "      <td>1.162685e+07</td>\n",
              "      <td>1.100175e+07</td>\n",
              "      <td>4.220447e+08</td>\n",
              "      <td>8.288398e+06</td>\n",
              "      <td>4.211005e+08</td>\n",
              "      <td>8.264799e+06</td>\n",
              "      <td>4.112106e+07</td>\n",
              "      <td>4.112106e+07</td>\n",
              "    </tr>\n",
              "    <tr>\n",
              "      <th>std</th>\n",
              "      <td>2.893178e+18</td>\n",
              "      <td>288.611320</td>\n",
              "      <td>288.097034</td>\n",
              "      <td>8.103735e+04</td>\n",
              "      <td>2.438731e+12</td>\n",
              "      <td>560.245617</td>\n",
              "      <td>76.687998</td>\n",
              "      <td>23971.823147</td>\n",
              "      <td>4625.342240</td>\n",
              "      <td>1.172356e+08</td>\n",
              "      <td>...</td>\n",
              "      <td>6.710569e+06</td>\n",
              "      <td>6.345423e+06</td>\n",
              "      <td>6.725218e+06</td>\n",
              "      <td>6.359490e+06</td>\n",
              "      <td>2.439675e+08</td>\n",
              "      <td>4.782700e+06</td>\n",
              "      <td>2.432050e+08</td>\n",
              "      <td>4.769004e+06</td>\n",
              "      <td>1.127649e+07</td>\n",
              "      <td>1.127649e+07</td>\n",
              "    </tr>\n",
              "    <tr>\n",
              "      <th>min</th>\n",
              "      <td>6.917538e+18</td>\n",
              "      <td>0.000000</td>\n",
              "      <td>0.000000</td>\n",
              "      <td>7.142000e+03</td>\n",
              "      <td>3.360100e+10</td>\n",
              "      <td>0.000000</td>\n",
              "      <td>0.000000</td>\n",
              "      <td>0.000000</td>\n",
              "      <td>0.000000</td>\n",
              "      <td>2.000000e+00</td>\n",
              "      <td>...</td>\n",
              "      <td>5.300000e+01</td>\n",
              "      <td>1.050000e+02</td>\n",
              "      <td>4.200000e+01</td>\n",
              "      <td>3.500000e+01</td>\n",
              "      <td>2.516000e+03</td>\n",
              "      <td>5.900000e+01</td>\n",
              "      <td>3.290000e+03</td>\n",
              "      <td>1.480000e+02</td>\n",
              "      <td>2.866892e+06</td>\n",
              "      <td>2.866892e+06</td>\n",
              "    </tr>\n",
              "    <tr>\n",
              "      <th>25%</th>\n",
              "      <td>7.349883e+18</td>\n",
              "      <td>250.000000</td>\n",
              "      <td>251.000000</td>\n",
              "      <td>5.744200e+04</td>\n",
              "      <td>3.365094e+10</td>\n",
              "      <td>28.000000</td>\n",
              "      <td>3.000000</td>\n",
              "      <td>43.000000</td>\n",
              "      <td>47.000000</td>\n",
              "      <td>1.332932e+06</td>\n",
              "      <td>...</td>\n",
              "      <td>5.833501e+06</td>\n",
              "      <td>5.517965e+06</td>\n",
              "      <td>5.777156e+06</td>\n",
              "      <td>5.475981e+06</td>\n",
              "      <td>2.104733e+08</td>\n",
              "      <td>4.128476e+06</td>\n",
              "      <td>2.101869e+08</td>\n",
              "      <td>4.145943e+06</td>\n",
              "      <td>3.322196e+07</td>\n",
              "      <td>3.322196e+07</td>\n",
              "    </tr>\n",
              "    <tr>\n",
              "      <th>50%</th>\n",
              "      <td>7.349883e+18</td>\n",
              "      <td>499.000000</td>\n",
              "      <td>500.000000</td>\n",
              "      <td>8.639900e+04</td>\n",
              "      <td>3.366361e+10</td>\n",
              "      <td>38.000000</td>\n",
              "      <td>5.000000</td>\n",
              "      <td>63.000000</td>\n",
              "      <td>63.000000</td>\n",
              "      <td>2.080991e+07</td>\n",
              "      <td>...</td>\n",
              "      <td>1.161602e+07</td>\n",
              "      <td>1.101345e+07</td>\n",
              "      <td>1.164222e+07</td>\n",
              "      <td>1.099638e+07</td>\n",
              "      <td>4.234081e+08</td>\n",
              "      <td>8.291208e+06</td>\n",
              "      <td>4.218030e+08</td>\n",
              "      <td>8.267071e+06</td>\n",
              "      <td>4.114324e+07</td>\n",
              "      <td>4.114324e+07</td>\n",
              "    </tr>\n",
              "    <tr>\n",
              "      <th>75%</th>\n",
              "      <td>1.304243e+19</td>\n",
              "      <td>749.000000</td>\n",
              "      <td>750.000000</td>\n",
              "      <td>1.324300e+05</td>\n",
              "      <td>3.368307e+10</td>\n",
              "      <td>62.000000</td>\n",
              "      <td>11.000000</td>\n",
              "      <td>19710.000000</td>\n",
              "      <td>1120.000000</td>\n",
              "      <td>2.080991e+07</td>\n",
              "      <td>...</td>\n",
              "      <td>1.744852e+07</td>\n",
              "      <td>1.651556e+07</td>\n",
              "      <td>1.747048e+07</td>\n",
              "      <td>1.650727e+07</td>\n",
              "      <td>6.331742e+08</td>\n",
              "      <td>1.243162e+07</td>\n",
              "      <td>6.316918e+08</td>\n",
              "      <td>1.238415e+07</td>\n",
              "      <td>4.903424e+07</td>\n",
              "      <td>4.903424e+07</td>\n",
              "    </tr>\n",
              "    <tr>\n",
              "      <th>max</th>\n",
              "      <td>1.318654e+19</td>\n",
              "      <td>999.000000</td>\n",
              "      <td>999.000000</td>\n",
              "      <td>1.859336e+06</td>\n",
              "      <td>8.823971e+14</td>\n",
              "      <td>96923.000000</td>\n",
              "      <td>7120.000000</td>\n",
              "      <td>378160.000000</td>\n",
              "      <td>58613.000000</td>\n",
              "      <td>4.294426e+09</td>\n",
              "      <td>...</td>\n",
              "      <td>2.325910e+07</td>\n",
              "      <td>2.201196e+07</td>\n",
              "      <td>2.325919e+07</td>\n",
              "      <td>2.201196e+07</td>\n",
              "      <td>8.434419e+08</td>\n",
              "      <td>1.655879e+07</td>\n",
              "      <td>8.434425e+08</td>\n",
              "      <td>1.655882e+07</td>\n",
              "      <td>7.833131e+07</td>\n",
              "      <td>7.833131e+07</td>\n",
              "    </tr>\n",
              "  </tbody>\n",
              "</table>\n",
              "<p>8 rows × 40 columns</p>\n",
              "</div>\n",
              "      <button class=\"colab-df-convert\" onclick=\"convertToInteractive('df-fc4b08d9-11dc-40c7-8245-2b31bd8833a6')\"\n",
              "              title=\"Convert this dataframe to an interactive table.\"\n",
              "              style=\"display:none;\">\n",
              "        \n",
              "  <svg xmlns=\"http://www.w3.org/2000/svg\" height=\"24px\"viewBox=\"0 0 24 24\"\n",
              "       width=\"24px\">\n",
              "    <path d=\"M0 0h24v24H0V0z\" fill=\"none\"/>\n",
              "    <path d=\"M18.56 5.44l.94 2.06.94-2.06 2.06-.94-2.06-.94-.94-2.06-.94 2.06-2.06.94zm-11 1L8.5 8.5l.94-2.06 2.06-.94-2.06-.94L8.5 2.5l-.94 2.06-2.06.94zm10 10l.94 2.06.94-2.06 2.06-.94-2.06-.94-.94-2.06-.94 2.06-2.06.94z\"/><path d=\"M17.41 7.96l-1.37-1.37c-.4-.4-.92-.59-1.43-.59-.52 0-1.04.2-1.43.59L10.3 9.45l-7.72 7.72c-.78.78-.78 2.05 0 2.83L4 21.41c.39.39.9.59 1.41.59.51 0 1.02-.2 1.41-.59l7.78-7.78 2.81-2.81c.8-.78.8-2.07 0-2.86zM5.41 20L4 18.59l7.72-7.72 1.47 1.35L5.41 20z\"/>\n",
              "  </svg>\n",
              "      </button>\n",
              "      \n",
              "  <style>\n",
              "    .colab-df-container {\n",
              "      display:flex;\n",
              "      flex-wrap:wrap;\n",
              "      gap: 12px;\n",
              "    }\n",
              "\n",
              "    .colab-df-convert {\n",
              "      background-color: #E8F0FE;\n",
              "      border: none;\n",
              "      border-radius: 50%;\n",
              "      cursor: pointer;\n",
              "      display: none;\n",
              "      fill: #1967D2;\n",
              "      height: 32px;\n",
              "      padding: 0 0 0 0;\n",
              "      width: 32px;\n",
              "    }\n",
              "\n",
              "    .colab-df-convert:hover {\n",
              "      background-color: #E2EBFA;\n",
              "      box-shadow: 0px 1px 2px rgba(60, 64, 67, 0.3), 0px 1px 3px 1px rgba(60, 64, 67, 0.15);\n",
              "      fill: #174EA6;\n",
              "    }\n",
              "\n",
              "    [theme=dark] .colab-df-convert {\n",
              "      background-color: #3B4455;\n",
              "      fill: #D2E3FC;\n",
              "    }\n",
              "\n",
              "    [theme=dark] .colab-df-convert:hover {\n",
              "      background-color: #434B5C;\n",
              "      box-shadow: 0px 1px 3px 1px rgba(0, 0, 0, 0.15);\n",
              "      filter: drop-shadow(0px 1px 2px rgba(0, 0, 0, 0.3));\n",
              "      fill: #FFFFFF;\n",
              "    }\n",
              "  </style>\n",
              "\n",
              "      <script>\n",
              "        const buttonEl =\n",
              "          document.querySelector('#df-fc4b08d9-11dc-40c7-8245-2b31bd8833a6 button.colab-df-convert');\n",
              "        buttonEl.style.display =\n",
              "          google.colab.kernel.accessAllowed ? 'block' : 'none';\n",
              "\n",
              "        async function convertToInteractive(key) {\n",
              "          const element = document.querySelector('#df-fc4b08d9-11dc-40c7-8245-2b31bd8833a6');\n",
              "          const dataTable =\n",
              "            await google.colab.kernel.invokeFunction('convertToInteractive',\n",
              "                                                     [key], {});\n",
              "          if (!dataTable) return;\n",
              "\n",
              "          const docLinkHtml = 'Like what you see? Visit the ' +\n",
              "            '<a target=\"_blank\" href=https://colab.research.google.com/notebooks/data_table.ipynb>data table notebook</a>'\n",
              "            + ' to learn more about interactive tables.';\n",
              "          element.innerHTML = '';\n",
              "          dataTable['output_type'] = 'display_data';\n",
              "          await google.colab.output.renderOutput(dataTable, element);\n",
              "          const docLink = document.createElement('div');\n",
              "          docLink.innerHTML = docLinkHtml;\n",
              "          element.appendChild(docLink);\n",
              "        }\n",
              "      </script>\n",
              "    </div>\n",
              "  </div>\n",
              "  "
            ]
          },
          "metadata": {},
          "execution_count": 19
        }
      ],
      "source": [
        "df.describe()"
      ],
      "id": "LiKakL5CDGAO"
    },
    {
      "cell_type": "markdown",
      "metadata": {
        "id": "QRRlpeQb_eVx"
      },
      "source": [
        "## Data Scaling "
      ],
      "id": "QRRlpeQb_eVx"
    },
    {
      "cell_type": "markdown",
      "metadata": {
        "id": "lYrQnA5Xd1Zw"
      },
      "source": [
        "### Standardization"
      ],
      "id": "lYrQnA5Xd1Zw"
    },
    {
      "cell_type": "code",
      "execution_count": 20,
      "metadata": {
        "colab": {
          "base_uri": "https://localhost:8080/",
          "height": 279
        },
        "id": "ttzuxtv9BgP6",
        "outputId": "2612cb98-4a1a-4a14-c961-94b1ff4aa829"
      },
      "outputs": [
        {
          "output_type": "display_data",
          "data": {
            "text/plain": [
              "<Figure size 432x288 with 1 Axes>"
            ],
            "image/png": "[encoded data removed]"
          },
          "metadata": {
            "needs_background": "light"
          }
        }
      ],
      "source": [
        "#define the columns \n",
        " \n",
        "cols = ['Bearer Id', 'Dur. (ms)', 'MSISDN/Number','TCP DL Retrans. Vol (Bytes)', 'TCP UL Retrans. Vol (Bytes)', 'Social Media DL (Bytes)','Social Media UL (Bytes)',\n",
        "        'Google DL (Bytes)','Google UL (Bytes)' , 'Email DL (Bytes)', 'Email UL (Bytes)', 'Youtube DL (Bytes)', 'Youtube UL (Bytes)', \n",
        "        'Netflix DL (Bytes)', 'Netflix UL (Bytes)', 'Gaming DL (Bytes)', 'Gaming UL (Bytes)', 'Total UL (Bytes)' , 'Total DL (Bytes)']\n",
        " \n",
        "#call the standard scaler \n",
        "std_scaler = StandardScaler()\n",
        " \n",
        "#fit the values to the function \n",
        "Stand_Sc = std_scaler.fit_transform(df[cols].iloc[:,range(0,7)].values)\n",
        " \n",
        "#use seaborn for KDE plot\n",
        "sns.kdeplot(Stand_Sc[:,5],fill=True, color = 'Green')\n",
        " \n",
        "#Label the plot \n",
        "plt.xlabel('standardized values')\n",
        " \n",
        "#Print the plot \n",
        "plt.show()"
      ],
      "id": "ttzuxtv9BgP6"
    },
    {
      "cell_type": "markdown",
      "metadata": {
        "id": "5OKfge8VEhkW"
      },
      "source": [
        "### Normalization"
      ],
      "id": "5OKfge8VEhkW"
    },
    {
      "cell_type": "code",
      "execution_count": 21,
      "metadata": {
        "colab": {
          "base_uri": "https://localhost:8080/",
          "height": 370
        },
        "id": "dpuCh7g7ElCc",
        "outputId": "f2331603-fdff-40b6-ca10-345baf6823bf"
      },
      "outputs": [
        {
          "output_type": "display_data",
          "data": {
            "text/plain": [
              "<Figure size 360x360 with 1 Axes>"
            ],
            "image/png": "[encoded data removed]"
          },
          "metadata": {
            "needs_background": "light"
          }
        }
      ],
      "source": [
        "#initialize normalizer\n",
        "data_norm = Normalizer()\n",
        " \n",
        "#Fit the data\n",
        "Normalize = data_norm.fit_transform(df[cols].iloc[:,range(0,7)].values)\n",
        " \n",
        "#Distribution plot \n",
        "sns.displot(Normalize[:,5],fill=True, color = 'orange')\n",
        " \n",
        "#Add the axis labels \n",
        "plt.xlabel('normalized values')\n",
        " \n",
        "#Display the plot \n",
        "plt.show()"
      ],
      "id": "dpuCh7g7ElCc"
    },
    {
      "cell_type": "code",
      "execution_count": null,
      "metadata": {
        "id": "LLQnniyRMgdQ"
      },
      "outputs": [],
      "source": [
        "# df[cols][\"Bearer Id\"]"
      ],
      "id": "LLQnniyRMgdQ"
    },
    {
      "cell_type": "markdown",
      "metadata": {
        "id": "0646f25b"
      },
      "source": [
        "## Extracting Data"
      ],
      "id": "0646f25b"
    },
    {
      "cell_type": "markdown",
      "metadata": {
        "id": "df1ba8e6"
      },
      "source": [
        "### Handset type and manufacures"
      ],
      "id": "df1ba8e6"
    },
    {
      "cell_type": "code",
      "execution_count": 22,
      "metadata": {
        "id": "1ec3a7a0",
        "colab": {
          "base_uri": "https://localhost:8080/"
        },
        "outputId": "0e7f99d8-c64b-4d05-83cf-e81b271bd627"
      },
      "outputs": [
        {
          "output_type": "execute_result",
          "data": {
            "text/plain": [
              "Huawei B528S-23A                19752\n",
              "undefined                        9559\n",
              "Apple iPhone 6S (A1688)          9419\n",
              "Apple iPhone 6 (A1586)           9023\n",
              "Apple iPhone 7 (A1778)           6326\n",
              "Apple iPhone Se (A1723)          5187\n",
              "Apple iPhone 8 (A1905)           4993\n",
              "Apple iPhone Xr (A2105)          4568\n",
              "Samsung Galaxy S8 (Sm-G950F)     4520\n",
              "Apple iPhone X (A1901)           3813\n",
              "Name: Handset Type, dtype: int64"
            ]
          },
          "metadata": {},
          "execution_count": 22
        }
      ],
      "source": [
        "ht = df[\"Handset Type\"].value_counts()\n",
        "ht.head(10)"
      ],
      "id": "1ec3a7a0"
    },
    {
      "cell_type": "code",
      "execution_count": 23,
      "metadata": {
        "id": "81605a56",
        "colab": {
          "base_uri": "https://localhost:8080/"
        },
        "outputId": "f3b4e7ef-d32b-4f86-86d2-fd92a45dddfb"
      },
      "outputs": [
        {
          "output_type": "execute_result",
          "data": {
            "text/plain": [
              "Apple      59565\n",
              "Samsung    40839\n",
              "Huawei     34423\n",
              "Name: Handset Manufacturer, dtype: int64"
            ]
          },
          "metadata": {},
          "execution_count": 23
        }
      ],
      "source": [
        "hm = df[\"Handset Manufacturer\"].value_counts()\n",
        "hm.head(3)"
      ],
      "id": "81605a56"
    },
    {
      "cell_type": "code",
      "execution_count": 24,
      "metadata": {
        "id": "92763d32",
        "colab": {
          "base_uri": "https://localhost:8080/",
          "height": 281
        },
        "outputId": "1de47ec7-cd23-46f1-b82c-6e18489fc900"
      },
      "outputs": [
        {
          "output_type": "execute_result",
          "data": {
            "text/plain": [
              "    50 Kbps < UL TP < 300 Kbps (%)  UL TP > 300 Kbps (%)  \\\n",
              "22                             0.0                   0.0   \n",
              "\n",
              "    Activity Duration DL (ms)  Activity Duration UL (ms)  Dur. (ms).1  \\\n",
              "22                    20070.0                    79273.0  723714634.0   \n",
              "\n",
              "   Handset Manufacturer             Handset Type  \\\n",
              "22                Apple  Apple iPhone 6S (A1688)   \n",
              "\n",
              "    Nb of sec with Vol DL < 6250B  Nb of sec with Vol UL < 1250B  \\\n",
              "22                          132.0                          245.0   \n",
              "\n",
              "    Social Media DL (Bytes)  Social Media UL (Bytes)  Google DL (Bytes)  \\\n",
              "22                 759834.0                  47429.0         10830083.0   \n",
              "\n",
              "    Google UL (Bytes)  Email DL (Bytes)  Email UL (Bytes)  Youtube DL (Bytes)  \\\n",
              "22          2924712.0         1781218.0          375213.0           5171749.0   \n",
              "\n",
              "    Youtube UL (Bytes)  Netflix DL (Bytes)  Netflix UL (Bytes)  \\\n",
              "22          16522963.0          19868319.0           9877484.0   \n",
              "\n",
              "    Gaming DL (Bytes)  \n",
              "22        536129472.0  "
            ],
            "text/html": [
              "\n",
              "  <div id=\"df-e962780f-36f4-44dd-94cb-177837bd5bf6\">\n",
              "    <div class=\"colab-df-container\">\n",
              "      <div>\n",
              "<style scoped>\n",
              "    .dataframe tbody tr th:only-of-type {\n",
              "        vertical-align: middle;\n",
              "    }\n",
              "\n",
              "    .dataframe tbody tr th {\n",
              "        vertical-align: top;\n",
              "    }\n",
              "\n",
              "    .dataframe thead th {\n",
              "        text-align: right;\n",
              "    }\n",
              "</style>\n",
              "<table border=\"1\" class=\"dataframe\">\n",
              "  <thead>\n",
              "    <tr style=\"text-align: right;\">\n",
              "      <th></th>\n",
              "      <th>50 Kbps &lt; UL TP &lt; 300 Kbps (%)</th>\n",
              "      <th>UL TP &gt; 300 Kbps (%)</th>\n",
              "      <th>Activity Duration DL (ms)</th>\n",
              "      <th>Activity Duration UL (ms)</th>\n",
              "      <th>Dur. (ms).1</th>\n",
              "      <th>Handset Manufacturer</th>\n",
              "      <th>Handset Type</th>\n",
              "      <th>Nb of sec with Vol DL &lt; 6250B</th>\n",
              "      <th>Nb of sec with Vol UL &lt; 1250B</th>\n",
              "      <th>Social Media DL (Bytes)</th>\n",
              "      <th>Social Media UL (Bytes)</th>\n",
              "      <th>Google DL (Bytes)</th>\n",
              "      <th>Google UL (Bytes)</th>\n",
              "      <th>Email DL (Bytes)</th>\n",
              "      <th>Email UL (Bytes)</th>\n",
              "      <th>Youtube DL (Bytes)</th>\n",
              "      <th>Youtube UL (Bytes)</th>\n",
              "      <th>Netflix DL (Bytes)</th>\n",
              "      <th>Netflix UL (Bytes)</th>\n",
              "      <th>Gaming DL (Bytes)</th>\n",
              "    </tr>\n",
              "  </thead>\n",
              "  <tbody>\n",
              "    <tr>\n",
              "      <th>22</th>\n",
              "      <td>0.0</td>\n",
              "      <td>0.0</td>\n",
              "      <td>20070.0</td>\n",
              "      <td>79273.0</td>\n",
              "      <td>723714634.0</td>\n",
              "      <td>Apple</td>\n",
              "      <td>Apple iPhone 6S (A1688)</td>\n",
              "      <td>132.0</td>\n",
              "      <td>245.0</td>\n",
              "      <td>759834.0</td>\n",
              "      <td>47429.0</td>\n",
              "      <td>10830083.0</td>\n",
              "      <td>2924712.0</td>\n",
              "      <td>1781218.0</td>\n",
              "      <td>375213.0</td>\n",
              "      <td>5171749.0</td>\n",
              "      <td>16522963.0</td>\n",
              "      <td>19868319.0</td>\n",
              "      <td>9877484.0</td>\n",
              "      <td>536129472.0</td>\n",
              "    </tr>\n",
              "  </tbody>\n",
              "</table>\n",
              "</div>\n",
              "      <button class=\"colab-df-convert\" onclick=\"convertToInteractive('df-e962780f-36f4-44dd-94cb-177837bd5bf6')\"\n",
              "              title=\"Convert this dataframe to an interactive table.\"\n",
              "              style=\"display:none;\">\n",
              "        \n",
              "  <svg xmlns=\"http://www.w3.org/2000/svg\" height=\"24px\"viewBox=\"0 0 24 24\"\n",
              "       width=\"24px\">\n",
              "    <path d=\"M0 0h24v24H0V0z\" fill=\"none\"/>\n",
              "    <path d=\"M18.56 5.44l.94 2.06.94-2.06 2.06-.94-2.06-.94-.94-2.06-.94 2.06-2.06.94zm-11 1L8.5 8.5l.94-2.06 2.06-.94-2.06-.94L8.5 2.5l-.94 2.06-2.06.94zm10 10l.94 2.06.94-2.06 2.06-.94-2.06-.94-.94-2.06-.94 2.06-2.06.94z\"/><path d=\"M17.41 7.96l-1.37-1.37c-.4-.4-.92-.59-1.43-.59-.52 0-1.04.2-1.43.59L10.3 9.45l-7.72 7.72c-.78.78-.78 2.05 0 2.83L4 21.41c.39.39.9.59 1.41.59.51 0 1.02-.2 1.41-.59l7.78-7.78 2.81-2.81c.8-.78.8-2.07 0-2.86zM5.41 20L4 18.59l7.72-7.72 1.47 1.35L5.41 20z\"/>\n",
              "  </svg>\n",
              "      </button>\n",
              "      \n",
              "  <style>\n",
              "    .colab-df-container {\n",
              "      display:flex;\n",
              "      flex-wrap:wrap;\n",
              "      gap: 12px;\n",
              "    }\n",
              "\n",
              "    .colab-df-convert {\n",
              "      background-color: #E8F0FE;\n",
              "      border: none;\n",
              "      border-radius: 50%;\n",
              "      cursor: pointer;\n",
              "      display: none;\n",
              "      fill: #1967D2;\n",
              "      height: 32px;\n",
              "      padding: 0 0 0 0;\n",
              "      width: 32px;\n",
              "    }\n",
              "\n",
              "    .colab-df-convert:hover {\n",
              "      background-color: #E2EBFA;\n",
              "      box-shadow: 0px 1px 2px rgba(60, 64, 67, 0.3), 0px 1px 3px 1px rgba(60, 64, 67, 0.15);\n",
              "      fill: #174EA6;\n",
              "    }\n",
              "\n",
              "    [theme=dark] .colab-df-convert {\n",
              "      background-color: #3B4455;\n",
              "      fill: #D2E3FC;\n",
              "    }\n",
              "\n",
              "    [theme=dark] .colab-df-convert:hover {\n",
              "      background-color: #434B5C;\n",
              "      box-shadow: 0px 1px 3px 1px rgba(0, 0, 0, 0.15);\n",
              "      filter: drop-shadow(0px 1px 2px rgba(0, 0, 0, 0.3));\n",
              "      fill: #FFFFFF;\n",
              "    }\n",
              "  </style>\n",
              "\n",
              "      <script>\n",
              "        const buttonEl =\n",
              "          document.querySelector('#df-e962780f-36f4-44dd-94cb-177837bd5bf6 button.colab-df-convert');\n",
              "        buttonEl.style.display =\n",
              "          google.colab.kernel.accessAllowed ? 'block' : 'none';\n",
              "\n",
              "        async function convertToInteractive(key) {\n",
              "          const element = document.querySelector('#df-e962780f-36f4-44dd-94cb-177837bd5bf6');\n",
              "          const dataTable =\n",
              "            await google.colab.kernel.invokeFunction('convertToInteractive',\n",
              "                                                     [key], {});\n",
              "          if (!dataTable) return;\n",
              "\n",
              "          const docLinkHtml = 'Like what you see? Visit the ' +\n",
              "            '<a target=\"_blank\" href=https://colab.research.google.com/notebooks/data_table.ipynb>data table notebook</a>'\n",
              "            + ' to learn more about interactive tables.';\n",
              "          element.innerHTML = '';\n",
              "          dataTable['output_type'] = 'display_data';\n",
              "          await google.colab.output.renderOutput(dataTable, element);\n",
              "          const docLink = document.createElement('div');\n",
              "          docLink.innerHTML = docLinkHtml;\n",
              "          element.appendChild(docLink);\n",
              "        }\n",
              "      </script>\n",
              "    </div>\n",
              "  </div>\n",
              "  "
            ]
          },
          "metadata": {},
          "execution_count": 24
        }
      ],
      "source": [
        "Manu_grp = df.groupby([\"Handset Manufacturer\"])\n",
        "Manu_grp.get_group('Apple').iloc[:1 , 20:40]"
      ],
      "id": "92763d32"
    },
    {
      "cell_type": "code",
      "execution_count": 25,
      "metadata": {
        "id": "75d46815",
        "colab": {
          "base_uri": "https://localhost:8080/"
        },
        "outputId": "b562579d-68a2-4ca6-d5fe-eed2c1b770d1"
      },
      "outputs": [
        {
          "output_type": "execute_result",
          "data": {
            "text/plain": [
              "Handset Type\n",
              "Apple iPhone 6S (A1688)    9419\n",
              "Apple iPhone 6 (A1586)     9023\n",
              "Apple iPhone 7 (A1778)     6326\n",
              "Apple iPhone Se (A1723)    5187\n",
              "Apple iPhone 8 (A1905)     4993\n",
              "Name: Handset Type, dtype: int64"
            ]
          },
          "metadata": {},
          "execution_count": 25
        }
      ],
      "source": [
        "Manu_grp['Handset Type'].value_counts().loc['Apple'].head(5)"
      ],
      "id": "75d46815"
    },
    {
      "cell_type": "code",
      "execution_count": 26,
      "metadata": {
        "id": "85d875d7",
        "colab": {
          "base_uri": "https://localhost:8080/"
        },
        "outputId": "84105231-443c-4599-d342-79d3f45fd8d6"
      },
      "outputs": [
        {
          "output_type": "execute_result",
          "data": {
            "text/plain": [
              "Handset Type\n",
              "Samsung Galaxy S8 (Sm-G950F)    4520\n",
              "Samsung Galaxy A5 Sm-A520F      3724\n",
              "Samsung Galaxy J5 (Sm-J530)     3696\n",
              "Samsung Galaxy J3 (Sm-J330)     3484\n",
              "Samsung Galaxy S7 (Sm-G930X)    3199\n",
              "Name: Handset Type, dtype: int64"
            ]
          },
          "metadata": {},
          "execution_count": 26
        }
      ],
      "source": [
        "Manu_grp['Handset Type'].value_counts().loc['Samsung'].head(5)"
      ],
      "id": "85d875d7"
    },
    {
      "cell_type": "code",
      "execution_count": 27,
      "metadata": {
        "id": "f2ccdd2b",
        "colab": {
          "base_uri": "https://localhost:8080/"
        },
        "outputId": "81571616-cee2-4d5d-ede9-c9592ab3fddc"
      },
      "outputs": [
        {
          "output_type": "execute_result",
          "data": {
            "text/plain": [
              "Handset Type\n",
              "Huawei B528S-23A                  19752\n",
              "Huawei E5180                       2079\n",
              "Huawei P20 Lite Huawei Nova 3E     2021\n",
              "Huawei P20                         1480\n",
              "Huawei Y6 2018                      997\n",
              "Name: Handset Type, dtype: int64"
            ]
          },
          "metadata": {},
          "execution_count": 27
        }
      ],
      "source": [
        "Manu_grp['Handset Type'].value_counts().loc['Huawei'].head(5)"
      ],
      "id": "f2ccdd2b"
    },
    {
      "cell_type": "markdown",
      "metadata": {
        "id": "c1ff4cb4"
      },
      "source": [
        "### interpretation and recommendation to marketing teams\n",
        "The data between Handset Manufacturer and Handset Type shows that most of the users from the sample data use the manufacturer Apple product\n"
      ],
      "id": "c1ff4cb4"
    },
    {
      "cell_type": "code",
      "execution_count": 28,
      "metadata": {
        "id": "bcbd5812",
        "colab": {
          "base_uri": "https://localhost:8080/"
        },
        "outputId": "e783efaa-50cf-42bc-9c95-f2e56b0314b5"
      },
      "outputs": [
        {
          "output_type": "execute_result",
          "data": {
            "text/plain": [
              "3.362632e+10    1084\n",
              "3.361489e+10      17\n",
              "3.362578e+10      17\n",
              "3.365973e+10      16\n",
              "3.376054e+10      15\n",
              "                ... \n",
              "3.368998e+10       1\n",
              "3.376372e+10       1\n",
              "3.360748e+10       1\n",
              "3.369955e+10       1\n",
              "3.361962e+10       1\n",
              "Name: MSISDN/Number, Length: 106856, dtype: int64"
            ]
          },
          "metadata": {},
          "execution_count": 28
        }
      ],
      "source": [
        "df[\"MSISDN/Number\"].value_counts()"
      ],
      "id": "bcbd5812"
    },
    {
      "cell_type": "code",
      "execution_count": 29,
      "metadata": {
        "id": "02769d4d"
      },
      "outputs": [],
      "source": [
        "User_grp = df.groupby([\"MSISDN/Number\"])\n",
        "# User_grp.get_group('3.362632e+10')"
      ],
      "id": "02769d4d"
    },
    {
      "cell_type": "code",
      "execution_count": 30,
      "metadata": {
        "id": "82269a31",
        "colab": {
          "base_uri": "https://localhost:8080/"
        },
        "outputId": "6a3fe221-085b-4d12-84fd-262c55700600"
      },
      "outputs": [
        {
          "output_type": "execute_result",
          "data": {
            "text/plain": [
              "MSISDN/Number  Bearer Id   \n",
              "3.360100e+10   1.311448e+19    1\n",
              "               7.349883e+18    1\n",
              "               7.349883e+18    1\n",
              "3.360101e+10   1.304243e+19    1\n",
              "               7.277826e+18    1\n",
              "                              ..\n",
              "3.379000e+10   1.304243e+19    1\n",
              "               1.311448e+19    1\n",
              "3.197021e+12   7.277826e+18    1\n",
              "3.370000e+14   7.349883e+18    1\n",
              "8.823971e+14   7.277826e+18    1\n",
              "Name: Bearer Id, Length: 147958, dtype: int64"
            ]
          },
          "metadata": {},
          "execution_count": 30
        }
      ],
      "source": [
        "User_grp['Bearer Id'].value_counts()"
      ],
      "id": "82269a31"
    },
    {
      "cell_type": "code",
      "execution_count": 31,
      "metadata": {
        "id": "e837f579",
        "colab": {
          "base_uri": "https://localhost:8080/"
        },
        "outputId": "9a47a758-a4ec-4b16-ca66-2d638f2e55b8"
      },
      "outputs": [
        {
          "output_type": "execute_result",
          "data": {
            "text/plain": [
              "MSISDN/Number\n",
              "3.360100e+10    1.311448e+19\n",
              "3.360100e+10    7.349883e+18\n",
              "3.360100e+10    7.349883e+18\n",
              "3.360101e+10    1.304243e+19\n",
              "3.360101e+10    7.313854e+18\n",
              "                    ...     \n",
              "3.379000e+10    1.304243e+19\n",
              "3.379000e+10    1.311448e+19\n",
              "3.197021e+12    7.277826e+18\n",
              "3.370000e+14    7.349883e+18\n",
              "8.823971e+14    7.277826e+18\n",
              "Name: Bearer Id, Length: 106856, dtype: float64"
            ]
          },
          "metadata": {},
          "execution_count": 31
        }
      ],
      "source": [
        "User_grp['Bearer Id'].median()"
      ],
      "id": "e837f579"
    },
    {
      "cell_type": "code",
      "execution_count": 32,
      "metadata": {
        "id": "01458fb0",
        "colab": {
          "base_uri": "https://localhost:8080/"
        },
        "outputId": "ff8017a0-ec87-4f63-bd48-b1bb51a0f1ff"
      },
      "outputs": [
        {
          "output_type": "execute_result",
          "data": {
            "text/plain": [
              "MSISDN/Number\n",
              "3.360100e+10    1.311448e+19\n",
              "3.360100e+10    7.349883e+18\n",
              "3.360100e+10    7.349883e+18\n",
              "3.360101e+10    1.304243e+19\n",
              "3.360101e+10    7.313854e+18\n",
              "                    ...     \n",
              "3.379000e+10    1.304243e+19\n",
              "3.379000e+10    1.311448e+19\n",
              "3.197021e+12    7.277826e+18\n",
              "3.370000e+14    7.349883e+18\n",
              "8.823971e+14    7.277826e+18\n",
              "Name: Bearer Id, Length: 106856, dtype: float64"
            ]
          },
          "metadata": {},
          "execution_count": 32
        }
      ],
      "source": [
        "User_grp['Bearer Id'].mean()"
      ],
      "id": "01458fb0"
    },
    {
      "cell_type": "code",
      "execution_count": 33,
      "metadata": {
        "id": "fae27c96",
        "colab": {
          "base_uri": "https://localhost:8080/",
          "height": 455
        },
        "outputId": "e651e113-a7ae-44f6-f330-68653350d68f"
      },
      "outputs": [
        {
          "output_type": "execute_result",
          "data": {
            "text/plain": [
              "                     median          mean\n",
              "MSISDN/Number                            \n",
              "3.360100e+10   3.360100e+10  3.360100e+10\n",
              "3.360100e+10   3.360100e+10  3.360100e+10\n",
              "3.360100e+10   3.360100e+10  3.360100e+10\n",
              "3.360101e+10   3.360101e+10  3.360101e+10\n",
              "3.360101e+10   3.360101e+10  3.360101e+10\n",
              "...                     ...           ...\n",
              "3.379000e+10   3.379000e+10  3.379000e+10\n",
              "3.379000e+10   3.379000e+10  3.379000e+10\n",
              "3.197021e+12   3.197021e+12  3.197021e+12\n",
              "3.370000e+14   3.370000e+14  3.370000e+14\n",
              "8.823971e+14   8.823971e+14  8.823971e+14\n",
              "\n",
              "[106856 rows x 2 columns]"
            ],
            "text/html": [
              "\n",
              "  <div id=\"df-6a6214eb-5898-4279-9cfb-afd72e707da7\">\n",
              "    <div class=\"colab-df-container\">\n",
              "      <div>\n",
              "<style scoped>\n",
              "    .dataframe tbody tr th:only-of-type {\n",
              "        vertical-align: middle;\n",
              "    }\n",
              "\n",
              "    .dataframe tbody tr th {\n",
              "        vertical-align: top;\n",
              "    }\n",
              "\n",
              "    .dataframe thead th {\n",
              "        text-align: right;\n",
              "    }\n",
              "</style>\n",
              "<table border=\"1\" class=\"dataframe\">\n",
              "  <thead>\n",
              "    <tr style=\"text-align: right;\">\n",
              "      <th></th>\n",
              "      <th>median</th>\n",
              "      <th>mean</th>\n",
              "    </tr>\n",
              "    <tr>\n",
              "      <th>MSISDN/Number</th>\n",
              "      <th></th>\n",
              "      <th></th>\n",
              "    </tr>\n",
              "  </thead>\n",
              "  <tbody>\n",
              "    <tr>\n",
              "      <th>3.360100e+10</th>\n",
              "      <td>3.360100e+10</td>\n",
              "      <td>3.360100e+10</td>\n",
              "    </tr>\n",
              "    <tr>\n",
              "      <th>3.360100e+10</th>\n",
              "      <td>3.360100e+10</td>\n",
              "      <td>3.360100e+10</td>\n",
              "    </tr>\n",
              "    <tr>\n",
              "      <th>3.360100e+10</th>\n",
              "      <td>3.360100e+10</td>\n",
              "      <td>3.360100e+10</td>\n",
              "    </tr>\n",
              "    <tr>\n",
              "      <th>3.360101e+10</th>\n",
              "      <td>3.360101e+10</td>\n",
              "      <td>3.360101e+10</td>\n",
              "    </tr>\n",
              "    <tr>\n",
              "      <th>3.360101e+10</th>\n",
              "      <td>3.360101e+10</td>\n",
              "      <td>3.360101e+10</td>\n",
              "    </tr>\n",
              "    <tr>\n",
              "      <th>...</th>\n",
              "      <td>...</td>\n",
              "      <td>...</td>\n",
              "    </tr>\n",
              "    <tr>\n",
              "      <th>3.379000e+10</th>\n",
              "      <td>3.379000e+10</td>\n",
              "      <td>3.379000e+10</td>\n",
              "    </tr>\n",
              "    <tr>\n",
              "      <th>3.379000e+10</th>\n",
              "      <td>3.379000e+10</td>\n",
              "      <td>3.379000e+10</td>\n",
              "    </tr>\n",
              "    <tr>\n",
              "      <th>3.197021e+12</th>\n",
              "      <td>3.197021e+12</td>\n",
              "      <td>3.197021e+12</td>\n",
              "    </tr>\n",
              "    <tr>\n",
              "      <th>3.370000e+14</th>\n",
              "      <td>3.370000e+14</td>\n",
              "      <td>3.370000e+14</td>\n",
              "    </tr>\n",
              "    <tr>\n",
              "      <th>8.823971e+14</th>\n",
              "      <td>8.823971e+14</td>\n",
              "      <td>8.823971e+14</td>\n",
              "    </tr>\n",
              "  </tbody>\n",
              "</table>\n",
              "<p>106856 rows × 2 columns</p>\n",
              "</div>\n",
              "      <button class=\"colab-df-convert\" onclick=\"convertToInteractive('df-6a6214eb-5898-4279-9cfb-afd72e707da7')\"\n",
              "              title=\"Convert this dataframe to an interactive table.\"\n",
              "              style=\"display:none;\">\n",
              "        \n",
              "  <svg xmlns=\"http://www.w3.org/2000/svg\" height=\"24px\"viewBox=\"0 0 24 24\"\n",
              "       width=\"24px\">\n",
              "    <path d=\"M0 0h24v24H0V0z\" fill=\"none\"/>\n",
              "    <path d=\"M18.56 5.44l.94 2.06.94-2.06 2.06-.94-2.06-.94-.94-2.06-.94 2.06-2.06.94zm-11 1L8.5 8.5l.94-2.06 2.06-.94-2.06-.94L8.5 2.5l-.94 2.06-2.06.94zm10 10l.94 2.06.94-2.06 2.06-.94-2.06-.94-.94-2.06-.94 2.06-2.06.94z\"/><path d=\"M17.41 7.96l-1.37-1.37c-.4-.4-.92-.59-1.43-.59-.52 0-1.04.2-1.43.59L10.3 9.45l-7.72 7.72c-.78.78-.78 2.05 0 2.83L4 21.41c.39.39.9.59 1.41.59.51 0 1.02-.2 1.41-.59l7.78-7.78 2.81-2.81c.8-.78.8-2.07 0-2.86zM5.41 20L4 18.59l7.72-7.72 1.47 1.35L5.41 20z\"/>\n",
              "  </svg>\n",
              "      </button>\n",
              "      \n",
              "  <style>\n",
              "    .colab-df-container {\n",
              "      display:flex;\n",
              "      flex-wrap:wrap;\n",
              "      gap: 12px;\n",
              "    }\n",
              "\n",
              "    .colab-df-convert {\n",
              "      background-color: #E8F0FE;\n",
              "      border: none;\n",
              "      border-radius: 50%;\n",
              "      cursor: pointer;\n",
              "      display: none;\n",
              "      fill: #1967D2;\n",
              "      height: 32px;\n",
              "      padding: 0 0 0 0;\n",
              "      width: 32px;\n",
              "    }\n",
              "\n",
              "    .colab-df-convert:hover {\n",
              "      background-color: #E2EBFA;\n",
              "      box-shadow: 0px 1px 2px rgba(60, 64, 67, 0.3), 0px 1px 3px 1px rgba(60, 64, 67, 0.15);\n",
              "      fill: #174EA6;\n",
              "    }\n",
              "\n",
              "    [theme=dark] .colab-df-convert {\n",
              "      background-color: #3B4455;\n",
              "      fill: #D2E3FC;\n",
              "    }\n",
              "\n",
              "    [theme=dark] .colab-df-convert:hover {\n",
              "      background-color: #434B5C;\n",
              "      box-shadow: 0px 1px 3px 1px rgba(0, 0, 0, 0.15);\n",
              "      filter: drop-shadow(0px 1px 2px rgba(0, 0, 0, 0.3));\n",
              "      fill: #FFFFFF;\n",
              "    }\n",
              "  </style>\n",
              "\n",
              "      <script>\n",
              "        const buttonEl =\n",
              "          document.querySelector('#df-6a6214eb-5898-4279-9cfb-afd72e707da7 button.colab-df-convert');\n",
              "        buttonEl.style.display =\n",
              "          google.colab.kernel.accessAllowed ? 'block' : 'none';\n",
              "\n",
              "        async function convertToInteractive(key) {\n",
              "          const element = document.querySelector('#df-6a6214eb-5898-4279-9cfb-afd72e707da7');\n",
              "          const dataTable =\n",
              "            await google.colab.kernel.invokeFunction('convertToInteractive',\n",
              "                                                     [key], {});\n",
              "          if (!dataTable) return;\n",
              "\n",
              "          const docLinkHtml = 'Like what you see? Visit the ' +\n",
              "            '<a target=\"_blank\" href=https://colab.research.google.com/notebooks/data_table.ipynb>data table notebook</a>'\n",
              "            + ' to learn more about interactive tables.';\n",
              "          element.innerHTML = '';\n",
              "          dataTable['output_type'] = 'display_data';\n",
              "          await google.colab.output.renderOutput(dataTable, element);\n",
              "          const docLink = document.createElement('div');\n",
              "          docLink.innerHTML = docLinkHtml;\n",
              "          element.appendChild(docLink);\n",
              "        }\n",
              "      </script>\n",
              "    </div>\n",
              "  </div>\n",
              "  "
            ]
          },
          "metadata": {},
          "execution_count": 33
        }
      ],
      "source": [
        "User_grp[\"MSISDN/Number\"].agg(['median', 'mean'])"
      ],
      "id": "fae27c96"
    },
    {
      "cell_type": "code",
      "execution_count": 34,
      "metadata": {
        "id": "f8f2cc2b",
        "colab": {
          "base_uri": "https://localhost:8080/"
        },
        "outputId": "9fa9404f-f9fc-4a0f-d347-a6c8858ac62e"
      },
      "outputs": [
        {
          "output_type": "execute_result",
          "data": {
            "text/plain": [
              "MSISDN/Number  Dur. (ms)\n",
              "3.360100e+10   116720.0     1\n",
              "               181230.0     1\n",
              "               134969.0     1\n",
              "3.360101e+10   49878.0      1\n",
              "               18549.0      1\n",
              "                           ..\n",
              "3.379000e+10   8810.0       1\n",
              "               140988.0     1\n",
              "3.197021e+12   877385.0     1\n",
              "3.370000e+14   253030.0     1\n",
              "8.823971e+14   869844.0     1\n",
              "Name: Dur. (ms), Length: 142480, dtype: int64"
            ]
          },
          "metadata": {},
          "execution_count": 34
        }
      ],
      "source": [
        "User_grp['Dur. (ms)'].value_counts()"
      ],
      "id": "f8f2cc2b"
    },
    {
      "cell_type": "markdown",
      "metadata": {
        "id": "14409747"
      },
      "source": [
        "### number of xDR sessions and Session duration per user\n",
        "\n"
      ],
      "id": "14409747"
    },
    {
      "cell_type": "code",
      "execution_count": 35,
      "metadata": {
        "id": "SsczLZwTHYac"
      },
      "outputs": [],
      "source": [
        "Userstot_grp = df.groupby([\"MSISDN/Number\"])"
      ],
      "id": "SsczLZwTHYac"
    },
    {
      "cell_type": "code",
      "execution_count": 36,
      "metadata": {
        "colab": {
          "base_uri": "https://localhost:8080/"
        },
        "id": "cb-b0Ew7IsPp",
        "outputId": "c198956b-7ca4-4954-a695-3bed80649397"
      },
      "outputs": [
        {
          "output_type": "execute_result",
          "data": {
            "text/plain": [
              "MSISDN/Number  Bearer Id   \n",
              "3.360100e+10   1.311448e+19    1\n",
              "               7.349883e+18    1\n",
              "               7.349883e+18    1\n",
              "3.360101e+10   1.304243e+19    1\n",
              "               7.277826e+18    1\n",
              "Name: Bearer Id, dtype: int64"
            ]
          },
          "metadata": {},
          "execution_count": 36
        }
      ],
      "source": [
        "Userstot_grp[\"Bearer Id\"].value_counts().head()"
      ],
      "id": "cb-b0Ew7IsPp"
    },
    {
      "cell_type": "code",
      "execution_count": 37,
      "metadata": {
        "colab": {
          "base_uri": "https://localhost:8080/"
        },
        "id": "b__-HbK_JALt",
        "outputId": "f4629957-d246-4cd9-ae50-a702bd0e2ae9"
      },
      "outputs": [
        {
          "output_type": "execute_result",
          "data": {
            "text/plain": [
              "MSISDN/Number  Dur. (ms)\n",
              "3.360100e+10   116720.0     1\n",
              "               181230.0     1\n",
              "               134969.0     1\n",
              "3.360101e+10   49878.0      1\n",
              "               18549.0      1\n",
              "Name: Dur. (ms), dtype: int64"
            ]
          },
          "metadata": {},
          "execution_count": 37
        }
      ],
      "source": [
        "Userstot_grp[\"Dur. (ms)\"].value_counts().head()"
      ],
      "id": "b__-HbK_JALt"
    },
    {
      "cell_type": "markdown",
      "metadata": {
        "id": "Nj0qUosbHV4q"
      },
      "source": [
        "The total data volume (in Bytes) during this session for each application"
      ],
      "id": "Nj0qUosbHV4q"
    },
    {
      "cell_type": "code",
      "execution_count": 38,
      "metadata": {
        "colab": {
          "base_uri": "https://localhost:8080/",
          "height": 206
        },
        "id": "iezISeFtKMWW",
        "outputId": "e7727267-41c4-445f-92c5-762688db2a63"
      },
      "outputs": [
        {
          "output_type": "execute_result",
          "data": {
            "text/plain": [
              "           user     Bearer Id  Dur. (ms)  Total_UL_and_DL  Other UL and DL  \\\n",
              "0  3.366496e+10  1.311448e+19  1823652.0       73499482.0      180558843.0   \n",
              "1  3.368185e+10  1.311448e+19  1365104.0      107600782.0      541959383.0   \n",
              "2  3.376063e+10  1.311448e+19  1361762.0       55767276.0      414908351.0   \n",
              "3  3.375034e+10  1.311448e+19  1321509.0       86648436.0      761837216.0   \n",
              "4  3.369980e+10  1.311448e+19  1089009.0       77085628.0      564619822.0   \n",
              "\n",
              "   Gaming UL and DL  Netflix UL and DL  Youtube UL and DL  Email UL and DL  \\\n",
              "0       292426453.0         17855187.0         18355943.0        3701304.0   \n",
              "1       609920783.0         35565545.0         39359124.0         937385.0   \n",
              "2       229980251.0         23751202.0         34425237.0        3363124.0   \n",
              "3       810387875.0         15092588.0         36534765.0        2070983.0   \n",
              "4       531237049.0         17539799.0         34222253.0        2110349.0   \n",
              "\n",
              "   Google UL and DL  Social Media UL and DL  \n",
              "0         2905912.0               1570185.0  \n",
              "1         4414096.0               1933278.0  \n",
              "2        10229119.0               1726277.0  \n",
              "3        11811761.0                657493.0  \n",
              "4         7748843.0                912788.0  "
            ],
            "text/html": [
              "\n",
              "  <div id=\"df-89062f9d-dea0-4f44-8921-2f0a82ad14ab\">\n",
              "    <div class=\"colab-df-container\">\n",
              "      <div>\n",
              "<style scoped>\n",
              "    .dataframe tbody tr th:only-of-type {\n",
              "        vertical-align: middle;\n",
              "    }\n",
              "\n",
              "    .dataframe tbody tr th {\n",
              "        vertical-align: top;\n",
              "    }\n",
              "\n",
              "    .dataframe thead th {\n",
              "        text-align: right;\n",
              "    }\n",
              "</style>\n",
              "<table border=\"1\" class=\"dataframe\">\n",
              "  <thead>\n",
              "    <tr style=\"text-align: right;\">\n",
              "      <th></th>\n",
              "      <th>user</th>\n",
              "      <th>Bearer Id</th>\n",
              "      <th>Dur. (ms)</th>\n",
              "      <th>Total_UL_and_DL</th>\n",
              "      <th>Other UL and DL</th>\n",
              "      <th>Gaming UL and DL</th>\n",
              "      <th>Netflix UL and DL</th>\n",
              "      <th>Youtube UL and DL</th>\n",
              "      <th>Email UL and DL</th>\n",
              "      <th>Google UL and DL</th>\n",
              "      <th>Social Media UL and DL</th>\n",
              "    </tr>\n",
              "  </thead>\n",
              "  <tbody>\n",
              "    <tr>\n",
              "      <th>0</th>\n",
              "      <td>3.366496e+10</td>\n",
              "      <td>1.311448e+19</td>\n",
              "      <td>1823652.0</td>\n",
              "      <td>73499482.0</td>\n",
              "      <td>180558843.0</td>\n",
              "      <td>292426453.0</td>\n",
              "      <td>17855187.0</td>\n",
              "      <td>18355943.0</td>\n",
              "      <td>3701304.0</td>\n",
              "      <td>2905912.0</td>\n",
              "      <td>1570185.0</td>\n",
              "    </tr>\n",
              "    <tr>\n",
              "      <th>1</th>\n",
              "      <td>3.368185e+10</td>\n",
              "      <td>1.311448e+19</td>\n",
              "      <td>1365104.0</td>\n",
              "      <td>107600782.0</td>\n",
              "      <td>541959383.0</td>\n",
              "      <td>609920783.0</td>\n",
              "      <td>35565545.0</td>\n",
              "      <td>39359124.0</td>\n",
              "      <td>937385.0</td>\n",
              "      <td>4414096.0</td>\n",
              "      <td>1933278.0</td>\n",
              "    </tr>\n",
              "    <tr>\n",
              "      <th>2</th>\n",
              "      <td>3.376063e+10</td>\n",
              "      <td>1.311448e+19</td>\n",
              "      <td>1361762.0</td>\n",
              "      <td>55767276.0</td>\n",
              "      <td>414908351.0</td>\n",
              "      <td>229980251.0</td>\n",
              "      <td>23751202.0</td>\n",
              "      <td>34425237.0</td>\n",
              "      <td>3363124.0</td>\n",
              "      <td>10229119.0</td>\n",
              "      <td>1726277.0</td>\n",
              "    </tr>\n",
              "    <tr>\n",
              "      <th>3</th>\n",
              "      <td>3.375034e+10</td>\n",
              "      <td>1.311448e+19</td>\n",
              "      <td>1321509.0</td>\n",
              "      <td>86648436.0</td>\n",
              "      <td>761837216.0</td>\n",
              "      <td>810387875.0</td>\n",
              "      <td>15092588.0</td>\n",
              "      <td>36534765.0</td>\n",
              "      <td>2070983.0</td>\n",
              "      <td>11811761.0</td>\n",
              "      <td>657493.0</td>\n",
              "    </tr>\n",
              "    <tr>\n",
              "      <th>4</th>\n",
              "      <td>3.369980e+10</td>\n",
              "      <td>1.311448e+19</td>\n",
              "      <td>1089009.0</td>\n",
              "      <td>77085628.0</td>\n",
              "      <td>564619822.0</td>\n",
              "      <td>531237049.0</td>\n",
              "      <td>17539799.0</td>\n",
              "      <td>34222253.0</td>\n",
              "      <td>2110349.0</td>\n",
              "      <td>7748843.0</td>\n",
              "      <td>912788.0</td>\n",
              "    </tr>\n",
              "  </tbody>\n",
              "</table>\n",
              "</div>\n",
              "      <button class=\"colab-df-convert\" onclick=\"convertToInteractive('df-89062f9d-dea0-4f44-8921-2f0a82ad14ab')\"\n",
              "              title=\"Convert this dataframe to an interactive table.\"\n",
              "              style=\"display:none;\">\n",
              "        \n",
              "  <svg xmlns=\"http://www.w3.org/2000/svg\" height=\"24px\"viewBox=\"0 0 24 24\"\n",
              "       width=\"24px\">\n",
              "    <path d=\"M0 0h24v24H0V0z\" fill=\"none\"/>\n",
              "    <path d=\"M18.56 5.44l.94 2.06.94-2.06 2.06-.94-2.06-.94-.94-2.06-.94 2.06-2.06.94zm-11 1L8.5 8.5l.94-2.06 2.06-.94-2.06-.94L8.5 2.5l-.94 2.06-2.06.94zm10 10l.94 2.06.94-2.06 2.06-.94-2.06-.94-.94-2.06-.94 2.06-2.06.94z\"/><path d=\"M17.41 7.96l-1.37-1.37c-.4-.4-.92-.59-1.43-.59-.52 0-1.04.2-1.43.59L10.3 9.45l-7.72 7.72c-.78.78-.78 2.05 0 2.83L4 21.41c.39.39.9.59 1.41.59.51 0 1.02-.2 1.41-.59l7.78-7.78 2.81-2.81c.8-.78.8-2.07 0-2.86zM5.41 20L4 18.59l7.72-7.72 1.47 1.35L5.41 20z\"/>\n",
              "  </svg>\n",
              "      </button>\n",
              "      \n",
              "  <style>\n",
              "    .colab-df-container {\n",
              "      display:flex;\n",
              "      flex-wrap:wrap;\n",
              "      gap: 12px;\n",
              "    }\n",
              "\n",
              "    .colab-df-convert {\n",
              "      background-color: #E8F0FE;\n",
              "      border: none;\n",
              "      border-radius: 50%;\n",
              "      cursor: pointer;\n",
              "      display: none;\n",
              "      fill: #1967D2;\n",
              "      height: 32px;\n",
              "      padding: 0 0 0 0;\n",
              "      width: 32px;\n",
              "    }\n",
              "\n",
              "    .colab-df-convert:hover {\n",
              "      background-color: #E2EBFA;\n",
              "      box-shadow: 0px 1px 2px rgba(60, 64, 67, 0.3), 0px 1px 3px 1px rgba(60, 64, 67, 0.15);\n",
              "      fill: #174EA6;\n",
              "    }\n",
              "\n",
              "    [theme=dark] .colab-df-convert {\n",
              "      background-color: #3B4455;\n",
              "      fill: #D2E3FC;\n",
              "    }\n",
              "\n",
              "    [theme=dark] .colab-df-convert:hover {\n",
              "      background-color: #434B5C;\n",
              "      box-shadow: 0px 1px 3px 1px rgba(0, 0, 0, 0.15);\n",
              "      filter: drop-shadow(0px 1px 2px rgba(0, 0, 0, 0.3));\n",
              "      fill: #FFFFFF;\n",
              "    }\n",
              "  </style>\n",
              "\n",
              "      <script>\n",
              "        const buttonEl =\n",
              "          document.querySelector('#df-89062f9d-dea0-4f44-8921-2f0a82ad14ab button.colab-df-convert');\n",
              "        buttonEl.style.display =\n",
              "          google.colab.kernel.accessAllowed ? 'block' : 'none';\n",
              "\n",
              "        async function convertToInteractive(key) {\n",
              "          const element = document.querySelector('#df-89062f9d-dea0-4f44-8921-2f0a82ad14ab');\n",
              "          const dataTable =\n",
              "            await google.colab.kernel.invokeFunction('convertToInteractive',\n",
              "                                                     [key], {});\n",
              "          if (!dataTable) return;\n",
              "\n",
              "          const docLinkHtml = 'Like what you see? Visit the ' +\n",
              "            '<a target=\"_blank\" href=https://colab.research.google.com/notebooks/data_table.ipynb>data table notebook</a>'\n",
              "            + ' to learn more about interactive tables.';\n",
              "          element.innerHTML = '';\n",
              "          dataTable['output_type'] = 'display_data';\n",
              "          await google.colab.output.renderOutput(dataTable, element);\n",
              "          const docLink = document.createElement('div');\n",
              "          docLink.innerHTML = docLinkHtml;\n",
              "          element.appendChild(docLink);\n",
              "        }\n",
              "      </script>\n",
              "    </div>\n",
              "  </div>\n",
              "  "
            ]
          },
          "metadata": {},
          "execution_count": 38
        }
      ],
      "source": [
        "#creating new table for the applications \n",
        "applications= pd.DataFrame()\n",
        "def apps(df):\n",
        "  applications['user'] = df['MSISDN/Number']\n",
        "  applications['Bearer Id'] = df['Bearer Id']\n",
        "  applications['Dur. (ms)'] = df['Dur. (ms)']\n",
        "  applications['Total_UL_and_DL'] = df['Total UL (Bytes)'] + df['Total DL (Bytes)']\n",
        "  applications['Other UL and DL'] = df['Other UL (Bytes)'] + df['Other DL (Bytes)']\n",
        "  applications['Gaming UL and DL'] = df['Gaming UL (Bytes)'] + df['Gaming DL (Bytes)']\n",
        "  applications['Netflix UL and DL'] = df['Netflix UL (Bytes)'] + df['Netflix DL (Bytes)']\n",
        "  applications['Youtube UL and DL'] = df['Youtube UL (Bytes)'] + df['Youtube DL (Bytes)']\n",
        "  applications['Email UL and DL'] = df['Email UL (Bytes)'] + df['Email DL (Bytes)']\n",
        "  applications['Google UL and DL'] = df['Google UL (Bytes)'] + df['Google DL (Bytes)']\n",
        "  applications['Social Media UL and DL'] = df['Social Media UL (Bytes)'] + df['Social Media DL (Bytes)']\n",
        "  return applications.head()\n",
        "apps(df)"
      ],
      "id": "iezISeFtKMWW"
    },
    {
      "cell_type": "code",
      "execution_count": 39,
      "metadata": {
        "colab": {
          "base_uri": "https://localhost:8080/",
          "height": 175
        },
        "id": "o7eNF41sVbkA",
        "outputId": "f51758f8-db85-412e-9d84-47e33112d954"
      },
      "outputs": [
        {
          "output_type": "execute_result",
          "data": {
            "text/plain": [
              "           user     Bearer Id  Dur. (ms)  Total_UL_and_DL  Other UL and DL  \\\n",
              "0  3.366496e+10  1.311448e+19  1823652.0        73.499482       180.558843   \n",
              "1  3.368185e+10  1.311448e+19  1365104.0       107.600782       541.959383   \n",
              "2  3.376063e+10  1.311448e+19  1361762.0        55.767276       414.908351   \n",
              "3  3.375034e+10  1.311448e+19  1321509.0        86.648436       761.837216   \n",
              "\n",
              "   Gaming UL and DL  Netflix UL and DL  Youtube UL and DL  Email UL and DL  \\\n",
              "0        292.426453          17.855187          18.355943         3.701304   \n",
              "1        609.920783          35.565545          39.359124         0.937385   \n",
              "2        229.980251          23.751202          34.425237         3.363124   \n",
              "3        810.387875          15.092588          36.534765         2.070983   \n",
              "\n",
              "   Google UL and DL  Social Media UL and DL  \n",
              "0          2.905912                1.570185  \n",
              "1          4.414096                1.933278  \n",
              "2         10.229119                1.726277  \n",
              "3         11.811761                0.657493  "
            ],
            "text/html": [
              "\n",
              "  <div id=\"df-dda0f053-1236-4920-9736-37e9ad8696ec\">\n",
              "    <div class=\"colab-df-container\">\n",
              "      <div>\n",
              "<style scoped>\n",
              "    .dataframe tbody tr th:only-of-type {\n",
              "        vertical-align: middle;\n",
              "    }\n",
              "\n",
              "    .dataframe tbody tr th {\n",
              "        vertical-align: top;\n",
              "    }\n",
              "\n",
              "    .dataframe thead th {\n",
              "        text-align: right;\n",
              "    }\n",
              "</style>\n",
              "<table border=\"1\" class=\"dataframe\">\n",
              "  <thead>\n",
              "    <tr style=\"text-align: right;\">\n",
              "      <th></th>\n",
              "      <th>user</th>\n",
              "      <th>Bearer Id</th>\n",
              "      <th>Dur. (ms)</th>\n",
              "      <th>Total_UL_and_DL</th>\n",
              "      <th>Other UL and DL</th>\n",
              "      <th>Gaming UL and DL</th>\n",
              "      <th>Netflix UL and DL</th>\n",
              "      <th>Youtube UL and DL</th>\n",
              "      <th>Email UL and DL</th>\n",
              "      <th>Google UL and DL</th>\n",
              "      <th>Social Media UL and DL</th>\n",
              "    </tr>\n",
              "  </thead>\n",
              "  <tbody>\n",
              "    <tr>\n",
              "      <th>0</th>\n",
              "      <td>3.366496e+10</td>\n",
              "      <td>1.311448e+19</td>\n",
              "      <td>1823652.0</td>\n",
              "      <td>73.499482</td>\n",
              "      <td>180.558843</td>\n",
              "      <td>292.426453</td>\n",
              "      <td>17.855187</td>\n",
              "      <td>18.355943</td>\n",
              "      <td>3.701304</td>\n",
              "      <td>2.905912</td>\n",
              "      <td>1.570185</td>\n",
              "    </tr>\n",
              "    <tr>\n",
              "      <th>1</th>\n",
              "      <td>3.368185e+10</td>\n",
              "      <td>1.311448e+19</td>\n",
              "      <td>1365104.0</td>\n",
              "      <td>107.600782</td>\n",
              "      <td>541.959383</td>\n",
              "      <td>609.920783</td>\n",
              "      <td>35.565545</td>\n",
              "      <td>39.359124</td>\n",
              "      <td>0.937385</td>\n",
              "      <td>4.414096</td>\n",
              "      <td>1.933278</td>\n",
              "    </tr>\n",
              "    <tr>\n",
              "      <th>2</th>\n",
              "      <td>3.376063e+10</td>\n",
              "      <td>1.311448e+19</td>\n",
              "      <td>1361762.0</td>\n",
              "      <td>55.767276</td>\n",
              "      <td>414.908351</td>\n",
              "      <td>229.980251</td>\n",
              "      <td>23.751202</td>\n",
              "      <td>34.425237</td>\n",
              "      <td>3.363124</td>\n",
              "      <td>10.229119</td>\n",
              "      <td>1.726277</td>\n",
              "    </tr>\n",
              "    <tr>\n",
              "      <th>3</th>\n",
              "      <td>3.375034e+10</td>\n",
              "      <td>1.311448e+19</td>\n",
              "      <td>1321509.0</td>\n",
              "      <td>86.648436</td>\n",
              "      <td>761.837216</td>\n",
              "      <td>810.387875</td>\n",
              "      <td>15.092588</td>\n",
              "      <td>36.534765</td>\n",
              "      <td>2.070983</td>\n",
              "      <td>11.811761</td>\n",
              "      <td>0.657493</td>\n",
              "    </tr>\n",
              "  </tbody>\n",
              "</table>\n",
              "</div>\n",
              "      <button class=\"colab-df-convert\" onclick=\"convertToInteractive('df-dda0f053-1236-4920-9736-37e9ad8696ec')\"\n",
              "              title=\"Convert this dataframe to an interactive table.\"\n",
              "              style=\"display:none;\">\n",
              "        \n",
              "  <svg xmlns=\"http://www.w3.org/2000/svg\" height=\"24px\"viewBox=\"0 0 24 24\"\n",
              "       width=\"24px\">\n",
              "    <path d=\"M0 0h24v24H0V0z\" fill=\"none\"/>\n",
              "    <path d=\"M18.56 5.44l.94 2.06.94-2.06 2.06-.94-2.06-.94-.94-2.06-.94 2.06-2.06.94zm-11 1L8.5 8.5l.94-2.06 2.06-.94-2.06-.94L8.5 2.5l-.94 2.06-2.06.94zm10 10l.94 2.06.94-2.06 2.06-.94-2.06-.94-.94-2.06-.94 2.06-2.06.94z\"/><path d=\"M17.41 7.96l-1.37-1.37c-.4-.4-.92-.59-1.43-.59-.52 0-1.04.2-1.43.59L10.3 9.45l-7.72 7.72c-.78.78-.78 2.05 0 2.83L4 21.41c.39.39.9.59 1.41.59.51 0 1.02-.2 1.41-.59l7.78-7.78 2.81-2.81c.8-.78.8-2.07 0-2.86zM5.41 20L4 18.59l7.72-7.72 1.47 1.35L5.41 20z\"/>\n",
              "  </svg>\n",
              "      </button>\n",
              "      \n",
              "  <style>\n",
              "    .colab-df-container {\n",
              "      display:flex;\n",
              "      flex-wrap:wrap;\n",
              "      gap: 12px;\n",
              "    }\n",
              "\n",
              "    .colab-df-convert {\n",
              "      background-color: #E8F0FE;\n",
              "      border: none;\n",
              "      border-radius: 50%;\n",
              "      cursor: pointer;\n",
              "      display: none;\n",
              "      fill: #1967D2;\n",
              "      height: 32px;\n",
              "      padding: 0 0 0 0;\n",
              "      width: 32px;\n",
              "    }\n",
              "\n",
              "    .colab-df-convert:hover {\n",
              "      background-color: #E2EBFA;\n",
              "      box-shadow: 0px 1px 2px rgba(60, 64, 67, 0.3), 0px 1px 3px 1px rgba(60, 64, 67, 0.15);\n",
              "      fill: #174EA6;\n",
              "    }\n",
              "\n",
              "    [theme=dark] .colab-df-convert {\n",
              "      background-color: #3B4455;\n",
              "      fill: #D2E3FC;\n",
              "    }\n",
              "\n",
              "    [theme=dark] .colab-df-convert:hover {\n",
              "      background-color: #434B5C;\n",
              "      box-shadow: 0px 1px 3px 1px rgba(0, 0, 0, 0.15);\n",
              "      filter: drop-shadow(0px 1px 2px rgba(0, 0, 0, 0.3));\n",
              "      fill: #FFFFFF;\n",
              "    }\n",
              "  </style>\n",
              "\n",
              "      <script>\n",
              "        const buttonEl =\n",
              "          document.querySelector('#df-dda0f053-1236-4920-9736-37e9ad8696ec button.colab-df-convert');\n",
              "        buttonEl.style.display =\n",
              "          google.colab.kernel.accessAllowed ? 'block' : 'none';\n",
              "\n",
              "        async function convertToInteractive(key) {\n",
              "          const element = document.querySelector('#df-dda0f053-1236-4920-9736-37e9ad8696ec');\n",
              "          const dataTable =\n",
              "            await google.colab.kernel.invokeFunction('convertToInteractive',\n",
              "                                                     [key], {});\n",
              "          if (!dataTable) return;\n",
              "\n",
              "          const docLinkHtml = 'Like what you see? Visit the ' +\n",
              "            '<a target=\"_blank\" href=https://colab.research.google.com/notebooks/data_table.ipynb>data table notebook</a>'\n",
              "            + ' to learn more about interactive tables.';\n",
              "          element.innerHTML = '';\n",
              "          dataTable['output_type'] = 'display_data';\n",
              "          await google.colab.output.renderOutput(dataTable, element);\n",
              "          const docLink = document.createElement('div');\n",
              "          docLink.innerHTML = docLinkHtml;\n",
              "          element.appendChild(docLink);\n",
              "        }\n",
              "      </script>\n",
              "    </div>\n",
              "  </div>\n",
              "  "
            ]
          },
          "metadata": {},
          "execution_count": 39
        }
      ],
      "source": [
        "# changing the bytes to Megabytes\n",
        "for x in applications:\n",
        "  if(x != 'Bearer Id' and x != 'Dur. (ms)' and x != 'user'):\n",
        "    applications[x]= applications[x]/(10**6)\n",
        "    \n",
        "applications.head(4)"
      ],
      "id": "o7eNF41sVbkA"
    },
    {
      "cell_type": "code",
      "execution_count": 40,
      "metadata": {
        "id": "m0D9MPFCYhex"
      },
      "outputs": [],
      "source": [
        "user_grp = applications.groupby([\"user\"])"
      ],
      "id": "m0D9MPFCYhex"
    },
    {
      "cell_type": "code",
      "execution_count": 41,
      "metadata": {
        "id": "6a49083c"
      },
      "outputs": [],
      "source": [
        "user_agg= user_grp.agg({'Bearer Id':'sum','Dur. (ms)':'sum','Total_UL_and_DL':'sum','Other UL and DL':'sum','Gaming UL and DL':'sum','Netflix UL and DL':'sum','Youtube UL and DL':'sum','Email UL and DL':'sum','Google UL and DL':'sum','Social Media UL and DL':'sum'})\n",
        "user_agg['Num_of_xDR_sessions']=user_agg['Bearer Id']\n",
        "# user_agg.head(10)"
      ],
      "id": "6a49083c"
    },
    {
      "cell_type": "markdown",
      "metadata": {
        "id": "891c1041"
      },
      "source": [
        "## Data Exploration"
      ],
      "id": "891c1041"
    },
    {
      "cell_type": "code",
      "execution_count": 55,
      "metadata": {
        "id": "cf000bf0"
      },
      "outputs": [],
      "source": [
        "def fix_outlier(df, column):\n",
        "    df[column] = np.where(df[column] > df[column].quantile(0.95), df[column].median(),df[column])    \n",
        "    return df[column]\n",
        "\n",
        "################ Plot Functions ########################\n",
        "def plot_hist(df:pd.DataFrame, column:str, color:str)->None:\n",
        "    # plt.figure(figsize=(15, 10))\n",
        "    # fig, ax = plt.subplots(1, figsize=(12, 7))\n",
        "    sns.displot(data=df, x=column, color=color, kde=True, height=7, aspect=2)\n",
        "    plt.title(f'Distribution of {column}', size=20, fontweight='bold')\n",
        "    plt.show()\n",
        "    \n",
        "\n",
        "def plot_count(df:pd.DataFrame, column:str) -> None:\n",
        "    plt.figure(figsize=(12, 7))\n",
        "    sns.countplot(data=df, x=column)\n",
        "    plt.title(f'Distribution of {column}', size=20, fontweight='bold')\n",
        "    plt.show()\n",
        "    \n",
        "\n",
        "def plot_bar(df:pd.DataFrame, x_col:str, y_col:str, title:str, xlabel:str, ylabel:str)->None:\n",
        "    plt.figure(figsize=(12, 7))\n",
        "    sns.barplot(data = df, x=x_col, y=y_col)\n",
        "    plt.title(title, size=20)\n",
        "    plt.xticks(rotation=75, fontsize=14)\n",
        "    plt.yticks( fontsize=14)\n",
        "    plt.xlabel(xlabel, fontsize=16)\n",
        "    plt.ylabel(ylabel, fontsize=16)\n",
        "    plt.show()\n",
        "\n",
        "\n",
        "def plot_heatmap(df:pd.DataFrame, title:str, cbar=False)->None:\n",
        "    plt.figure(figsize=(12, 7))\n",
        "    sns.heatmap(df, annot=True, cmap='viridis', vmin=0, vmax=1, fmt='.2f', linewidths=.7, cbar=cbar )\n",
        "    plt.title(title, size=18, fontweight='bold')\n",
        "    plt.show()\n",
        "\n",
        "\n",
        "def plot_box(df:pd.DataFrame, x_col:str, title:str) -> None:\n",
        "    plt.figure(figsize=(12, 7))\n",
        "    sns.boxplot(data = df, x=x_col,showfliers = False)\n",
        "    plt.title(title, size=20)\n",
        "    plt.xticks(rotation=75, fontsize=14)\n",
        "    plt.show()\n",
        "\n",
        "\n",
        "def plot_box_multi(df:pd.DataFrame, x_col:str, y_col:str, title:str) -> None:\n",
        "    plt.figure(figsize=(12, 7))\n",
        "    sns.boxplot(data = df, x=x_col, y=y_col)\n",
        "    plt.title(title, size=20)\n",
        "    plt.xticks(rotation=75, fontsize=14)\n",
        "    plt.yticks( fontsize=14)\n",
        "    plt.show()\n",
        "\n",
        "\n",
        "def plot_scatter(df: pd.DataFrame, x_col: str, y_col: str, title: str) -> None:\n",
        "    plt.figure(figsize=(12, 7))\n",
        "    sns.scatterplot(data = df, x=x_col, y=y_col)\n",
        "    plt.title(title, size=20)\n",
        "    plt.xticks(fontsize=14)\n",
        "    plt.yticks( fontsize=14)\n",
        "    plt.show()\n"
      ],
      "id": "cf000bf0"
    },
    {
      "cell_type": "markdown",
      "metadata": {
        "id": "4c234e88"
      },
      "source": [
        "###Univariate Analysis"
      ],
      "id": "4c234e88"
    },
    {
      "cell_type": "markdown",
      "metadata": {
        "id": "8L3FLHqOKAOU"
      },
      "source": [
        "Graphical\n"
      ],
      "id": "8L3FLHqOKAOU"
    },
    {
      "cell_type": "code",
      "source": [
        "df['TCP DL Retrans. Vol (Bytes)'].plot.barh()"
      ],
      "metadata": {
        "id": "yRo8M_QHY_7K"
      },
      "id": "yRo8M_QHY_7K",
      "execution_count": null,
      "outputs": []
    },
    {
      "cell_type": "code",
      "source": [
        "### with outliter\n",
        "plot_hist(df, \"Dur. (ms)\", \"yellow\")"
      ],
      "metadata": {
        "colab": {
          "base_uri": "https://localhost:8080/",
          "height": 534
        },
        "id": "qcv40SkDZ3tG",
        "outputId": "f917d594-9a8b-4c26-9766-d9b86210cc62"
      },
      "id": "qcv40SkDZ3tG",
      "execution_count": 57,
      "outputs": [
        {
          "output_type": "display_data",
          "data": {
            "text/plain": [
              "<Figure size 1008x504 with 1 Axes>"
            ],
            "image/png": "[encoded data removed]"
          },
          "metadata": {
            "needs_background": "light"
          }
        }
      ]
    },
    {
      "cell_type": "code",
      "execution_count": 56,
      "metadata": {
        "id": "Fg1vQuZzh39K"
      },
      "outputs": [],
      "source": [
        "#### after outlier removed\n",
        "applications['Dur. (ms)']=fix_outlier(applications,'Dur. (ms)')"
      ],
      "id": "Fg1vQuZzh39K"
    },
    {
      "cell_type": "code",
      "execution_count": null,
      "metadata": {
        "colab": {
          "base_uri": "https://localhost:8080/",
          "height": 534
        },
        "id": "x7iduObaA2Qo",
        "outputId": "907372df-1857-446c-bd12-7e95eec652ad"
      },
      "outputs": [
        {
          "output_type": "display_data",
          "data": {
            "text/plain": [
              "<Figure size 1008x504 with 1 Axes>"
            ],
            "image/png": "[encoded data removed]"
          },
          "metadata": {
            "needs_background": "light"
          }
        }
      ],
      "source": [
        "plot_hist(applications, \"Dur. (ms)\", \"yellow\")"
      ],
      "id": "x7iduObaA2Qo"
    },
    {
      "cell_type": "code",
      "execution_count": null,
      "metadata": {
        "colab": {
          "base_uri": "https://localhost:8080/",
          "height": 534
        },
        "id": "yA2rHxi3KMYU",
        "outputId": "b78c426b-1cec-40c7-b1d5-27fc9fed6ef9"
      },
      "outputs": [
        {
          "output_type": "display_data",
          "data": {
            "text/plain": [
              "<Figure size 1008x504 with 1 Axes>"
            ],
            "image/png": "[encoded data removed]"
          },
          "metadata": {
            "needs_background": "light"
          }
        }
      ],
      "source": [
        "### No outliers\n",
        "plot_hist(df, \"Bearer Id\", \"green\")"
      ],
      "id": "yA2rHxi3KMYU"
    },
    {
      "cell_type": "code",
      "execution_count": null,
      "metadata": {
        "colab": {
          "base_uri": "https://localhost:8080/",
          "height": 534
        },
        "id": "11487232",
        "outputId": "e11997d9-5e13-498d-aa16-84df67012d2f"
      },
      "outputs": [
        {
          "output_type": "display_data",
          "data": {
            "text/plain": [
              "<Figure size 1008x504 with 1 Axes>"
            ],
            "image/png": "[encoded data removed]"
          },
          "metadata": {
            "needs_background": "light"
          }
        }
      ],
      "source": [
        "plot_hist(df, \"Total DL (Bytes)\", \"blue\")"
      ],
      "id": "11487232"
    },
    {
      "cell_type": "code",
      "execution_count": null,
      "metadata": {
        "id": "9d405f77"
      },
      "outputs": [],
      "source": [
        "##### outlies fixed\n",
        "df['fixed_Total_UL_and_DL']=fix_outlier(df,'Total DL (Bytes)')"
      ],
      "id": "9d405f77"
    },
    {
      "cell_type": "code",
      "execution_count": null,
      "metadata": {
        "colab": {
          "base_uri": "https://localhost:8080/",
          "height": 534
        },
        "id": "1103040b",
        "outputId": "00d10d0b-8947-44c3-932d-e36a522ce666",
        "scrolled": true
      },
      "outputs": [
        {
          "output_type": "display_data",
          "data": {
            "text/plain": [
              "<Figure size 1008x504 with 1 Axes>"
            ],
            "image/png": "[encoded data removed]"
          },
          "metadata": {
            "needs_background": "light"
          }
        }
      ],
      "source": [
        "plot_hist(df, \"fixed_Total_UL_and_DL\", \"blue\")"
      ],
      "id": "1103040b"
    },
    {
      "cell_type": "code",
      "execution_count": null,
      "metadata": {
        "colab": {
          "base_uri": "https://localhost:8080/",
          "height": 534
        },
        "id": "X9xIU5L8AiYE",
        "outputId": "9f3ae344-d72d-4b16-9c88-2e172085b895"
      },
      "outputs": [
        {
          "output_type": "display_data",
          "data": {
            "text/plain": [
              "<Figure size 1008x504 with 1 Axes>"
            ],
            "image/png": "[encoded data removed]"
          },
          "metadata": {
            "needs_background": "light"
          }
        }
      ],
      "source": [
        "plot_hist(applications, \"Total_UL_and_DL\", \"black\")"
      ],
      "id": "X9xIU5L8AiYE"
    },
    {
      "cell_type": "markdown",
      "metadata": {
        "id": "A3hu0UiOL8me"
      },
      "source": [
        "Non-Graphical"
      ],
      "id": "A3hu0UiOL8me"
    },
    {
      "cell_type": "code",
      "execution_count": null,
      "metadata": {
        "colab": {
          "base_uri": "https://localhost:8080/",
          "height": 479
        },
        "id": "IcS9c5wcK3BI",
        "outputId": "8c7d7232-4dd7-47f6-9ea0-e70a721b616f"
      },
      "outputs": [
        {
          "output_type": "display_data",
          "data": {
            "text/plain": [
              "<Figure size 864x504 with 1 Axes>"
            ],
            "image/png": "[encoded data removed]"
          },
          "metadata": {
            "needs_background": "light"
          }
        }
      ],
      "source": [
        "plot_box(df, \"Bearer Id\", 'Bearer Id Outliers')"
      ],
      "id": "IcS9c5wcK3BI"
    },
    {
      "cell_type": "code",
      "execution_count": null,
      "metadata": {
        "id": "avi-E2LN8MDS"
      },
      "outputs": [],
      "source": [
        "df[\"fixed_Dur. (ms)\"] = fix_outlier(df, \"Dur. (ms)\")"
      ],
      "id": "avi-E2LN8MDS"
    },
    {
      "cell_type": "code",
      "execution_count": null,
      "metadata": {
        "colab": {
          "base_uri": "https://localhost:8080/",
          "height": 509
        },
        "id": "Yjd6CNhEtO03",
        "outputId": "fcce4327-62bb-4e91-8276-11bc5cf85f2b"
      },
      "outputs": [
        {
          "output_type": "display_data",
          "data": {
            "text/plain": [
              "<Figure size 864x504 with 1 Axes>"
            ],
            "image/png": "[encoded data removed]"
          },
          "metadata": {
            "needs_background": "light"
          }
        }
      ],
      "source": [
        "plot_box(df, \"fixed_Dur. (ms)\", 'Dur. (ms)')"
      ],
      "id": "Yjd6CNhEtO03"
    },
    {
      "cell_type": "code",
      "execution_count": null,
      "metadata": {
        "id": "PyQ6wCsUsajw"
      },
      "outputs": [],
      "source": [
        "df[\"fixed_Total DL (Bytes)\"] = fix_outlier(df, \"Total DL (Bytes)\")"
      ],
      "id": "PyQ6wCsUsajw"
    },
    {
      "cell_type": "code",
      "execution_count": null,
      "metadata": {
        "colab": {
          "base_uri": "https://localhost:8080/",
          "height": 467
        },
        "id": "UajC8tXasgwS",
        "outputId": "3933c7d0-063d-439e-d1ec-efdd622f32b1"
      },
      "outputs": [
        {
          "output_type": "display_data",
          "data": {
            "text/plain": [
              "<Figure size 864x504 with 1 Axes>"
            ],
            "image/png": "[encoded data removed]"
          },
          "metadata": {
            "needs_background": "light"
          }
        }
      ],
      "source": [
        "plot_box(df, \"fixed_Total DL (Bytes)\", 'Total DL (Bytes)')"
      ],
      "id": "UajC8tXasgwS"
    },
    {
      "cell_type": "code",
      "execution_count": null,
      "metadata": {
        "id": "ABziMRgLs2yl"
      },
      "outputs": [],
      "source": [
        "df[\"fixed_Total UL (Bytes)\"] = fix_outlier(df, \"Total UL (Bytes)\")"
      ],
      "id": "ABziMRgLs2yl"
    },
    {
      "cell_type": "code",
      "execution_count": null,
      "metadata": {
        "colab": {
          "base_uri": "https://localhost:8080/",
          "height": 467
        },
        "id": "gBRIBZZ6tCHm",
        "outputId": "a680fd28-5219-4ac8-8d98-bac027599313"
      },
      "outputs": [
        {
          "output_type": "display_data",
          "data": {
            "text/plain": [
              "<Figure size 864x504 with 1 Axes>"
            ],
            "image/png": "[encoded data removed]"
          },
          "metadata": {
            "needs_background": "light"
          }
        }
      ],
      "source": [
        "plot_box(df, \"fixed_Total UL (Bytes)\", 'Total UL (Bytes)')"
      ],
      "id": "gBRIBZZ6tCHm"
    },
    {
      "cell_type": "markdown",
      "metadata": {
        "id": "ENxHdlsJ5zM8"
      },
      "source": [
        "categorical variables"
      ],
      "id": "ENxHdlsJ5zM8"
    },
    {
      "cell_type": "code",
      "source": [
        "# plot_count(applications, \"Email UL and DL\")"
      ],
      "metadata": {
        "id": "Q1HhafZ3WHi_"
      },
      "id": "Q1HhafZ3WHi_",
      "execution_count": null,
      "outputs": []
    },
    {
      "cell_type": "code",
      "execution_count": null,
      "metadata": {
        "id": "O0PEcl1Sx5Sm"
      },
      "outputs": [],
      "source": [
        "plot_count(applications, \"Netflix UL and DL\") "
      ],
      "id": "O0PEcl1Sx5Sm"
    },
    {
      "cell_type": "code",
      "execution_count": null,
      "metadata": {
        "id": "8h6wo5JI9Nwc"
      },
      "outputs": [],
      "source": [
        "plot_count(applications, \"Gaming UL and DL\") "
      ],
      "id": "8h6wo5JI9Nwc"
    },
    {
      "cell_type": "code",
      "execution_count": null,
      "metadata": {
        "id": "VRur5BnRyGC6"
      },
      "outputs": [],
      "source": [
        "plot_count(applications, \"Other UL and DL\") "
      ],
      "id": "VRur5BnRyGC6"
    },
    {
      "cell_type": "code",
      "execution_count": null,
      "metadata": {
        "id": "gXUdMs_C9c2b"
      },
      "outputs": [],
      "source": [
        "plot_count(applications, \"Total_UL_and_DL\") "
      ],
      "id": "gXUdMs_C9c2b"
    },
    {
      "cell_type": "markdown",
      "metadata": {
        "id": "q7ZlxIb8utVk"
      },
      "source": [
        "Multivariate Analysis\n"
      ],
      "id": "q7ZlxIb8utVk"
    },
    {
      "cell_type": "markdown",
      "metadata": {
        "id": "x8yvFoKPvOS5"
      },
      "source": [
        "This analysis is done between total UL and DL and the other applications\n"
      ],
      "id": "x8yvFoKPvOS5"
    },
    {
      "cell_type": "markdown",
      "metadata": {
        "id": "n7wYUm1P_fMQ"
      },
      "source": [
        "Bivarate Analysis"
      ],
      "id": "n7wYUm1P_fMQ"
    },
    {
      "cell_type": "code",
      "execution_count": 61,
      "metadata": {
        "colab": {
          "base_uri": "https://localhost:8080/",
          "height": 467
        },
        "id": "LlRMNRSUevzN",
        "outputId": "62a476bc-217d-4d6a-c99d-d668b324e852"
      },
      "outputs": [
        {
          "output_type": "display_data",
          "data": {
            "text/plain": [
              "<Figure size 864x504 with 1 Axes>"
            ],
            "image/png": "[encoded data removed]"
          },
          "metadata": {
            "needs_background": "light"
          }
        }
      ],
      "source": [
        "plot_scatter(user_agg.head(100), x_col=\"Social Media UL and DL\", y_col=\"Total_UL_and_DL\", title=\"Total_UL_and_DL vs Social Media_UL_and_DL\")"
      ],
      "id": "LlRMNRSUevzN"
    },
    {
      "cell_type": "code",
      "execution_count": 62,
      "metadata": {
        "id": "ZwG1slQzgPY3",
        "colab": {
          "base_uri": "https://localhost:8080/",
          "height": 467
        },
        "outputId": "c81e7299-2d24-47ba-ba21-5a7e2959137e"
      },
      "outputs": [
        {
          "output_type": "display_data",
          "data": {
            "text/plain": [
              "<Figure size 864x504 with 1 Axes>"
            ],
            "image/png": "[encoded data removed]"
          },
          "metadata": {
            "needs_background": "light"
          }
        }
      ],
      "source": [
        "plot_scatter(user_agg.head(100), x_col=\"Google UL and DL\", y_col=\"Total_UL_and_DL\", title=\"Total_UL_and_DL vs Social Media_UL_and_DL\")"
      ],
      "id": "ZwG1slQzgPY3"
    },
    {
      "cell_type": "code",
      "execution_count": 63,
      "metadata": {
        "id": "GidhxaV-flfV",
        "colab": {
          "base_uri": "https://localhost:8080/",
          "height": 467
        },
        "outputId": "8275f5ed-7a13-4da6-b021-e4c0dede043e"
      },
      "outputs": [
        {
          "output_type": "display_data",
          "data": {
            "text/plain": [
              "<Figure size 864x504 with 1 Axes>"
            ],
            "image/png": "[encoded data removed]"
          },
          "metadata": {
            "needs_background": "light"
          }
        }
      ],
      "source": [
        "plot_scatter(user_agg.head(100), x_col=\"Email UL and DL\", y_col=\"Total_UL_and_DL\", title=\"Total_UL_and_DL vs Social Media_UL_and_DL\")"
      ],
      "id": "GidhxaV-flfV"
    },
    {
      "cell_type": "code",
      "execution_count": 64,
      "metadata": {
        "id": "EGaHGXenfm2m",
        "colab": {
          "base_uri": "https://localhost:8080/",
          "height": 467
        },
        "outputId": "b0824e0c-fe0b-450f-c91a-2b86731b6f97"
      },
      "outputs": [
        {
          "output_type": "display_data",
          "data": {
            "text/plain": [
              "<Figure size 864x504 with 1 Axes>"
            ],
            "image/png": "[encoded data removed]"
          },
          "metadata": {
            "needs_background": "light"
          }
        }
      ],
      "source": [
        "plot_scatter(user_agg.head(100), x_col=\"Youtube UL and DL\", y_col=\"Total_UL_and_DL\", title=\"Total_UL_and_DL vs Social Media_UL_and_DL\")"
      ],
      "id": "EGaHGXenfm2m"
    },
    {
      "cell_type": "code",
      "execution_count": 67,
      "metadata": {
        "id": "BfjL1ug4fntM",
        "colab": {
          "base_uri": "https://localhost:8080/",
          "height": 467
        },
        "outputId": "b8c0ddb6-819a-4d18-e7e2-6228300c7cc4"
      },
      "outputs": [
        {
          "output_type": "display_data",
          "data": {
            "text/plain": [
              "<Figure size 864x504 with 1 Axes>"
            ],
            "image/png": "[encoded data removed]"
          },
          "metadata": {
            "needs_background": "light"
          }
        }
      ],
      "source": [
        "plot_scatter(user_agg.head(100), x_col=\"Netflix UL and DL\", y_col=\"Total_UL_and_DL\", title=\"Total_UL_and_DL vs Social Media_UL_and_DL\")"
      ],
      "id": "BfjL1ug4fntM"
    },
    {
      "cell_type": "code",
      "execution_count": 66,
      "metadata": {
        "id": "xOsSucMYfnxu",
        "colab": {
          "base_uri": "https://localhost:8080/",
          "height": 467
        },
        "outputId": "bea2ef7c-eb50-4971-d0e0-7124d12c0e37"
      },
      "outputs": [
        {
          "output_type": "display_data",
          "data": {
            "text/plain": [
              "<Figure size 864x504 with 1 Axes>"
            ],
            "image/png": "[encoded data removed]"
          },
          "metadata": {
            "needs_background": "light"
          }
        }
      ],
      "source": [
        "plot_scatter(user_agg.head(100), x_col=\"Gaming UL and DL\", y_col=\"Total_UL_and_DL\", title=\"Total_UL_and_DL vs Social Media_UL_and_DL\")"
      ],
      "id": "xOsSucMYfnxu"
    },
    {
      "cell_type": "code",
      "execution_count": 65,
      "metadata": {
        "id": "874phPekfn4h",
        "colab": {
          "base_uri": "https://localhost:8080/",
          "height": 467
        },
        "outputId": "e21e4ac5-599b-422c-87fc-df788de661f3"
      },
      "outputs": [
        {
          "output_type": "display_data",
          "data": {
            "text/plain": [
              "<Figure size 864x504 with 1 Axes>"
            ],
            "image/png": "[encoded data removed]"
          },
          "metadata": {
            "needs_background": "light"
          }
        }
      ],
      "source": [
        "plot_scatter(user_agg.head(100), x_col=\"Other UL and DL\", y_col=\"Total_UL_and_DL\", title=\"Total_UL_and_DL vs Social Media_UL_and_DL\")"
      ],
      "id": "874phPekfn4h"
    },
    {
      "cell_type": "markdown",
      "source": [
        "# New Section - Task2\n"
      ],
      "metadata": {
        "id": "nW-KWVx8Ue6K"
      },
      "id": "nW-KWVx8Ue6K"
    },
    {
      "cell_type": "code",
      "source": [
        "### Sessions Frequency ###\n",
        "df[\"Bearer Id\"].value_counts()"
      ],
      "metadata": {
        "colab": {
          "base_uri": "https://localhost:8080/"
        },
        "id": "Mh-46dSbbFdb",
        "outputId": "63b3d23e-46fb-49fe-8f44-9317479da2c1"
      },
      "id": "Mh-46dSbbFdb",
      "execution_count": 45,
      "outputs": [
        {
          "output_type": "execute_result",
          "data": {
            "text/plain": [
              "1.304243e+19    1007\n",
              "1.304243e+19      10\n",
              "1.304243e+19       9\n",
              "1.304243e+19       9\n",
              "1.304243e+19       9\n",
              "                ... \n",
              "1.311448e+19       1\n",
              "7.349883e+18       1\n",
              "7.349883e+18       1\n",
              "7.349883e+18       1\n",
              "1.311448e+19       1\n",
              "Name: Bearer Id, Length: 134708, dtype: int64"
            ]
          },
          "metadata": {},
          "execution_count": 45
        }
      ]
    },
    {
      "cell_type": "code",
      "source": [
        "### the duration of the session ###\n",
        "dura_grp = df.groupby([\"Bearer Id\"])\n",
        "duration_sesstion = dura_grp[\"Dur. (ms)\"]\n",
        "duration_sesstion.value_counts()"
      ],
      "metadata": {
        "colab": {
          "base_uri": "https://localhost:8080/"
        },
        "id": "r9aYJ6TFmaU_",
        "outputId": "a7800532-a1dc-4410-9600-c35a6311ff89"
      },
      "id": "r9aYJ6TFmaU_",
      "execution_count": 49,
      "outputs": [
        {
          "output_type": "execute_result",
          "data": {
            "text/plain": [
              "Bearer Id     Dur. (ms)\n",
              "6.917538e+18  24534.0      1\n",
              "              21489.0      1\n",
              "              27786.0      1\n",
              "              15635.0      1\n",
              "              24264.0      1\n",
              "                          ..\n",
              "1.318654e+19  80024.0      1\n",
              "              145291.0     1\n",
              "              86399.0      1\n",
              "              86399.0      1\n",
              "              103113.0     1\n",
              "Name: Dur. (ms), Length: 147602, dtype: int64"
            ]
          },
          "metadata": {},
          "execution_count": 49
        }
      ]
    },
    {
      "cell_type": "code",
      "source": [
        "### the sessions total traffic (download and upload (bytes)) ###\n",
        "sess_grp = applications.groupby([\"Total_UL_and_DL\"])\n",
        "tot_traffic = sess_grp['Bearer Id']\n",
        "tot_traffic.value_counts()"
      ],
      "metadata": {
        "colab": {
          "base_uri": "https://localhost:8080/"
        },
        "id": "SOTwciEwl6WN",
        "outputId": "d37980f3-f42b-4177-c0ad-bb01324bf434"
      },
      "id": "SOTwciEwl6WN",
      "execution_count": 54,
      "outputs": [
        {
          "output_type": "execute_result",
          "data": {
            "text/plain": [
              "Total_UL_and_DL  Bearer Id   \n",
              "5.733784         7.349883e+18    1\n",
              "8.677572         1.304243e+19    1\n",
              "8.938480         7.349883e+18    1\n",
              "9.316672         7.349883e+18    1\n",
              "9.322164         1.304243e+19    1\n",
              "                                ..\n",
              "153.832858       7.349883e+18    1\n",
              "154.314764       7.349883e+18    1\n",
              "154.780582       1.311448e+19    1\n",
              "154.916264       7.277826e+18    1\n",
              "156.662622       1.304243e+19    1\n",
              "Name: Bearer Id, Length: 150001, dtype: int64"
            ]
          },
          "metadata": {},
          "execution_count": 54
        }
      ]
    }
  ],
  "metadata": {
    "colab": {
      "collapsed_sections": [
        "df1ba8e6",
        "c1ff4cb4",
        "14409747"
      ],
      "name": "clean_excel_file.ipynb",
      "provenance": []
    },
    "kernelspec": {
      "display_name": "Python 3 (ipykernel)",
      "language": "python",
      "name": "python3"
    },
    "language_info": {
      "codemirror_mode": {
        "name": "ipython",
        "version": 3
      },
      "file_extension": ".py",
      "mimetype": "text/x-python",
      "name": "python",
      "nbconvert_exporter": "python",
      "pygments_lexer": "ipython3",
      "version": "3.10.2"
    }
  },
  "nbformat": 4,
  "nbformat_minor": 5
}