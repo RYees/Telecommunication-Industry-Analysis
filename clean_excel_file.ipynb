{
 "cells": [
  {
   "cell_type": "code",
   "execution_count": 9,
   "id": "8703434a",
   "metadata": {},
   "outputs": [],
   "source": [
    "import pandas as pd\n",
    "import numpy as np\n",
    "from scipy.stats import skew\n",
    "import matplotlib.pyplot as plt\n",
    "import matplotlib.pylab as plt\n",
    "import seaborn as sns"
   ]
  },
  {
   "cell_type": "code",
   "execution_count": 26,
   "id": "b8e0a05c",
   "metadata": {},
   "outputs": [
    {
     "name": "stdout",
     "output_type": "stream",
     "text": [
      ":wow\n"
     ]
    }
   ],
   "source": [
    "print(':wow')"
   ]
  },
  {
   "cell_type": "code",
   "execution_count": null,
   "id": "28cbf20c",
   "metadata": {},
   "outputs": [],
   "source": [
    "all_data = pd.read_excel(\"teleco_excel_file.xlsx\")\n",
    "# all_data.head()\n",
    "# pd.set_option('display.max_columns', 50)"
   ]
  },
  {
   "cell_type": "code",
   "execution_count": 46,
   "id": "9ec5d61e",
   "metadata": {},
   "outputs": [],
   "source": [
    "# all_data.columns.tolist()"
   ]
  },
  {
   "cell_type": "code",
   "execution_count": null,
   "id": "009389c8",
   "metadata": {},
   "outputs": [],
   "source": [
    "print(f\" There are {all_data.shape[0]} rows and {all_data.shape[1]} columns\")"
   ]
  },
  {
   "cell_type": "markdown",
   "id": "c9a02b6b",
   "metadata": {},
   "source": [
    "##### Dealing with missing values"
   ]
  },
  {
   "cell_type": "code",
   "execution_count": null,
   "id": "996183e2",
   "metadata": {},
   "outputs": [],
   "source": [
    "# how many missing values exist or better still what is the % of missing values in the dataset?\n",
    "def percent_missing(df):\n",
    "\n",
    "    # Calculate total number of cells in dataframe\n",
    "    totalCells = np.product(df.shape)\n",
    "\n",
    "    # Count number of missing values per column\n",
    "    missingCount = df.isnull().sum()\n",
    "\n",
    "    # Calculate total number of missing values\n",
    "    totalMissing = missingCount.sum()\n",
    "\n",
    "    # Calculate percentage of missing values\n",
    "    print(\"The telco dataset contains\", round(((totalMissing/totalCells) * 100), 2), \"%\", \"missing values.\")\n",
    "\n",
    "percent_missing(all_data)"
   ]
  },
  {
   "cell_type": "markdown",
   "id": "4b0c2fe8",
   "metadata": {},
   "source": [
    "#### showing the missing columns"
   ]
  },
  {
   "cell_type": "code",
   "execution_count": 28,
   "id": "3619462d",
   "metadata": {},
   "outputs": [],
   "source": [
    "# Now which column(s) has missing values\n",
    "# all_data.isna().sum()"
   ]
  },
  {
   "cell_type": "code",
   "execution_count": 47,
   "id": "644b8a82",
   "metadata": {},
   "outputs": [
    {
     "data": {
      "text/html": [
       "<div>\n",
       "<style scoped>\n",
       "    .dataframe tbody tr th:only-of-type {\n",
       "        vertical-align: middle;\n",
       "    }\n",
       "\n",
       "    .dataframe tbody tr th {\n",
       "        vertical-align: top;\n",
       "    }\n",
       "\n",
       "    .dataframe thead th {\n",
       "        text-align: right;\n",
       "    }\n",
       "</style>\n",
       "<table border=\"1\" class=\"dataframe\">\n",
       "  <thead>\n",
       "    <tr style=\"text-align: right;\">\n",
       "      <th></th>\n",
       "      <th>Bearer Id</th>\n",
       "      <th>Start</th>\n",
       "      <th>Start ms</th>\n",
       "      <th>End</th>\n",
       "      <th>End ms</th>\n",
       "      <th>Dur. (ms)</th>\n",
       "      <th>IMSI</th>\n",
       "      <th>MSISDN/Number</th>\n",
       "      <th>IMEI</th>\n",
       "      <th>Last Location Name</th>\n",
       "      <th>...</th>\n",
       "      <th>Youtube DL (Bytes)</th>\n",
       "      <th>Youtube UL (Bytes)</th>\n",
       "      <th>Netflix DL (Bytes)</th>\n",
       "      <th>Netflix UL (Bytes)</th>\n",
       "      <th>Gaming DL (Bytes)</th>\n",
       "      <th>Gaming UL (Bytes)</th>\n",
       "      <th>Other DL (Bytes)</th>\n",
       "      <th>Other UL (Bytes)</th>\n",
       "      <th>Total UL (Bytes)</th>\n",
       "      <th>Total DL (Bytes)</th>\n",
       "    </tr>\n",
       "  </thead>\n",
       "  <tbody>\n",
       "    <tr>\n",
       "      <th>0</th>\n",
       "      <td>1.311448e+19</td>\n",
       "      <td>2019-04-04 12:01:18</td>\n",
       "      <td>770.0</td>\n",
       "      <td>2019-04-25 14:35:31</td>\n",
       "      <td>662.0</td>\n",
       "      <td>1823652.0</td>\n",
       "      <td>2.082014e+14</td>\n",
       "      <td>3.366496e+10</td>\n",
       "      <td>3.552121e+13</td>\n",
       "      <td>9164566995485190</td>\n",
       "      <td>...</td>\n",
       "      <td>15854611.0</td>\n",
       "      <td>2501332.0</td>\n",
       "      <td>8198936.0</td>\n",
       "      <td>9656251.0</td>\n",
       "      <td>278082303.0</td>\n",
       "      <td>14344150.0</td>\n",
       "      <td>171744450.0</td>\n",
       "      <td>8814393.0</td>\n",
       "      <td>36749741.0</td>\n",
       "      <td>308879636.0</td>\n",
       "    </tr>\n",
       "    <tr>\n",
       "      <th>1</th>\n",
       "      <td>1.311448e+19</td>\n",
       "      <td>2019-04-09 13:04:04</td>\n",
       "      <td>235.0</td>\n",
       "      <td>2019-04-25 08:15:48</td>\n",
       "      <td>606.0</td>\n",
       "      <td>1365104.0</td>\n",
       "      <td>2.082019e+14</td>\n",
       "      <td>3.368185e+10</td>\n",
       "      <td>3.579401e+13</td>\n",
       "      <td>L77566A</td>\n",
       "      <td>...</td>\n",
       "      <td>20247395.0</td>\n",
       "      <td>19111729.0</td>\n",
       "      <td>18338413.0</td>\n",
       "      <td>17227132.0</td>\n",
       "      <td>608750074.0</td>\n",
       "      <td>1170709.0</td>\n",
       "      <td>526904238.0</td>\n",
       "      <td>15055145.0</td>\n",
       "      <td>53800391.0</td>\n",
       "      <td>653384965.0</td>\n",
       "    </tr>\n",
       "    <tr>\n",
       "      <th>2</th>\n",
       "      <td>1.311448e+19</td>\n",
       "      <td>2019-04-09 17:42:11</td>\n",
       "      <td>1.0</td>\n",
       "      <td>2019-04-25 11:58:13</td>\n",
       "      <td>652.0</td>\n",
       "      <td>1361762.0</td>\n",
       "      <td>2.082003e+14</td>\n",
       "      <td>3.376063e+10</td>\n",
       "      <td>3.528151e+13</td>\n",
       "      <td>D42335A</td>\n",
       "      <td>...</td>\n",
       "      <td>19725661.0</td>\n",
       "      <td>14699576.0</td>\n",
       "      <td>17587794.0</td>\n",
       "      <td>6163408.0</td>\n",
       "      <td>229584621.0</td>\n",
       "      <td>395630.0</td>\n",
       "      <td>410692588.0</td>\n",
       "      <td>4215763.0</td>\n",
       "      <td>27883638.0</td>\n",
       "      <td>279807335.0</td>\n",
       "    </tr>\n",
       "    <tr>\n",
       "      <th>3</th>\n",
       "      <td>1.311448e+19</td>\n",
       "      <td>2019-04-10 00:31:25</td>\n",
       "      <td>486.0</td>\n",
       "      <td>2019-04-25 07:36:35</td>\n",
       "      <td>171.0</td>\n",
       "      <td>1321509.0</td>\n",
       "      <td>2.082014e+14</td>\n",
       "      <td>3.375034e+10</td>\n",
       "      <td>3.535661e+13</td>\n",
       "      <td>T21824A</td>\n",
       "      <td>...</td>\n",
       "      <td>21388122.0</td>\n",
       "      <td>15146643.0</td>\n",
       "      <td>13994646.0</td>\n",
       "      <td>1097942.0</td>\n",
       "      <td>799538153.0</td>\n",
       "      <td>10849722.0</td>\n",
       "      <td>749039933.0</td>\n",
       "      <td>12797283.0</td>\n",
       "      <td>43324218.0</td>\n",
       "      <td>846028530.0</td>\n",
       "    </tr>\n",
       "    <tr>\n",
       "      <th>4</th>\n",
       "      <td>1.311448e+19</td>\n",
       "      <td>2019-04-12 20:10:23</td>\n",
       "      <td>565.0</td>\n",
       "      <td>2019-04-25 10:40:32</td>\n",
       "      <td>954.0</td>\n",
       "      <td>1089009.0</td>\n",
       "      <td>2.082014e+14</td>\n",
       "      <td>3.369980e+10</td>\n",
       "      <td>3.540701e+13</td>\n",
       "      <td>D88865A</td>\n",
       "      <td>...</td>\n",
       "      <td>15259380.0</td>\n",
       "      <td>18962873.0</td>\n",
       "      <td>17124581.0</td>\n",
       "      <td>415218.0</td>\n",
       "      <td>527707248.0</td>\n",
       "      <td>3529801.0</td>\n",
       "      <td>550709500.0</td>\n",
       "      <td>13910322.0</td>\n",
       "      <td>38542814.0</td>\n",
       "      <td>569138589.0</td>\n",
       "    </tr>\n",
       "  </tbody>\n",
       "</table>\n",
       "<p>5 rows × 55 columns</p>\n",
       "</div>"
      ],
      "text/plain": [
       "      Bearer Id               Start  Start ms                 End  End ms  \\\n",
       "0  1.311448e+19 2019-04-04 12:01:18     770.0 2019-04-25 14:35:31   662.0   \n",
       "1  1.311448e+19 2019-04-09 13:04:04     235.0 2019-04-25 08:15:48   606.0   \n",
       "2  1.311448e+19 2019-04-09 17:42:11       1.0 2019-04-25 11:58:13   652.0   \n",
       "3  1.311448e+19 2019-04-10 00:31:25     486.0 2019-04-25 07:36:35   171.0   \n",
       "4  1.311448e+19 2019-04-12 20:10:23     565.0 2019-04-25 10:40:32   954.0   \n",
       "\n",
       "   Dur. (ms)          IMSI  MSISDN/Number          IMEI Last Location Name  \\\n",
       "0  1823652.0  2.082014e+14   3.366496e+10  3.552121e+13   9164566995485190   \n",
       "1  1365104.0  2.082019e+14   3.368185e+10  3.579401e+13            L77566A   \n",
       "2  1361762.0  2.082003e+14   3.376063e+10  3.528151e+13            D42335A   \n",
       "3  1321509.0  2.082014e+14   3.375034e+10  3.535661e+13            T21824A   \n",
       "4  1089009.0  2.082014e+14   3.369980e+10  3.540701e+13            D88865A   \n",
       "\n",
       "   ...  Youtube DL (Bytes)  Youtube UL (Bytes)  Netflix DL (Bytes)  \\\n",
       "0  ...          15854611.0           2501332.0           8198936.0   \n",
       "1  ...          20247395.0          19111729.0          18338413.0   \n",
       "2  ...          19725661.0          14699576.0          17587794.0   \n",
       "3  ...          21388122.0          15146643.0          13994646.0   \n",
       "4  ...          15259380.0          18962873.0          17124581.0   \n",
       "\n",
       "   Netflix UL (Bytes)  Gaming DL (Bytes)  Gaming UL (Bytes)  Other DL (Bytes)  \\\n",
       "0           9656251.0        278082303.0         14344150.0       171744450.0   \n",
       "1          17227132.0        608750074.0          1170709.0       526904238.0   \n",
       "2           6163408.0        229584621.0           395630.0       410692588.0   \n",
       "3           1097942.0        799538153.0         10849722.0       749039933.0   \n",
       "4            415218.0        527707248.0          3529801.0       550709500.0   \n",
       "\n",
       "   Other UL (Bytes)  Total UL (Bytes)  Total DL (Bytes)  \n",
       "0         8814393.0        36749741.0       308879636.0  \n",
       "1        15055145.0        53800391.0       653384965.0  \n",
       "2         4215763.0        27883638.0       279807335.0  \n",
       "3        12797283.0        43324218.0       846028530.0  \n",
       "4        13910322.0        38542814.0       569138589.0  \n",
       "\n",
       "[5 rows x 55 columns]"
      ]
     },
     "execution_count": 47,
     "metadata": {},
     "output_type": "execute_result"
    }
   ],
   "source": [
    "fd = pd.DataFrame(all_data)\n",
    "fd.head()"
   ]
  },
  {
   "cell_type": "code",
   "execution_count": null,
   "id": "d42f8ce7",
   "metadata": {},
   "outputs": [],
   "source": [
    "df = fd.drop(['IMSI', 'IMEI','TCP DL Retrans. Vol (Bytes)', 'TCP UL Retrans. Vol (Bytes)', 'HTTP DL (Bytes)', 'HTTP UL (Bytes)','Nb of sec with 125000B < Vol DL', 'Nb of sec with 1250B < Vol UL < 6250B', 'Nb of sec with 31250B < Vol DL < 125000B', 'Nb of sec with 37500B < Vol UL', 'Nb of sec with 6250B < Vol DL < 31250B', 'Nb of sec with 6250B < Vol UL < 37500B'], axis=1)"
   ]
  },
  {
   "cell_type": "code",
   "execution_count": null,
   "id": "1794a54d",
   "metadata": {},
   "outputs": [],
   "source": [
    "df.iloc[:5 , 0:10]"
   ]
  },
  {
   "cell_type": "code",
   "execution_count": null,
   "id": "969e7f58",
   "metadata": {},
   "outputs": [],
   "source": [
    "df.iloc[:5 , 0:20]"
   ]
  },
  {
   "cell_type": "code",
   "execution_count": null,
   "id": "114ac6f4",
   "metadata": {},
   "outputs": [],
   "source": [
    "df.iloc[:5 , 20:50]"
   ]
  },
  {
   "cell_type": "markdown",
   "id": "df1ba8e6",
   "metadata": {},
   "source": [
    "### Handset type and manufacures"
   ]
  },
  {
   "cell_type": "code",
   "execution_count": null,
   "id": "1ec3a7a0",
   "metadata": {},
   "outputs": [],
   "source": [
    "ht = df[\"Handset Type\"].value_counts()\n",
    "ht.head(10)"
   ]
  },
  {
   "cell_type": "code",
   "execution_count": null,
   "id": "81605a56",
   "metadata": {},
   "outputs": [],
   "source": [
    "hm = df[\"Handset Manufacturer\"].value_counts()\n",
    "hm.head(3)"
   ]
  },
  {
   "cell_type": "code",
   "execution_count": null,
   "id": "92763d32",
   "metadata": {},
   "outputs": [],
   "source": [
    "Manu_grp = df.groupby([\"Handset Manufacturer\"])\n",
    "Manu_grp.get_group('Apple').iloc[:1 , 20:40]"
   ]
  },
  {
   "cell_type": "code",
   "execution_count": null,
   "id": "75d46815",
   "metadata": {},
   "outputs": [],
   "source": [
    "Manu_grp['Handset Type'].value_counts().loc['Apple'].head(5)"
   ]
  },
  {
   "cell_type": "code",
   "execution_count": null,
   "id": "85d875d7",
   "metadata": {},
   "outputs": [],
   "source": [
    "Manu_grp['Handset Type'].value_counts().loc['Samsung'].head(5)"
   ]
  },
  {
   "cell_type": "code",
   "execution_count": null,
   "id": "f2ccdd2b",
   "metadata": {},
   "outputs": [],
   "source": [
    "Manu_grp['Handset Type'].value_counts().loc['Huawei'].head(5)"
   ]
  },
  {
   "cell_type": "markdown",
   "id": "c1ff4cb4",
   "metadata": {},
   "source": [
    "### interpretation and recommendation to marketing teams\n",
    "The data between Handset Manufacturer and Handset Type shows that most of the users from the sample data use the manufacturer Apple product\n"
   ]
  },
  {
   "cell_type": "code",
   "execution_count": null,
   "id": "bcbd5812",
   "metadata": {},
   "outputs": [],
   "source": [
    "df[\"MSISDN/Number\"].value_counts()"
   ]
  },
  {
   "cell_type": "code",
   "execution_count": null,
   "id": "02769d4d",
   "metadata": {},
   "outputs": [],
   "source": [
    "User_grp = df.groupby([\"MSISDN/Number\"])\n",
    "# User_grp.get_group('3.362632e+10')"
   ]
  },
  {
   "cell_type": "code",
   "execution_count": null,
   "id": "82269a31",
   "metadata": {},
   "outputs": [],
   "source": [
    "User_grp['Bearer Id'].value_counts()"
   ]
  },
  {
   "cell_type": "code",
   "execution_count": null,
   "id": "e837f579",
   "metadata": {},
   "outputs": [],
   "source": [
    "User_grp['Bearer Id'].median()"
   ]
  },
  {
   "cell_type": "code",
   "execution_count": null,
   "id": "01458fb0",
   "metadata": {},
   "outputs": [],
   "source": [
    "User_grp['Bearer Id'].mean()"
   ]
  },
  {
   "cell_type": "code",
   "execution_count": null,
   "id": "fae27c96",
   "metadata": {},
   "outputs": [],
   "source": [
    "User_grp[\"MSISDN/Number\"].agg(['median', 'mean'])"
   ]
  },
  {
   "cell_type": "code",
   "execution_count": null,
   "id": "f8f2cc2b",
   "metadata": {},
   "outputs": [],
   "source": [
    "User_grp['Dur. (ms)'].value_counts()"
   ]
  },
  {
   "cell_type": "markdown",
   "id": "14409747",
   "metadata": {},
   "source": [
    "### the total data volume (in Bytes) during this session for each application\n"
   ]
  },
  {
   "cell_type": "code",
   "execution_count": null,
   "id": "6a49083c",
   "metadata": {},
   "outputs": [],
   "source": [
    "Users_grp = df.groupby([\"MSISDN/Number\", \"Social Media DL (Bytes)\" , 'Google DL (Bytes)', 'Email DL (Bytes)' ,'Youtube DL (Bytes)', 'Netflix DL (Bytes)', 'Gaming DL (Bytes)', 'Other DL (Bytes)'])"
   ]
  },
  {
   "cell_type": "code",
   "execution_count": null,
   "id": "76dd635c",
   "metadata": {},
   "outputs": [],
   "source": [
    "Users_grp['Total UL (Bytes)'].value_counts().head(5)"
   ]
  },
  {
   "cell_type": "code",
   "execution_count": null,
   "id": "4711dc3e",
   "metadata": {},
   "outputs": [],
   "source": [
    "Users_grp['Total DL (Bytes)'].value_counts().head(5)"
   ]
  },
  {
   "cell_type": "code",
   "execution_count": null,
   "id": "42dca067",
   "metadata": {},
   "outputs": [],
   "source": [
    "df.describe()"
   ]
  },
  {
   "cell_type": "markdown",
   "id": "891c1041",
   "metadata": {},
   "source": [
    "## Data Exploration"
   ]
  },
  {
   "cell_type": "code",
   "execution_count": null,
   "id": "cf000bf0",
   "metadata": {},
   "outputs": [],
   "source": [
    "def plot_hist(df:pd.DataFrame, column:str, color:str)->None:\n",
    "    # plt.figure(figsize=(15, 10))\n",
    "    # fig, ax = plt.subplots(1, figsize=(12, 7))\n",
    "    sns.displot(data=df, x=column, color=color, kde=True, height=7, aspect=2)\n",
    "    plt.title(f'Distribution of {column}', size=20, fontweight='bold')\n",
    "    plt.show()\n",
    "    \n",
    "def plot_count(df:pd.DataFrame, column:str) -> None:\n",
    "    plt.figure(figsize=(12, 7))\n",
    "    sns.countplot(data=df, x=column)\n",
    "    plt.title(f'Distribution of {column}', size=20, fontweight='bold')\n",
    "    plt.show()\n",
    "    \n",
    "def plot_bar(df:pd.DataFrame, x_col:str, y_col:str, title:str, xlabel:str, ylabel:str)->None:\n",
    "    plt.figure(figsize=(12, 7))\n",
    "    sns.barplot(data = df, x=x_col, y=y_col)\n",
    "    plt.title(title, size=20)\n",
    "    plt.xticks(rotation=75, fontsize=14)\n",
    "    plt.yticks( fontsize=14)\n",
    "    plt.xlabel(xlabel, fontsize=16)\n",
    "    plt.ylabel(ylabel, fontsize=16)\n",
    "    plt.show()\n",
    "\n",
    "def plot_heatmap(df:pd.DataFrame, title:str, cbar=False)->None:\n",
    "    plt.figure(figsize=(12, 7))\n",
    "    sns.heatmap(df, annot=True, cmap='viridis', vmin=0, vmax=1, fmt='.2f', linewidths=.7, cbar=cbar )\n",
    "    plt.title(title, size=18, fontweight='bold')\n",
    "    plt.show()\n",
    "\n",
    "def plot_box(df:pd.DataFrame, x_col:str, title:str) -> None:\n",
    "    plt.figure(figsize=(12, 7))\n",
    "    sns.boxplot(data = df, x=x_col)\n",
    "    plt.title(title, size=20)\n",
    "    plt.xticks(rotation=75, fontsize=14)\n",
    "    plt.show()\n",
    "\n",
    "def plot_box_multi(df:pd.DataFrame, x_col:str, y_col:str, title:str) -> None:\n",
    "    plt.figure(figsize=(12, 7))\n",
    "    sns.boxplot(data = df, x=x_col, y=y_col)\n",
    "    plt.title(title, size=20)\n",
    "    plt.xticks(rotation=75, fontsize=14)\n",
    "    plt.yticks( fontsize=14)\n",
    "    plt.show()\n",
    "\n",
    "def plot_scatter(df: pd.DataFrame, x_col: str, y_col: str, title: str, hue: str, style: str) -> None:\n",
    "    plt.figure(figsize=(12, 7))\n",
    "    sns.scatterplot(data = df, x=x_col, y=y_col, hue=hue, style=style)\n",
    "    plt.title(title, size=20)\n",
    "    plt.xticks(fontsize=14)\n",
    "    plt.yticks( fontsize=14)\n",
    "    plt.show()\n"
   ]
  },
  {
   "cell_type": "markdown",
   "id": "4c234e88",
   "metadata": {},
   "source": [
    "###Univariate Analysis"
   ]
  },
  {
   "cell_type": "code",
   "execution_count": 45,
   "id": "11487232",
   "metadata": {},
   "outputs": [
    {
     "data": {
      "image/png": "[encoded data removed]",
      "text/plain": [
       "<Figure size 1008x504 with 1 Axes>"
      ]
     },
     "metadata": {
      "needs_background": "light"
     },
     "output_type": "display_data"
    }
   ],
   "source": [
    "plot_hist(df, \"Social Media DL (Bytes)\", \"blue\")"
   ]
  },
  {
   "cell_type": "code",
   "execution_count": null,
   "id": "9d405f77",
   "metadata": {},
   "outputs": [],
   "source": [
    "df[\"Social Media DL (Bytes)\"].describe()"
   ]
  },
  {
   "cell_type": "code",
   "execution_count": null,
   "id": "1103040b",
   "metadata": {
    "scrolled": true
   },
   "outputs": [],
   "source": [
    "plot_hist(df, \"Google DL (Bytes)\", \"blue\")"
   ]
  },
  {
   "cell_type": "code",
   "execution_count": null,
   "id": "01682423",
   "metadata": {},
   "outputs": [],
   "source": [
    "sns.countplot(df['Google DL (Bytes)'])\n",
    "plt.show()"
   ]
  },
  {
   "cell_type": "code",
   "execution_count": null,
   "id": "b01f94aa",
   "metadata": {},
   "outputs": [],
   "source": [
    "plot_count(df['Google DL (Bytes)'])"
   ]
  },
  {
   "cell_type": "code",
   "execution_count": null,
   "id": "456e5e6d",
   "metadata": {},
   "outputs": [],
   "source": [
    "plot_box(df, \"Social Media DL (Bytes)\", 'Social Media DL (Bytes) Outliers')"
   ]
  },
  {
   "cell_type": "code",
   "execution_count": null,
   "id": "bee31422",
   "metadata": {},
   "outputs": [],
   "source": [
    "# plot_box(df, \"num_medications\", \"number of medications outliers\")"
   ]
  },
  {
   "cell_type": "markdown",
   "id": "cfa6d497",
   "metadata": {},
   "source": [
    "## catagorical variables"
   ]
  },
  {
   "cell_type": "code",
   "execution_count": null,
   "id": "161cedf8",
   "metadata": {},
   "outputs": [],
   "source": []
  }
 ],
 "metadata": {
  "kernelspec": {
   "display_name": "Python 3 (ipykernel)",
   "language": "python",
   "name": "python3"
  },
  "language_info": {
   "codemirror_mode": {
    "name": "ipython",
    "version": 3
   },
   "file_extension": ".py",
   "mimetype": "text/x-python",
   "name": "python",
   "nbconvert_exporter": "python",
   "pygments_lexer": "ipython3",
   "version": "3.10.2"
  }
 },
 "nbformat": 4,
 "nbformat_minor": 5
}
